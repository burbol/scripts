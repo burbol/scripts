{
 "metadata": {
  "name": "",
  "signature": "sha256:f0eccd524a4c9ab7174ce23122247850e6ef036076ec1d4e6af3cdf3704eac37"
 },
 "nbformat": 3,
 "nbformat_minor": 0,
 "worksheets": [
  {
   "cells": [
    {
     "cell_type": "code",
     "collapsed": false,
     "input": [
      "%pylab inline"
     ],
     "language": "python",
     "metadata": {},
     "outputs": [
      {
       "output_type": "stream",
       "stream": "stdout",
       "text": [
        "Populating the interactive namespace from numpy and matplotlib\n",
        "\n"
       ]
      }
     ],
     "prompt_number": 12
    },
    {
     "cell_type": "code",
     "collapsed": false,
     "input": [
      "import matplotlib \n",
      "import matplotlib.pyplot as plt\n",
      "import numpy as np\n",
      "from scipy.optimize import curve_fit\n",
      "from scipy import stats"
     ],
     "language": "python",
     "metadata": {},
     "outputs": [],
     "prompt_number": 13
    },
    {
     "cell_type": "code",
     "collapsed": false,
     "input": [
      "%cd /Users/burbol/Dropbox/Apps/Computable/Final_Results_CAngles\n",
      "#%cd /home/eixeres/Dropbox/Apps/Computable/Final_Results_CAngles"
     ],
     "language": "python",
     "metadata": {},
     "outputs": [
      {
       "output_type": "stream",
       "stream": "stdout",
       "text": [
        "/Users/burbol/Dropbox/Apps/Computable/Final_Results_CAngles\n"
       ]
      }
     ],
     "prompt_number": 14
    },
    {
     "cell_type": "code",
     "collapsed": false,
     "input": [
      "percentages = [0, 5, 11, 17, 33,50, 66]\n",
      "Waters=[1000, 2000, 3000, 4000, 5000, 6500, 7000, 8000, 9000, 10000]\n",
      "\n",
      "mac_theta_WaterPeak = np.zeros(len(percentages))\n",
      "sigma_WaterPeak = np.zeros(len(percentages))\n",
      "\n",
      "# In the following dictionaries we will save the raw input data\n",
      "angles_WaterPeak = {}\n",
      "radii_WaterPeak = {}\n",
      "\n",
      "# In the following dictionaries we will save the results for the cos(theta) and 1/r_base, and their errorbars. \n",
      "# We will call them the \"results-dictionaries\"\n",
      "theta_WaterPeak = {}\n",
      "rbase_WaterPeak = {}\n",
      "errortheta_WaterPeak = {}\n",
      "errorr_base_WaterPeak = {}\n",
      "\n",
      "\n",
      "# For each surface we will store 10 results corresponding to the 10 droplets in each system. This means that in every \n",
      "# entry of the \"results-dictionaries\" we will store a list of 10 elements. Thus, now we store in them lists with 10 zeros. \n",
      "\n",
      "for system in percentages:\n",
      "\n",
      "    theta_WaterPeak[system] = np.zeros(len(Waters))\n",
      "    rbase_WaterPeak[system] = np.zeros(len(Waters))\n",
      "    errortheta_WaterPeak[system] = np.zeros(len(Waters))\n",
      "    errorr_base_WaterPeak[system] = np.zeros(len(Waters))"
     ],
     "language": "python",
     "metadata": {},
     "outputs": [],
     "prompt_number": 15
    },
    {
     "cell_type": "code",
     "collapsed": false,
     "input": [
      "# We create an array named \"t\" with the time values. We use the length of the longest simulation.\n",
      "\n",
      "maxlength=100 #maximum length in ns\n",
      "t = np.zeros(2*maxlength)\n",
      "i=0\n",
      "for d in frange(0, maxlength, 0.5,closed=0):\n",
      "    t[i] = d\n",
      "    i = i + 1"
     ],
     "language": "python",
     "metadata": {},
     "outputs": [],
     "prompt_number": 16
    },
    {
     "cell_type": "code",
     "collapsed": false,
     "input": [
      "# func is the function of a line, that will be used in the linear fits\n",
      "def func(x, a, b):\n",
      "    return a*x + b\n",
      "\n",
      "#endpoint returns the integer \"end\": the last data point different then \"nan\"\n",
      "def endpoint(theta):\n",
      "\tfor end in range(20, len(theta)):\n",
      "\t\t if math.isnan(theta[end]):\n",
      "\t\t\tbreak\n",
      "\treturn end\n",
      "\n",
      "# The following functions will be used to calculate the block averages and the errorbars\n",
      "# The function naive_variance will only be used inside the function blockAverage\n",
      "def naive_variance(data):\n",
      "    n = 0\n",
      "    Sum = 0\n",
      "    Sum_sqr = 0\n",
      " \n",
      "    for x in data:\n",
      "        n = n + 1\n",
      "        Sum = Sum + x\n",
      "        Sum_sqr = Sum_sqr + x*x\n",
      " \n",
      "    variance = (Sum_sqr - (Sum*Sum)/n)/(n - 1)\n",
      "    return variance\n",
      "\n",
      "def blockAverage(datastream, Nblocks):\n",
      "    \n",
      "    # FIRST WE CREATE AN ARRAY TO STORE THE MEAN VALUES OF THE DATA BLOCKS (blockMean)\n",
      "    blockMean = np.zeros(Nblocks)  \n",
      "        \n",
      "    # Nobs is the number of points (observations) in our data\n",
      "    Nobs = len(datastream) \n",
      "    # BlockSize is the size of each block of data\n",
      "    BlockSize = int(Nobs//Nblocks) \n",
      "    #print \"BlockSize=\", BlockSize\n",
      "    \n",
      "    if Nblocks==1:\n",
      "        errorbar = naive_variance(datastream)\n",
      "        return errorbar\n",
      "\n",
      "    else:\n",
      "       # WE CALCULATE IN A LOOP THE MEAN VALUES OF EACH DATA BLOCK (blockMean)\n",
      "        for i in range(0,Nblocks-1):\n",
      "            ibeg = i*BlockSize\n",
      "            iend = (i+1)*BlockSize\n",
      "            blockMean[i] = mean(datastream[ibeg:iend])\n",
      "        # WE TREAT THE LAST BLOCK SEPARATELY, BECAUSE WE HAVE TO TAKE INTO ACCOUNT THE POSSIBLE REMAINING POINTS \n",
      "        # WHEN THE NUMBER OF DATA POINTS ISN'T A MULTIPLE OF THE NUMBER OF BLOCKS\n",
      "        #print \"Last block\"\n",
      "        ibeg = (Nblocks-1)*BlockSize\n",
      "        iend = Nobs\n",
      "        blockMean[Nblocks-1] = mean(datastream[ibeg:iend])\n",
      "     \n",
      "        errorbar = (np.std(blockMean))/sqrt(Nblocks -1) #np.std(blockMean) is the standard deviation of blockmean\n",
      "        simulavr = mean(blockMean)\n",
      "        return simulavr, errorbar,BlockSize"
     ],
     "language": "python",
     "metadata": {},
     "outputs": [],
     "prompt_number": 17
    },
    {
     "cell_type": "code",
     "collapsed": false,
     "input": [
      "# We save the data in the arrays \"theta_all\" and \"rbase_all\"\n",
      "SAMs=[0,5,11,17,33] # Here we use only the SAMs with Contact Angles. Not the systems with complete wetting.\n",
      "\n",
      "# Here we create two dictionaries named \"angles\" and \"radii\". Each dictionary consists of a set of \"key: value\" pairs, each one corresponding to a different system. The keys are (also) a pair of numbers \"b, c\".\n",
      "# \"b\" refers to the OH-coverage percentage of the SAM, and \"c\" to the number of water molecules of the droplet. For example, the key \"5, 1000\" refers to the system with a surface with 5% OH-coverage, \n",
      "# and a droplet with 1000 water molecules. The value corresponding to each key is an array with the 40 calculated angles/base radii, that belong to that system. For example: \"radii[(11, 3000)]\" would give back\n",
      "# the array with the 40 calculated values of the base radii corresponding to the system with a surface with 11% OH-coverage, and a droplet with 3000 water molecules.\n",
      "\n",
      "for b in SAMs:\n",
      "    theta_WaterPeak_data, rbase_WaterPeak_data = np.loadtxt('Contact_Angles2_WaterPeak_s'+str(b)+'.txt', skiprows=2, usecols = (0,1),unpack=True)\n",
      "    k = 0\n",
      "    for c in Waters:\n",
      "        # First data with z=0 at the first water peak\n",
      "        z = b, c\n",
      "        th = [0] *(2*maxlength)\n",
      "        r = [0] *(2*maxlength)\n",
      "        i=k*(2*maxlength)\n",
      "        j=(k+1)*(2*maxlength)\n",
      "        #print \"z=\", z, \"i=\", i, \"j=\", j\n",
      "        m = 0\n",
      "        for l in range(i,j):\n",
      "            th[m]=theta_WaterPeak_data[l]\n",
      "            r[m]=rbase_WaterPeak_data[l]\n",
      "            m = m +1\n",
      "        angles_WaterPeak[z] = th\n",
      "        radii_WaterPeak[z] = r\n",
      "\n",
      "        k=k+1"
     ],
     "language": "python",
     "metadata": {},
     "outputs": [],
     "prompt_number": 18
    },
    {
     "cell_type": "code",
     "collapsed": false,
     "input": [
      "#best_start SEARCHS FOR THE STARTING POINT (start) OF BIGGEST TIME INTERVAL where the error interval is smaller then the variation of the data (controlled \n",
      "# with a line fit of the data\n",
      "def best_start(theta,t,omitstart,fixend):\n",
      "\n",
      "\tlastnumber = endpoint(theta)\n",
      "\tendblocks = lastnumber - fixend\n",
      "\n",
      "\terror = np.zeros(endblocks-omitstart) #error will be the total error (of all the points taken each time we choose a different set of data to make the blocks)\n",
      "\taverage = np.zeros(endblocks-omitstart) # average is the same, but for the average\n",
      "\t\n",
      "\tslope = np.zeros(endblocks-omitstart)\n",
      "\tintercept = np.zeros(endblocks-omitstart)\n",
      "\tshift = np.zeros(endblocks-omitstart)\n",
      "\tgoodblocks = []\n",
      "\tgoodslopes = []\n",
      "\n",
      "\terror = error.tolist()\n",
      "\tj=0\n",
      "\t# Loop for finding the \"best\" interval to do the block averaging\n",
      "\tfor i in range (omitstart, endblocks):\n",
      "\t\taverage[j],error[j],delete = blockAverage((theta[i:lastnumber]),3)\n",
      "\t\tslope[j], intercept[j], delete1, delete2, delete3 = stats.linregress(t[i:lastnumber],theta[i:lastnumber])\n",
      "\t\tshift[j] = abs(func(t[i], slope[j], intercept[j]) - func(t[lastnumber], slope[j], intercept[j]))\n",
      "\t\tif shift[j] <= (2*error[j]):\n",
      "\t\t\tgoodblocks.append(i)\n",
      "\t\t\tprint \"i=\",i, \"shift=\",shift[j], \"error=\",2*error[j]\n",
      "\t\tj = j+1\t \n",
      "\tif goodblocks==[]:\n",
      "\t\t#print \"not equilibrated yet\"\n",
      "\t\treturn None\n",
      "\telse:\n",
      "\t\t#start = min(goodblocks)\n",
      "\t\t#return start\n",
      "        return slope.index(min(slope))"
     ],
     "language": "python",
     "metadata": {},
     "outputs": [],
     "prompt_number": 41
    },
    {
     "cell_type": "code",
     "collapsed": false,
     "input": [
      "b=0\n",
      "c=1000\n",
      "start=40\n",
      "end=80\n",
      "blocksNum=3\n",
      "\n",
      "n=Waters.index(c)\n",
      "\n",
      "fig, ax = plt.subplots(2, 2)\n",
      "theta_WaterPeak2 = array(angles_WaterPeak[(b, c)])\n",
      "rbase_WaterPeak2 = array(radii_WaterPeak[(b, c)])\n",
      "\n",
      "ax = plt.subplot(2, 2, 1)\n",
      "\n",
      "slope, intercept, delete1, delete2, delete3 = stats.linregress(t[start:end],theta_WaterPeak2[start:end])\n",
      "print \"slope=\", slope, \"intercept=\",intercept\n",
      "thetamean, errrorbar, blocksize =blockAverage((theta_WaterPeak2[start:end]),blocksNum)\n",
      "print \"average=\",thetamean, \"error=\",errrorbar, \"blocksize=\",blocksize\n",
      "#ax.errorbar(s0pointsX, s0pointsY,xerr=s0errorsX, yerr=s0errorsY,fmt='o',elinewidth=1.5,markeredgewidth=1.5)\n",
      "ax.plot(t[start:end], func(t[start:end], slope, intercept))\n",
      "ax.plot(t[start:end], theta_WaterPeak2[start:end],'-',linewidth=0.5)\n",
      "#ax.plot(t, theta_WaterPeak2,'-',linewidth=0.5)\n",
      "ax.plot(t[start:end], func(t[start:end], 0, thetamean))\n",
      "ax.plot(t[start:end], func(t[start:end], 0, thetamean+errrorbar),'g-')\n",
      "ax.plot(t[start:end], func(t[start:end], 0, thetamean-errrorbar),'g-')\n",
      "\n",
      "errortheta_WaterPeak[b][n] = errrorbar\n",
      "theta_WaterPeak[b][n] = thetamean\n",
      "\n",
      "ax = plt.subplot(2, 2, 2)\n",
      "\n",
      "ax.plot(t, theta_WaterPeak2,'-',linewidth=0.5)\n",
      "ax.plot(t[start:end], func(t[start:end], 0, thetamean))\n",
      "\n",
      "ax = plt.subplot(2, 2, 3)\n",
      "\n",
      "slope, intercept, delete1, delete2, delete3 = stats.linregress(t[start:end],rbase_WaterPeak2[start:end])\n",
      "print \"slope=\", slope, \"intercept=\",intercept\n",
      "rbasemean, errrorbar, blocksize =blockAverage((rbase_WaterPeak2[start:end]),blocksNum)\n",
      "print \"average=\",thetamean, \"error=\",errrorbar, \"blocksize=\",blocksize\n",
      "#ax.errorbar(s0pointsX, s0pointsY,xerr=s0errorsX, yerr=s0errorsY,fmt='o',elinewidth=1.5,markeredgewidth=1.5)\n",
      "ax.plot(t[start:end], func(t[start:end], slope, intercept))\n",
      "ax.plot(t[start:end], rbase_WaterPeak2[start:end],'-',linewidth=0.5)\n",
      "#ax.plot(t, theta_WaterPeak2,'-',linewidth=0.5)\n",
      "ax.plot(t[start:end], func(t[start:end], 0, rbasemean))\n",
      "ax.plot(t[start:end], func(t[start:end], 0, rbasemean+errrorbar),'g-')\n",
      "ax.plot(t[start:end], func(t[start:end], 0, rbasemean-errrorbar),'g-')\n",
      "\n",
      "ax = plt.subplot(2, 2, 4)\n",
      "\n",
      "ax.plot(t, rbase_WaterPeak2,'-',linewidth=0.5)\n",
      "ax.plot(t[start:end], func(t[start:end], 0, rbasemean))\n",
      "\n",
      "plt.show()\n",
      "\n",
      "errorr_base_WaterPeak[b][n] = errrorbar\n",
      "rbase_WaterPeak[b][n] = rbasemean"
     ],
     "language": "python",
     "metadata": {},
     "outputs": [
      {
       "output_type": "stream",
       "stream": "stdout",
       "text": [
        "slope= -0.00943490533677 intercept= 133.598798934\n",
        "average= 133.32086883 error= 0.0554698229285 blocksize= 13\n",
        "slope="
       ]
      },
      {
       "output_type": "stream",
       "stream": "stdout",
       "text": [
        " 0.000369028668583 intercept= 1.42747646428\n",
        "average= 133.32086883 error= 0.00194369378425 blocksize= 13\n"
       ]
      },
      {
       "metadata": {},
       "output_type": "display_data",
       "png": "[encoded data removed]",
       "text": [
        "<matplotlib.figure.Figure at 0x10bc5d750>"
       ]
      }
     ],
     "prompt_number": 19
    },
    {
     "cell_type": "code",
     "collapsed": false,
     "input": [
      "b=0\n",
      "c=6500\n",
      "\n",
      "theta_WaterPeak2 = array(angles_WaterPeak[(b, c)])\n",
      "\n",
      "minblocksize=20 # The minimum block size is 10ns=20 points\n",
      "beg = 10 # We leave out the first 5ns=10 points\n",
      "print best_start(theta_WaterPeak2,t,beg,minblocksize)"
     ],
     "language": "python",
     "metadata": {},
     "outputs": [
      {
       "output_type": "stream",
       "stream": "stdout",
       "text": [
        "None\n"
       ]
      }
     ],
     "prompt_number": 38
    },
    {
     "cell_type": "code",
     "collapsed": false,
     "input": [
      "minblocksize=20 # The minimum block size is 10ns=20 points\n",
      "beg = 10 # We leave out the first 5ns=10 points\n",
      "\n",
      "SAMfragment=[33]\n",
      "\n",
      "for b in SAMs:\n",
      "#for b in SAMfragment:\n",
      "\tfor c in Waters:\n",
      "\n",
      "\t\ttheta_WaterPeak2 = array(angles_WaterPeak[(b, c)])\n",
      "\t\tprint \"SAM\", b, \"water\", c, \"best start=\", best_start(theta_WaterPeak2,t,beg,minblocksize)"
     ],
     "language": "python",
     "metadata": {},
     "outputs": [
      {
       "output_type": "stream",
       "stream": "stdout",
       "text": [
        "SAM 0 water 1000 best start= i= 23 shift= 0.104532817471 error= 0.293626763297\n",
        "i= 24 shift= 0.0383111200495 error= 0.304226245996\n",
        "i= 25 shift= 0.0559738187966 error= 0.388630387401\n",
        "i= 26 shift= 0.112941168341 error= 0.444835019991\n",
        "i= 27 shift= 0.121658171298 error= 0.344675937438\n",
        "i= 28 shift= 0.16646693062 error= 0.396238070537\n",
        "i= 29 shift= 0.286007266456 error= 0.458690724299\n",
        "i= 31 shift= 0.193335889966 error= 0.246269441169\n",
        "i= 32 shift= 0.176937098011 error= 0.243171958533\n",
        "i= 33 shift= 0.41476316172 error= 0.470306046377\n",
        "i= 35 shift= 0.099201497865 error= 0.320765076636\n",
        "i= 36 shift= 0.00230793215718 error= 0.479458096753\n",
        "i= 37 shift= 0.126954328967 error= 0.419907430301\n",
        "i= 38 shift= 0.125730117719 error= 0.369588201194\n",
        "i= 39 shift= 0.0504758500198 error= 0.434061128928\n",
        "i= 40 shift= 0.0423571091132 error= 0.393999444881\n",
        "i= 41 shift= 0.130077056474 error= 0.495619746829\n",
        "i= 42 shift= 0.310999791049 error= 0.461580812684\n",
        "i="
       ]
      },
      {
       "output_type": "stream",
       "stream": "stdout",
       "text": [
        " 59 shift= 0.399985125538 error= 0.40304241947\n",
        "23\n",
        "SAM 0 water 2000 best start= i= 10 shift= 0.315759243772 error= 0.390386884024\n",
        "i= 11 shift= 0.271679706214 error= 0.433404304263\n",
        "i= 12 shift= 0.231705314254 error= 0.446132860805\n",
        "i= 13 shift= 0.183737264568 error= 0.438477268148\n",
        "i= 14 shift= 0.118994449909 error= 0.450313499653\n",
        "i= 15 shift= 0.0845131310682 error= 0.408605543496\n",
        "i= 16 shift= 0.0335592001564 error= 0.404394409703\n",
        "i= 17 shift= 0.0189025379027 error= 0.399404083976\n",
        "i= 18 shift= 0.0355287989905 error= 0.409126317606\n",
        "i="
       ]
      },
      {
       "output_type": "stream",
       "stream": "stdout",
       "text": [
        " 19 shift= 0.0742114458482 error= 0.396874772974\n",
        "i= 20 shift= 0.0950149774318 error= 0.405546772907\n",
        "i= 21 shift= 0.0869405537375 error= 0.447106380042\n",
        "i= 22 shift= 0.0663768052846 error= 0.427609278515\n",
        "i= 23 shift= 0.0279060333265 error= 0.43952627086\n",
        "i= 24 shift= 0.0457383235364 error= 0.454610086646\n",
        "i= 25 shift= 0.121781948226 error= 0.456010747018\n",
        "i= 26 shift= 0.132659287929 error= 0.476900106676\n",
        "i= 27 shift= 0.192454928141 error= 0.556944033407\n",
        "i= 28 shift= 0.222514916586 error= 0.551058967223\n",
        "i= 29 shift= 0.179646717619 error= 0.583605245532\n",
        "i= 30 shift= 0.162838460906 error= 0.551213782392\n",
        "i= 31 shift= 0.151142182929 error= 0.560440122989\n",
        "i= 32 shift= 0.178941387417 error= 0.53388896883\n",
        "i= 33 shift= 0.21279087635 error= 0.51668577981\n",
        "i= 34 shift= 0.231490307348 error= 0.516913154625\n",
        "i= 35 shift= 0.240310985922 error= 0.494367581672\n",
        "i= 36 shift= 0.309756786956 error= 0.445931044698\n",
        "i= 37 shift= 0.363807518436 error= 0.469102248646\n",
        "i= 38 shift= 0.393028556553 error= 0.409271329481\n",
        "i= 41 shift= 0.343249573452 error= 0.359492791938\n",
        "i= 42 shift= 0.284369659918 error= 0.346177264009\n",
        "i= 43 shift= 0.105389097439 error= 0.338884577259\n",
        "i= 44 shift= 0.139937063668 error= 0.363639159792\n",
        "i= 45 shift= 0.338029418533 error= 0.410584470008\n",
        "i="
       ]
      },
      {
       "output_type": "stream",
       "stream": "stdout",
       "text": [
        " 72 shift= 0.408010570598 error= 0.513961135163\n",
        "i= 73 shift= 0.456960719826 error= 0.475144888221\n",
        "i= 74 shift= 0.444891926474 error= 0.613910117144\n",
        "i= 75 shift= 0.338169197561 error= 0.674199270081\n",
        "i= 76 shift= 0.405663688887 error= 0.64243822782\n",
        "i= 77 shift= 0.409172255896 error= 0.762664081815\n",
        "i= 78 shift= 0.400417464133 error= 0.750750342139\n",
        "i= 79 shift= 0.396173041236 error= 0.792104970205\n",
        "i= 80 shift= 0.308244403062 error= 0.760663344661\n",
        "i= 81 shift= 0.280060550392 error= 0.833794718421\n",
        "i= 82 shift= 0.180556859015 error= 0.801841356802\n",
        "i= 83 shift= 0.0336229627456 error= 0.879848783473\n",
        "i= 84 shift= 0.029002478224 error= 1.03247991658\n",
        "i= 85 shift= 0.0703540701078 error= 0.965816589706\n",
        "i= 86 shift= 0.196428673112 error= 1.08367147197\n",
        "i= 87 shift= 0.461568676434 error= 1.0990617128\n",
        "i= 88 shift= 0.681163962469 error= 1.13969535183\n",
        "i= 89 shift= 0.940130436187 error= 1.08781056329\n",
        "10\n",
        "SAM 0 water 3000 best start= i= 11 shift= 0.0613835487242 error= 0.161198063826\n",
        "i= 12 shift= 0.0500724128583 error= 0.173820324757\n",
        "i= 13 shift= 0.133131170217 error= 0.187716427965\n",
        "i= 14 shift= 0.168000388162 error= 0.200818171773\n",
        "i="
       ]
      },
      {
       "output_type": "stream",
       "stream": "stdout",
       "text": [
        " 30 shift= 0.05417219038 error= 0.119559270984\n",
        "i= 31 shift= 0.0337543839001 error= 0.188442021464\n",
        "i= 32 shift= 0.103037243842 error= 0.112613396611\n",
        "i= 33 shift= 0.143130020945 error= 0.209156574617\n",
        "i= 34 shift= 0.00726612077074 error= 0.279016865825\n",
        "i= 35 shift= 0.152700887234 error= 0.271440622758\n",
        "i= 36 shift= 0.278679497279 error= 0.355267943514\n",
        "i= 37 shift= 0.349998308522 error= 0.415077861565\n",
        "i= 38 shift= 0.295936807986 error= 0.361197109398\n",
        "i= 39 shift= 0.218735970732 error= 0.426750744189\n",
        "i= 40 shift= 0.129573412595 error= 0.454646781617\n",
        "i= 41 shift= 0.0457135904865 error= 0.488316678786\n",
        "i= 42 shift= 0.0122889674649 error= 0.526342908866\n",
        "i= 43 shift= 0.0393943221405 error= 0.48706401952\n",
        "i= 44 shift= 0.0540353594412 error= 0.573000611083\n",
        "i= 45 shift= 0.0111435688831 error= 0.490415230254\n",
        "i= 46 shift= 0.109375559184 error= 0.423272926995\n",
        "i= 47 shift= 0.165771843402 error= 0.489075850981\n",
        "i= 48 shift= 0.261369279775 error= 0.394957682164\n",
        "11\n",
        "SAM 0 water 4000 best start= i= 21 shift= 0.150928895698 error= 0.199534826597\n",
        "i= 22 shift= 0.00419829601029 error= 0.329913470884\n",
        "i= 23 shift= 0.0991378003162 error= 0.35915900019\n",
        "i="
       ]
      },
      {
       "output_type": "stream",
       "stream": "stdout",
       "text": [
        " 24 shift= 0.217383301314 error= 0.436589341592\n",
        "i= 25 shift= 0.357223445548 error= 0.496586160556\n",
        "i= 26 shift= 0.458072898727 error= 0.536967332619\n",
        "i= 38 shift= 0.106251576428 error= 0.286119724618\n",
        "i= 39 shift= 0.168065511789 error= 0.181709302564\n",
        "21\n",
        "SAM 0 water 5000 best start= "
       ]
      },
      {
       "output_type": "stream",
       "stream": "stdout",
       "text": [
        "i= 35 shift= 0.28479083313 error= 0.300893480485\n",
        "i= 36 shift= 0.249644845328 error= 0.300932068347\n",
        "i= 37 shift= 0.22225508228 error= 0.290690855442\n",
        "i= 38 shift= 0.191769430513 error= 0.282511985446\n",
        "i= 39 shift= 0.145310801468 error= 0.239574173554\n",
        "i= 40 shift= 0.108189505774 error= 0.240989753787\n",
        "i= 41 shift= 0.0687200297673 error= 0.205562244767\n",
        "i= 42 shift= 0.0315743028045 error= 0.16041708471\n",
        "i= 43 shift= 0.0106753329129 error= 0.174440896911\n",
        "i= 44 shift= 0.0759706796904 error= 0.130019225438\n",
        "i= 45 shift= 0.131968880396 error= 0.142012792587\n",
        "i="
       ]
      },
      {
       "output_type": "stream",
       "stream": "stdout",
       "text": [
        " 98 shift= 0.039880587118 error= 0.050006892312\n",
        "i= 99 shift= 0.0484421943545 error= 0.0657642514821\n",
        "35\n",
        "SAM 0 water 6500 best start= "
       ]
      },
      {
       "output_type": "stream",
       "stream": "stdout",
       "text": [
        "None\n",
        "SAM 0 water 7000 best start= "
       ]
      },
      {
       "output_type": "stream",
       "stream": "stdout",
       "text": [
        "i= 76 shift= 0.214097921517 error= 0.256425598257\n",
        "i= 77 shift= 0.177755403068 error= 0.252809912902\n",
        "i= 78 shift= 0.137432834267 error= 0.244275567031\n",
        "i= 79 shift= 0.132162398321 error= 0.236491634903\n",
        "i= 80 shift= 0.151139562542 error= 0.246714589824\n",
        "i= 81 shift= 0.112491863504 error= 0.23680924335\n",
        "i= 82 shift= 0.111110042447 error= 0.230629793757\n",
        "i= 83 shift= 0.102335839421 error= 0.234518505121\n",
        "i= 84 shift= 0.0691569137569 error= 0.216975679929\n",
        "i= 85 shift= 0.0473181682895 error= 0.193700739494\n",
        "i= 86 shift= 0.00543555696331 error= 0.195145211425\n",
        "i= 87 shift= 0.000378404644124 error= 0.177578709795\n",
        "i= 88 shift= 0.000476142380847 error= 0.171760931387\n",
        "i= 89 shift= 0.00675030161429 error= 0.182684860313\n",
        "i= 90 shift= 0.0141640664103 error= 0.170491766913\n",
        "i= 91 shift= 0.0345528473244 error= 0.136854316267\n",
        "i= 92 shift= 0.0482191691914 error= 0.156698633866\n",
        "i= 93 shift= 0.0606413724011 error= 0.135597848786\n",
        "i= 94 shift= 0.0761855763279 error= 0.11838220713\n",
        "i= 95 shift= 0.0922051755341 error= 0.118223232176\n",
        "i= 96 shift= 0.113050165288 error= 0.114138615587\n",
        "76"
       ]
      },
      {
       "output_type": "stream",
       "stream": "stdout",
       "text": [
        "\n",
        "SAM 0 water 8000 best start= "
       ]
      },
      {
       "output_type": "stream",
       "stream": "stdout",
       "text": [
        "i= 92 shift= 0.0991307342933 error= 0.115757907353\n",
        "i= 93 shift= 0.0726444980936 error= 0.106944443099\n",
        "i= 94 shift= 0.0540659741511 error= 0.113077548947\n",
        "i= 95 shift= 0.0257567401051 error= 0.112420512034\n",
        "i= 96 shift= 0.0233108839121 error= 0.111277308095\n",
        "i= 97 shift= 0.000853577343747 error= 0.104241179532\n",
        "i= 98 shift= 0.0127567207525 error= 0.100952832262\n",
        "i= 99 shift= 0.0266585308032 error= 0.0896743694008\n",
        "i= 100 shift= 0.0417547184812 error= 0.0763868248898\n",
        "i= 101 shift= 0.0527536694483 error= 0.0792792046714\n",
        "i= 102 shift= 0.0195522845887 error= 0.0777875514477\n",
        "i= 103 shift= 0.0655493951194 error= 0.0897676242417\n",
        "i= 132 shift= 0.024203679387 error= 0.0457889944961\n",
        "i= 136 shift= 0.020743157447 error= 0.0225527306093\n",
        "i= 137 shift= 0.0114523647273 error= 0.0216539390133\n",
        "i= 138 shift= 0.0142767634037 error= 0.0260765843399\n",
        "92\n",
        "SAM 0 water 9000 best start= "
       ]
      },
      {
       "output_type": "stream",
       "stream": "stdout",
       "text": [
        "None\n",
        "SAM 0 water 10000 best start= "
       ]
      },
      {
       "output_type": "stream",
       "stream": "stdout",
       "text": [
        "None\n",
        "SAM 5 water 1000 best start= i= 21 shift= 0.102258725849 error= 0.115741548374\n",
        "i= 23 shift= 0.0437751494758 error= 0.158592670366\n",
        "i= 24 shift= 0.0873818021997 error= 0.165399106402\n",
        "i= 25 shift= 0.115661920689 error= 0.175594287764\n",
        "i= 26 shift= 0.0831399579538 error= 0.160132782806\n",
        "i= 27 shift= 0.0521726128904 error= 0.254714840767\n",
        "i= 28 shift= 0.0237313681574 error= 0.204965641506\n",
        "i= 29 shift= 0.0159644543116 error= 0.220599455043\n",
        "i= 30 shift= 0.0546308357328 error= 0.205113759543\n",
        "i= 31 shift= 0.00315289787122 error= 0.209347009323\n",
        "i= 32 shift= 0.104270509399 error= 0.212354961522\n",
        "i= 33 shift= 0.109743361809 error= 0.229379133133\n",
        "i= 34 shift= 0.0684576785688 error= 0.224270522962\n",
        "i= 35 shift= 0.050647725505 error= 0.236264504635\n",
        "i= 36 shift= 0.0256572214682 error= 0.186414894961\n",
        "i= 37 shift= 0.0409455919042 error= 0.267821947622\n",
        "i= 38 shift= 0.0386267937269 error= 0.177682781957\n",
        "i="
       ]
      },
      {
       "output_type": "stream",
       "stream": "stdout",
       "text": [
        " 39 shift= 0.046846436947 error= 0.175680621179\n",
        "i= 40 shift= 0.0732480736634 error= 0.208568418438\n",
        "i= 41 shift= 0.00993715466731 error= 0.206823638704\n",
        "i= 42 shift= 0.0596272175667 error= 0.320809524412\n",
        "i= 43 shift= 0.0879105936316 error= 0.283669995769\n",
        "i= 44 shift= 0.0679494627127 error= 0.301346020798\n",
        "i= 45 shift= 0.0912692585313 error= 0.327317351272\n",
        "i= 46 shift= 0.124665051232 error= 0.270882017265\n",
        "i= 47 shift= 0.0201948145586 error= 0.33285929995\n",
        "i= 48 shift= 0.0272395019074 error= 0.310822859352\n",
        "i= 49 shift= 0.128543689588 error= 0.374446205412\n",
        "i= 50 shift= 0.11334521054 error= 0.324716389157\n",
        "i= 51 shift= 0.0472425029218 error= 0.266075632713\n",
        "i= 52 shift= 0.136052171149 error= 0.337051322188\n",
        "i= 53 shift= 0.186040468201 error= 0.319367956774\n",
        "i= 54 shift= 0.177452000689 error= 0.265128417443\n",
        "i= 55 shift= 0.0262431777813 error= 0.245393330259\n",
        "i= 56 shift= 0.11402390199 error= 0.243467528067\n",
        "i= 57 shift= 0.0786537153901 error= 0.350662666401\n",
        "i= 58 shift= 0.224166328696 error= 0.292359099242\n",
        "i= 59 shift= 0.0601151676581 error= 0.331991073254\n",
        "i= 60 shift= 0.00516044390999 error= 0.244428526706\n",
        "i= 61 shift= 0.00032457446207 error= 0.347189357515\n",
        "i= 62 shift= 0.0404808155879 error= 0.231692460286\n",
        "i= 63 shift= 0.0834822997906 error= 0.140379373598\n",
        "i= 64 shift= 0.197060806163 error= 0.227910556087\n",
        "i= 74 shift= 0.504295382584 error= 0.535354053465\n",
        "i= 76 shift= 0.484134046431 error= 0.537467319209\n",
        "i="
       ]
      },
      {
       "output_type": "stream",
       "stream": "stdout",
       "text": [
        " 84 shift= 0.372270154888 error= 0.438293420826\n",
        "i= 85 shift= 0.266112866314 error= 0.416975970606\n",
        "i= 86 shift= 0.0839029277455 error= 0.29462755252\n",
        "i= 88 shift= 0.249003871894 error= 0.270001618545\n",
        "21\n",
        "SAM 5 water 2000 best start= "
       ]
      },
      {
       "output_type": "stream",
       "stream": "stdout",
       "text": [
        "i= 30 shift= 0.162228349837 error= 0.168774831506\n",
        "i= 31 shift= 0.0608102406924 error= 0.135006679332\n",
        "i= 32 shift= 0.0427556782782 error= 0.0826256615444\n",
        "i= 33 shift= 0.0917164465735 error= 0.103889931249\n",
        "i= 34 shift= 0.0764505873055 error= 0.10474870169\n",
        "i= 35 shift= 0.0229088192791 error= 0.111688433656\n",
        "i= 36 shift= 0.0270770548575 error= 0.0652918263874\n",
        "i= 37 shift= 0.0683250554913 error= 0.11196455725\n",
        "i= 53 shift= 0.0496550767968 error= 0.12276285668\n",
        "i= 54 shift= 0.062826196851 error= 0.108437191983\n",
        "i= 55 shift= 0.0641026680625 error= 0.0989279888535\n",
        "i= 56 shift= 0.0199607616615 error= 0.109373535786\n",
        "i= 57 shift= 0.0200410469516 error= 0.14741149174\n",
        "i= 58 shift= 0.10320291561 error= 0.124538593715\n",
        "i= 61 shift= 0.0841717575 error= 0.208974343332\n",
        "i= 62 shift= 0.0370533174505 error= 0.238657686505\n",
        "i= 63 shift= 0.0796909837796 error= 0.183759552529\n",
        "i= 64 shift= 0.0732283301531 error= 0.209594377539\n",
        "i= 65 shift= 0.0966829766746 error= 0.161732063866\n",
        "i= 66 shift= 0.076749832658 error= 0.113272224082\n",
        "i= 67 shift= 0.0809449055171 error= 0.173673320921\n",
        "i="
       ]
      },
      {
       "output_type": "stream",
       "stream": "stdout",
       "text": [
        " 70 shift= 0.226472655798 error= 0.245285079826\n",
        "i= 80 shift= 0.0103892787317 error= 0.200510013966\n",
        "i= 81 shift= 0.0239594461105 error= 0.244429161725\n",
        "i= 82 shift= 0.108354662998 error= 0.253511199427\n",
        "i= 83 shift= 0.220569746202 error= 0.248135951138\n",
        "i= 84 shift= 0.202139612715 error= 0.235310954104\n",
        "i= 85 shift= 0.112678271039 error= 0.32759404968\n",
        "i= 86 shift= 0.0632770793351 error= 0.345230140131\n",
        "i= 87 shift= 0.179384844783 error= 0.415591298005\n",
        "i= 88 shift= 0.167444638135 error= 0.474505613026\n",
        "i= 89 shift= 0.212779828537 error= 0.530076092161\n",
        "i= 90 shift= 0.290393206759 error= 0.630968198161\n",
        "i= 91 shift= 0.320987796257 error= 0.613649795834\n",
        "i="
       ]
      },
      {
       "output_type": "stream",
       "stream": "stdout",
       "text": [
        " 92 shift= 0.119680912667 error= 0.590039677862\n",
        "i= 93 shift= 0.0284783246538 error= 0.588126616741\n",
        "i= 94 shift= 0.219071713244 error= 0.462975120065\n",
        "i= 95 shift= 0.290466694173 error= 0.534766450061\n",
        "i= 96 shift= 0.482074381544 error= 0.52927284045\n",
        "30\n",
        "SAM 5 water 3000 best start= i= 18 shift= 0.247237925199 error= 0.334144501467\n",
        "i= 19 shift= 0.216360948679 error= 0.32251463418\n",
        "i= 20 shift= 0.189736348974 error= 0.368861407736\n",
        "i= 21 shift= 0.162158489312 error= 0.405874125585\n",
        "i= 22 shift= 0.118136235302 error= 0.379227332561\n",
        "i= 23 shift= 0.124905689651 error= 0.395223547944\n",
        "i= 24 shift= 0.131891840529 error= 0.401809509689\n",
        "i= 25 shift= 0.123868242055 error= 0.404551617444\n",
        "i= 26 shift= 0.122333353576 error= 0.405277141029\n",
        "i= 27 shift= 0.114619029672 error= 0.375683286089\n",
        "i= 28 shift= 0.109775334591 error= 0.399223532738\n",
        "i= 29 shift= 0.0950616529261 error= 0.361446432325\n",
        "i= 30 shift= 0.103124529039 error= 0.326945070238\n",
        "i= 31 shift= 0.133228853314 error= 0.354555460384\n",
        "i= 32 shift= 0.173044753661 error= 0.348535064757\n",
        "i= 33 shift= 0.175704572822 error= 0.342422994617\n",
        "i= 34 shift= 0.198314438091 error= 0.349645865544\n",
        "i= 35 shift= 0.200504009066 error= 0.345087979392\n",
        "i="
       ]
      },
      {
       "output_type": "stream",
       "stream": "stdout",
       "text": [
        " 36 shift= 0.219370791253 error= 0.339039086937\n",
        "i= 37 shift= 0.224647097814 error= 0.3483996272\n",
        "i= 38 shift= 0.180996408487 error= 0.344625344962\n",
        "i= 39 shift= 0.195332961238 error= 0.317102182647\n",
        "i= 40 shift= 0.198393958962 error= 0.325152693029\n",
        "i= 41 shift= 0.201986490813 error= 0.301964197331\n",
        "i= 42 shift= 0.188389656215 error= 0.264744089398\n",
        "i= 43 shift= 0.212122932138 error= 0.297932500667\n",
        "i= 44 shift= 0.212443823889 error= 0.265290753765\n",
        "i= 45 shift= 0.188376827289 error= 0.240792534727\n",
        "i= 46 shift= 0.177268522793 error= 0.250902857153\n",
        "i= 47 shift= 0.131165445948 error= 0.228739054211\n",
        "i= 48 shift= 0.0853123617615 error= 0.211781696287\n",
        "i= 49 shift= 0.0164901198905 error= 0.210203243472\n",
        "i= 50 shift= 0.108803380734 error= 0.200675152208\n",
        "i="
       ]
      },
      {
       "output_type": "stream",
       "stream": "stdout",
       "text": [
        " 72 shift= 0.444894368043 error= 0.445447576749\n",
        "i= 73 shift= 0.377189657995 error= 0.440244651727\n",
        "i= 80 shift= 0.409025355452 error= 0.4093313103\n",
        "i= 81 shift= 0.313335094026 error= 0.387265681916\n",
        "i= 82 shift= 0.274876191085 error= 0.341975954195\n",
        "i= 83 shift= 0.199030851096 error= 0.375501661821\n",
        "i= 84 shift= 0.0573078247552 error= 0.38334002312\n",
        "i= 85 shift= 0.0914439560392 error= 0.359669611355\n",
        "i= 86 shift= 0.202609820478 error= 0.357444074445\n",
        "18\n",
        "SAM 5 water 4000 best start= "
       ]
      },
      {
       "output_type": "stream",
       "stream": "stdout",
       "text": [
        "i= 33 shift= 0.127416592754 error= 0.145047229844\n",
        "i= 34 shift= 0.0790103508584 error= 0.131506039224\n",
        "i= 35 shift= 0.0146382642774 error= 0.0879999912745\n",
        "i= 36 shift= 0.0358776505454 error= 0.0497766935166\n",
        "i= 43 shift= 0.0509264680628 error= 0.053223630783\n",
        "i= 44 shift= 0.0615010714046 error= 0.0681417058924\n",
        "i= 45 shift= 0.0458992658023 error= 0.076157856674\n",
        "i= 46 shift= 0.0237212320789 error= 0.0713643533624\n",
        "i= 47 shift= 0.0332589997545 error= 0.0779404236063\n",
        "i= 48 shift= 0.0644031634474 error= 0.0689755603237\n",
        "i= 49 shift= 0.0648473549691 error= 0.0709380492812\n",
        "i= 50 shift= 0.0629965084042 error= 0.0693583958239\n",
        "i="
       ]
      },
      {
       "output_type": "stream",
       "stream": "stdout",
       "text": [
        " 69 shift= 0.00295949232463 error= 0.0422978747405\n",
        "i= 71 shift= 0.066780868595 error= 0.0918117836098\n",
        "i= 72 shift= 0.0132087072063 error= 0.122869451711\n",
        "i= 73 shift= 0.0176081406359 error= 0.0912051174647\n",
        "i= 74 shift= 0.0708262232425 error= 0.12276882834\n",
        "i= 75 shift= 0.0336681307233 error= 0.113483487675\n",
        "i= 76 shift= 0.00691354048064 error= 0.113370682838\n",
        "i= 77 shift= 0.0772780828507 error= 0.116364676479\n",
        "i= 78 shift= 0.0930080403437 error= 0.122702552476\n",
        "i= 79 shift= 0.0615809791286 error= 0.122587085926\n",
        "i= 80 shift= 0.0367733426041 error= 0.122228855493\n",
        "i= 81 shift= 0.0614697729947 error= 0.0953626068652\n",
        "i= 82 shift= 0.0817805525613 error= 0.122327494828\n",
        "i= 85 shift= 0.0155188201275 error= 0.0900312337716\n",
        "i= 86 shift= 0.0509066149922 error= 0.0561195788644\n",
        "i= 91 shift= 0.0219323776 error= 0.0447836174379\n",
        "i= 92 shift= 0.0354499839157 error= 0.0973837148717\n",
        "i= 93 shift= 0.0388846264451 error= 0.172633300493\n",
        "i= 94 shift= 0.00949162391112 error= 0.119083000832\n",
        "i= 95 shift= 0.08332433125 error= 0.202935893514\n",
        "i= 96 shift= 0.0670970448522 error= 0.26097451492\n",
        "i= 97 shift= 0.0126572519091 error= 0.324869550028\n",
        "i= 98 shift= 0.132661766311 error= 0.346811637307\n",
        "i= 99 shift= 0.151219243964 error= 0.313100114382\n",
        "33\n",
        "SAM 5 water 5000 best start= "
       ]
      },
      {
       "output_type": "stream",
       "stream": "stdout",
       "text": [
        "i= 84 shift= 0.089907524956 error= 0.121136973933\n",
        "i= 85 shift= 0.0529075711275 error= 0.0936715034282\n",
        "i= 86 shift= 0.0551271308416 error= 0.140383473215\n",
        "i= 87 shift= 0.106965756695 error= 0.16087366599\n",
        "84\n",
        "SAM 5 water 6500 best start= "
       ]
      },
      {
       "output_type": "stream",
       "stream": "stdout",
       "text": [
        "i= 77 shift= 0.112147342213 error= 0.115716548865\n",
        "i= 78 shift= 0.0531706942428 error= 0.10755006367\n",
        "i= 79 shift= 0.00192846984694 error= 0.114069054724\n",
        "i= 80 shift= 0.0315343789555 error= 0.112119883142\n",
        "i= 81 shift= 0.0580124908058 error= 0.120742441975\n",
        "i= 82 shift= 0.0911311586918 error= 0.114611912331\n",
        "i= 83 shift= 0.133855151541 error= 0.134109142545\n",
        "i= 104 shift= 0.114152153129 error= 0.115343017563\n",
        "i= 105 shift= 0.0940462458611 error= 0.124873956986\n",
        "i= 106 shift= 0.0814050836769 error= 0.157907368422\n",
        "i= 107 shift= 0.0642062578034 error= 0.131038586639\n",
        "i= 108 shift= 0.0962107838291 error= 0.181189428854\n",
        "i= 109 shift= 0.0886961285215 error= 0.177095848351\n",
        "i= 110 shift= 0.0698105584634 error= 0.167939174232\n",
        "i= 111 shift= 0.024200329185 error= 0.170511997766\n",
        "i= 112 shift= 0.0136476379566 error= 0.207731055272\n",
        "i= "
       ]
      },
      {
       "output_type": "stream",
       "stream": "stdout",
       "text": [
        "113 shift= 0.00909639936958 error= 0.180002217411\n",
        "i= 114 shift= 0.0753109176397 error= 0.235848522671\n",
        "i= 115 shift= 0.092520608668 error= 0.260443436426\n",
        "i= 116 shift= 0.113333192186 error= 0.251785315618\n",
        "i= 117 shift= 0.104161584831 error= 0.273976568957\n",
        "i= 118 shift= 0.13777222103 error= 0.301919455722\n",
        "i= 119 shift= 0.1962727977 error= 0.278790475028\n",
        "i= 120 shift= 0.204452737854 error= 0.323308037546\n",
        "i= 121 shift= 0.208115954368 error= 0.317670774174\n",
        "i= 122 shift= 0.250453197289 error= 0.318470153283\n",
        "i= 123 shift= 0.284983335 error= 0.311506190405\n",
        "77\n",
        "SAM 5 water 7000 best start= "
       ]
      },
      {
       "output_type": "stream",
       "stream": "stdout",
       "text": [
        "i= 56 shift= 0.0662622343096 error= 0.0834335264927\n",
        "i= 57 shift= 0.0366651397138 error= 0.0723723134805\n",
        "i= 58 shift= 0.00768253492993 error= 0.0826482245341\n",
        "i= 59 shift= 0.03971391796 error= 0.0963266894859\n",
        "i= 60 shift= 0.0670793969487 error= 0.0964861033916\n",
        "i= 61 shift= 0.0753043458967 error= 0.0810713339503\n",
        "i= 62 shift= 0.0876237018538 error= 0.0945989361733\n",
        "i= 65 shift= 0.0964920560133 error= 0.0976215665311\n",
        "i= 82 shift= 0.0944473535963 error= 0.105134877279\n",
        "i= 83 shift= 0.0868951779959 error= 0.088545768838\n",
        "i= 84 shift= 0.0623811042088 error= 0.10555079389\n",
        "i= 85 shift= 0.065085907244 error= 0.119258541383\n",
        "i= 86 shift= 0.0464871640592 error= 0.109052367989\n",
        "i= 87 shift= 0.000859604060793 error= 0.14003662932\n",
        "i= 88 shift= 0.0143123107374 error= 0.153448218434\n",
        "i= 89 shift= 0.0213618012357 error= 0.155279000264\n",
        "i= 90 shift= 0.0344321593154 error= 0.167032417951\n",
        "i= 91 shift= 0.0386229490765 error= 0.188287388501\n",
        "i= 92 shift= 0.0672559899312 error= 0.191177237833\n",
        "i= 93 shift= 0.0682628442112 error= 0.190869343553\n",
        "i= 94 shift= 0.049580678557 error= 0.171539264543\n",
        "i= 95 shift= 0.0623314134432 error= 0.199250015111\n",
        "i= 96 shift= 0.0789305964865 error= 0.199392235197\n",
        "i= 97 shift= 0.0770016037077 error= 0.196873975114\n",
        "i= 98 shift= 0.0798651917736 error= 0.207857284476\n",
        "i= 99 shift= 0.0736334258355 error= 0.20395592175\n",
        "i="
       ]
      },
      {
       "output_type": "stream",
       "stream": "stdout",
       "text": [
        " 100 shift= 0.0851469076188 error= 0.197925965155\n",
        "i= 101 shift= 0.105728033521 error= 0.224105261325\n",
        "i= 102 shift= 0.133644715115 error= 0.236049357687\n",
        "i= 103 shift= 0.153416428422 error= 0.245001603752\n",
        "i= 104 shift= 0.140219591996 error= 0.266468795382\n",
        "i= 105 shift= 0.118659210194 error= 0.248838218061\n",
        "i= 106 shift= 0.0905710675327 error= 0.203163218556\n",
        "i= 107 shift= 0.0649742903205 error= 0.223503493734\n",
        "i= 108 shift= 0.0554036089345 error= 0.174333005552\n",
        "i= 109 shift= 0.0414892771569 error= 0.140172993339\n",
        "i= 110 shift= 0.0304140965306 error= 0.164965598671\n",
        "i= 111 shift= 0.044250558645 error= 0.107812436136\n",
        "i="
       ]
      },
      {
       "output_type": "stream",
       "stream": "stdout",
       "text": [
        " 129 shift= 0.209092300637 error= 0.256056541821\n",
        "i= 130 shift= 0.131523546127 error= 0.201498640575\n",
        "i= 131 shift= 0.0369772531714 error= 0.19576952048\n",
        "i= 132 shift= 0.0772642284215 error= 0.145040744369\n",
        "56\n",
        "SAM 5 water 8000 best start= "
       ]
      },
      {
       "output_type": "stream",
       "stream": "stdout",
       "text": [
        "None\n",
        "SAM 5 water 9000 best start= "
       ]
      },
      {
       "output_type": "stream",
       "stream": "stdout",
       "text": [
        "i= 71 shift= 0.00682922121501 error= 0.0158185029557\n",
        "i= 72 shift= 0.0161844977065 error= 0.036638889164\n",
        "i= 73 shift= 0.0359820842283 error= 0.040101658473\n",
        "i= 74 shift= 0.0223967375404 error= 0.0441463340472\n",
        "i= 75 shift= 0.062044793081 error= 0.0637740163722\n",
        "i= 77 shift= 0.0127741409935 error= 0.0614689947085\n",
        "i= 78 shift= 0.00906407916619 error= 0.0781162288212\n",
        "i= 79 shift= 0.0155320166643 error= 0.0976304589493\n",
        "i= 80 shift= 0.0389687233659 error= 0.104803668707\n",
        "i= 81 shift= 0.0418793592947 error= 0.169501646262\n",
        "i= 82 shift= 0.0148566135011 error= 0.101606315975\n",
        "i= 83 shift= 0.0354620693684 error= 0.185639357481\n",
        "i= 84 shift= 0.0222594132602 error= 0.177035840437\n",
        "i= 85 shift= 0.0232546876667 error= 0.190155382119\n",
        "i= 86 shift= 0.00373523626493 error= 0.194146626664\n",
        "i= 87 shift= 0.0355935133676 error= 0.179183919319\n",
        "i= 88 shift= 0.0665279542874 error= 0.204923012063\n",
        "i= 89 shift= 0.084264840825 error= 0.180048939712\n",
        "i= 90 shift= 0.0875598706318 error= 0.174535004409\n",
        "i= 91 shift= 0.131357558029 error= 0.182668880409\n",
        "71\n",
        "SAM 5 water 10000 best start= "
       ]
      },
      {
       "output_type": "stream",
       "stream": "stdout",
       "text": [
        "i= 123 shift= 0.171485163752 error= 0.175530834004\n",
        "i= 124 shift= 0.136397144505 error= 0.171940374557\n",
        "i= 125 shift= 0.131108669174 error= 0.179130026063\n",
        "i= 126 shift= 0.117629170275 error= 0.176255733514\n",
        "i= 127 shift= 0.112526913959 error= 0.197610902455\n",
        "i= 128 shift= 0.107561890231 error= 0.189387691315\n",
        "i= 129 shift= 0.0902337617011 error= 0.199037673712\n",
        "i= 130 shift= 0.12034212056 error= 0.172021638858\n",
        "i= 131 shift= 0.166722805687 error= 0.185475960418\n",
        "i="
       ]
      },
      {
       "output_type": "stream",
       "stream": "stdout",
       "text": [
        " 172 shift= 0.039523582022 error= 0.0482255273535\n",
        "i= 175 shift= 0.00141594372519 error= 0.010712613048\n",
        "i= 176 shift= 0.0344134695 error= 0.0377978986637\n",
        "123\n",
        "SAM 11 water 1000 best start= i= 27 shift= 3.70870512161 error= 3.79528721029\n",
        "i= 28 shift= 3.41930495412 error= 3.78319714017\n",
        "i= 29 shift= 3.14282982055 error= 3.7841984476\n",
        "i= 30 shift= 2.85721776962 error= 3.86435202623\n",
        "i= "
       ]
      },
      {
       "output_type": "stream",
       "stream": "stdout",
       "text": [
        "31 shift= 2.43440106268 error= 3.77791913975\n",
        "i= 32 shift= 1.95056519651 error= 3.63992125265\n",
        "i= 33 shift= 1.6597529174 error= 3.56284045487\n",
        "i= 34 shift= 1.31314176336 error= 3.43578104119\n",
        "i= 35 shift= 0.984648440158 error= 3.34660298129\n",
        "i= 36 shift= 0.642249068958 error= 3.22539121712\n",
        "i= 37 shift= 0.355249619815 error= 3.17385869014\n",
        "i= 38 shift= 0.0117680943936 error= 2.98972483339\n",
        "i= 39 shift= 0.525860756129 error= 2.86930520076\n",
        "i= 40 shift= 0.917652875849 error= 2.78588569845\n",
        "i= 41 shift= 1.35845798494 error= 2.75625545715\n",
        "i= 42 shift= 1.97019297246 error= 2.7954524958\n",
        "27"
       ]
      },
      {
       "output_type": "stream",
       "stream": "stdout",
       "text": [
        "\n",
        "SAM 11 water 2000 best start= i= 12 shift= 0.0816958014866 error= 0.370384736957\n",
        "i= 13 shift= 0.0540430187637 error= 0.337359762187\n",
        "i= 14 shift= 0.0892663414489 error= 0.364114365768\n",
        "i= 15 shift= 0.00263112203847 error= 0.465534866772\n",
        "i= 16 shift= 0.0325227307513 error= 0.371518064091\n",
        "i= 17 shift= 0.0766388305682 error= 0.472368271013\n",
        "i= 18 shift= 0.0934236280373 error= 0.478679021268\n",
        "i= 19 shift= 0.0198600771545 error= 0.511320954379\n",
        "12\n",
        "SAM 11 water 3000 best start= "
       ]
      },
      {
       "output_type": "stream",
       "stream": "stdout",
       "text": [
        "None\n",
        "SAM 11 water 4000 best start= i= 32 shift= 0.154249281069 error= 0.160272139038\n",
        "i= 33 shift= 0.138726747993 error= 0.145093206658\n",
        "i= 34 shift= 0.138868969635 error= 0.16757669183\n",
        "i= 37 shift= 0.149792273611 error= 0.154160068491\n",
        "i= 40 shift= 0.046565894752 error= 0.130896581952\n",
        "i= 41 shift= 0.00618524441154 error= 0.112339978045\n",
        "i= 42 shift= 0.0235507225241 error= 0.129805504906\n",
        "i= 43 shift= 0.0151097512105 error= 0.136969803165\n",
        "i= 44 shift= 0.013698814426 error= 0.150659853883\n",
        "i="
       ]
      },
      {
       "output_type": "stream",
       "stream": "stdout",
       "text": [
        " 45 shift= 0.00933867412446 error= 0.140779660857\n",
        "i= 46 shift= 0.0407309090214 error= 0.17087362808\n",
        "i= 47 shift= 0.0543154162545 error= 0.143252886401\n",
        "i= 48 shift= 0.0135561015628 error= 0.100789046952\n",
        "i= 49 shift= 0.0189007390309 error= 0.104405368079\n",
        "i= 50 shift= 0.0423212193521 error= 0.0594725298743\n",
        "i="
       ]
      },
      {
       "output_type": "stream",
       "stream": "stdout",
       "text": [
        " 85 shift= 0.044748472402 error= 0.113043061038\n",
        "i= 86 shift= 0.119383971881 error= 0.135212962226\n",
        "i= 93 shift= 0.0284581647857 error= 0.139870697846\n",
        "i= 94 shift= 0.00797193812446 error= 0.131576710662\n",
        "i= 95 shift= 0.113914245731 error= 0.157059969739\n",
        "32\n",
        "SAM 11 water 5000 best start= i= 11 shift= 0.0806265243525 error= 0.092538676011\n",
        "i= 12 shift= 0.0477835048763 error= 0.0569944636892\n",
        "i="
       ]
      },
      {
       "output_type": "stream",
       "stream": "stdout",
       "text": [
        " 80 shift= 0.253031922311 error= 0.296558759504\n",
        "i= 81 shift= 0.2752751781 error= 0.315143475805\n",
        "11\n",
        "SAM 11 water 6500 best start= i= 37 shift= 0.204951748799 error= 0.222813981596\n",
        "i= 38 shift= 0.0104221886035 error= 0.224531410859\n",
        "i= 39 shift= 0.144728788029 error= 0.215624280977\n",
        "37"
       ]
      },
      {
       "output_type": "stream",
       "stream": "stdout",
       "text": [
        "\n",
        "SAM 11 water 7000 best start= "
       ]
      },
      {
       "output_type": "stream",
       "stream": "stdout",
       "text": [
        "i= 114 shift= 0.498159121174 error= 0.540361320607\n",
        "i= 115 shift= 0.417791942034 error= 0.531252653362\n",
        "i= 116 shift= 0.340668187002 error= 0.520461818166\n",
        "i= 117 shift= 0.257884059929 error= 0.554017932845\n",
        "i= 118 shift= 0.147611563691 error= 0.523878528185\n",
        "i= 119 shift= 0.0387091656786 error= 0.53830155126\n",
        "i= 120 shift= 0.031261551925 error= 0.511327847669\n",
        "i= 121 shift= 0.0388752319184 error= 0.480541754984\n",
        "i= 122 shift= 0.133832902245 error= 0.512164928002\n",
        "i= 123 shift= 0.249129651026 error= 0.455307467572\n",
        "i= 124 shift= 0.349419123164 error= 0.405477173485\n",
        "i= 125 shift= 0.431286426627 error= 0.441752923828\n",
        "114"
       ]
      },
      {
       "output_type": "stream",
       "stream": "stdout",
       "text": [
        "\n",
        "SAM 11 water 8000 best start= "
       ]
      },
      {
       "output_type": "stream",
       "stream": "stdout",
       "text": [
        "i= 63 shift= 0.146528356486 error= 0.185940785798\n",
        "i= 64 shift= 0.113053562605 error= 0.19824524167\n",
        "i= 65 shift= 0.095013824617 error= 0.198672434533\n",
        "i= 66 shift= 0.0667362367042 error= 0.189978780073\n",
        "i= 67 shift= 0.0307772747525 error= 0.184466414861\n",
        "i= 68 shift= 0.011101467866 error= 0.177638621089\n",
        "i= 69 shift= 0.0806918115536 error= 0.170098770748\n",
        "i= 70 shift= 0.155107576975 error= 0.156181288145\n",
        "i="
       ]
      },
      {
       "output_type": "stream",
       "stream": "stdout",
       "text": [
        " 113 shift= 0.431371815538 error= 0.444591461594\n",
        "i= 114 shift= 0.406201445467 error= 0.458418405699\n",
        "i= 115 shift= 0.368952433334 error= 0.451258338208\n",
        "i= 116 shift= 0.3915828324 error= 0.459924180214\n",
        "i= 117 shift= 0.415823854766 error= 0.449229137434\n",
        "i= 119 shift= 0.411490950829 error= 0.428263770413\n",
        "63\n",
        "SAM 11 water 9000 best start= "
       ]
      },
      {
       "output_type": "stream",
       "stream": "stdout",
       "text": [
        "None\n",
        "SAM 11 water 10000 best start= "
       ]
      },
      {
       "output_type": "stream",
       "stream": "stdout",
       "text": [
        "i= 130 shift= 0.0916061173235 error= 0.0951362500588\n",
        "i= 131 shift= 0.0721790287839 error= 0.0976528327297\n",
        "i= 132 shift= 0.0448650793235 error= 0.0993887906778\n",
        "i= 133 shift= 0.0151084748487 error= 0.102753478981\n",
        "i= 134 shift= 0.00588936114772 error= 0.111782668769\n",
        "i= 135 shift= 0.0143356948059 error= 0.112798631235\n",
        "i= 136 shift= 0.0262136185554 error= 0.0999368091431\n",
        "i= 137 shift= 0.0422539224465 error= 0.113715140137\n",
        "i= 138 shift= 0.0347678947677 error= 0.135751894821\n",
        "i= 139 shift= 0.0332981024162 error= 0.113561685413\n",
        "i= 140 shift= 0.0375906077517 error= 0.125569814527\n",
        "i= 141 shift= 0.0427888850776 error= 0.106533089135\n",
        "i= 142 shift= 0.051535333984 error= 0.102416983885\n",
        "i= 143 shift= 0.0610057478775 error= 0.10286231721\n",
        "i= 144 shift= 0.0351540705278 error= 0.0895979481041\n",
        "i= 145 shift= 0.0575060965132 error= 0.0879613331599\n",
        "i= 146 shift= 0.0152192583547 error= 0.0943267757715\n",
        "i= 147 shift= 0.0232304919268 error= 0.0821800346842\n",
        "i= 148 shift= 0.0456493383415 error= 0.0858104198403\n",
        "i= 149 shift= 0.053269251114 error= 0.0828630170319\n",
        "i= 150 shift= 0.0552542757 error= 0.0855195163074\n",
        "i= 151 shift= 0.0562509985792 error= 0.0945531793307\n",
        "i= 152 shift= 0.0764655624565 error= 0.0795244190989\n",
        "i= 162 shift= 0.145456676772 error= 0.16052293112\n",
        "i= 163 shift= 0.168200454899 error= 0.188274533863\n",
        "i= 164 shift= 0.182893259931 error= 0.19569560066\n",
        "i= 165 shift= 0.191831791652 error= 0.204377532163\n",
        "i="
       ]
      },
      {
       "output_type": "stream",
       "stream": "stdout",
       "text": [
        " 166 shift= 0.190299666618 error= 0.20587697698\n",
        "i= 167 shift= 0.148533519736 error= 0.193376743438\n",
        "i= 168 shift= 0.115983932238 error= 0.18454899636\n",
        "i= 169 shift= 0.115125496865 error= 0.162477017654\n",
        "i= 170 shift= 0.0677233565429 error= 0.174015444549\n",
        "i= 171 shift= 0.045656477272 error= 0.173727926188\n",
        "i= 172 shift= 0.0986936316923 error= 0.131164946882\n",
        "i= 173 shift= 0.147018031156 error= 0.152609816298\n",
        "130\n",
        "SAM 17 water 1000 best start= "
       ]
      },
      {
       "output_type": "stream",
       "stream": "stdout",
       "text": [
        "None\n",
        "SAM 17 water 2000 best start= i= 25 shift= 0.191090033218 error= 0.207317168104\n",
        "i= 36 shift= 0.316599679743 error= 0.376272585599\n",
        "i= 37 shift= 0.196069645432 error= 0.366484516267\n",
        "i= 38 shift= 0.214354574224 error= 0.304347831402\n",
        "i= 39 shift= 0.277952378977 error= 0.289790222241\n",
        "i= 40 shift= 0.249583175291 error= 0.257163911144\n",
        "i= 41 shift= 0.167219617715 error= 0.29675246891\n",
        "i= 42 shift= 0.0973570667487 error= 0.374515675745\n",
        "i= 43 shift= 0.03115883477 error= 0.314283881746\n",
        "i= 44 shift= 0.223030273961 error= 0.400916040278\n",
        "i= 45 shift= 0.267886389463 error= 0.293021257982\n",
        "i= 46 shift= 0.271364501032 error= 0.341122296319"
       ]
      },
      {
       "output_type": "stream",
       "stream": "stdout",
       "text": [
        "\n",
        "i= 47 shift= 0.178933727688 error= 0.239412106605\n",
        "i= 48 shift= 0.0477492762097 error= 0.233377873768\n",
        "i= 49 shift= 0.0669941823069 error= 0.253954186424\n",
        "i= 50 shift= 0.175755761209 error= 0.254524052741\n",
        "i= 51 shift= 0.202845710512 error= 0.244741008104\n",
        "i= 52 shift= 0.265546513895 error= 0.280814272447\n",
        "i= 53 shift= 0.152877116277 error= 0.238198811087\n",
        "i= 54 shift= 0.0417068173477 error= 0.147497649313\n",
        "i= 55 shift= 0.00203463862188 error= 0.208426315766\n",
        "i= 56 shift= 0.103119056484 error= 0.189487321688\n",
        "i= 71 shift= 0.078716446879 error= 0.173137701724\n",
        "i= 72 shift= 0.0972452493392 error= 0.171183595843\n",
        "i= 73 shift= 0.043888712669 error= 0.134183431544\n",
        "i= 74 shift= 0.128770647149 error= 0.141872353115\n",
        "i= 78 shift= 0.0450629991713 error= 0.252668686279\n",
        "i= 79 shift= 0.212729195464 error= 0.356706849301\n",
        "i= 80 shift= 0.344574402642 error= 0.472043243989\n",
        "i= 81 shift= 0.333600276784 error= 0.634496893317\n",
        "i="
       ]
      },
      {
       "output_type": "stream",
       "stream": "stdout",
       "text": [
        " 82 shift= 0.454084544657 error= 0.663638185753\n",
        "i= 83 shift= 0.534651925445 error= 0.633590478228\n",
        "i= 84 shift= 0.629889149749 error= 0.65464986958\n",
        "i= 85 shift= 0.448366198393 error= 0.606372902924\n",
        "i= 86 shift= 0.011510355733 error= 0.461197611468\n",
        "i= 87 shift= 0.300203486939 error= 0.364449259892\n",
        "25\n",
        "SAM 17 water 3000 best start= i= 25 shift= 0.972383220352 error= 1.08737710833\n",
        "i= 26 shift= 0.705262249903 error= 1.01880953627\n",
        "i= 27 shift= 0.51687130546 error= 1.00140867665\n",
        "i= 28 shift= 0.379664573195 error= 0.988330223086\n",
        "i= 29 shift= 0.341517415056 error= 1.00577618916\n",
        "i= 30 shift= 0.29814193166 error= 1.01268619407\n",
        "i= 31 shift= 0.184464376039 error= 0.992606999179\n",
        "i="
       ]
      },
      {
       "output_type": "stream",
       "stream": "stdout",
       "text": [
        " 32 shift= 0.0405912521267 error= 0.924380361519\n",
        "i= 33 shift= 0.243356355202 error= 0.841799737085\n",
        "i= 34 shift= 0.379520351634 error= 0.819146692746\n",
        "i= 35 shift= 0.429653071101 error= 0.787460987728\n",
        "i= 36 shift= 0.498020559652 error= 0.720204415138\n",
        "i= 37 shift= 0.513906577859 error= 0.776657526624\n",
        "25"
       ]
      },
      {
       "output_type": "stream",
       "stream": "stdout",
       "text": [
        "\n",
        "SAM 17 water 4000 best start= i= 33 shift= 0.416170928416 error= 0.42860546592\n",
        "i= 34 shift= 0.380908011065 error= 0.426669624389\n",
        "i= 35 shift= 0.389104211414 error= 0.432684439364\n",
        "i= 37 shift= 0.411614059301 error= 0.420110323223\n",
        "i= 41 shift= 0.323468488461 error= 0.351776198321\n",
        "i= 42 shift= 0.298916631953 error= 0.323215911274\n",
        "i= 43 shift= 0.310303014063 error= 0.362469018743\n",
        "i= 44 shift= 0.303234024679 error= 0.318322113007\n",
        "i= 49 shift= 0.280340297278 error= 0.287156079486\n",
        "i= 50 shift= 0.220861889159 error= 0.28778451771\n",
        "i="
       ]
      },
      {
       "output_type": "stream",
       "stream": "stdout",
       "text": [
        " 51 shift= 0.215504375625 error= 0.312189231548\n",
        "i= 52 shift= 0.249387057259 error= 0.294740136317\n",
        "i= 53 shift= 0.318706743697 error= 0.332798979029\n",
        "i= 74 shift= 0.274972634692 error= 0.326278863939\n",
        "i= 75 shift= 0.371506412094 error= 0.466063455946\n",
        "i= 76 shift= 0.521818852741 error= 0.54123359887\n",
        "i="
       ]
      },
      {
       "output_type": "stream",
       "stream": "stdout",
       "text": [
        " 86 shift= 0.31457081794 error= 0.533809880875\n",
        "i= 87 shift= 0.160072870533 error= 0.478312482435\n",
        "i= 88 shift= 0.0338655122317 error= 0.47511055725\n",
        "i= 89 shift= 0.261095350594 error= 0.33827322711\n",
        "33\n",
        "SAM 17 water 5000 best start= "
       ]
      },
      {
       "output_type": "stream",
       "stream": "stdout",
       "text": [
        "i= 50 shift= 0.348674743154 error= 0.349197117844\n",
        "i= 51 shift= 0.281704785613 error= 0.409556268887\n",
        "i= 52 shift= 0.180605781023 error= 0.388689605817\n",
        "i= 53 shift= 0.0872282137193 error= 0.413995047583\n",
        "i= 54 shift= 0.0552707502544 error= 0.4142726279\n",
        "i= 55 shift= 0.0809887441165 error= 0.418929277551\n",
        "i= 56 shift= 0.0930579292498 error= 0.431770206594\n",
        "i= 57 shift= 0.124649972613 error= 0.438117360899\n",
        "i= 58 shift= 0.189160832689 error= 0.465992179387\n",
        "i= 59 shift= 0.241384567297 error= 0.442370036139\n",
        "i= 60 shift= 0.265618348656 error= 0.475445473318\n",
        "i= 61 shift= 0.27223063099 error= 0.457641421126\n",
        "i= 62 shift= 0.237070632698 error= 0.468124470391\n",
        "i= 63 shift= 0.165576775574 error= 0.467891151105\n",
        "i= 64 shift= 0.0877822960153 error= 0.450468156029\n",
        "i= 65 shift= 0.0554208881191 error= 0.453972441545\n",
        "i= 66 shift= 0.0400988685509 error= 0.475342821612\n",
        "i= 67 shift= 0.0210502186838 error= 0.488783229197\n",
        "i= 68 shift= 0.0299423980843 error= 0.491847405544\n",
        "i= 69 shift= 0.0215924351769 error= 0.454116676888\n",
        "i= 70 shift= 0.128021760375 error= 0.481440909797\n",
        "i= 71 shift= 0.19691788808 error= 0.423760182378\n",
        "i= 72 shift= 0.252219336083 error= 0.37026813633\n",
        "i= 73 shift= 0.399507272543 error= 0.40955576323\n",
        "50"
       ]
      },
      {
       "output_type": "stream",
       "stream": "stdout",
       "text": [
        "\n",
        "SAM 17 water 6500 best start= i= 34 shift= 0.138184178914 error= 0.142843100078\n",
        "i= 35 shift= 0.0989989796711 error= 0.128792622758\n",
        "i= 36 shift= 0.0989489298174"
       ]
      },
      {
       "output_type": "stream",
       "stream": "stdout",
       "text": [
        " error= 0.14017426688\n",
        "i= 37 shift= 0.119498252277 error= 0.132214608987\n",
        "i= 38 shift= 0.133230290488 error= 0.143561506654\n",
        "i= 39 shift= 0.143430497369 error= 0.150658695504\n",
        "i= 44 shift= 0.139326959008 error= 0.156658893055\n",
        "i= 45 shift= 0.135845390991 error= 0.141756803967\n",
        "i= 46 shift= 0.110584957662 error= 0.161105245518\n",
        "i= 47 shift= 0.101914685723 error= 0.150587925279\n",
        "i= 48 shift= 0.114132427996 error= 0.161322327796\n",
        "i= 49 shift= 0.15914412741 error= 0.163841225122\n",
        "i= 50 shift= 0.166863006048 error= 0.174793343732\n",
        "i= 51 shift= 0.107679537393 error= 0.203378837997\n",
        "i= 52 shift= 0.0737725987592 error= 0.195545671598\n",
        "i= 53 shift= 0.0980633418396 error= 0.218738494231\n",
        "i= 54 shift= 0.109460869849 error= 0.20455014777\n",
        "i= 55 shift= 0.143613709795 error= 0.222910168704\n",
        "i= 56 shift= 0.172211303399 error= 0.188306914153\n",
        "i= 62 shift= 0.133984147269 error= 0.135613281642\n",
        "i= 63 shift= 0.0996177016699 error= 0.148890281451\n",
        "i= 64 shift= 0.0999385519196 error= 0.130443963726\n",
        "i= 65 shift= 0.0666816669286 error= 0.145970949182\n",
        "i= 66 shift= 0.0733593394497 error= 0.125163263048\n",
        "i= 67 shift= 0.0949366070769 error= 0.153412652313\n",
        "i= 68 shift= 0.0808415872342 error= 0.128498796246\n",
        "i= 79 shift= 0.249277723871 error= 0.288352358014\n",
        "i= 80 shift= 0.14498595791 error= 0.3060741041\n",
        "i= 81 shift= 0.0706060902711 error= 0.338581290152\n",
        "i="
       ]
      },
      {
       "output_type": "stream",
       "stream": "stdout",
       "text": [
        " 82 shift= 0.0541653528025 error= 0.305774298638\n",
        "i= 83 shift= 0.0662986342807 error= 0.324913881015\n",
        "i= 84 shift= 0.0920335244432 error= 0.369099608643\n",
        "i= 85 shift= 0.0174010437549 error= 0.339914165427\n",
        "i= 86 shift= 0.0411550037247 error= 0.405296348091\n",
        "i= 87 shift= 0.181262365621 error= 0.414323201486\n",
        "i= 88 shift= 0.303726767765 error= 0.382745477009\n",
        "i= 89 shift= 0.338652715962 error= 0.423281417571\n",
        "i= 90 shift= 0.428093339072 error= 0.487506940509\n",
        "i= 91 shift= 0.432972651343 error= 0.449854361756\n",
        "i= 92 shift= 0.541994426659 error= 0.547507597995\n",
        "34\n",
        "SAM 17 water 7000 best start= "
       ]
      },
      {
       "output_type": "stream",
       "stream": "stdout",
       "text": [
        "i= 135 shift= 0.0618871380192 error= 0.0962272153408\n",
        "i= 136 shift= 0.016918384153 error= 0.260065350022\n",
        "i= 137 shift= 0.0500085525682 error= 0.209635276456\n",
        "i= 138 shift= 0.0903715080248 error= 0.386604797489\n",
        "i= 139 shift= 0.181229946191 error= 0.570119285934\n",
        "135\n",
        "SAM 17 water 8000 best start= "
       ]
      },
      {
       "output_type": "stream",
       "stream": "stdout",
       "text": [
        "i= 107 shift= 0.415343248765 error= 0.437530276978\n",
        "i= 108 shift= 0.416621069558 error= 0.434417497481\n",
        "i= 109 shift= 0.408332247309 error= 0.429771343027\n",
        "i= 110 shift= 0.409053104442 error= 0.475401415189\n",
        "i= 111 shift= 0.430877958915 error= 0.45533565231\n",
        "i= 138 shift= 0.0615487568944 error= 0.0976676045928\n",
        "i= 139 shift= 0.074764914 error= 0.0968888878173\n",
        "107\n",
        "SAM 17 water 9000 best start= "
       ]
      },
      {
       "output_type": "stream",
       "stream": "stdout",
       "text": [
        "i= 60 shift= 0.756993664364 error= 0.814005444802\n",
        "i= 61 shift= 0.672827396088 error= 0.79963139228\n",
        "i= 62 shift= 0.579030904474 error= 0.792396754256\n",
        "i= 63 shift= 0.490766669968 error= 0.780732446155\n",
        "i= 64 shift= 0.430905523057 error= 0.766994392692\n",
        "i= 65 shift= 0.393267137082 error= 0.779857399313\n",
        "i= 66 shift= 0.345402453365 error= 0.770703659825\n",
        "i= 67 shift= 0.293083265265 error= 0.74936660595\n",
        "i= 68 shift= 0.252583630633 error= 0.771578159699\n",
        "i= 69 shift= 0.210929106701 error= 0.720417963084\n",
        "i= 70 shift= 0.172050966295 error= 0.679062841171\n",
        "i= 71 shift= 0.101159347929 error= 0.701115449446\n",
        "i= 72 shift= 0.0195160019853 error= 0.640234343093\n",
        "i= 73 shift= 0.0765071711591 error= 0.576850981984\n",
        "i= 74 shift= 0.17585557281 error= 0.605845013191\n",
        "i= 75 shift= 0.23641058639 error= 0.53701210248\n",
        "i= 76 shift= 0.309228248505 error= 0.463821363506\n",
        "i= 77 shift= 0.397134676291 error= 0.506705627162\n",
        "i="
       ]
      },
      {
       "output_type": "stream",
       "stream": "stdout",
       "text": [
        " 122 shift= 0.00396584873181 error= 0.0732956436507\n",
        "i= 123 shift= 0.0391054762544 error= 0.101369489707\n",
        "i= 124 shift= 0.126227997767 error= 0.142845630423\n",
        "i= 135 shift= 0.0228669025769 error= 0.0480767385848\n",
        "i= 139 shift= 0.126247315282 error= 0.145769099694\n",
        "60\n",
        "SAM 17 water 10000 best start= "
       ]
      },
      {
       "output_type": "stream",
       "stream": "stdout",
       "text": [
        "i= 92 shift= 0.353404528741 error= 0.354415086982\n",
        "i= 93 shift= 0.276579745607 error= 0.321125106953\n",
        "i= 94 shift= 0.221702573124 error= 0.302397247709\n",
        "i= 95 shift= 0.19582826097 error= 0.303620125602\n",
        "i= 96 shift= 0.160664585397 error= 0.2821254536\n",
        "i= 97 shift= 0.120856093735 error= 0.259547078661\n",
        "i= 98 shift= 0.0804971606341 error= 0.252526946519\n",
        "i= 99 shift= 0.0363476928905 error= 0.228236794092\n",
        "i= 100 shift= 0.0072638059751 error= 0.199043479116\n",
        "i= 101 shift= 0.0220565420044 error= 0.200973342104\n",
        "i= 102 shift= 0.0510947886964 error= 0.171428002567\n",
        "i= 103 shift= 0.0640878455987 error= 0.150771266616\n",
        "i= 104 shift= 0.0836891058218 error= 0.145025769463\n",
        "i= 105 shift= 0.0605344571953 error= 0.123647466198\n",
        "i= 106 shift= 0.077670679507 error= 0.107395206767\n",
        "i= 107 shift= 0.0962740305665 error= 0.100027930713\n",
        "92"
       ]
      },
      {
       "output_type": "stream",
       "stream": "stdout",
       "text": [
        "\n",
        "SAM 33 water 1000 best start= None\n",
        "SAM 33 water 2000 best start= i= 10 shift= 0.388576142428 error= 0.663400910347\n",
        "i= 11 shift= 0.301754706627 error= 0.599531743614\n",
        "i= 12 shift= 0.356751172174 error= 0.576216653528\n",
        "i= 13 shift= 0.403448958026 error= 0.567914446987\n",
        "i= 14 shift= 0.250296722445 error= 0.497452910027\n",
        "i= 15 shift= 0.154819905989 error= 0.542975805732\n",
        "i= 16 shift= 0.0879498228138 error= 0.588940823698\n",
        "i= 17 shift= 0.0109662008808 error= 0.503035763668\n",
        "i="
       ]
      },
      {
       "output_type": "stream",
       "stream": "stdout",
       "text": [
        " 18 shift= 0.00381699436031 error= 0.575682476445\n",
        "i= 19 shift= 0.0451936080377 error= 0.581258847264\n",
        "i= 20 shift= 0.125920483496 error= 0.561555741048\n",
        "i= 21 shift= 0.0923964104858 error= 0.517545954107\n",
        "i= 22 shift= 0.109158461455 error= 0.571273875145\n",
        "i= 23 shift= 0.153384258822 error= 0.561008493818\n",
        "i= 24 shift= 0.0512125916346 error= 0.562541689466\n",
        "i= 25 shift= 0.0324676956504 error= 0.44509556495\n",
        "i= 26 shift= 0.0276967650108 error= 0.474101612268\n",
        "i= 27 shift= 0.0629244872239 error= 0.474660649854\n",
        "i= 28 shift= 0.213568264861 error= 0.47076680274\n",
        "i= 29 shift= 0.371867906035 error= 0.421550147562\n",
        "i= 30 shift= 0.46350454643 error= 0.465722270911\n",
        "i="
       ]
      },
      {
       "output_type": "stream",
       "stream": "stdout",
       "text": [
        " 76 shift= 0.827800047294 error= 0.910961602141\n",
        "i= 77 shift= 0.897399843875 error= 0.987351616298\n",
        "i="
       ]
      },
      {
       "output_type": "stream",
       "stream": "stdout",
       "text": [
        " 127 shift= 1.15328693632 error= 1.34073428717\n",
        "10\n",
        "SAM 33 water 3000 best start= "
       ]
      },
      {
       "output_type": "stream",
       "stream": "stdout",
       "text": [
        "i= 116 shift= 1.10410370123 error= 1.2610735544\n",
        "116\n",
        "SAM 33 water 4000 best start= i= 13 shift= 0.127702315101 error= 0.191571490376\n",
        "i= 14 shift= 0.0198907716755 error= 0.233806527973\n",
        "i= 15 shift= 0.125562443364 error= 0.221373280999\n",
        "i= 16 shift= 0.170594772149 error= 0.233203185364\n",
        "i= 22 shift= 0.182372851723 error= 0.189722437719\n",
        "i="
       ]
      },
      {
       "output_type": "stream",
       "stream": "stdout",
       "text": [
        " 55 shift= 0.549500543125 error= 0.610486367568\n",
        "i= 89 shift= 0.750795873819 error= 0.839606691276\n",
        "i= 90 shift= 0.70883441824 error= 0.763076247455\n",
        "i= 91 shift= 0.796907470681 error= 0.876424333452\n",
        "i= 92 shift= 0.918164253199 error= 0.968701619779\n",
        "i= 93 shift= 0.555517758623 error= 0.839138965414\n",
        "i= 94 shift= 0.533419456542 error= 0.881149708209\n",
        "i= 95 shift= 0.682004275991 error= 0.88176225594\n",
        "i= 96 shift= 0.77450206937 error= 0.934660572243\n",
        "i= 97 shift= 0.924191975737 error= 1.05896195246\n",
        "i= 98 shift= 0.899028269114 error= 1.06602588741\n",
        "i="
       ]
      },
      {
       "output_type": "stream",
       "stream": "stdout",
       "text": [
        " 99 shift= 0.877536673104 error= 1.09607864198\n",
        "i= 100 shift= 0.819062556041 error= 0.968828858107\n",
        "i= 105 shift= 0.520773503513 error= 0.664214797035\n",
        "i= 106 shift= 0.195215826489 error= 0.55009000548\n",
        "13\n",
        "SAM 33 water 5000 best start= i= 10 shift= 0.0381297950342 error= 0.145522142928\n",
        "i= 11 shift= 0.0289976052645 error= 0.119599974938\n",
        "i= 15 shift= 0.0329671735607 error= 0.157395202376\n",
        "i= 20 shift= 0.107419917553 error= 0.119537837967\n",
        "i= 26 shift= 0.156503905005 error= "
       ]
      },
      {
       "output_type": "stream",
       "stream": "stdout",
       "text": [
        "0.18492501754\n",
        "i= 27 shift= 0.165168013708 error= 0.228858089712\n",
        "i= 28 shift= 0.113618418289 error= 0.205142085367\n",
        "i= 29 shift= 0.106500657234 error= 0.181382047936\n",
        "i= 30 shift= 0.204364648857 error= 0.223411368576\n",
        "i= 33 shift= 0.262601610304 error= 0.321702790877\n",
        "i= 34 shift= 0.278780892485 error= 0.357400921168\n",
        "i= 35 shift= 0.229440949158 error= 0.374475892048\n",
        "i= 36 shift= 0.265364463218 error= 0.385605791754\n",
        "i= 37 shift= 0.283865883845 error= 0.410668687133\n",
        "i= 38 shift= 0.321443436156 error= 0.423678610859\n",
        "i= 39 shift= 0.267176943708 error= 0.462995981083\n",
        "i= 40 shift= 0.166963700806 error= 0.513392951084\n",
        "i= 41 shift= 0.213230760594 error= 0.512965156132\n",
        "i= 42 shift= 0.263979731199 error= 0.531683003731\n",
        "i= 43 shift= 0.367187938086 error= 0.637526753386\n",
        "i= 44 shift= 0.358773717271 error= 0.624837704563\n",
        "i= 45 shift= 0.473352777812 error= 0.795684475543\n",
        "i= 46 shift= 0.544540591217 error= 0.919440774105\n",
        "i= 47 shift= 0.584801404181 error= 0.915428625054\n",
        "i= 48 shift= 0.554127015542 error= 0.98306245894\n",
        "i= 49 shift= 0.313884116254 error= 0.960156601908\n",
        "i= 50 shift= 0.003667693319 error= 0.838510427247\n",
        "i= 51 shift= 0.134024738314 error= 0.844568538646\n",
        "i= 52 shift= 0.262137263209 error= 0.911777658633\n",
        "i= 53 shift= 0.237325023954 error= 0.866479352536\n",
        "i= 54 shift= 0.229959964338 error= 0.879038833524\n",
        "i= 55 shift= 0.248853847841 error= 0.904050986519\n",
        "i= 56 shift= 0.0765853168699 error= 0.885318502025\n",
        "i= 57 shift= 0.0620545354326 error="
       ]
      },
      {
       "output_type": "stream",
       "stream": "stdout",
       "text": [
        " 0.98916615939\n",
        "i= 58 shift= 0.175703548792 error= 1.07358311424\n",
        "i= 59 shift= 0.136155555414 error= 1.09265639866\n",
        "i= 60 shift= 0.260708976599 error= 1.15500625834\n",
        "i= 61 shift= 0.269483277608 error= 1.24334509836\n",
        "i= 62 shift= 0.170657435083 error= 1.19908926234\n",
        "i= 63 shift= 0.0924186709025 error= 1.20649917416\n",
        "i= 64 shift= 0.0801577317984 error= 1.23287461829\n",
        "i= 65 shift= 0.259299801673 error= 1.19451918916\n",
        "i= 66 shift= 0.344585760759 error= 1.11426468542\n",
        "i= 67 shift= 0.274419131754 error= 1.07459514418\n",
        "i= 68 shift= 0.25920450002 error= 1.06338435278\n",
        "i= 69 shift= 0.224722641764 error= 0.965629950216\n",
        "i= 70 shift= 0.502979994882 error= 0.931877403509\n",
        "i= 71 shift= 0.672662289567 error= 0.921199227333\n",
        "i= 72 shift= 0.771876709316 error= 0.979105680091\n",
        "i= 73 shift= 0.841728713971 error= 1.05830613954\n",
        "i="
       ]
      },
      {
       "output_type": "stream",
       "stream": "stdout",
       "text": [
        " 119 shift= 1.34926756856 error= 1.41047196245\n",
        "i= 122 shift= 0.496199052432 error= 0.846488035945\n",
        "i= 123 shift= 0.0783627226783 error= 0.487873496225\n",
        "10\n",
        "SAM 33 water 6500 best start= "
       ]
      },
      {
       "output_type": "stream",
       "stream": "stdout",
       "text": [
        "i= 49 shift= 0.878496748806 error= 0.892656700581\n",
        "i= 50 shift= 0.730865180231 error= 0.928221392225\n",
        "i= 51 shift= 0.719875368236 error= 0.949650678665\n",
        "i= 52 shift= 0.856939378691 error= 0.92567009419\n",
        "i="
       ]
      },
      {
       "output_type": "stream",
       "stream": "stdout",
       "text": [
        " 91 shift= 0.781646666194 error= 1.36676085316\n",
        "i= 92 shift= 0.732739533345 error= 1.64215739174\n",
        "i= 93 shift= 0.689597794089 error= 1.66279656188\n",
        "i= 94 shift= 0.593454905222 error= 1.68741711609\n",
        "i= 95 shift= 0.307767312976 error= 1.62318454396\n",
        "49\n",
        "SAM 33 water 7000 best start= None\n",
        "SAM 33 water 8000 best start= None\n",
        "SAM 33 water 9000 best start= None\n",
        "SAM 33 water 10000 "
       ]
      },
      {
       "output_type": "stream",
       "stream": "stdout",
       "text": [
        "best start= i= 16 shift= 1.05913533247 error= 1.08716433114\n",
        "i= 17 shift= 1.10621420911 error= 1.1988641747\n",
        "i= 18 shift= 1.0988779708 error= 1.31935498043\n",
        "i= 19 shift= 1.02622095854 error= 1.28893234646\n",
        "16\n"
       ]
      }
     ],
     "prompt_number": 39
    },
    {
     "cell_type": "code",
     "collapsed": false,
     "input": [
      "minblocksize=20 # The minimum block size is 10ns=20 points\n",
      "beg = 10 # We leave out the first 5ns=10 points\n",
      "\n",
      "b=0\n",
      "c=3000\n",
      "theta_WaterPeak2 = array(angles_WaterPeak[(b, c)])\n",
      "print \"SAM\", b, \"water\", c, \"best start=\", best_start(theta_WaterPeak2,t,beg,minblocksize)"
     ],
     "language": "python",
     "metadata": {},
     "outputs": [
      {
       "output_type": "stream",
       "stream": "stdout",
       "text": [
        "SAM 0 water 3000 best start= i= 11 shift= 0.0613835487242 error= 0.161198063826\n",
        "i= 12 shift= 0.0500724128583 error= 0.173820324757\n",
        "i= 13 shift= 0.133131170217 error= 0.187716427965\n",
        "i= 14 shift= 0.168000388162 error= 0.200818171773\n",
        "i= 30 shift= 0.05417219038 error= 0.119559270984\n",
        "i= 31 shift= 0.0337543839001 error= 0.188442021464\n",
        "i= 32 shift= 0.103037243842 error= 0.112613396611\n",
        "i= 33 shift= 0.143130020945 error= 0.209156574617\n",
        "i= 34 shift= 0.00726612077074 error= 0.279016865825\n",
        "i= 35 shift= 0.152700887234 error= 0.271440622758\n",
        "i= 36 shift= 0.278679497279 error= 0.355267943514\n",
        "i= 37 shift= 0.349998308522 error= 0.415077861565\n",
        "i= 38 shift= 0.295936807986 error= 0.361197109398\n",
        "i= 39 shift= 0.218735970732 error= 0.426750744189\n",
        "i= 40 shift= 0.129573412595 error= 0.454646781617\n",
        "i= 41 shift= 0.0457135904865 error= 0.488316678786\n",
        "i= 42 shift= 0.0122889674649 error= 0.526342908866\n",
        "i="
       ]
      },
      {
       "output_type": "stream",
       "stream": "stdout",
       "text": [
        " 43 shift= 0.0393943221405 error= 0.48706401952\n",
        "i= 44 shift= 0.0540353594412 error= 0.573000611083\n",
        "i= 45 shift= 0.0111435688831 error= 0.490415230254\n",
        "i= 46 shift= 0.109375559184 error= 0.423272926995\n",
        "i= 47 shift= 0.165771843402 error= 0.489075850981\n",
        "i= 48 shift= 0.261369279775 error= 0.394957682164\n",
        "11\n"
       ]
      }
     ],
     "prompt_number": 40
    },
    {
     "cell_type": "code",
     "collapsed": false,
     "input": [
      "endpoint\n",
      "\n",
      "for b in SAMs:\n",
      "#for b in SAMfragment:\n",
      "    for c in Waters:\n",
      "\n",
      "        theta_WaterPeak2 = array(angles_WaterPeak[(b, c)])\n",
      "        xxx=endpoint(theta_WaterPeak2)\n",
      "        #print \"SAM\", b, \"water\", c, \"last point=\", xxx, \"last ns=\", xxx/2.\n",
      "        print \"last point=\", xxx, \"last ns=\", xxx/2."
     ],
     "language": "python",
     "metadata": {},
     "outputs": [
      {
       "output_type": "stream",
       "stream": "stdout",
       "text": [
        "last point= 84 last ns= 42.0\n",
        "last point= 120 last ns= 60.0\n",
        "last point= 79 last ns= 39.5\n",
        "last point= 76 last ns= 38.0\n",
        "last point= 120 last ns= 60.0\n",
        "last point= 120 last ns= 60.0\n",
        "last point= 160 last ns= 80.0\n",
        "last point= 160 last ns= 80.0\n",
        "last point= 160 last ns= 80.0\n",
        "last point= 199 last ns= 99.5\n",
        "last point= 120 last ns= 60.0\n",
        "last point= 120 last ns= 60.0\n",
        "last point= 120 last ns= 60.0\n",
        "last point= 120 last ns= 60.0\n",
        "last point= 120 last ns= 60.0\n",
        "last point= 160 last ns= 80.0\n",
        "last point= 160 last ns= 80.0\n",
        "last point= 160 last ns= 80.0\n",
        "last point= 120 last ns= 60.0\n",
        "last point= 199 last ns= 99.5\n",
        "last point= 120 last ns= 60.0\n",
        "last point= 40 last ns= 20.0\n",
        "last point= 120 last ns= 60.0\n",
        "last point= 120 last ns= 60.0\n",
        "last point= 120 last ns= 60.0\n",
        "last point= 80 last ns= 40.0\n",
        "last point= 160 last ns= 80.0\n",
        "last point= 160 last ns= 80.0\n",
        "last point= 80 last ns= 40.0\n",
        "last point= 199 last ns= 99.5\n",
        "last point= 80 last ns= 40.0\n",
        "last point= 120 last ns= 60.0\n",
        "last point= 120 last ns= 60.0\n",
        "last point= 120 last ns= 60.0\n",
        "last point= 120 last ns= 60.0\n",
        "last point= 120 last ns= 60.0\n",
        "last point= 160 last ns= 80.0\n",
        "last point= 160 last ns= 80.0\n",
        "last point= 160 last ns= 80.0\n",
        "last point= 199 last ns= 99.5\n",
        "last point= 33 last ns= 16.5\n",
        "last point= 148 last ns= 74.0\n",
        "last point= 144 last ns= 72.0\n",
        "last point= 143 last ns= 71.5\n",
        "last point= 145 last ns= 72.5\n",
        "last point= 116 last ns= 58.0\n",
        "last point= 44 last ns= 22.0\n",
        "last point= 40 last ns= 20.0\n",
        "last point= 40 last ns= 20.0\n",
        "last point= 40 last ns= 20.0\n"
       ]
      }
     ],
     "prompt_number": 10
    },
    {
     "cell_type": "code",
     "collapsed": false,
     "input": [],
     "language": "python",
     "metadata": {},
     "outputs": []
    }
   ],
   "metadata": {}
  }
 ]
}