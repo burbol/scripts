{
 "metadata": {
  "name": "",
  "signature": "sha256:6c1c2f57d92d0033065ac261698ca4b5f7cd3a859bd80328ba5d98c1e38a3c40"
 },
 "nbformat": 3,
 "nbformat_minor": 0,
 "worksheets": [
  {
   "cells": [
    {
     "cell_type": "code",
     "collapsed": false,
     "input": [
      "# This script subtitutes angles and radii from a .txt file to another"
     ],
     "language": "python",
     "metadata": {},
     "outputs": [],
     "prompt_number": 1
    },
    {
     "cell_type": "code",
     "collapsed": false,
     "input": [
      "%pylab inline"
     ],
     "language": "python",
     "metadata": {},
     "outputs": [
      {
       "output_type": "stream",
       "stream": "stdout",
       "text": [
        "Populating the interactive namespace from numpy and matplotlib\n"
       ]
      }
     ],
     "prompt_number": 1
    },
    {
     "cell_type": "code",
     "collapsed": false,
     "input": [
      "import matplotlib \n",
      "import matplotlib.pyplot as plt\n",
      "import numpy as np\n",
      "import os"
     ],
     "language": "python",
     "metadata": {},
     "outputs": [],
     "prompt_number": 2
    },
    {
     "cell_type": "code",
     "collapsed": false,
     "input": [
      "# This function allows to use ranges, just as the built-in function range(), but with float arguments.\n",
      "# Taken from \"http://code.activestate.com/recipes/66472-frange-a-range-function-with-float-increments/\"\n",
      "def frange(start, end=None, inc=None):\n",
      "\tif end == None:\n",
      "\t\tend = start + 0.0\n",
      "\t\tstart = 0.0\n",
      "\n",
      "\tif inc == None:\n",
      "\t\tinc = 1.0\n",
      "\n",
      "\tL = []\n",
      "\twhile 1:\n",
      "\t\tnext = start + len(L) * inc\n",
      "\t\tif inc > 0 and next >= end:\n",
      "\t\t\tbreak\n",
      "\t\telif inc < 0 and next <= end:\n",
      "\t\t\tbreak\n",
      "\t\tL.append(next)\n",
      "\t\t\n",
      "\treturn L"
     ],
     "language": "python",
     "metadata": {},
     "outputs": [],
     "prompt_number": 3
    },
    {
     "cell_type": "code",
     "collapsed": false,
     "input": [
      "#FolderOldFile = '/Users/burbol2/Dropbox/Apps/Computable/Final_Results_CAngles' #file with \"old\" values\n",
      "#FolderOldFile = '/Volumes/UNI/SHELDON/files_for_laila/g_rad_densmaps_all/' #file with \"new\" values\n",
      "FolderOldFile = '/Volumes/UNI/SHELDON/CLOSEDsheldon/eixeres/files_for_laila/g_rad_densmaps_all/' #file with \"new\" values\n",
      "#FolderOldFile = '/Users/burbol2/Desktop'\n",
      "\n",
      "FolderNewFile = '/Volumes/UNI/SHELDON/files_for_laila/s0_w1000/' #file with \"new\" values\n",
      "#FolderNewFile = '/Volumes/UNI/SHELDON/files_for_laila/g_rad_densmaps_all/' #file with \"new\" values\n",
      "#FolderNewFile = '/Volumes/UNI/SHELDON/CLOSEDsheldon/eixeres/files_for_laila/g_rad_densmaps_next' #file with \"new\" values\n",
      "#FolderNewFile = '/Volumes/UNI/SHELDON/s11_w2000_dmap2'\n",
      "#FolderNewFile = '/Users/burbol2/Desktop'\n",
      "\n",
      "FolderOldWithNew = '/Users/burbol2/Desktop' #new file with all the values, old and new subtituted ones"
     ],
     "language": "python",
     "metadata": {},
     "outputs": [],
     "prompt_number": 55
    },
    {
     "cell_type": "code",
     "collapsed": false,
     "input": [
      "# Systems in the \"old\" file\n",
      "Waters=[1000, 2000, 3000, 4000, 5000, 6500, 7000, 8000, 9000, 10000]\n",
      "\n",
      "# Systems in the \"new\" file\n",
      "SAMsToInsert = [0]\n",
      "WatersToInsert = [1000]"
     ],
     "language": "python",
     "metadata": {},
     "outputs": [],
     "prompt_number": 56
    },
    {
     "cell_type": "code",
     "collapsed": false,
     "input": [
      "# We read and save the \"new\" file\n",
      "\n",
      "maxlength=100 #maximum length in ns\n",
      "\n",
      "os.chdir(FolderNewFile)\n",
      "\n",
      "anglesToInsert = {}\n",
      "radiiToInsert = {}\n",
      "for b in SAMsToInsert:\n",
      "    k = 0\n",
      "    for c in WatersToInsert:\n",
      "    #for c in Waters:\n",
      "        #theta, rbase = np.loadtxt('Contact_Angles2_WaterPeak_s'+str(b)+'_w'+str(c)+'.txt', skiprows=2, usecols = (0,1),unpack=True)\n",
      "        #theta, rbase = np.loadtxt('Contact_Angles2_MiddlePoint_s'+str(b)+'_w'+str(c)+'.txt', skiprows=2, usecols = (0,1),unpack=True)\n",
      "        #theta, rbase = np.loadtxt('Contact_Angles2_SAMPeak_s'+str(b)+'_w'+str(c)+'.txt', skiprows=2, usecols = (0,1),unpack=True)\n",
      "        #theta, rbase = np.loadtxt('Contact_Angles2_GDS_s'+str(b)+'_next.txt', skiprows=2, usecols = (0,1),unpack=True)\n",
      "        \n",
      "        theta, rbase = np.loadtxt('Contact_Angles2_GDS_s'+str(b)+'_w'+str(c)+'.txt', skiprows=2, usecols = (0,1),unpack=True)\n",
      "        print \"SAM=\", b, \"Waters=\",c, \"length=\",len(theta), len(rbase)\n",
      "        z = b, c\n",
      "        th = [0] *(2*maxlength)\n",
      "        r = [0] *(2*maxlength)\n",
      "        i=k*(2*maxlength)\n",
      "        j=(k+1)*(2*maxlength)\n",
      "        #print \"z=\", z, \"i=\", i, \"j=\", j\n",
      "        m = 0\n",
      "        for l in range(i,j):\n",
      "            th[m]=theta[l]\n",
      "            r[m]=rbase[l]\n",
      "            m = m +1\n",
      "        anglesToInsert[z] = th\n",
      "        radiiToInsert[z] = r\n",
      "        k=k+1\n",
      "   \n",
      "j=SAMsToInsert[0]\n",
      "k=WatersToInsert[0]\n",
      "#We print some values as an exmaple:\n",
      "print len(anglesToInsert[(j,k)]), len(radiiToInsert[(j,k)])\n",
      "print type(anglesToInsert[(j,k)]), type(radiiToInsert[(j,k)])\n",
      "print anglesToInsert[(j,k)]\n",
      "print anglesToInsert[(j,k)][40]\n",
      "print radiiToInsert[(j,k)][50]"
     ],
     "language": "python",
     "metadata": {},
     "outputs": [
      {
       "output_type": "stream",
       "stream": "stdout",
       "text": [
        "SAM= 0 Waters= 1000 length= 200 200\n",
        "200 200\n",
        "<type 'list'> <type 'list'>\n",
        "[nan, nan, nan, nan, nan, nan, nan, nan, nan, nan, nan, nan, nan, nan, nan, nan, nan, nan, nan, nan, nan, nan, nan, nan, nan, nan, nan, nan, nan, nan, nan, nan, nan, nan, nan, nan, nan, nan, nan, nan, 149.101282217, 138.39612662900001, 136.46071986199999, 136.66357125299999, 137.23876284900001, 136.73903278399999, 137.51659110700001, 138.374730642, 138.00966907099999, 136.969673572, 136.01422519400001, 135.567406565, 137.62943940900001, 136.24107607799999, 136.06113807099999, 136.96417323399999, 138.715309185, 137.112972568, 132.37901370200001, 135.68239254599999, 137.91310237600001, 138.36949529500001, 134.300521672, 135.65015401299999, 138.20274608899999, 137.75337311000001, 137.34110339200001, 137.58991758400001, 138.281617326, 138.49728721599999, 134.72451636100001, 136.96403989500001, 139.27735546, 137.38808221100001, 133.87875883199999, 136.31061575699999, 136.206166693, 137.31006772200001, 137.88345376000001, 137.31563226, 136.59941052900001, 135.959056221, 135.49262517400001, 135.51444286700001, 135.806887639, 138.665257346, 136.35937755200001, 140.589028848, 137.82977036099999, 136.94216612599999, 139.28549611700001, 135.145477906, 140.17349075800001, 136.87238013199999, 136.11080277799999, 136.50931302999999, 138.38132569199999, 140.95922884199999, 136.24728364699999, 135.925144152, 135.67780332800001, 138.036350535, 138.42132132500001, 135.75269141499999, 135.87549938500001, 139.85034420599999, 140.85036756400001, 138.16271031700001, 137.85662952300001, 136.235689071, 136.49772285099999, 136.61054983700001, 135.88050468099999, 136.299354244, 139.68084160800001, 137.018596922, 135.939674255, 136.95735461300001, 135.027019, 136.16077153699999, 132.37664710799999, 136.73481061300001, 139.16482552900001, 136.77428657199999, 137.263067449, 138.09893335300001, 136.08927692899999, 135.32863965799999, 139.59970756300001, 138.310304965, 135.73127115200001, 135.592770782, 137.33522048500001, 135.87972933399999, 136.199813691, 134.48223921100001, 136.264953287, 136.30659493900001, 136.13426847900001, 136.50716545200001, 138.454236925, 137.71932315000001, 133.97169809299999, 133.54682722999999, 134.246750346, 138.30575463299999, 137.02966890499999, 135.788251366, 137.510012004, 134.884091224, 136.88711876100001, 134.96788513999999, 133.92438705199999, 135.857185749, 138.179564355, 138.39892277600001, 139.09828872400001, 133.82534727999999, 134.47165313400001, 137.553966414, nan, nan, nan, nan, nan, nan, nan, nan, nan, nan, nan, nan, nan, nan, nan, nan, nan, nan, nan, nan, nan, nan, nan, nan, nan, nan, nan, nan, nan, nan, nan, nan, nan, nan, nan, nan, nan, nan, nan, nan]\n",
        "149.101282217\n",
        "1.37401948524\n"
       ]
      }
     ],
     "prompt_number": 57
    },
    {
     "cell_type": "code",
     "collapsed": false,
     "input": [
      "# Testing vector lengths\n",
      "j=SAMsToInsert[0]\n",
      "k=WatersToInsert[0]\n",
      "print len(anglesToInsert[(j,k)][40:]), len(radiiToInsert[(j,k)][40:])\n",
      "print anglesToInsert[(j,k)][41], anglesToInsert[(j,k)][79], anglesToInsert[(j,k)][41:][-1]\n",
      "print anglesToInsert[(j,k)][39:161], len( anglesToInsert[(j,k)][0:81])"
     ],
     "language": "python",
     "metadata": {},
     "outputs": [
      {
       "output_type": "stream",
       "stream": "stdout",
       "text": [
        "160 160\n",
        "138.396126629 137.31563226 nan\n",
        "[nan, 149.101282217, 138.39612662900001, 136.46071986199999, 136.66357125299999, 137.23876284900001, 136.73903278399999, 137.51659110700001, 138.374730642, 138.00966907099999, 136.969673572, 136.01422519400001, 135.567406565, 137.62943940900001, 136.24107607799999, 136.06113807099999, 136.96417323399999, 138.715309185, 137.112972568, 132.37901370200001, 135.68239254599999, 137.91310237600001, 138.36949529500001, 134.300521672, 135.65015401299999, 138.20274608899999, 137.75337311000001, 137.34110339200001, 137.58991758400001, 138.281617326, 138.49728721599999, 134.72451636100001, 136.96403989500001, 139.27735546, 137.38808221100001, 133.87875883199999, 136.31061575699999, 136.206166693, 137.31006772200001, 137.88345376000001, 137.31563226, 136.59941052900001, 135.959056221, 135.49262517400001, 135.51444286700001, 135.806887639, 138.665257346, 136.35937755200001, 140.589028848, 137.82977036099999, 136.94216612599999, 139.28549611700001, 135.145477906, 140.17349075800001, 136.87238013199999, 136.11080277799999, 136.50931302999999, 138.38132569199999, 140.95922884199999, 136.24728364699999, 135.925144152, 135.67780332800001, 138.036350535, 138.42132132500001, 135.75269141499999, 135.87549938500001, 139.85034420599999, 140.85036756400001, 138.16271031700001, 137.85662952300001, 136.235689071, 136.49772285099999, 136.61054983700001, 135.88050468099999, 136.299354244, 139.68084160800001, 137.018596922, 135.939674255, 136.95735461300001, 135.027019, 136.16077153699999, 132.37664710799999, 136.73481061300001, 139.16482552900001, 136.77428657199999, 137.263067449, 138.09893335300001, 136.08927692899999, 135.32863965799999, 139.59970756300001, 138.310304965, 135.73127115200001, 135.592770782, 137.33522048500001, 135.87972933399999, 136.199813691, 134.48223921100001, 136.264953287, 136.30659493900001, 136.13426847900001, 136.50716545200001, 138.454236925, 137.71932315000001, 133.97169809299999, 133.54682722999999, 134.246750346, 138.30575463299999, 137.02966890499999, 135.788251366, 137.510012004, 134.884091224, 136.88711876100001, 134.96788513999999, 133.92438705199999, 135.857185749, 138.179564355, 138.39892277600001, 139.09828872400001, 133.82534727999999, 134.47165313400001, 137.553966414, nan] 81\n"
       ]
      }
     ],
     "prompt_number": 61
    },
    {
     "cell_type": "code",
     "collapsed": false,
     "input": [
      "# RUN ONLY ONCE!!\n",
      "# We want to \"throw away\" the first 40 values and the last 85 values\n",
      "# of the \"new\" file and then subtitute the remaining \n",
      "# values in the place the old ones\n",
      "'''\n",
      "start2keep=40\n",
      "end2keep=160\n",
      "values2delete=200-(end2keep-start2keep)\n",
      "j=SAMsToInsert[0]\n",
      "k=WatersToInsert[0]\n",
      "\n",
      "anglesToInsert[(j,k)] = anglesToInsert[(j,k)][start2keep:end2keep]\n",
      "radiiToInsert[(j,k)] = radiiToInsert[(j,k)][start2keep:end2keep]\n",
      "\n",
      "# We add 'nan' values because anglesToInsert and radiiToInsert are now shorter\n",
      "NanValues=np.zeros(values2delete)\n",
      "for i in range(len(NanValues)):\n",
      "    NanValues[i]='nan'\n",
      "NanValues=list(NanValues)\n",
      "    \n",
      "anglesToInsert[(j,k)] = anglesToInsert[(j,k)]+NanValues\n",
      "radiiToInsert[(j,k)] = radiiToInsert[(j,k)]+NanValues\n",
      "\n",
      "print anglesToInsert[(j,k)]\n",
      "print radiiToInsert[(j,k)]\n",
      "'''"
     ],
     "language": "python",
     "metadata": {},
     "outputs": [
      {
       "output_type": "stream",
       "stream": "stdout",
       "text": [
        "[149.101282217, 138.39612662900001, 136.46071986199999, 136.66357125299999, 137.23876284900001, 136.73903278399999, 137.51659110700001, 138.374730642, 138.00966907099999, 136.969673572, 136.01422519400001, 135.567406565, 137.62943940900001, 136.24107607799999, 136.06113807099999, 136.96417323399999, 138.715309185, 137.112972568, 132.37901370200001, 135.68239254599999, 137.91310237600001, 138.36949529500001, 134.300521672, 135.65015401299999, 138.20274608899999, 137.75337311000001, 137.34110339200001, 137.58991758400001, 138.281617326, 138.49728721599999, 134.72451636100001, 136.96403989500001, 139.27735546, 137.38808221100001, 133.87875883199999, 136.31061575699999, 136.206166693, 137.31006772200001, 137.88345376000001, 137.31563226, 136.59941052900001, 135.959056221, 135.49262517400001, 135.51444286700001, 135.806887639, 138.665257346, 136.35937755200001, 140.589028848, 137.82977036099999, 136.94216612599999, 139.28549611700001, 135.145477906, 140.17349075800001, 136.87238013199999, 136.11080277799999, 136.50931302999999, 138.38132569199999, 140.95922884199999, 136.24728364699999, 135.925144152, 135.67780332800001, 138.036350535, 138.42132132500001, 135.75269141499999, 135.87549938500001, 139.85034420599999, 140.85036756400001, 138.16271031700001, 137.85662952300001, 136.235689071, 136.49772285099999, 136.61054983700001, 135.88050468099999, 136.299354244, 139.68084160800001, 137.018596922, 135.939674255, 136.95735461300001, 135.027019, 136.16077153699999, 132.37664710799999, 136.73481061300001, 139.16482552900001, 136.77428657199999, 137.263067449, 138.09893335300001, 136.08927692899999, 135.32863965799999, 139.59970756300001, 138.310304965, 135.73127115200001, 135.592770782, 137.33522048500001, 135.87972933399999, 136.199813691, 134.48223921100001, 136.264953287, 136.30659493900001, 136.13426847900001, 136.50716545200001, 138.454236925, 137.71932315000001, 133.97169809299999, 133.54682722999999, 134.246750346, 138.30575463299999, 137.02966890499999, 135.788251366, 137.510012004, 134.884091224, 136.88711876100001, 134.96788513999999, 133.92438705199999, 135.857185749, 138.179564355, 138.39892277600001, 139.09828872400001, 133.82534727999999, 134.47165313400001, 137.553966414, nan, nan, nan, nan, nan, nan, nan, nan, nan, nan, nan, nan, nan, nan, nan, nan, nan, nan, nan, nan, nan, nan, nan, nan, nan, nan, nan, nan, nan, nan, nan, nan, nan, nan, nan, nan, nan, nan, nan, nan, nan, nan, nan, nan, nan, nan, nan, nan, nan, nan, nan, nan, nan, nan, nan, nan, nan, nan, nan, nan, nan, nan, nan, nan, nan, nan, nan, nan, nan, nan, nan, nan, nan, nan, nan, nan, nan, nan, nan, nan]\n",
        "[0.99930506613299996, 1.3048692872500001, 1.36343190666, 1.3561008638200001, 1.34324169394, 1.3507592879799999, 1.3362348822500001, 1.3093549055, 1.32258308008, 1.35200613913, 1.3740194852400001, 1.38804729729, 1.3321388706399999, 1.3746293054000001, 1.3744283001399999, 1.3522086980600001, 1.2994388696600001, 1.3486224919100001, 1.47236255037, 1.3823568035, 1.3221456539700001, 1.3110595273500001, 1.42314581471, 1.3813513446600001, 1.3175302374, 1.32955254359, 1.33872672389, 1.33036623372, 1.3125235722399999, 1.3052566303199999, 1.4071926002299999, 1.34796232096, 1.28119555415, 1.33799776947, 1.43510556261, 1.36811759271, 1.36633571017, 1.3364435031699999, 1.32415282945, 1.3378226236199999, 1.3548899111199999, 1.3766885213, 1.3903350400600001, 1.3911989559, 1.3824503648499999, 1.3040450853200001, 1.36811405049, 1.24996442894, 1.32725142956, 1.3488210635, 1.2812781012500001, 1.3999754735900001, 1.26264956968, 1.3532898254300001, 1.37280078326, 1.36109023487, 1.30962201474, 1.2374485853399999, 1.3694652372, 1.37636389882, 1.38692050318, 1.3179458481999999, 1.3085894061900001, 1.3819840168199999, 1.38170540003, 1.26894777717, 1.23903781904, 1.3170232663100001, 1.3249904374199999, 1.3714634583500001, 1.36253597645, 1.35832564081, 1.38285545681, 1.3671497744600001, 1.27580081542, 1.3506912366099999, 1.38267348027, 1.34947267881, 1.40740791946, 1.37343497905, 1.4734027806600001, 1.3568129495100001, 1.2860359776900001, 1.35558897107, 1.34039051045, 1.32020137894, 1.37696598732, 1.3921863468, 1.2768635954300001, 1.3128626891499999, 1.3836339816900001, 1.3890516607200001, 1.33873908186, 1.3812857429900001, 1.36841470509, 1.4171616651300001, 1.3703597483900001, 1.3692417911799999, 1.37206969296, 1.3617101113500001, 1.3096585724100001, 1.3275572395699999, 1.4331845869199999, 1.4452190872799999, 1.41656852796, 1.3118488366200001, 1.34491580412, 1.38091156376, 1.3345670727400001, 1.4088528526799999, 1.34986474078, 1.40521088206, 1.4333222945999999, 1.3785820523700001, 1.3163385503, 1.3084139615899999, 1.2911725274200001, 1.4322172554299999, 1.41722476669, 1.3365172726900001, nan, nan, nan, nan, nan, nan, nan, nan, nan, nan, nan, nan, nan, nan, nan, nan, nan, nan, nan, nan, nan, nan, nan, nan, nan, nan, nan, nan, nan, nan, nan, nan, nan, nan, nan, nan, nan, nan, nan, nan, nan, nan, nan, nan, nan, nan, nan, nan, nan, nan, nan, nan, nan, nan, nan, nan, nan, nan, nan, nan, nan, nan, nan, nan, nan, nan, nan, nan, nan, nan, nan, nan, nan, nan, nan, nan, nan, nan, nan, nan]\n"
       ]
      }
     ],
     "prompt_number": 62
    },
    {
     "cell_type": "code",
     "collapsed": false,
     "input": [
      "print len(anglesToInsert[(j,k)])"
     ],
     "language": "python",
     "metadata": {},
     "outputs": [
      {
       "output_type": "stream",
       "stream": "stdout",
       "text": [
        "200\n"
       ]
      }
     ],
     "prompt_number": 64
    },
    {
     "cell_type": "code",
     "collapsed": false,
     "input": [
      "# RUN ONLY ONCE!!\n",
      "# We want to \"throw away\" the first 40 values of the \"new\" file and then subtitute the remaining \n",
      "# values in the place the old ones\n",
      "'''\n",
      "values2delete=40\n",
      "j=SAMsToInsert[0]\n",
      "k=WatersToInsert[0]\n",
      "\n",
      "anglesToInsert[(j,k)] = anglesToInsert[(j,k)][values2delete:]\n",
      "radiiToInsert[(j,k)] = radiiToInsert[(j,k)][values2delete:]\n",
      "#print anglesToInsert\n",
      "print type(anglesToInsert[(j,k)]), type(radiiToInsert[(j,k)])\n",
      "\n",
      "# We add 'nan' values because anglesToInsert and radiiToInsert are now shorter\n",
      "NanValues=np.zeros(values2delete)\n",
      "for i in range(len(NanValues)):\n",
      "    NanValues[i]='nan'\n",
      "NanValues=list(NanValues)\n",
      "    \n",
      "anglesToInsert[(j,k)] = anglesToInsert[(j,k)]+NanValues\n",
      "radiiToInsert[(j,k)] = radiiToInsert[(j,k)]+NanValues\n",
      "'''"
     ],
     "language": "python",
     "metadata": {},
     "outputs": [
      {
       "metadata": {},
       "output_type": "pyout",
       "prompt_number": 55,
       "text": [
        "\"\\nvalues2delete=40\\nj=SAMsToInsert[0]\\nk=WatersToInsert[0]\\n\\nanglesToInsert[(j,k)] = anglesToInsert[(j,k)][values2delete:]\\nradiiToInsert[(j,k)] = radiiToInsert[(j,k)][values2delete:]\\n#print anglesToInsert\\nprint type(anglesToInsert[(j,k)]), type(radiiToInsert[(j,k)])\\n\\n# We add 'nan' values because anglesToInsert and radiiToInsert are now shorter\\nNanValues=np.zeros(values2delete)\\nfor i in range(len(NanValues)):\\n    NanValues[i]='nan'\\nNanValues=list(NanValues)\\n    \\nanglesToInsert[(j,k)] = anglesToInsert[(j,k)]+NanValues\\nradiiToInsert[(j,k)] = radiiToInsert[(j,k)]+NanValues\\n\""
       ]
      }
     ],
     "prompt_number": 55
    },
    {
     "cell_type": "code",
     "collapsed": false,
     "input": [
      "# We read and save the \"old\" file\n",
      "\n",
      "maxlength=100 #maximum length in ns\n",
      "\n",
      "os.chdir(FolderOldFile)\n",
      "\n",
      "angles = {}\n",
      "radii = {}\n",
      "#for b in [17]:\n",
      "for b in SAMsToInsert:\n",
      "    #theta, rbase = np.loadtxt('Contact_Angles2_WaterPeak_s'+str(b)+'.txt', skiprows=2, usecols = (0,1),unpack=True)\n",
      "    #theta, rbase = np.loadtxt('Contact_Angles2_MiddlePoint_s'+str(b)+'.txt', skiprows=2, usecols = (0,1),unpack=True)\n",
      "    #theta, rbase = np.loadtxt('Contact_Angles2_SAMPeak_s'+str(b)+'.txt', skiprows=2, usecols = (0,1),unpack=True)\n",
      "    theta, rbase = np.loadtxt('Contact_Angles2_GDS_s'+str(b)+'.txt', skiprows=2, usecols = (0,1),unpack=True)\n",
      "    print \"SAM=\", b, len(theta), len(rbase)\n",
      "    k = 0\n",
      "    for c in Waters:\n",
      "        z = b, c\n",
      "        th = [0] *(2*maxlength)\n",
      "        r = [0] *(2*maxlength)\n",
      "        i=k*(2*maxlength)\n",
      "        j=(k+1)*(2*maxlength)\n",
      "        #print \"z=\", z, \"i=\", i, \"j=\", j\n",
      "        m = 0\n",
      "        for l in range(i,j):\n",
      "            th[m]=theta[l]\n",
      "            r[m]=rbase[l]\n",
      "            m = m +1\n",
      "        angles[z] = th\n",
      "        radii[z] = r\n",
      "        k=k+1\n",
      "\n",
      "j=SAMsToInsert[0]\n",
      "k=WatersToInsert[0]\n",
      "#We print some values as an exmaple:\n",
      "print angles[(j,k)][0]\n",
      "print radii[(j,k)][0]"
     ],
     "language": "python",
     "metadata": {},
     "outputs": [
      {
       "output_type": "stream",
       "stream": "stdout",
       "text": [
        "SAM= 0 2000 2000\n",
        "149.101282285\n",
        "0.999305064016\n"
       ]
      }
     ],
     "prompt_number": 65
    },
    {
     "cell_type": "code",
     "collapsed": false,
     "input": [
      "j=SAMsToInsert[0]\n",
      "k=WatersToInsert[0]        \n",
      "print angles[(j,k)]"
     ],
     "language": "python",
     "metadata": {},
     "outputs": [
      {
       "output_type": "stream",
       "stream": "stdout",
       "text": [
        "[149.101282285, 138.39612661300001, 136.460719888, 136.663571244, 137.238763025, 136.739032769, 137.516591076, 138.37473066499999, 138.009669084, 136.96967355500001, 136.01422520200001, 135.56740659600001, 137.629439416, 136.24107605399999, 136.06113806100001, 136.96417324699999, 138.715309179, 137.11297253699999, 132.37901367500001, 135.68239250600001, 137.91310242399999, 138.36949535100001, 134.30052168899999, 135.65015398099999, 138.202746064, 137.75337310099999, 137.341103395, 137.589917566, 138.281617283, 138.497287145, 134.72451636599999, 136.96403993999999, 139.27735547399999, 137.388082172, 133.87875882599999, 136.31061583900001, 136.20616667300001, 137.31006770799999, 137.88345383399999, 137.31563228600001, 136.599410715, 135.95905619000001, 135.492625194, 135.51444286099999, 135.80688769899999, 138.665257341, 136.359377569, 140.58902867399999, 137.82977034699999, 136.94216618300001, 139.28549609699999, 135.14547791499999, 140.17349059, 136.87238012099999, 136.110802772, 136.509313013, 138.38132565999999, 140.95922873000001, 136.24728361999999, 135.92514414499999, 135.67780331599999, 138.036350516, 138.421321299, 135.752691384, 135.87549937899999, 139.85034415999999, 140.85036755300001, 138.16271029200001, 137.85662950299999, 136.23568903500001, 136.49772287100001, 136.61054985499999, 135.880504683, 136.29935424300001, 139.680841216, 137.01859692100001, 135.93967422700001, 136.95735460500001, 135.02701897899999, 136.16077150999999, 137.48728811000001, 139.28850171100001, 138.16870656, 135.09501198500001, nan, nan, nan, nan, nan, nan, nan, nan, nan, nan, nan, nan, nan, nan, nan, nan, nan, nan, nan, nan, nan, nan, nan, nan, nan, nan, nan, nan, nan, nan, nan, nan, nan, nan, nan, nan, nan, nan, nan, nan, nan, nan, nan, nan, nan, nan, nan, nan, nan, nan, nan, nan, nan, nan, nan, nan, nan, nan, nan, nan, nan, nan, nan, nan, nan, nan, nan, nan, nan, nan, nan, nan, nan, nan, nan, nan, nan, nan, nan, nan, nan, nan, nan, nan, nan, nan, nan, nan, nan, nan, nan, nan, nan, nan, nan, nan, nan, nan, nan, nan, nan, nan, nan, nan, nan, nan, nan, nan, nan, nan, nan, nan, nan, nan, nan, nan]\n"
       ]
      }
     ],
     "prompt_number": 66
    },
    {
     "cell_type": "code",
     "collapsed": false,
     "input": [
      "# We subtitute the \"new\" values with the \"old\" ones (from new file to old file)\n",
      "for b in SAMsToInsert:\n",
      "    k = 0\n",
      "    for c in WatersToInsert:\n",
      "        z = b, c\n",
      "        angles[z] = anglesToInsert[z]\n",
      "        radii[z] = radiiToInsert[z]\n",
      "        \n",
      "j=SAMsToInsert[0]\n",
      "k=WatersToInsert[0]        \n",
      "print angles[(j,k)][0]\n",
      "print radii[(j,k)][0]"
     ],
     "language": "python",
     "metadata": {},
     "outputs": [
      {
       "output_type": "stream",
       "stream": "stdout",
       "text": [
        "149.101282217\n",
        "0.999305066133\n"
       ]
      }
     ],
     "prompt_number": 67
    },
    {
     "cell_type": "code",
     "collapsed": false,
     "input": [
      "# Plot for testing results\n",
      "\n",
      "b=SAMsToInsert[0]\n",
      "c=WatersToInsert[0]\n",
      "\n",
      "# We create an array named \"t\" with the time values. We use the length of the longest simulation.\n",
      "\n",
      "maxlength=100 #maximum length in ns\n",
      "t = np.zeros(2*maxlength)\n",
      "i=0\n",
      "for d in frange(0, maxlength, 0.5):\n",
      "    t[i] = d\n",
      "    i = i + 1\n",
      "##############################################################################\n",
      "\n",
      "# This function allows to use ranges, just as the built-in function range(), but with float arguments.\n",
      "# Taken from \"http://code.activestate.com/recipes/66472-frange-a-range-function-with-float-increments/\"\n",
      "def frange(start, end=None, inc=None):\n",
      "    if end == None:\n",
      "        end = start + 0.0\n",
      "        start = 0.0\n",
      "\n",
      "    if inc == None:\n",
      "        inc = 1.0\n",
      "\n",
      "    L = []\n",
      "    while 1:\n",
      "        next = start + len(L) * inc\n",
      "        if inc > 0 and next >= end:\n",
      "            break\n",
      "        elif inc < 0 and next <= end:\n",
      "            break\n",
      "        L.append(next)\n",
      "    return L\n",
      "##############################################################################\n",
      "print len(theta), len(t)\n",
      "\n",
      "\n",
      "theta = array(angles[(b, c)])\n",
      "rbase = array(radii[(b, c)])\n",
      "nametheta = \"thetas%sw%s.png\" % (b,c)\n",
      "namebaserad = \"rads%sw%s.png\" % (b,c)\n",
      "\n",
      "start=9\n",
      "end=119\n",
      "theta_avr = np.mean(theta[start:end])*np.ones(end - start)\n",
      "rbase_avr = np.mean(rbase[start:end])*np.ones(end - start)\n",
      "t_avr = t[start:end]\n",
      "\n",
      "\n",
      "#PLOT FOR CONTACT ANGLE OF SAM 0% & 1000 WATER MOLECULES. (Also saved to file)\n",
      "#plt.plot(t,theta,'ro')\n",
      "plt.plot(t,theta)\n",
      "plt.plot(t_avr, theta_avr, linewidth=2.5,)\n",
      "plt.xlabel('time [ns]')\n",
      "plt.ylabel(r'$\\theta$ [deg]')\n",
      "plt.suptitle(r'Contact Angle $\\theta$ vs. Time', fontsize=14, fontweight='bold')\n",
      "#plt.title(r'Contact Angle $\\theta$ vs. Time')\n",
      "plt.text(31, 150, 'SAM '+str(b)+'%, Water '+str(c)+' molec.',style='italic',\n",
      "        bbox={'facecolor':'red', 'alpha':0.5, 'pad':10})\n",
      "plt.grid(True)\n",
      "#plt.axis([0, 60, 85, 150])\n",
      "#pylab.savefig(nametheta)\n",
      "plt.show()\n",
      "\n",
      "#PLOT FOR BASE RADIUS OF SAM 0% & 1000 WATER MOLECULES.(Also saved to file)\n",
      "#plt.plot(t,rbase,'ro')\n",
      "plt.plot(t,rbase)\n",
      "plt.plot(t_avr, rbase_avr, linewidth=2.5,)\n",
      "plt.xlabel('time [ns]')\n",
      "plt.ylabel(r'R$\\ _{BASE} $ [nm]')\n",
      "plt.suptitle(r'Base Radius R$\\ _{BASE}$ vs. Time', fontsize=14, fontweight='bold')\n",
      "#plt.title(r'Contact Angle $\\theta$ vs. Time')\n",
      "plt.text(31, 1.0, 'SAM '+str(b)+'%, Water '+str(c)+' molec.',style='italic', bbox={'facecolor':'red', 'alpha':0.5, 'pad':10})\n",
      "plt.grid(True)\n",
      "#plt.axis([0, 60, 0, 2])\n",
      "#pylab.savefig(namebaserad)\n",
      "plt.show()"
     ],
     "language": "python",
     "metadata": {},
     "outputs": [
      {
       "output_type": "stream",
       "stream": "stdout",
       "text": [
        "2000 200\n"
       ]
      },
      {
       "metadata": {},
       "output_type": "display_data",
       "png": "[encoded data removed]",
       "text": [
        "<matplotlib.figure.Figure at 0x10e069c90>"
       ]
      },
      {
       "metadata": {},
       "output_type": "display_data",
       "png": "[encoded data removed]",
       "text": [
        "<matplotlib.figure.Figure at 0x10e03a910>"
       ]
      }
     ],
     "prompt_number": 68
    },
    {
     "cell_type": "code",
     "collapsed": false,
     "input": [
      "# And now we write all the values (old and new subtituted ones) to the \"old\" files\n",
      "\n",
      "os.chdir(FolderOldWithNew)\n",
      "\n",
      "start_time=0\n",
      "end_time=100\n",
      "\n",
      "for b in SAMsToInsert:\n",
      "#for b in [0]:\n",
      "    \n",
      "    #txtoutput='Contact_Angles_WaterPeak_s'+str(b)+'.txt'\n",
      "    #txtoutput2='Contact_Angles2_WaterPeak_s'+str(b)+'.txt'\n",
      "    #txtoutput='Contact_Angles_MiddlePoint_s'+str(b)+'.txt'\n",
      "    #txtoutput2='Contact_Angles2_MiddlePoint_s'+str(b)+'.txt'\n",
      "    #txtoutput='Contact_Angles_SAMPeak_s'+str(b)+'.txt'\n",
      "    #txtoutput2='Contact_Angles2_SAMPeak_s'+str(b)+'.txt'\n",
      "    txtoutput='Contact_Angles_GDS_s'+str(b)+'.txt'\n",
      "    txtoutput2='Contact_Angles2_GDS_s'+str(b)+'.txt'\n",
      "\n",
      "    with open(txtoutput, 'w') as myfile, open(txtoutput2, 'w') as myfile2:\n",
      "\n",
      "        # We write the first line of the output file: the titles of the 3 columns of data\n",
      "        print >> myfile, '{0}  {1}\t{2}'.format('File', 'Contact Angle', 'Base Radius')\n",
      "        print >> myfile2, '{0}\t{1}'.format('Contact Angle', 'Base Radius')\n",
      "\n",
      "        for c in Waters:\n",
      "    \n",
      "            print >> myfile, '             '\n",
      "            print >> myfile2, '{0}\t{1} {2}'.format('#File:', b, c)\n",
      "            \n",
      "            \n",
      "            theta2 = array(angles[(b, c)])\n",
      "            rbase2 = array(radii[(b, c)])\n",
      "            \n",
      "            k=0\n",
      "            for d in frange(start_time, end_time, 0.5):\n",
      "            # The results are printed to the opened file.\n",
      "                l = d + 0.5\n",
      "                l = str(l)\n",
      "                d = str(d)\n",
      "                filename = 'g_rad_dmap_%dpc_w%d_%sns_%sns.xvg'%(b,c,d,l, )\n",
      "                print >> myfile, '{0}  {1}\t{2}'.format(filename, theta2[k], rbase2[k])\n",
      "                print >> myfile2, '{0}\t{1}'.format(theta2[k], rbase2[k])\n",
      "                \n",
      "                #print '{0}\t{1}'.format(theta2[k], rbase2[k])\n",
      "                \n",
      "                k=k+1"
     ],
     "language": "python",
     "metadata": {},
     "outputs": [],
     "prompt_number": 69
    },
    {
     "cell_type": "code",
     "collapsed": false,
     "input": [],
     "language": "python",
     "metadata": {},
     "outputs": []
    }
   ],
   "metadata": {}
  }
 ]
}