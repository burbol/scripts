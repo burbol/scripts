{
 "metadata": {
  "name": "",
  "signature": "sha256:6eb0d7b9dccfd7cab921f94e18bf777a024458cb9e9a9b13083dfab3f357ddb6"
 },
 "nbformat": 3,
 "nbformat_minor": 0,
 "worksheets": [
  {
   "cells": [
    {
     "cell_type": "code",
     "collapsed": false,
     "input": [
      "%pylab inline"
     ],
     "language": "python",
     "metadata": {},
     "outputs": [
      {
       "output_type": "stream",
       "stream": "stdout",
       "text": [
        "Populating the interactive namespace from numpy and matplotlib\n",
        "\n"
       ]
      }
     ],
     "prompt_number": 12
    },
    {
     "cell_type": "code",
     "collapsed": false,
     "input": [
      "import matplotlib \n",
      "import matplotlib.pyplot as plt\n",
      "import numpy as np\n",
      "from scipy.optimize import curve_fit\n",
      "from scipy import stats"
     ],
     "language": "python",
     "metadata": {},
     "outputs": [],
     "prompt_number": 13
    },
    {
     "cell_type": "code",
     "collapsed": false,
     "input": [
      "%cd /Users/burbol/Dropbox/Apps/Computable/Final_Results_CAngles\n",
      "#%cd /home/eixeres/Dropbox/Apps/Computable/Final_Results_CAngles"
     ],
     "language": "python",
     "metadata": {},
     "outputs": [
      {
       "output_type": "stream",
       "stream": "stdout",
       "text": [
        "/Users/burbol/Dropbox/Apps/Computable/Final_Results_CAngles\n"
       ]
      }
     ],
     "prompt_number": 14
    },
    {
     "cell_type": "code",
     "collapsed": false,
     "input": [
      "percentages = [0, 5, 11, 17, 33,50, 66]\n",
      "Waters=[1000, 2000, 3000, 4000, 5000, 6500, 7000, 8000, 9000, 10000]\n",
      "\n",
      "mac_theta_WaterPeak = np.zeros(len(percentages))\n",
      "sigma_WaterPeak = np.zeros(len(percentages))\n",
      "\n",
      "# In the following dictionaries we will save the raw input data\n",
      "angles_WaterPeak = {}\n",
      "radii_WaterPeak = {}\n",
      "\n",
      "# In the following dictionaries we will save the results for the cos(theta) and 1/r_base, and their errorbars. \n",
      "# We will call them the \"results-dictionaries\"\n",
      "theta_WaterPeak = {}\n",
      "rbase_WaterPeak = {}\n",
      "errortheta_WaterPeak = {}\n",
      "errorr_base_WaterPeak = {}\n",
      "\n",
      "\n",
      "# For each surface we will store 10 results corresponding to the 10 droplets in each system. This means that in every \n",
      "# entry of the \"results-dictionaries\" we will store a list of 10 elements. Thus, now we store in them lists with 10 zeros. \n",
      "\n",
      "for system in percentages:\n",
      "\n",
      "    theta_WaterPeak[system] = np.zeros(len(Waters))\n",
      "    rbase_WaterPeak[system] = np.zeros(len(Waters))\n",
      "    errortheta_WaterPeak[system] = np.zeros(len(Waters))\n",
      "    errorr_base_WaterPeak[system] = np.zeros(len(Waters))"
     ],
     "language": "python",
     "metadata": {},
     "outputs": [],
     "prompt_number": 15
    },
    {
     "cell_type": "code",
     "collapsed": false,
     "input": [
      "# We create an array named \"t\" with the time values. We use the length of the longest simulation.\n",
      "\n",
      "maxlength=100 #maximum length in ns\n",
      "t = np.zeros(2*maxlength)\n",
      "i=0\n",
      "for d in frange(0, maxlength, 0.5,closed=0):\n",
      "    t[i] = d\n",
      "    i = i + 1"
     ],
     "language": "python",
     "metadata": {},
     "outputs": [],
     "prompt_number": 16
    },
    {
     "cell_type": "code",
     "collapsed": false,
     "input": [
      "# func is the function of a line, that will be used in the linear fits\n",
      "def func(x, a, b):\n",
      "    return a*x + b\n",
      "\n",
      "#endpoint returns the integer \"end\": the last data point different then \"nan\"\n",
      "def endpoint(theta):\n",
      "\tfor end in range(20, len(theta)):\n",
      "\t\t if math.isnan(theta[end]):\n",
      "\t\t\tbreak\n",
      "\treturn end\n",
      "\n",
      "# The following functions will be used to calculate the block averages and the errorbars\n",
      "# The function naive_variance will only be used inside the function blockAverage\n",
      "def naive_variance(data):\n",
      "    n = 0\n",
      "    Sum = 0\n",
      "    Sum_sqr = 0\n",
      " \n",
      "    for x in data:\n",
      "        n = n + 1\n",
      "        Sum = Sum + x\n",
      "        Sum_sqr = Sum_sqr + x*x\n",
      " \n",
      "    variance = (Sum_sqr - (Sum*Sum)/n)/(n - 1)\n",
      "    return variance\n",
      "\n",
      "def blockAverage(datastream, Nblocks):\n",
      "    \n",
      "    # FIRST WE CREATE AN ARRAY TO STORE THE MEAN VALUES OF THE DATA BLOCKS (blockMean)\n",
      "    blockMean = np.zeros(Nblocks)  \n",
      "        \n",
      "    # Nobs is the number of points (observations) in our data\n",
      "    Nobs = len(datastream) \n",
      "    # BlockSize is the size of each block of data\n",
      "    BlockSize = int(Nobs//Nblocks) \n",
      "    #print \"BlockSize=\", BlockSize\n",
      "    \n",
      "    if Nblocks==1:\n",
      "        errorbar = naive_variance(datastream)\n",
      "        return errorbar\n",
      "\n",
      "    else:\n",
      "       # WE CALCULATE IN A LOOP THE MEAN VALUES OF EACH DATA BLOCK (blockMean)\n",
      "        for i in range(0,Nblocks-1):\n",
      "            ibeg = i*BlockSize\n",
      "            iend = (i+1)*BlockSize\n",
      "            blockMean[i] = mean(datastream[ibeg:iend])\n",
      "        # WE TREAT THE LAST BLOCK SEPARATELY, BECAUSE WE HAVE TO TAKE INTO ACCOUNT THE POSSIBLE REMAINING POINTS \n",
      "        # WHEN THE NUMBER OF DATA POINTS ISN'T A MULTIPLE OF THE NUMBER OF BLOCKS\n",
      "        #print \"Last block\"\n",
      "        ibeg = (Nblocks-1)*BlockSize\n",
      "        iend = Nobs\n",
      "        blockMean[Nblocks-1] = mean(datastream[ibeg:iend])\n",
      "     \n",
      "        errorbar = (np.std(blockMean))/sqrt(Nblocks -1) #np.std(blockMean) is the standard deviation of blockmean\n",
      "        simulavr = mean(blockMean)\n",
      "        return simulavr, errorbar,BlockSize"
     ],
     "language": "python",
     "metadata": {},
     "outputs": [],
     "prompt_number": 17
    },
    {
     "cell_type": "code",
     "collapsed": false,
     "input": [
      "# We save the data in the arrays \"theta_all\" and \"rbase_all\"\n",
      "SAMs=[0,5,11,17,33] # Here we use only the SAMs with Contact Angles. Not the systems with complete wetting.\n",
      "\n",
      "# Here we create two dictionaries named \"angles\" and \"radii\". Each dictionary consists of a set of \"key: value\" pairs, each one corresponding to a different system. The keys are (also) a pair of numbers \"b, c\".\n",
      "# \"b\" refers to the OH-coverage percentage of the SAM, and \"c\" to the number of water molecules of the droplet. For example, the key \"5, 1000\" refers to the system with a surface with 5% OH-coverage, \n",
      "# and a droplet with 1000 water molecules. The value corresponding to each key is an array with the 40 calculated angles/base radii, that belong to that system. For example: \"radii[(11, 3000)]\" would give back\n",
      "# the array with the 40 calculated values of the base radii corresponding to the system with a surface with 11% OH-coverage, and a droplet with 3000 water molecules.\n",
      "\n",
      "for b in SAMs:\n",
      "    theta_WaterPeak_data, rbase_WaterPeak_data = np.loadtxt('Contact_Angles2_WaterPeak_s'+str(b)+'.txt', skiprows=2, usecols = (0,1),unpack=True)\n",
      "    k = 0\n",
      "    for c in Waters:\n",
      "        # First data with z=0 at the first water peak\n",
      "        z = b, c\n",
      "        th = [0] *(2*maxlength)\n",
      "        r = [0] *(2*maxlength)\n",
      "        i=k*(2*maxlength)\n",
      "        j=(k+1)*(2*maxlength)\n",
      "        #print \"z=\", z, \"i=\", i, \"j=\", j\n",
      "        m = 0\n",
      "        for l in range(i,j):\n",
      "            th[m]=theta_WaterPeak_data[l]\n",
      "            r[m]=rbase_WaterPeak_data[l]\n",
      "            m = m +1\n",
      "        angles_WaterPeak[z] = th\n",
      "        radii_WaterPeak[z] = r\n",
      "\n",
      "        k=k+1"
     ],
     "language": "python",
     "metadata": {},
     "outputs": [],
     "prompt_number": 18
    },
    {
     "cell_type": "code",
     "collapsed": false,
     "input": [
      "#best_start SEARCHS FOR THE STARTING POINT (start) OF BIGGEST TIME INTERVAL where the error interval is smaller then the variation of the data (controlled \n",
      "# with a line fit of the data\n",
      "def best_start(theta,t,omitstart,fixend):\n",
      "\n",
      "\tlastnumber = endpoint(theta)\n",
      "\tendblocks = lastnumber - fixend\n",
      "\n",
      "\terror = np.zeros(endblocks-omitstart) #error will be the total error (of all the points taken each time we choose a different set of data to make the blocks)\n",
      "\taverage = np.zeros(endblocks-omitstart) # average is the same, but for the average\n",
      "\t\n",
      "\tslope = np.zeros(endblocks-omitstart)\n",
      "\tintercept = np.zeros(endblocks-omitstart)\n",
      "\tshift = np.zeros(endblocks-omitstart)\n",
      "\tgoodblocks = []\n",
      "\tgoodslopes = []\n",
      "\n",
      "\terror = error.tolist()\n",
      "\tj=0\n",
      "\t# Loop for finding the \"best\" interval to do the block averaging\n",
      "\tfor i in range (omitstart, endblocks):\n",
      "\t\taverage[j],error[j],delete = blockAverage((theta[i:lastnumber]),3)\n",
      "\t\tslope[j], intercept[j], delete1, delete2, delete3 = stats.linregress(t[i:lastnumber],theta[i:lastnumber])\n",
      "\t\tshift[j] = abs(func(t[i], slope[j], intercept[j]) - func(t[lastnumber], slope[j], intercept[j]))\n",
      "\t\tif shift[j] <= (2*error[j]):\n",
      "\t\t\tgoodblocks.append(i)\n",
      "\t\t\t#print \"i=\",i, \"shift=\",shift[j], \"error=\",2*error[j]\n",
      "\t\tj = j+1\t \n",
      "\tif goodblocks==[]:\n",
      "\t\t#print \"not equilibrated yet\"\n",
      "\t\treturn None\n",
      "\telse:\n",
      "\t\t#start = min(goodblocks)\n",
      "\t\t#return start\n",
      "\t\tresponse=list(slope)\n",
      "\t\treturn response.index(min(response))"
     ],
     "language": "python",
     "metadata": {},
     "outputs": [
      {
       "output_type": "stream",
       "stream": "stdout",
       "text": [
        "\n"
       ]
      }
     ],
     "prompt_number": 48
    },
    {
     "cell_type": "code",
     "collapsed": false,
     "input": [
      "b=0\n",
      "c=1000\n",
      "start=40\n",
      "end=80\n",
      "blocksNum=3\n",
      "\n",
      "n=Waters.index(c)\n",
      "\n",
      "fig, ax = plt.subplots(2, 2)\n",
      "theta_WaterPeak2 = array(angles_WaterPeak[(b, c)])\n",
      "rbase_WaterPeak2 = array(radii_WaterPeak[(b, c)])\n",
      "\n",
      "ax = plt.subplot(2, 2, 1)\n",
      "\n",
      "slope, intercept, delete1, delete2, delete3 = stats.linregress(t[start:end],theta_WaterPeak2[start:end])\n",
      "print \"slope=\", slope, \"intercept=\",intercept\n",
      "thetamean, errrorbar, blocksize =blockAverage((theta_WaterPeak2[start:end]),blocksNum)\n",
      "print \"average=\",thetamean, \"error=\",errrorbar, \"blocksize=\",blocksize\n",
      "#ax.errorbar(s0pointsX, s0pointsY,xerr=s0errorsX, yerr=s0errorsY,fmt='o',elinewidth=1.5,markeredgewidth=1.5)\n",
      "ax.plot(t[start:end], func(t[start:end], slope, intercept))\n",
      "ax.plot(t[start:end], theta_WaterPeak2[start:end],'-',linewidth=0.5)\n",
      "#ax.plot(t, theta_WaterPeak2,'-',linewidth=0.5)\n",
      "ax.plot(t[start:end], func(t[start:end], 0, thetamean))\n",
      "ax.plot(t[start:end], func(t[start:end], 0, thetamean+errrorbar),'g-')\n",
      "ax.plot(t[start:end], func(t[start:end], 0, thetamean-errrorbar),'g-')\n",
      "\n",
      "errortheta_WaterPeak[b][n] = errrorbar\n",
      "theta_WaterPeak[b][n] = thetamean\n",
      "\n",
      "ax = plt.subplot(2, 2, 2)\n",
      "\n",
      "ax.plot(t, theta_WaterPeak2,'-',linewidth=0.5)\n",
      "ax.plot(t[start:end], func(t[start:end], 0, thetamean))\n",
      "\n",
      "ax = plt.subplot(2, 2, 3)\n",
      "\n",
      "slope, intercept, delete1, delete2, delete3 = stats.linregress(t[start:end],rbase_WaterPeak2[start:end])\n",
      "print \"slope=\", slope, \"intercept=\",intercept\n",
      "rbasemean, errrorbar, blocksize =blockAverage((rbase_WaterPeak2[start:end]),blocksNum)\n",
      "print \"average=\",thetamean, \"error=\",errrorbar, \"blocksize=\",blocksize\n",
      "#ax.errorbar(s0pointsX, s0pointsY,xerr=s0errorsX, yerr=s0errorsY,fmt='o',elinewidth=1.5,markeredgewidth=1.5)\n",
      "ax.plot(t[start:end], func(t[start:end], slope, intercept))\n",
      "ax.plot(t[start:end], rbase_WaterPeak2[start:end],'-',linewidth=0.5)\n",
      "#ax.plot(t, theta_WaterPeak2,'-',linewidth=0.5)\n",
      "ax.plot(t[start:end], func(t[start:end], 0, rbasemean))\n",
      "ax.plot(t[start:end], func(t[start:end], 0, rbasemean+errrorbar),'g-')\n",
      "ax.plot(t[start:end], func(t[start:end], 0, rbasemean-errrorbar),'g-')\n",
      "\n",
      "ax = plt.subplot(2, 2, 4)\n",
      "\n",
      "ax.plot(t, rbase_WaterPeak2,'-',linewidth=0.5)\n",
      "ax.plot(t[start:end], func(t[start:end], 0, rbasemean))\n",
      "\n",
      "plt.show()\n",
      "\n",
      "errorr_base_WaterPeak[b][n] = errrorbar\n",
      "rbase_WaterPeak[b][n] = rbasemean"
     ],
     "language": "python",
     "metadata": {},
     "outputs": [
      {
       "output_type": "stream",
       "stream": "stdout",
       "text": [
        "slope= -0.00943490533677 intercept= 133.598798934\n",
        "average= 133.32086883 error= 0.0554698229285 blocksize= 13\n",
        "slope="
       ]
      },
      {
       "output_type": "stream",
       "stream": "stdout",
       "text": [
        " 0.000369028668583 intercept= 1.42747646428\n",
        "average= 133.32086883 error= 0.00194369378425 blocksize= 13\n"
       ]
      },
      {
       "metadata": {},
       "output_type": "display_data",
       "png": "[encoded data removed]",
       "text": [
        "<matplotlib.figure.Figure at 0x10bc5d750>"
       ]
      }
     ],
     "prompt_number": 19
    },
    {
     "cell_type": "code",
     "collapsed": false,
     "input": [
      "b=0\n",
      "c=6500\n",
      "\n",
      "theta_WaterPeak2 = array(angles_WaterPeak[(b, c)])\n",
      "\n",
      "minblocksize=20 # The minimum block size is 10ns=20 points\n",
      "beg = 10 # We leave out the first 5ns=10 points\n",
      "print best_start(theta_WaterPeak2,t,beg,minblocksize)"
     ],
     "language": "python",
     "metadata": {},
     "outputs": [
      {
       "output_type": "stream",
       "stream": "stdout",
       "text": [
        "None\n"
       ]
      }
     ],
     "prompt_number": 38
    },
    {
     "cell_type": "code",
     "collapsed": false,
     "input": [
      "minblocksize=20 # The minimum block size is 10ns=20 points\n",
      "beg = 10 # We leave out the first 5ns=10 points\n",
      "\n",
      "SAMfragment=[33]\n",
      "\n",
      "for b in SAMs:\n",
      "#for b in SAMfragment:\n",
      "\tfor c in Waters:\n",
      "\n",
      "\t\ttheta_WaterPeak2 = array(angles_WaterPeak[(b, c)])\n",
      "\t\tprint \"SAM\", b, \"water\", c, \"best start=\", best_start(theta_WaterPeak2,t,beg,minblocksize)"
     ],
     "language": "python",
     "metadata": {},
     "outputs": [
      {
       "output_type": "stream",
       "stream": "stdout",
       "text": [
        "SAM 0 water 1000 best start= 51\n",
        "SAM 0 water 2000 best start= "
       ]
      },
      {
       "output_type": "stream",
       "stream": "stdout",
       "text": [
        "49\n",
        "SAM 0 water 3000 best start= "
       ]
      },
      {
       "output_type": "stream",
       "stream": "stdout",
       "text": [
        "48\n",
        "SAM 0 water 4000 best start= "
       ]
      },
      {
       "output_type": "stream",
       "stream": "stdout",
       "text": [
        "0\n",
        "SAM 0 water 5000 best start= "
       ]
      },
      {
       "output_type": "stream",
       "stream": "stdout",
       "text": [
        "0\n",
        "SAM 0 water 6500 best start= "
       ]
      },
      {
       "output_type": "stream",
       "stream": "stdout",
       "text": [
        "None\n",
        "SAM 0 water 7000 best start= "
       ]
      },
      {
       "output_type": "stream",
       "stream": "stdout",
       "text": [
        "0\n",
        "SAM 0 water 8000 best start= "
       ]
      },
      {
       "output_type": "stream",
       "stream": "stdout",
       "text": [
        "0\n",
        "SAM 0 water 9000 best start= "
       ]
      },
      {
       "output_type": "stream",
       "stream": "stdout",
       "text": [
        "None\n",
        "SAM 0 water 10000 best start= "
       ]
      },
      {
       "output_type": "stream",
       "stream": "stdout",
       "text": [
        "None\n",
        "SAM 5 water 1000 best start= "
       ]
      },
      {
       "output_type": "stream",
       "stream": "stdout",
       "text": [
        "89\n",
        "SAM 5 water 2000 best start= "
       ]
      },
      {
       "output_type": "stream",
       "stream": "stdout",
       "text": [
        "81\n",
        "SAM 5 water 3000 best start= "
       ]
      },
      {
       "output_type": "stream",
       "stream": "stdout",
       "text": [
        "67\n",
        "SAM 5 water 4000 best start= "
       ]
      },
      {
       "output_type": "stream",
       "stream": "stdout",
       "text": [
        "89\n",
        "SAM 5 water 5000 best start= "
       ]
      },
      {
       "output_type": "stream",
       "stream": "stdout",
       "text": [
        "75\n",
        "SAM 5 water 6500 best start= "
       ]
      },
      {
       "output_type": "stream",
       "stream": "stdout",
       "text": [
        "128\n",
        "SAM 5 water 7000 best start= "
       ]
      },
      {
       "output_type": "stream",
       "stream": "stdout",
       "text": [
        "0\n",
        "SAM 5 water 8000 best start= "
       ]
      },
      {
       "output_type": "stream",
       "stream": "stdout",
       "text": [
        "None\n",
        "SAM 5 water 9000 best start= "
       ]
      },
      {
       "output_type": "stream",
       "stream": "stdout",
       "text": [
        "0\n",
        "SAM 5 water 10000 best start= "
       ]
      },
      {
       "output_type": "stream",
       "stream": "stdout",
       "text": [
        "0\n",
        "SAM 11 water 1000 best start= "
       ]
      },
      {
       "output_type": "stream",
       "stream": "stdout",
       "text": [
        "7\n",
        "SAM 11 water 2000 best start= 3\n",
        "SAM 11 water 3000 best start= "
       ]
      },
      {
       "output_type": "stream",
       "stream": "stdout",
       "text": [
        "None\n",
        "SAM 11 water 4000 best start= "
       ]
      },
      {
       "output_type": "stream",
       "stream": "stdout",
       "text": [
        "0\n",
        "SAM 11 water 5000 best start= "
       ]
      },
      {
       "output_type": "stream",
       "stream": "stdout",
       "text": [
        "0\n",
        "SAM 11 water 6500 best start= 0\n",
        "SAM 11 water 7000 best start= "
       ]
      },
      {
       "output_type": "stream",
       "stream": "stdout",
       "text": [
        "0\n",
        "SAM 11 water 8000 best start= "
       ]
      },
      {
       "output_type": "stream",
       "stream": "stdout",
       "text": [
        "0\n",
        "SAM 11 water 9000 best start= None\n",
        "SAM 11 water 10000 best start= "
       ]
      },
      {
       "output_type": "stream",
       "stream": "stdout",
       "text": [
        "0\n",
        "SAM 17 water 1000 best start= "
       ]
      },
      {
       "output_type": "stream",
       "stream": "stdout",
       "text": [
        "None\n",
        "SAM 17 water 2000 best start= "
       ]
      },
      {
       "output_type": "stream",
       "stream": "stdout",
       "text": [
        "74\n",
        "SAM 17 water 3000 best start= "
       ]
      },
      {
       "output_type": "stream",
       "stream": "stdout",
       "text": [
        "0\n",
        "SAM 17 water 4000 best start= "
       ]
      },
      {
       "output_type": "stream",
       "stream": "stdout",
       "text": [
        "88\n",
        "SAM 17 water 5000 best start= "
       ]
      },
      {
       "output_type": "stream",
       "stream": "stdout",
       "text": [
        "0\n",
        "SAM 17 water 6500 best start= "
       ]
      },
      {
       "output_type": "stream",
       "stream": "stdout",
       "text": [
        "0\n",
        "SAM 17 water 7000 best start= "
       ]
      },
      {
       "output_type": "stream",
       "stream": "stdout",
       "text": [
        "0\n",
        "SAM 17 water 8000 best start= "
       ]
      },
      {
       "output_type": "stream",
       "stream": "stdout",
       "text": [
        "0\n",
        "SAM 17 water 9000 best start= "
       ]
      },
      {
       "output_type": "stream",
       "stream": "stdout",
       "text": [
        "0\n",
        "SAM 17 water 10000 best start= "
       ]
      },
      {
       "output_type": "stream",
       "stream": "stdout",
       "text": [
        "0\n",
        "SAM 33 water 1000 best start= None\n",
        "SAM 33 water 2000 best start= "
       ]
      },
      {
       "output_type": "stream",
       "stream": "stdout",
       "text": [
        "114\n",
        "SAM 33 water 3000 best start= "
       ]
      },
      {
       "output_type": "stream",
       "stream": "stdout",
       "text": [
        "112\n",
        "SAM 33 water 4000 best start= "
       ]
      },
      {
       "output_type": "stream",
       "stream": "stdout",
       "text": [
        "112\n",
        "SAM 33 water 5000 best start= "
       ]
      },
      {
       "output_type": "stream",
       "stream": "stdout",
       "text": [
        "101\n",
        "SAM 33 water 6500 best start= "
       ]
      },
      {
       "output_type": "stream",
       "stream": "stdout",
       "text": [
        "3\n",
        "SAM 33 water 7000 best start= None\n",
        "SAM 33 water 8000 best start= None\n",
        "SAM 33 water 9000 best start= "
       ]
      },
      {
       "output_type": "stream",
       "stream": "stdout",
       "text": [
        "None\n",
        "SAM 33 water 10000 best start= 1\n"
       ]
      }
     ],
     "prompt_number": 49
    },
    {
     "cell_type": "code",
     "collapsed": false,
     "input": [
      "minblocksize=20 # The minimum block size is 10ns=20 points\n",
      "beg = 10 # We leave out the first 5ns=10 points\n",
      "\n",
      "b=0\n",
      "c=3000\n",
      "theta_WaterPeak2 = array(angles_WaterPeak[(b, c)])\n",
      "print \"SAM\", b, \"water\", c, \"best start=\", best_start(theta_WaterPeak2,t,beg,minblocksize)"
     ],
     "language": "python",
     "metadata": {},
     "outputs": [
      {
       "output_type": "stream",
       "stream": "stdout",
       "text": [
        "SAM 0 water 3000 best start= i= 11 shift= 0.0613835487242 error= 0.161198063826\n",
        "i= 12 shift= 0.0500724128583 error= 0.173820324757\n",
        "i= 13 shift= 0.133131170217 error= 0.187716427965\n",
        "i= 14 shift= 0.168000388162 error= 0.200818171773\n",
        "i= 30 shift= 0.05417219038 error= 0.119559270984\n",
        "i= 31 shift= 0.0337543839001 error= 0.188442021464\n",
        "i= 32 shift= 0.103037243842 error= 0.112613396611\n",
        "i= 33 shift= 0.143130020945 error= 0.209156574617\n",
        "i= 34 shift= 0.00726612077074 error= 0.279016865825\n",
        "i= 35 shift= 0.152700887234 error= 0.271440622758\n",
        "i= 36 shift= 0.278679497279 error= 0.355267943514\n",
        "i= 37 shift= 0.349998308522 error= 0.415077861565\n",
        "i= 38 shift= 0.295936807986 error= 0.361197109398\n",
        "i= 39 shift= 0.218735970732 error= 0.426750744189\n",
        "i= 40 shift= 0.129573412595 error= 0.454646781617\n",
        "i= 41 shift= 0.0457135904865 error= 0.488316678786\n",
        "i= 42 shift= 0.0122889674649 error= 0.526342908866\n",
        "i="
       ]
      },
      {
       "output_type": "stream",
       "stream": "stdout",
       "text": [
        " 43 shift= 0.0393943221405 error= 0.48706401952\n",
        "i= 44 shift= 0.0540353594412 error= 0.573000611083\n",
        "i= 45 shift= 0.0111435688831 error= 0.490415230254\n",
        "i= 46 shift= 0.109375559184 error= 0.423272926995\n",
        "i= 47 shift= 0.165771843402 error= 0.489075850981\n",
        "i= 48 shift= 0.261369279775 error= 0.394957682164\n",
        "11\n"
       ]
      }
     ],
     "prompt_number": 40
    },
    {
     "cell_type": "code",
     "collapsed": false,
     "input": [
      "endpoint\n",
      "\n",
      "for b in SAMs:\n",
      "#for b in SAMfragment:\n",
      "    for c in Waters:\n",
      "\n",
      "        theta_WaterPeak2 = array(angles_WaterPeak[(b, c)])\n",
      "        xxx=endpoint(theta_WaterPeak2)\n",
      "        #print \"SAM\", b, \"water\", c, \"last point=\", xxx, \"last ns=\", xxx/2.\n",
      "        print \"last point=\", xxx, \"last ns=\", xxx/2."
     ],
     "language": "python",
     "metadata": {},
     "outputs": [
      {
       "output_type": "stream",
       "stream": "stdout",
       "text": [
        "last point= 84 last ns= 42.0\n",
        "last point= 120 last ns= 60.0\n",
        "last point= 79 last ns= 39.5\n",
        "last point= 76 last ns= 38.0\n",
        "last point= 120 last ns= 60.0\n",
        "last point= 120 last ns= 60.0\n",
        "last point= 160 last ns= 80.0\n",
        "last point= 160 last ns= 80.0\n",
        "last point= 160 last ns= 80.0\n",
        "last point= 199 last ns= 99.5\n",
        "last point= 120 last ns= 60.0\n",
        "last point= 120 last ns= 60.0\n",
        "last point= 120 last ns= 60.0\n",
        "last point= 120 last ns= 60.0\n",
        "last point= 120 last ns= 60.0\n",
        "last point= 160 last ns= 80.0\n",
        "last point= 160 last ns= 80.0\n",
        "last point= 160 last ns= 80.0\n",
        "last point= 120 last ns= 60.0\n",
        "last point= 199 last ns= 99.5\n",
        "last point= 120 last ns= 60.0\n",
        "last point= 40 last ns= 20.0\n",
        "last point= 120 last ns= 60.0\n",
        "last point= 120 last ns= 60.0\n",
        "last point= 120 last ns= 60.0\n",
        "last point= 80 last ns= 40.0\n",
        "last point= 160 last ns= 80.0\n",
        "last point= 160 last ns= 80.0\n",
        "last point= 80 last ns= 40.0\n",
        "last point= 199 last ns= 99.5\n",
        "last point= 80 last ns= 40.0\n",
        "last point= 120 last ns= 60.0\n",
        "last point= 120 last ns= 60.0\n",
        "last point= 120 last ns= 60.0\n",
        "last point= 120 last ns= 60.0\n",
        "last point= 120 last ns= 60.0\n",
        "last point= 160 last ns= 80.0\n",
        "last point= 160 last ns= 80.0\n",
        "last point= 160 last ns= 80.0\n",
        "last point= 199 last ns= 99.5\n",
        "last point= 33 last ns= 16.5\n",
        "last point= 148 last ns= 74.0\n",
        "last point= 144 last ns= 72.0\n",
        "last point= 143 last ns= 71.5\n",
        "last point= 145 last ns= 72.5\n",
        "last point= 116 last ns= 58.0\n",
        "last point= 44 last ns= 22.0\n",
        "last point= 40 last ns= 20.0\n",
        "last point= 40 last ns= 20.0\n",
        "last point= 40 last ns= 20.0\n"
       ]
      }
     ],
     "prompt_number": 10
    },
    {
     "cell_type": "code",
     "collapsed": false,
     "input": [],
     "language": "python",
     "metadata": {},
     "outputs": []
    }
   ],
   "metadata": {}
  }
 ]
}