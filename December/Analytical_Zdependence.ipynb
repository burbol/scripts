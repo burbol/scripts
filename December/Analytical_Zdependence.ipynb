{
 "metadata": {
  "name": "",
  "signature": "sha256:8687669858596917da534a0529f7f5e54beaf879419b05be1d138f3feb34bccb"
 },
 "nbformat": 3,
 "nbformat_minor": 0,
 "worksheets": [
  {
   "cells": [
    {
     "cell_type": "code",
     "collapsed": false,
     "input": [
      "%pylab inline"
     ],
     "language": "python",
     "metadata": {},
     "outputs": [
      {
       "output_type": "stream",
       "stream": "stdout",
       "text": [
        "Populating the interactive namespace from numpy and matplotlib\n"
       ]
      }
     ],
     "prompt_number": 1
    },
    {
     "cell_type": "code",
     "collapsed": false,
     "input": [
      "import matplotlib \n",
      "import matplotlib.pyplot as plt\n",
      "import numpy as np\n",
      "from scipy.optimize import curve_fit\n",
      "from scipy import stats"
     ],
     "language": "python",
     "metadata": {},
     "outputs": [],
     "prompt_number": 2
    },
    {
     "cell_type": "code",
     "collapsed": false,
     "input": [
      "%cd /Users/burbol2/Dropbox/Apps/Computable/Final_Results_CAngles\n",
      "#%cd /home/eixeres/Dropbox/Apps/Computable/Final_Results_CAngles"
     ],
     "language": "python",
     "metadata": {},
     "outputs": [
      {
       "output_type": "stream",
       "stream": "stdout",
       "text": [
        "/Users/burbol2/Dropbox/Apps/Computable/Final_Results_CAngles\n"
       ]
      }
     ],
     "prompt_number": 3
    },
    {
     "cell_type": "code",
     "collapsed": false,
     "input": [
      "percentages = [0, 5, 11, 17, 33,50, 66]\n",
      "Waters=[1000, 2000, 3000, 4000, 5000, 6500, 7000, 8000, 9000, 10000]\n",
      "SAMs=[0,5,11,17,33]"
     ],
     "language": "python",
     "metadata": {},
     "outputs": [],
     "prompt_number": 4
    },
    {
     "cell_type": "code",
     "collapsed": false,
     "input": [
      "# We create an array named \"t\" with the time values. We use the length of the longest simulation.\n",
      "\n",
      "maxlength=100 #maximum length in ns\n",
      "t = np.zeros(2*maxlength)\n",
      "i=0\n",
      "for d in frange(0, maxlength, 0.5,closed=0):\n",
      "    t[i] = d\n",
      "    i = i + 1"
     ],
     "language": "python",
     "metadata": {},
     "outputs": [],
     "prompt_number": 5
    },
    {
     "cell_type": "code",
     "collapsed": false,
     "input": [
      "angles = {}\n",
      "radii = {}\n",
      "for b in [17]:\n",
      "    theta, rbase = np.loadtxt('Contact_Angles2_WaterPeak_s'+str(b)+'.txt', skiprows=2, usecols = (0,1),unpack=True)\n",
      "    print \"SAM=\", b, len(theta), len(rbase)\n",
      "    k = 0\n",
      "    for c in Waters:\n",
      "        # First data with z=0 at the first water peak\n",
      "        z = b, c\n",
      "        th = [0] *(2*maxlength)\n",
      "        r = [0] *(2*maxlength)\n",
      "        i=k*(2*maxlength)\n",
      "        j=(k+1)*(2*maxlength)\n",
      "        #print \"z=\", z, \"i=\", i, \"j=\", j\n",
      "        m = 0\n",
      "        for l in range(i,j):\n",
      "            th[m]=theta[l]\n",
      "            r[m]=rbase[l]\n",
      "            m = m +1\n",
      "        angles[z] = th\n",
      "        radii[z] = r\n",
      "        k=k+1"
     ],
     "language": "python",
     "metadata": {},
     "outputs": [
      {
       "output_type": "stream",
       "stream": "stdout",
       "text": [
        "SAM= 17 2000 2000\n"
       ]
      }
     ],
     "prompt_number": 6
    },
    {
     "cell_type": "code",
     "collapsed": false,
     "input": [
      "# This function is equivalent to shiftfunction because they both yield the same result\n",
      "# The function shiftfunction0 calculates the shifted contact angle and base radius.\n",
      "# It takes 3 arguments: \n",
      "# -theta is the contact angle IN DEGREES\n",
      "# -rbase the base radius in nm\n",
      "# -epsilon the shift in the z-direction in nm\n",
      "# Two floats are returned:\n",
      "# -theta_new is the new contact angle IN DEGREES\n",
      "# -rbase_new is the new base radius in nm\n",
      "\n",
      "def shiftfunction0(theta,rbase,epsilon):\n",
      "    phi=radians(theta-90)\n",
      "    Zc=rbase*tan(phi)\n",
      "    Rc=rbase/cos(phi)\n",
      "\n",
      "    argument=(Zc-epsilon)/Rc\n",
      "\n",
      "    phi_new=arcsin(argument)\n",
      "    rbase_new=Rc*cos(phi_new)\n",
      "    theta_new=degrees(phi_new)+90\n",
      "    return theta_new, rbase_new"
     ],
     "language": "python",
     "metadata": {},
     "outputs": [],
     "prompt_number": 7
    },
    {
     "cell_type": "code",
     "collapsed": false,
     "input": [
      "# The function shiftfunction calculates the shifted contact angle and base radius.\n",
      "# It takes 3 arguments: \n",
      "# -theta (float) is the contact angle IN DEGREES\n",
      "# -rbase (float) the base radius in nm\n",
      "# -epsilon (float) the shift in the z-direction in nm\n",
      "# Two floats are returned:\n",
      "# -theta_new is the new contact angle IN DEGREES\n",
      "# -rbase_new is the new base radius in nm\n",
      "# Attention: outside this function theta, rbase, theta_new and rbase_new are lists of floats. Here simple floating point numbers\n",
      "\n",
      "def shiftfunction(theta,rbase,epsilon):\n",
      "    phi=radians(theta-90)\n",
      "    Zc=rbase*tan(phi)\n",
      "    Rc=rbase/cos(phi)\n",
      "    rbase_new=sqrt((Rc**2)-((epsilon-Zc)**2))\n",
      "    phi_new=arctan((Zc-epsilon)/rbase_new)\n",
      "    theta_new=degrees(phi_new)+90\n",
      "    \n",
      "    # printing for testing...\n",
      "    #print \"Rc=\",Rc\n",
      "    #print \"Zc=\",Zc\n",
      "    #print \"phi=\",degrees(phi)\n",
      "    return theta_new, rbase_new"
     ],
     "language": "python",
     "metadata": {},
     "outputs": [],
     "prompt_number": 8
    },
    {
     "cell_type": "code",
     "collapsed": false,
     "input": [
      "# The function shift takes 2 arrays (theta,rbase) and a float (epsilon) as argument \n",
      "# and returns the 2 shifted arrays (theta_new and rbase_new) back\n",
      "def shift(theta,rbase,epsilon):\n",
      "    theta_new=np.zeros(len(theta2))\n",
      "    rbase_new=np.zeros(len(rbase2))\n",
      "    k=0\n",
      "    for i in theta2:\n",
      "        j=rbase2[k]\n",
      "        theta_new[k],rbase_new[k]=shiftfunction(i,j,epsilon)\n",
      "        #theta_new[k],rbase_new[k]=shiftfunction0(i,j,epsilon)\n",
      "        k=k+1\n",
      "    return theta_new,rbase_new "
     ],
     "language": "python",
     "metadata": {},
     "outputs": [],
     "prompt_number": 9
    },
    {
     "cell_type": "code",
     "collapsed": false,
     "input": [
      "c=7000\n",
      "n=Waters.index(c)\n",
      "\n",
      "theta2 = array(angles[(b, c)])\n",
      "rbase2 = array(radii[(b, c)])"
     ],
     "language": "python",
     "metadata": {},
     "outputs": [],
     "prompt_number": 10
    },
    {
     "cell_type": "code",
     "collapsed": false,
     "input": [
      "# We test shiftfunction() and plot the results\n",
      "epsilon=0.1\n",
      "ns=50\n",
      "time=ns*2\n",
      "y = rbase2[time]\n",
      "x = theta2[time]\n",
      "print x, y\n",
      "print shiftfunction(x,y,epsilon)"
     ],
     "language": "python",
     "metadata": {},
     "outputs": [
      {
       "output_type": "stream",
       "stream": "stdout",
       "text": [
        "104.395753018 3.97658156127\n",
        "(102.95939361358437, 4.0009174695421352)\n"
       ]
      }
     ],
     "prompt_number": 11
    },
    {
     "cell_type": "code",
     "collapsed": false,
     "input": [
      "epsilon=0.1\n",
      "theta_new,rbase_new = shift(theta2,rbase2,epsilon)"
     ],
     "language": "python",
     "metadata": {},
     "outputs": [],
     "prompt_number": 12
    },
    {
     "cell_type": "code",
     "collapsed": false,
     "input": [
      "plt.plot(t,theta2,label='SAM Peak',lw=2)\n",
      "plt.plot(t,theta_new,label='Analytical SAM Peak',lw=2)\n",
      "plt.xlabel('time [ns]',fontsize=22)\n",
      "plt.ylabel(r'$\\theta_{mic}$ [deg]',fontsize=22)\n",
      "ylim(100,110)\n",
      "xlim(30,80)\n",
      "plt.show\n",
      "plt.legend()"
     ],
     "language": "python",
     "metadata": {},
     "outputs": [
      {
       "metadata": {},
       "output_type": "pyout",
       "prompt_number": 13,
       "text": [
        "<matplotlib.legend.Legend at 0x10f534350>"
       ]
      },
      {
       "metadata": {},
       "output_type": "display_data",
       "png": "[encoded data removed]",
       "text": [
        "<matplotlib.figure.Figure at 0x10f3ace50>"
       ]
      }
     ],
     "prompt_number": 13
    },
    {
     "cell_type": "code",
     "collapsed": false,
     "input": [
      "plt.plot(t,rbase2,t,rbase_new)\n",
      "plt.show"
     ],
     "language": "python",
     "metadata": {},
     "outputs": [
      {
       "metadata": {},
       "output_type": "pyout",
       "prompt_number": 14,
       "text": [
        "<function matplotlib.pyplot.show>"
       ]
      },
      {
       "metadata": {},
       "output_type": "display_data",
       "png": "[encoded data removed]",
       "text": [
        "<matplotlib.figure.Figure at 0x10f3ac3d0>"
       ]
      }
     ],
     "prompt_number": 14
    },
    {
     "cell_type": "code",
     "collapsed": false,
     "input": [
      "# We determine the circle radius\n",
      "Rc=y/cos(radians(x-90))\n",
      "print Rc"
     ],
     "language": "python",
     "metadata": {},
     "outputs": [
      {
       "output_type": "stream",
       "stream": "stdout",
       "text": [
        "4.10548732609\n"
       ]
      }
     ],
     "prompt_number": 15
    },
    {
     "cell_type": "code",
     "collapsed": false,
     "input": [
      "# We calculate the shifted values for different epsilons are stored in the array eps\n",
      "# This way we can plot the shifted contact angle and base radius as a funtion of epsilon\n",
      "eps = np.arange(-Rc,Rc,0.005)\n",
      "#eps = np.arange(-0.5,0.5,0.005)\n",
      "print len(eps)\n",
      "theta_shift=np.zeros(len(eps))\n",
      "rbase_shift=np.zeros(len(eps))\n",
      "for k in range(len(eps)):\n",
      "    theta_shift[k], rbase_shift[k] = shiftfunction(x,y,eps[k])"
     ],
     "language": "python",
     "metadata": {},
     "outputs": [
      {
       "output_type": "stream",
       "stream": "stdout",
       "text": [
        "1643\n"
       ]
      },
      {
       "output_type": "stream",
       "stream": "stderr",
       "text": [
        "-c:15: RuntimeWarning: invalid value encountered in sqrt\n"
       ]
      }
     ],
     "prompt_number": 16
    },
    {
     "cell_type": "code",
     "collapsed": false,
     "input": [
      "# NOTA: ESDTA CURVA ES IMPORTante pq demuestra que si movemos la superficie desde arriba de todo de la gota hasta abajo de todo,\n",
      "# podemos obtener todos los angulos => incluir este grafico junto con la parte interesante grande (zoomed)\n",
      "plt.plot(eps,theta_shift)\n",
      "plt.show"
     ],
     "language": "python",
     "metadata": {},
     "outputs": [
      {
       "metadata": {},
       "output_type": "pyout",
       "prompt_number": 17,
       "text": [
        "<function matplotlib.pyplot.show>"
       ]
      },
      {
       "metadata": {},
       "output_type": "display_data",
       "png": "[encoded data removed]",
       "text": [
        "<matplotlib.figure.Figure at 0x10f83de10>"
       ]
      }
     ],
     "prompt_number": 17
    },
    {
     "cell_type": "code",
     "collapsed": false,
     "input": [
      "plt.plot(eps,rbase_shift)\n",
      "plt.show"
     ],
     "language": "python",
     "metadata": {},
     "outputs": [
      {
       "metadata": {},
       "output_type": "pyout",
       "prompt_number": 18,
       "text": [
        "<function matplotlib.pyplot.show>"
       ]
      },
      {
       "metadata": {},
       "output_type": "display_data",
       "png": "[encoded data removed]",
       "text": [
        "<matplotlib.figure.Figure at 0x10fb74810>"
       ]
      }
     ],
     "prompt_number": 18
    },
    {
     "cell_type": "code",
     "collapsed": false,
     "input": [
      "plt.plot(eps,cos(radians(theta_shift)))\n",
      "plt.show"
     ],
     "language": "python",
     "metadata": {},
     "outputs": [
      {
       "metadata": {},
       "output_type": "pyout",
       "prompt_number": 19,
       "text": [
        "<function matplotlib.pyplot.show>"
       ]
      },
      {
       "metadata": {},
       "output_type": "display_data",
       "png": "[encoded data removed]",
       "text": [
        "<matplotlib.figure.Figure at 0x10fe01050>"
       ]
      }
     ],
     "prompt_number": 19
    },
    {
     "cell_type": "code",
     "collapsed": false,
     "input": [
      "plt.plot(eps,1/rbase_shift)\n",
      "plt.show"
     ],
     "language": "python",
     "metadata": {},
     "outputs": [
      {
       "metadata": {},
       "output_type": "pyout",
       "prompt_number": 20,
       "text": [
        "<function matplotlib.pyplot.show>"
       ]
      },
      {
       "metadata": {},
       "output_type": "display_data",
       "png": "[encoded data removed]",
       "text": [
        "<matplotlib.figure.Figure at 0x10fe2f050>"
       ]
      }
     ],
     "prompt_number": 20
    },
    {
     "cell_type": "code",
     "collapsed": false,
     "input": [
      "%cd /Users/burbol2/Downloads/\n",
      "SAMPeaks=np.loadtxt('SAMPeaks.txt', skiprows=1)\n",
      "WaterPeaks=np.loadtxt('WaterPeaksFinal.txt', skiprows=1)\n",
      "print len(SAMPeaks),len(WaterPeaks)"
     ],
     "language": "python",
     "metadata": {},
     "outputs": [
      {
       "output_type": "stream",
       "stream": "stdout",
       "text": [
        "/Users/burbol2/Downloads\n",
        "60 60\n"
       ]
      }
     ],
     "prompt_number": 21
    },
    {
     "cell_type": "code",
     "collapsed": false,
     "input": [
      "epsilon_test=SAMPeaks[n]-WaterPeaks[n]\n",
      "print epsilon_test"
     ],
     "language": "python",
     "metadata": {},
     "outputs": [
      {
       "output_type": "stream",
       "stream": "stdout",
       "text": [
        "-0.36\n"
       ]
      }
     ],
     "prompt_number": 22
    },
    {
     "cell_type": "code",
     "collapsed": false,
     "input": [],
     "language": "python",
     "metadata": {},
     "outputs": [],
     "prompt_number": 22
    },
    {
     "cell_type": "code",
     "collapsed": false,
     "input": [],
     "language": "python",
     "metadata": {},
     "outputs": []
    }
   ],
   "metadata": {}
  }
 ]
}