{
 "cells": [
  {
   "cell_type": "code",
   "execution_count": 4,
   "metadata": {
    "collapsed": true
   },
   "outputs": [],
   "source": [
    "import numpy as np\n",
    "import matplotlib.pyplot as plt\n",
    "from scipy.odr import *\n",
    "\n",
    "x   = np.linspace(0,1E15,10)\n",
    "y   = 1E-15*x-2\n",
    "sx = np.std(x)\n",
    "sy = np.std(y)"
   ]
  },
  {
   "cell_type": "code",
   "execution_count": 5,
   "metadata": {
    "collapsed": true
   },
   "outputs": [],
   "source": [
    "# Fit using odr\n",
    "\n",
    "def f(B, x):\n",
    "    return B[0]*x + B[1]"
   ]
  },
  {
   "cell_type": "code",
   "execution_count": 6,
   "metadata": {
    "collapsed": false
   },
   "outputs": [
    {
     "name": "stdout",
     "output_type": "stream",
     "text": [
      "Beta: [  1.00000000e-15  -2.00000000e+00]\n",
      "Beta Std Error: [  2.52951338e-31   1.50043381e-16]\n",
      "Beta Covariance: [[  1.99999934e-31  -9.99999461e-17]\n",
      " [ -9.99999461e-17   7.03703278e-02]]\n",
      "Residual Variance: 3.19922001424e-31\n",
      "Inverse Condition #: 0.141644968083\n",
      "Reason(s) for Halting:\n",
      "  Parameter convergence\n"
     ]
    }
   ],
   "source": [
    "linear = Model(f)\n",
    "mydata = RealData(x=x,y=y, sx=sx, sy=sy)\n",
    "myodr = ODR(mydata, linear, beta0=[1.00000000e-15, 2.])\n",
    "myoutput = myodr.run()\n",
    "myoutput.pprint()"
   ]
  },
  {
   "cell_type": "code",
   "execution_count": 11,
   "metadata": {
    "collapsed": false
   },
   "outputs": [],
   "source": [
    "fig = plt.figure()\n",
    "ax1 = fig.add_subplot(111)\n",
    "ax1.set_xlim(-0.05E15,1.1E15)\n",
    "ax1.set_ylim(-2.1, -0.7)    \n",
    "ax1.plot(x, y, 'o')\n",
    "\n",
    "a, b = myoutput.beta\n",
    "sa, sb = myoutput.sd_beta\n",
    "\n",
    "xp = np.linspace(min(x), max(x), 1000)\n",
    "yp = a*xp+b\n",
    "ax1.plot(xp,yp)\n",
    "plt.show()"
   ]
  },
  {
   "cell_type": "code",
   "execution_count": 9,
   "metadata": {
    "collapsed": false
   },
   "outputs": [
    {
     "name": "stdout",
     "output_type": "stream",
     "text": [
      "[  0.00000000e+00   1.11111111e+14   2.22222222e+14   3.33333333e+14\n",
      "   4.44444444e+14   5.55555556e+14   6.66666667e+14   7.77777778e+14\n",
      "   8.88888889e+14   1.00000000e+15]\n",
      "[-2.         -1.88888889 -1.77777778 -1.66666667 -1.55555556 -1.44444444\n",
      " -1.33333333 -1.22222222 -1.11111111 -1.        ]\n"
     ]
    }
   ],
   "source": [
    "print x\n",
    "print y"
   ]
  },
  {
   "cell_type": "code",
   "execution_count": 10,
   "metadata": {
    "collapsed": false
   },
   "outputs": [
    {
     "name": "stdout",
     "output_type": "stream",
     "text": [
      "3.19142369252e+14\n",
      "0.319142369252\n"
     ]
    }
   ],
   "source": [
    "print sx\n",
    "print sy"
   ]
  },
  {
   "cell_type": "code",
   "execution_count": null,
   "metadata": {
    "collapsed": true
   },
   "outputs": [],
   "source": []
  }
 ],
 "metadata": {
  "kernelspec": {
   "display_name": "Python 2",
   "language": "python",
   "name": "python2"
  },
  "language_info": {
   "codemirror_mode": {
    "name": "ipython",
    "version": 2
   },
   "file_extension": ".py",
   "mimetype": "text/x-python",
   "name": "python",
   "nbconvert_exporter": "python",
   "pygments_lexer": "ipython2",
   "version": "2.7.11"
  }
 },
 "nbformat": 4,
 "nbformat_minor": 0
}
