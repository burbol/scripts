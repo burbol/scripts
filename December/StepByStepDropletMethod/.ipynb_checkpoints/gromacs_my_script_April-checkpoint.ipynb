{
 "cells": [
  {
   "cell_type": "code",
   "execution_count": 15,
   "metadata": {
    "collapsed": false
   },
   "outputs": [],
   "source": [
    "# type first on the shell \"source /usr/local/gromacs/bin/GMXRC\"\n",
    "import gromacs\n",
    "gromacs.config.setup()"
   ]
  },
  {
   "cell_type": "code",
   "execution_count": 16,
   "metadata": {
    "collapsed": false
   },
   "outputs": [
    {
     "name": "stdout",
     "output_type": "stream",
     "text": [
      "Populating the interactive namespace from numpy and matplotlib\n"
     ]
    }
   ],
   "source": [
    "%pylab inline"
   ]
  },
  {
   "cell_type": "code",
   "execution_count": 17,
   "metadata": {
    "collapsed": false
   },
   "outputs": [],
   "source": [
    "rcParams['text.usetex'] = True\n",
    "matplotlib.rcParams['legend.markerscale'] = 0\n",
    "matplotlib.rcParams['legend.handletextpad'] = 0.3\n",
    "#matplotlib.rcParams['legend.markerscale'] = 1 \n",
    "matplotlib.rcParams['legend.numpoints'] = 1\n",
    "matplotlib.rcParams['legend.handlelength'] = 0.5\n",
    "matplotlib.rcParams['font.family'] = 'Times New Roman Bold' \n",
    "pyplot.rcParams.update({'legend.labelspacing':0.25})\n",
    "\n",
    "#Direct input \n",
    "plt.rcParams['text.latex.preamble']=[r\"\\usepackage{lmodern}\"]\n",
    "#Options\n",
    "params = {\n",
    "          'text.latex.unicode': True,\n",
    "          }\n",
    "plt.rcParams.update(params) "
   ]
  },
  {
   "cell_type": "code",
   "execution_count": 18,
   "metadata": {
    "collapsed": false
   },
   "outputs": [],
   "source": [
    "import matplotlib \n",
    "import matplotlib.pyplot as plt\n",
    "from scipy.optimize import curve_fit\n",
    "from scipy import optimize\n",
    "from scipy import odr"
   ]
  },
  {
   "cell_type": "code",
   "execution_count": 19,
   "metadata": {
    "collapsed": false
   },
   "outputs": [],
   "source": [
    ">>> import numpy as np\n",
    ">>> import gromacs.formats\n",
    ">>> xvg = gromacs.formats.XVG()"
   ]
  },
  {
   "cell_type": "code",
   "execution_count": 20,
   "metadata": {
    "collapsed": false
   },
   "outputs": [
    {
     "name": "stdout",
     "output_type": "stream",
     "text": [
      "[Errno 2] No such file or directory: '/Volumes/UNI/SHELDON/files_for_laila/g_rad_densmaps_all'\n",
      "/Users/burbol2/Downloads/s11_densmaps_copy/next\n"
     ]
    }
   ],
   "source": [
    "%cd /Volumes/UNI/SHELDON/files_for_laila/g_rad_densmaps_all\n",
    "#%cd /Volumes/UNI/SHELDON/g_rad_densmaps_s33s50"
   ]
  },
  {
   "cell_type": "code",
   "execution_count": 21,
   "metadata": {
    "collapsed": false
   },
   "outputs": [
    {
     "name": "stdout",
     "output_type": "stream",
     "text": [
      "/Users/burbol2/Downloads/s11_densmaps_copy/next\n"
     ]
    }
   ],
   "source": [
    "# When external HD not there, I copied densmaps to local folder (25/Feb/2016)\n",
    "%cd \"/Users/burbol2/Downloads/s11_densmaps_copy/next\""
   ]
  },
  {
   "cell_type": "code",
   "execution_count": 22,
   "metadata": {
    "collapsed": false
   },
   "outputs": [
    {
     "name": "stdout",
     "output_type": "stream",
     "text": [
      "19.0 19.5\n",
      "Just read: g_rad_dmap_11pc_w6500_19.0ns_19.5ns.xvg\n"
     ]
    }
   ],
   "source": [
    "b=11\n",
    "c=6500\n",
    "starttime = 19.0\n",
    "\n",
    "endtime = starttime +0.5\n",
    "print str(starttime),str(endtime)\n",
    "\n",
    "xvg.read(\"g_rad_dmap_\"+str(b)+\"pc_w\"+str(c)+\"_\"+str(starttime)+\"ns_\"+str(endtime)+\"ns.xvg\")\n",
    "print \"Just read: g_rad_dmap_\"+str(b)+\"pc_w\"+str(c)+\"_\"+str(starttime)+\"ns_\"+str(endtime)+\"ns.xvg\""
   ]
  },
  {
   "cell_type": "code",
   "execution_count": 23,
   "metadata": {
    "collapsed": false
   },
   "outputs": [],
   "source": [
    "#plotsfolder=\"/Users/burbol2/Dropbox/Apps/Texpad/PaperPics/\"\n",
    "#plotsfolder=\"/Users/burbol2/Dropbox/Apps/Texpad/Diplom/DiplomThesis/subfiles/Methods/Images/\"\n",
    "plotsfolder=\"/Users/burbol2/Desktop/\" ##When external HD not there\n",
    "circleplot='circle_fit_s'+str(b)+'_w'+str(c)+'_'+str(starttime)+'ns.eps' \n",
    "sigmoidplot='sigmoid_fit_s'+str(b)+'_w'+str(c)+'_'+str(starttime)+'ns.eps' "
   ]
  },
  {
   "cell_type": "code",
   "execution_count": 28,
   "metadata": {
    "collapsed": false
   },
   "outputs": [
    {
     "name": "stdout",
     "output_type": "stream",
     "text": [
      "b= 11 c= 6500\n",
      "shift= 2.664\n"
     ]
    }
   ],
   "source": [
    "SAMs=[0, 5, 11, 17,33,50]\n",
    "waters=[1000, 2000, 3000, 4000, 5000, 6500, 7000, 8000, 9000, 10000]\n",
    "#Here we read from a file the positions of the first water peaks of each system and save them in the array \"peak\" \n",
    "# => UNCOMMENT WHEN EXTERNAL HD PRESENT!!!!\n",
    "#peak = np.loadtxt('/Users/burbol2/Dropbox/Apps/Computable/Definitions_Interface/All_systems_without66/WaterPeaksFinal.txt', skiprows=1)\n",
    "peak = np.loadtxt('../WaterPeaksFinal.txt', skiprows=1)\n",
    "\n",
    "# We create the dictionary \"systems\" which relates the systems with the positions of the array \"peakcount\". \n",
    "# For example: \"systems[(11, 3000)]\" would give back the position 22, which can be used to call \"peakcount[22]\" \n",
    "# and get back the shift value of the system with a SAM  with 11% OH- coverage and a water droplet of 3000 molecules.\n",
    "# This is done for the case of using this script with only a subgroup of systems\n",
    "peakpos = 0\n",
    "systems={}\n",
    "for b2 in SAMs:\n",
    "    for c2 in waters:\n",
    "        z = b2, c2\n",
    "        systems[z] = peakpos\n",
    "        peakpos = peakpos + 1\n",
    "\n",
    "#We substitute the values \"b\" and \"c\" to get the corresponding shift value\n",
    "print \"b=\",b,\"c=\",c\n",
    "peakcount = systems[(b, c)]\n",
    "shift = peak[peakcount]\n",
    "print \"shift=\", shift"
   ]
  },
  {
   "cell_type": "code",
   "execution_count": 26,
   "metadata": {
    "collapsed": false
   },
   "outputs": [
    {
     "name": "stdout",
     "output_type": "stream",
     "text": [
      "b= 11 c= 6500\n",
      "shift2= 2.50575\n"
     ]
    }
   ],
   "source": [
    "#Here we read from a file the positions of the first water peaks of each system and save them in the array \"peak\"\n",
    "#peak2 = np.loadtxt('/Users/burbol2/Dropbox/Apps/Computable/Definitions_Interface/All_systems_without66/GDS_positions_CORRECTED.txt', skiprows=1)\n",
    "peak2 = np.loadtxt('../GDS_positions_CORRECTED.txt', skiprows=1)\n",
    "\n",
    "# We create the dictionary \"systems\" which relates the systems with the positions of the array \"peakcount\". \n",
    "# For example: \"systems[(11, 3000)]\" would give back the position 22, which can be used to call \"peakcount[22]\" \n",
    "# and get back the shift value of the system with a SAM  with 11% OH- coverage and a water droplet of 3000 molecules.\n",
    "# This is done for the case of using this script with only a subgroup of systems\n",
    "peakpos = 0\n",
    "systems2={}\n",
    "for b2 in SAMs:\n",
    "    for c2 in waters:\n",
    "        z = b2, c2\n",
    "        systems2[z] = peakpos\n",
    "        peakpos = peakpos + 1\n",
    "\n",
    "#We substitute the values \"b\" and \"c\" to get the corresponding shift value\n",
    "print \"b=\",b,\"c=\",c\n",
    "peakcount = systems2[(b, c)]\n",
    "shift2 = peak2[peakcount]\n",
    "print \"shift2=\", shift2"
   ]
  },
  {
   "cell_type": "code",
   "execution_count": 27,
   "metadata": {
    "collapsed": false
   },
   "outputs": [
    {
     "name": "stdout",
     "output_type": "stream",
     "text": [
      "b= 11 c= 6500\n",
      "shift3= 2.316\n"
     ]
    }
   ],
   "source": [
    "#Here we read from a file the positions of the first water peaks of each system and save them in the array \"peak\"\n",
    "#peak3 = np.loadtxt('/Users/burbol2/Dropbox/Apps/Computable/Definitions_Interface/All_systems_without66/SAMPeaks.txt', skiprows=1)\n",
    "peak3 = np.loadtxt('../SAMPeaks.txt', skiprows=1)\n",
    "\n",
    "# We create the dictionary \"systems\" which relates the systems with the positions of the array \"peakcount\". \n",
    "# For example: \"systems[(11, 3000)]\" would give back the position 22, which can be used to call \"peakcount[22]\" \n",
    "# and get back the shift value of the system with a SAM  with 11% OH- coverage and a water droplet of 3000 molecules.\n",
    "# This is done for the case of using this script with only a subgroup of systems\n",
    "peakpos = 0\n",
    "systems3={}\n",
    "for b2 in SAMs:\n",
    "    for c2 in waters:\n",
    "        z = b2, c2\n",
    "        systems3[z] = peakpos\n",
    "        peakpos = peakpos + 1\n",
    "\n",
    "#We substitute the values \"b\" and \"c\" to get the corresponding shift value\n",
    "print \"b=\",b,\"c=\",c\n",
    "peakcount = systems3[(b, c)]\n",
    "shift3 = peak3[peakcount]\n",
    "print \"shift3=\", shift3"
   ]
  },
  {
   "cell_type": "code",
   "execution_count": 29,
   "metadata": {
    "collapsed": false
   },
   "outputs": [
    {
     "name": "stdout",
     "output_type": "stream",
     "text": [
      "2.664 2.50575 2.316\n"
     ]
    }
   ],
   "source": [
    "#print shift-shift2\n",
    "#shift3=shift - ((shift-shift2)/2)\n",
    "print shift,shift2,shift3"
   ]
  },
  {
   "cell_type": "code",
   "execution_count": 30,
   "metadata": {
    "collapsed": false
   },
   "outputs": [
    {
     "data": {
      "image/png": "[encoded data removed]",
      "text/plain": [
       "<matplotlib.figure.Figure at 0x10df83a10>"
      ]
     },
     "metadata": {},
     "output_type": "display_data"
    }
   ],
   "source": [
    "xvg.plot()"
   ]
  },
  {
   "cell_type": "code",
   "execution_count": 31,
   "metadata": {
    "collapsed": false
   },
   "outputs": [
    {
     "data": {
      "image/png": "[encoded data removed]",
      "text/plain": [
       "<matplotlib.figure.Figure at 0x1119f3b90>"
      ]
     },
     "metadata": {},
     "output_type": "display_data"
    }
   ],
   "source": [
    "#colclass = matplotlib.colors.Colormap(jet, N=256)\n",
    "#matplotlib.cm.register_cmap(name='jet', cmap='colclass')\n",
    "#matplotlib.colors.ListedColormap([0,0,0], name='jet', N=None)\n",
    "#mycolor = matplotlib.cm.get_cmap(name='jet', lut=None)\n",
    "xvg.plot(columns=[0,58], maxpoints=None, alpha=1)"
   ]
  },
  {
   "cell_type": "code",
   "execution_count": 32,
   "metadata": {
    "collapsed": false
   },
   "outputs": [
    {
     "data": {
      "image/png": "[encoded data removed]",
      "text/plain": [
       "<matplotlib.figure.Figure at 0x111e2db10>"
      ]
     },
     "metadata": {},
     "output_type": "display_data"
    }
   ],
   "source": [
    "xvg.errorbar(columns=[0,100,1], maxpoints=1000, color=\"red\")"
   ]
  },
  {
   "cell_type": "code",
   "execution_count": 33,
   "metadata": {
    "collapsed": false
   },
   "outputs": [],
   "source": [
    "input = xvg.array"
   ]
  },
  {
   "cell_type": "code",
   "execution_count": 34,
   "metadata": {
    "collapsed": false
   },
   "outputs": [
    {
     "name": "stdout",
     "output_type": "stream",
     "text": [
      "len(input)= 201 len(x)= 1000\n",
      "slice= 2 , x[slice]= 0.34856 , y[0]= 0.0 , y[slice]= 0.0\n"
     ]
    }
   ],
   "source": [
    "# Checking values\n",
    "x = input[0]\n",
    "print \"len(input)=\",len(input),\"len(x)=\", len(x)\n",
    "slice = 2\n",
    "y = input[slice]\n",
    "print \"slice=\", slice, \", x[slice]=\", x[slice],\", y[0]=\", y[0],\", y[slice]=\", y[slice]"
   ]
  },
  {
   "cell_type": "code",
   "execution_count": 35,
   "metadata": {
    "collapsed": false
   },
   "outputs": [
    {
     "name": "stdout",
     "output_type": "stream",
     "text": [
      "S= 0.06  is the height of each slice\n",
      "first coordinates of zcoord -2.664 -2.604 -2.544 9.276\n"
     ]
    }
   ],
   "source": [
    "# Here we create the array \"zcoord\" with the z-coordinates of the slices with the shift value already subtracted. \n",
    "# The system total length in the z-direction is ZLENGTH=12.0 nm. Change this value if necessary.\n",
    "ZLENGTH = 12.0\n",
    "slicestotal = len(input) - 1\n",
    "S = ZLENGTH/ slicestotal\n",
    "print \"S=\", S, \" is the height of each slice\"\n",
    "zcoord = np.zeros(len(input)-1)\n",
    "for i in range(1,len(input)): \n",
    "    zcoord[i-1] = (S *(i-1))-shift\n",
    "print \"first coordinates of zcoord\", zcoord[0], zcoord[1], zcoord[2], zcoord[-1]"
   ]
  },
  {
   "cell_type": "code",
   "execution_count": 36,
   "metadata": {
    "collapsed": false
   },
   "outputs": [],
   "source": [
    "# Searching for initian guess for the first parameter of the fit\n",
    "def guess(y):\n",
    "    m = max(y)\n",
    "    m2 = min(y)\n",
    "    third = (m - m2)/3\n",
    "    bottom = m - third\n",
    "    tot = 0\n",
    "    count = 0\n",
    "    for i in range(0, len(y)):\n",
    "        if y[i] >= bottom:\n",
    "            tot = tot + y[i]\n",
    "            count = count + 1\n",
    "    At = tot / count\n",
    "    return At"
   ]
  },
  {
   "cell_type": "code",
   "execution_count": 37,
   "metadata": {
    "collapsed": false
   },
   "outputs": [],
   "source": [
    "def func(r, ro, R, d):\n",
    "    return (ro/2)*(1-np.tanh(2*(r-R)/d))"
   ]
  },
  {
   "cell_type": "code",
   "execution_count": 38,
   "metadata": {
    "collapsed": false
   },
   "outputs": [],
   "source": [
    "# THE FUNCTION waterbulk() DETERMINES THE BULK VALUE OF WATER DENSITY\n",
    "# It takes 3 arguments: \n",
    "# input: all the data of the density map of one system (type: list with total length=1000, and length of each element input[i]=201)\n",
    "# zcoord: the z-coordinates of the slices of the system (type: list with length=200)\n",
    "# func: sigmoidal function used to fit the density data of one slice (type: function)\n",
    "def waterbulk(input, zcoord, func):\n",
    "    print \"WE ARE INSIDE THE FUNCTION WATERBULK\"\n",
    "    x = input[0]\n",
    "    densmean = np.zeros(200)\n",
    "    i = 0\n",
    "    start = 0\n",
    "    for slice in range(1,200):\n",
    "        ymean = input[slice]\n",
    "        At = guess(ymean) \n",
    "        #k = At\n",
    "        popt, pcov = curve_fit(func, x, ymean,[At, 2, 1], maxfev=10000)\n",
    "        k = func(0,*popt)\n",
    "        densmean[slice]=k\n",
    "        if k > 800:\n",
    "           start = slice - i\n",
    "           i = i + 1\n",
    "           end = start + i\n",
    "           densmean2 = np.zeros(i + 1)\n",
    "           i2 = 0\n",
    "    for slice2 in range(0,200):\n",
    "        ymean = input[slice2]\n",
    "        At = guess(ymean)\n",
    "        #k = At\n",
    "        popt, pcov = curve_fit(func, x, ymean,[At, 2, 1], maxfev=10000)\n",
    "        k = func(0,*popt)\n",
    "        if k > 800:\n",
    "            densmean2[i2] = k\n",
    "            i2 = i2 + 1\n",
    "    print \"WE ARE IN THE LAST LINE OF THE FUNCTION WATERBULK\"\n",
    "    return np.median(densmean2)\n",
    "#for slice in range(100,110):\n",
    "    #ymean = input[slice]\n",
    "    #print guess(ymean*2)"
   ]
  },
  {
   "cell_type": "code",
   "execution_count": 39,
   "metadata": {
    "collapsed": false
   },
   "outputs": [
    {
     "name": "stdout",
     "output_type": "stream",
     "text": [
      "WE ARE INSIDE THE FUNCTION WATERBULK\n",
      "WE ARE IN THE LAST LINE OF THE FUNCTION WATERBULK\n",
      "999.926977536\n"
     ]
    },
    {
     "name": "stderr",
     "output_type": "stream",
     "text": [
      "/Users/burbol2/anaconda/lib/python2.7/site-packages/scipy/optimize/minpack.py:690: OptimizeWarning: Covariance of the parameters could not be estimated\n",
      "  category=OptimizeWarning)\n"
     ]
    }
   ],
   "source": [
    "bulk=waterbulk(input, zcoord, func)\n",
    "print bulk"
   ]
  },
  {
   "cell_type": "code",
   "execution_count": 40,
   "metadata": {
    "collapsed": false
   },
   "outputs": [
    {
     "name": "stdout",
     "output_type": "stream",
     "text": [
      "[  1.00910154e+03   2.11581705e+00   6.59775145e-01] [[  9.54898593e+01  -4.62520895e-02   1.22392206e-01]\n",
      " [ -4.62520895e-02   7.62580780e-05  -7.60770214e-05]\n",
      " [  1.22392206e-01  -7.60770214e-05   8.24914102e-04]]\n"
     ]
    },
    {
     "data": {
      "image/png": "[encoded data removed]",
      "text/plain": [
       "<matplotlib.figure.Figure at 0x11281ba50>"
      ]
     },
     "metadata": {},
     "output_type": "display_data"
    }
   ],
   "source": [
    "slice = 124\n",
    "y = input[slice]\n",
    "pos = zcoord[slice]\n",
    "\n",
    "popt, pcov = curve_fit(func, x, y,[1000, 3, 1])\n",
    "print popt, pcov\n",
    "linex=popt[1]*np.ones(40)\n",
    "liney=np.linspace(0,1800,40)\n",
    "\n",
    "plt.plot(x, func(x, *popt),'r-',label='fitted density profile',linewidth=4)\n",
    "plt.plot(x,y,'k.',label='average radial density')\n",
    "plt.plot(linex,liney, lw=2, label='LG-interface')\n",
    "\n",
    "plt.xlabel('Radius [nm]',fontsize=22)\n",
    "#plt.ylabel(r' [nm]',fontsize=22)\n",
    "plt.ylabel(r'Density [$\\frac{kg}{m^3}$]',fontsize=27)\n",
    "rcParams['legend.numpoints'] = 1\n",
    "fig = matplotlib.pyplot.gcf()\n",
    "fig.set_size_inches(7,5)\n",
    "\n",
    "matplotlib.rcParams['legend.markerscale'] = 1.5\n",
    "first_legend = plt.legend(loc=0,handletextpad=0.3,borderpad=0.3,fontsize=16)\n",
    "\n",
    "xticks(fontsize=16)\n",
    "yticks(fontsize=16)\n",
    "\n",
    "titletext = r'$\\Phi = \\ $' +str(b)+ '\\%, $n_{W}=\\ $' +str(c)+ ', $z = \\ $' +str(pos)+'nm, $t_0 = \\ $'+ str(int(starttime))+'ns'\n",
    "thetitle = plt.suptitle(titletext,fontsize=20,fontweight='bold')\n",
    "\n",
    "plt.savefig(plotsfolder+sigmoidplot, bbox_inches='tight',dpi=400)"
   ]
  },
  {
   "cell_type": "code",
   "execution_count": 41,
   "metadata": {
    "collapsed": false
   },
   "outputs": [
    {
     "name": "stdout",
     "output_type": "stream",
     "text": [
      "1009.09882754\n"
     ]
    }
   ],
   "source": [
    "k = func(0,*popt)\n",
    "print k"
   ]
  },
  {
   "cell_type": "code",
   "execution_count": 42,
   "metadata": {
    "collapsed": false
   },
   "outputs": [],
   "source": [
    "def checkslice(s, t, bulk):\n",
    "    popt, pcov = curve_fit(func, x, s,[t, 2, 1],maxfev=10000)\n",
    "    k = func(0,*popt)\n",
    "    bulklimit = 0.9*bulk\n",
    "    if k > bulklimit:\n",
    "        return True\n",
    "    else: \n",
    "        return False"
   ]
  },
  {
   "cell_type": "code",
   "execution_count": 43,
   "metadata": {
    "collapsed": false
   },
   "outputs": [
    {
     "name": "stdout",
     "output_type": "stream",
     "text": [
      "first guess for slicemin =  44\n"
     ]
    }
   ],
   "source": [
    "slicemin = 0\n",
    "for slice in range(0,150):\n",
    "    y = input[slice]\n",
    "    At = guess(y)\n",
    "    if checkslice(y, At, bulk):\n",
    "       slicemin = slice\n",
    "       print \"first guess for slicemin = \",  slicemin\n",
    "       break\n",
    "    else: continue"
   ]
  },
  {
   "cell_type": "code",
   "execution_count": 44,
   "metadata": {
    "collapsed": false
   },
   "outputs": [
    {
     "name": "stdout",
     "output_type": "stream",
     "text": [
      "first guess for slicemax =  133\n"
     ]
    }
   ],
   "source": [
    "slicemax = 0\n",
    "for slice in range(200,0,-1):\n",
    "    y = input[slice]\n",
    "    At = guess(y)\n",
    "    if checkslice(y, At, bulk):\n",
    "       slicemax = slice\n",
    "       print \"first guess for slicemax = \", slicemax\n",
    "       break\n",
    "    else: continue"
   ]
  },
  {
   "cell_type": "code",
   "execution_count": 45,
   "metadata": {
    "collapsed": false
   },
   "outputs": [
    {
     "name": "stdout",
     "output_type": "stream",
     "text": [
      "zeroslice= 45\n",
      "shift= 2.664 , zcoord[zeroslice-1]= -0.024 , zcoord[zeroslice]= 1.65336\n"
     ]
    }
   ],
   "source": [
    "# We set the number of the first slice as \"zeroslice\", which will be used later for leaving the first 8nm above the surface out of the fitted data.  \n",
    "zeroslice = 0\n",
    "cnt = 0\n",
    "for slicepos in zcoord:\n",
    "    #print slicepos\n",
    "    if slicepos >= 0.0: \n",
    "        zeroslice = cnt\n",
    "        break\n",
    "    cnt = cnt + 1\n",
    "print \"zeroslice=\", zeroslice\n",
    "print \"shift=\", shift, \", zcoord[zeroslice-1]=\", zcoord[zeroslice-1],\", zcoord[zeroslice]=\", x[zeroslice]"
   ]
  },
  {
   "cell_type": "code",
   "execution_count": 46,
   "metadata": {
    "collapsed": false
   },
   "outputs": [
    {
     "name": "stdout",
     "output_type": "stream",
     "text": [
      "45 45 133\n",
      "shift= 2.664\n"
     ]
    }
   ],
   "source": [
    "#We leave the slices below zero out of the fit\n",
    "if zeroslice > slicemin:\n",
    "   slicemin = zeroslice \n",
    "print zeroslice, slicemin, slicemax\n",
    "print \"shift=\", shift"
   ]
  },
  {
   "cell_type": "code",
   "execution_count": 47,
   "metadata": {
    "collapsed": false
   },
   "outputs": [],
   "source": [
    "# FUNCTION \"from_slice_circle\" to make a circle fit of some consecutive slices\n",
    "# slicemin: number of the first slice; \n",
    "# slicemax: number of the last slice\n",
    "# input: array containing all the data of the density map of all the slices \n",
    "# zcoord: list with the z-coordinates of all the slices\n",
    "# returns 7 variables: \n",
    "# xc, yc, R_2: the coordinates of the circle center and its radius (xc corresponds to the z-position and yc to the radial distance to the central axis of the drop. \n",
    "#   But yc won't be used for later calculations and has to be set it to yc=0).\n",
    "# residu, residu2: error of the circle fit and quadratic error\n",
    "# z, R: coordinates of the resulting points of the fitted radial density profile of each slice between slicemin and slicemax\n",
    "# \n",
    "def from_slice_circle(slicemax, slicemin, input, zcoord):\n",
    "   \t    \n",
    "# Now we determine R and z. \n",
    "# R comes from the fit, and z is a vector with the shifted positions of the slices.\n",
    "    dims = slicemax - slicemin + 1\n",
    "    x = input[0]\n",
    "    i=0\n",
    "    z = np.zeros(dims)\n",
    "    R = np.zeros(dims)\n",
    "    for a in range(slicemin, slicemax+1):\n",
    "        y2 = input[a]\n",
    "        i = a - slicemin\n",
    "        z[i] = zcoord[a-1] \n",
    "        At = guess(y2)\n",
    "        params, pcov2 = curve_fit(func, x, y2,[At, 2, 1], maxfev=10000)\n",
    "        R[i] = params[1]\n",
    "# Here we use part of the source code of a website, to fit points to a circle.--> \"http://wiki.scipy.org/Cookbook/Least_Squares_Circle\"\n",
    "     \n",
    "    x_m = mean(z)\n",
    "    y_m = mean(R)\n",
    "    x = z\n",
    "    y = R\n",
    "    \n",
    "    # == METHOD 3 ==\n",
    "    # Basic usage of odr with an implicit function definition\n",
    "\n",
    "    def calc_R(xc, yc):\n",
    "         \"\"\" calculate the distance of each 2D points from the center c=(xc, yc) \"\"\"\n",
    "         return sqrt((x-xc)**2 + (y-yc)**2)\n",
    "\n",
    "    def f_3(beta, x):\n",
    "         \"\"\" implicit definition of the circle \"\"\"\n",
    "         return (x[0]-beta[0])**2 + (x[1])**2 -beta[2]**2\n",
    "\n",
    "    # initial guess for parameters\n",
    "    R_m = calc_R(x_m, 0).mean()\n",
    "    beta0 = [ x_m, 0, R_m]\n",
    "\n",
    "    # for implicit function :\n",
    "    #       data.x contains both coordinates of the points\n",
    "    #       data.y is the dimensionality of the response\n",
    "    lsc_data   = odr.Data(row_stack([x, y]), y=1)\n",
    "    lsc_model  = odr.Model(f_3, implicit=True)\n",
    "    lsc_odr    = odr.ODR(lsc_data, lsc_model, beta0)\n",
    "    lsc_out    = lsc_odr.run()\n",
    "\n",
    "    xc_3, yc_3, R_3 = lsc_out.beta\n",
    "    Ri_3       = calc_R(xc_3, yc_3)\n",
    "    residu_3   = sum((Ri_3 - R_3)**2)\n",
    "    residu2_3  = sum((Ri_3**2-R_3**2)**2)\n",
    "    \n",
    "    # We translate all the circle down, so that yc=0        \n",
    "    #R = R\n",
    "    #yc = yc - yc\n",
    "\n",
    "    return xc_3, yc_3, R_3, residu_3, residu2_3, z, R"
   ]
  },
  {
   "cell_type": "code",
   "execution_count": 48,
   "metadata": {
    "collapsed": false
   },
   "outputs": [],
   "source": [
    "# The function \"distance\" calculates the distance between the fitted circle and a point. It takes 5 argumets:\n",
    "# x, y are the coordinates of the point; xc, yc are the coordinates of the circle center; R is its radius.\n",
    "def distance(x, y, xc, yc,R):\n",
    "    a = np.asarray([x,y])\n",
    "    b = np.asarray([xc,yc])\n",
    "    d = np.linalg.norm(a - b)- R\n",
    "    d = math.fabs(d)\n",
    "    return d "
   ]
  },
  {
   "cell_type": "code",
   "execution_count": 49,
   "metadata": {
    "collapsed": false
   },
   "outputs": [
    {
     "name": "stdout",
     "output_type": "stream",
     "text": [
      "xc, yc, R_2, z[-1], R[-1], residu, residu2\n",
      "1.48634057162 0.0 3.85827286369 5.256 1.1533080402 0.076847084423 4.61104932405\n",
      "shift is 2.664\n",
      "Starting the search for the best slicemin. We start with slicemin = 45\n",
      "d is smaller then epsilon: d= 0.0195181639104\n",
      "subtracted 1 from slicemin. Now slicemin= 44\n",
      "New d= 0.0561614233011\n",
      "We subtracted one too much. d has become bigger then epsilon ->d= 0.0561614233011\n",
      "We add one slice again. Now slicemin= 45 And d= 0.0195181639104\n",
      "Out of search loop! slicemin= 45 and its d= 0.0195181639104\n",
      "Starting the search for the best slicemax. We start with slicemax = 133 And slicesnr= 88\n",
      "d is bigger then epsilon: d= 0.0838650894501\n",
      "subtracted 1 from slicemax. Now slicemax= 132 And slicesnr= 88\n",
      "New d= 0.0971549068906\n",
      "subtracted 1 from slicemax. Now slicemax= 131 And slicesnr= 87\n",
      "New d= 0.0917024624082\n",
      "subtracted 1 from slicemax. Now slicemax= 130 And slicesnr= 86\n",
      "New d= 0.0815531804475\n",
      "subtracted 1 from slicemax. Now slicemax= 129 And slicesnr= 85\n",
      "New d= 0.0610581030926\n",
      "subtracted 1 from slicemax. Now slicemax= 128 And slicesnr= 84\n",
      "New d= 0.0312147851797\n",
      "subtracted 1 from slicemax. Now slicemax= 127 And slicesnr= 83\n",
      "New d= 0.0658807490794\n",
      "subtracted 1 from slicemax. Now slicemax= 126 And slicesnr= 82\n",
      "New d= 0.0619832629565\n",
      "subtracted 1 from slicemax. Now slicemax= 125 And slicesnr= 81\n",
      "New d= 0.0478982814025\n",
      "subtracted 1 from slicemax. Now slicemax= 124 And slicesnr= 80\n",
      "New d= 0.0293801504974\n",
      "slicemax is 124 and its d is 0.0293801504974\n",
      "Once we have the correct values of slicemin and slicemax we make the circle fit again\n",
      "xc, yc, R_2, residu, residu2\n",
      "1.45289210819 0.0 3.85964992824 0.0279786738323 1.6701940546\n"
     ]
    }
   ],
   "source": [
    "xc, yc, R_2, residu, residu2, z, R= from_slice_circle(slicemax, slicemin, input, zcoord)\n",
    "print \"xc, yc, R_2, z[-1], R[-1], residu, residu2\"\n",
    "print xc, yc, R_2, z[-1], R[-1], residu, residu2\n",
    "print \"shift is\", shift\n",
    "\n",
    " # Now we search for the \"best\" slices to make the circle fit and calculate later the contact angle and base radius.\n",
    " # We look for the first and last fitted LG-interface points (related to the first and last droplet slices: slicemin and slicemax) with a distance to the circle smaller then epsilon, which we set to 0.029nm.\n",
    "                        \n",
    "epsilon = 0.03\n",
    "epsilon2 = 0.031\n",
    "# For slicemin\n",
    "print \"Starting the search for the best slicemin. We start with slicemin =\", slicemin\n",
    "xc, yc, R_2, residu, residu2, z, R= from_slice_circle(slicemax, slicemin, input, zcoord)\n",
    "d = distance(z[0], R[0], xc, yc, R_2)\n",
    "if d <= epsilon:\n",
    "    print \"d is smaller then epsilon: d=\", d\n",
    "    while d <= epsilon:\n",
    "        oldslicemin = slicemin\n",
    "        slicemin = oldslicemin - 1\n",
    "        print \"subtracted 1 from slicemin. Now slicemin=\", slicemin\n",
    "        old_d = d\n",
    "        xc, yc, R_2, residu, residu2, z, R= from_slice_circle(slicemax, slicemin, input, zcoord)\n",
    "        d = distance(z[0], R[0], xc, yc, R_2)\n",
    "        print \"New d=\", d\n",
    "elif d > epsilon:\n",
    "    print \"d is bigger then epsilon: d=\", d\n",
    "    while d > epsilon:\n",
    "        oldslicemin = slicemin\n",
    "        slicemin = oldslicemin + 1\n",
    "        print \"added 1 to slicemin. Now slicemin=\", slicemin\n",
    "        old_d = d\n",
    "        xc, yc, R_2, residu, residu2, z, R= from_slice_circle(slicemax, slicemin, input, zcoord)\n",
    "        d = distance(z[0], R[0], xc, yc, R_2)\n",
    "        print \"New d=\", d\n",
    "if d > epsilon:\n",
    "   print \"We subtracted one too much. d has become bigger then epsilon ->d=\", d\n",
    "   slicemin = oldslicemin\n",
    "   d = old_d\n",
    "   print \"We add one slice again. Now slicemin=\", slicemin, \"And d=\", d\n",
    "               \n",
    "print \"Out of search loop! slicemin=\", slicemin, \"and its d=\", d \n",
    "\n",
    "# For slicemax\n",
    "slicesnr = slicemax - slicemin\n",
    "print \"Starting the search for the best slicemax. We start with slicemax =\", slicemax, \"And slicesnr=\", slicesnr\n",
    "xc, yc, R_2, residu, residu2, z, R= from_slice_circle(slicemax, slicemin, input, zcoord)\n",
    "d = distance(z[-1], R[-1], xc, yc, R_2)\n",
    "if d <= epsilon2:\n",
    "    print \"d is smaller then epsilon: d=\", d\n",
    "    while d <= epsilon2:   \n",
    "        oldslicemax = slicemax\n",
    "        slicemax = oldslicemax + 1\n",
    "        slicesnr = slicemax - slicemin +1\n",
    "        print \"added 1 to slicemax. Now slicemax=\", slicemax, \"And slicesnr=\", slicesnr\n",
    "        old_d = d\n",
    "        xc, yc, R_2, residu, residu2, z, R= from_slice_circle(slicemax, slicemin, input, zcoord)\n",
    "        slicesnr = slicemax - slicemin - 1\n",
    "        d = distance(z[-1], R[-1], xc, yc, R_2)\n",
    "        print \"New d=\", d\n",
    "elif d > epsilon2:\n",
    "     print \"d is bigger then epsilon: d=\", d\n",
    "     while d > epsilon2:\n",
    "           oldslicemax = slicemax\n",
    "           slicemax = oldslicemax - 1\n",
    "           slicesnr = slicemax - slicemin +1\n",
    "           print \"subtracted 1 from slicemax. Now slicemax=\", slicemax, \"And slicesnr=\", slicesnr\n",
    "           old_d = d\n",
    "           xc, yc, R_2, residu, residu2, z, R= from_slice_circle(slicemax, slicemin, input, zcoord)\n",
    "           slicesnr = slicemax - slicemin -1\n",
    "           d = distance(z[-1], R[-1], xc, yc, R_2)\n",
    "           print \"New d=\", d\n",
    "if d > epsilon2:\n",
    "   print \"We added one too much. d has become bigger then epsilon ->d=\", d\n",
    "   slicemax = oldslicemax\n",
    "   d = old_d\n",
    "   print \"We subtract one slice again. Now slicemax=\", slicemax, \"And d=\", d\n",
    "                      \n",
    "print \"slicemax is\", slicemax, \"and its d is\", d        \n",
    "\n",
    "# Once we have the \"correct\" values of slicemin and slicemax we make the circle fit again\n",
    "xc, yc, R_2, residu, residu2, z, R= from_slice_circle(slicemax, slicemin, input, zcoord)\n",
    "print \"Once we have the correct values of slicemin and slicemax we make the circle fit again\"\n",
    "print \"xc, yc, R_2, residu, residu2\"\n",
    "print xc, yc, R_2, residu, residu2"
   ]
  },
  {
   "cell_type": "code",
   "execution_count": 50,
   "metadata": {
    "collapsed": false
   },
   "outputs": [
    {
     "name": "stdout",
     "output_type": "stream",
     "text": [
      "45 45 124\n",
      "shift= 2.664\n"
     ]
    }
   ],
   "source": [
    "#We leave the slices below zero out of the fit\n",
    "if zeroslice > slicemin:\n",
    "   slicemin = zeroslice \n",
    "print zeroslice, slicemin, slicemax\n",
    "print \"shift=\", shift"
   ]
  },
  {
   "cell_type": "code",
   "execution_count": 56,
   "metadata": {
    "collapsed": false
   },
   "outputs": [
    {
     "name": "stdout",
     "output_type": "stream",
     "text": [
      "xc, yc, R_2, residu, residu2, z, R= from_slice_circle(slicemax, slicemin, input, zcoord)\n",
      "1.48634057162 0.0 3.85827286369 0.076847084423 1.6701940546\n",
      "slicemax d= 0.0838650894501 (slicemax=) 133\n",
      "slicemin d= 0.0195181639104 (slicemin=) 45\n"
     ]
    },
    {
     "data": {
      "text/plain": [
       "<matplotlib.text.Text at 0x112bbbed0>"
      ]
     },
     "execution_count": 56,
     "metadata": {},
     "output_type": "execute_result"
    },
    {
     "data": {
      "image/png": "[encoded data removed]",
      "text/plain": [
       "<matplotlib.figure.Figure at 0x112bce1d0>"
      ]
     },
     "metadata": {},
     "output_type": "display_data"
    }
   ],
   "source": [
    "slicemin=45\n",
    "slicemax=133\n",
    "xc, yc, R_2, residu,residiu2, z, R= from_slice_circle(slicemax, slicemin, input, zcoord)\n",
    "print \"xc, yc, R_2, residu, residu2, z, R= from_slice_circle(slicemax, slicemin, input, zcoord)\"\n",
    "print xc, yc, R_2, residu, residu2\n",
    "slicesnr = slicemax - slicemin\n",
    "d = distance(z[-1], R[-1], xc, yc, R_2)\n",
    "print \"slicemax d=\", d, \"(slicemax=)\", slicemax\n",
    "d = distance(z[0], R[0], xc, yc, R_2)\n",
    "print \"slicemin d=\", d, \"(slicemin=)\", slicemin\n",
    "theta_fit = linspace(-pi, pi, 180)\n",
    "x_fit2 = xc + R_2*cos(theta_fit)\n",
    "y_fit2 = yc + R_2*sin(theta_fit)\n",
    "plt.plot(x_fit2, y_fit2, color=\"blue\", label='method', lw=4)\n",
    "# plot(X, C, color=\"blue\", linewidth=2.5, linestyle=\"-\")\n",
    "#Set x limits\n",
    "xlim(0,7)\n",
    "# Set y limits\n",
    "ylim(0,7)\n",
    "plt.plot(z, R, 'k.', markersize=10)\n",
    "plt.ylabel('z [nm]',fontsize=22)\n",
    "plt.xlabel('R [nm]',fontsize=22)"
   ]
  },
  {
   "cell_type": "code",
   "execution_count": 57,
   "metadata": {
    "collapsed": false
   },
   "outputs": [
    {
     "name": "stdout",
     "output_type": "stream",
     "text": [
      "89\n"
     ]
    }
   ],
   "source": [
    "print len(R)"
   ]
  },
  {
   "cell_type": "code",
   "execution_count": 58,
   "metadata": {
    "collapsed": false
   },
   "outputs": [],
   "source": [
    "def angle(R, m):\n",
    "    t = m / np.sqrt(R**2 - m**2)\n",
    "    t2 = math.degrees(np.arctan(t)) + 90\n",
    "    return t2"
   ]
  },
  {
   "cell_type": "code",
   "execution_count": 59,
   "metadata": {
    "collapsed": false
   },
   "outputs": [],
   "source": [
    "def radius(R, m):\n",
    "    r = np.sqrt(R**2 - m**2)\n",
    "    return r"
   ]
  },
  {
   "cell_type": "code",
   "execution_count": 60,
   "metadata": {
    "collapsed": false
   },
   "outputs": [
    {
     "name": "stdout",
     "output_type": "stream",
     "text": [
      "The Contact Angle is   112.658311214\n",
      "The base radius is   3.56048608983\n",
      "The circle paremeters are xc= 1.48634057162  Radius= 3.85827286369\n"
     ]
    }
   ],
   "source": [
    "theta = angle(R_2, xc)\n",
    "base_r = radius(R_2, xc)\n",
    "print \"The Contact Angle is  \", theta\n",
    "print \"The base radius is  \", base_r\n",
    "print \"The circle paremeters are xc=\",xc,\" Radius=\",R_2"
   ]
  },
  {
   "cell_type": "code",
   "execution_count": 63,
   "metadata": {
    "collapsed": false
   },
   "outputs": [
    {
     "name": "stdout",
     "output_type": "stream",
     "text": [
      "2.652\n"
     ]
    }
   ],
   "source": [
    "print shift"
   ]
  },
  {
   "cell_type": "code",
   "execution_count": 64,
   "metadata": {
    "collapsed": false
   },
   "outputs": [],
   "source": [
    "# HERE WE CREATE TWO VECTORS WITH ALL THE FITTED POINTS RESULTING FROM THE SIGMOIDAL FIT APLLIED TO THE DENSITY DATA. THE RESULTING \n",
    "# VECTORS ARE Rprime and Zprime, where we save the coorsinates R and Z, which can be used later to choose the best points \n",
    "# for the circle fit. Rprime comes from the fit, and Zprime is a vector with the shifted positions of the slices.\n",
    "def fit_all(zcoord, input):\n",
    "    slicemin = 1\n",
    "    slicemax = 200\n",
    "    dims = slicemax - slicemin + 1\n",
    "    x = input[0]\n",
    "    i=0\n",
    "    Zprime = np.zeros(dims)\n",
    "    Rprime = np.zeros(dims)\n",
    "    #w = np.zeros(dims)\n",
    "    for a in range(slicemin, slicemax-1):\n",
    "        y2 = input[a]\n",
    "        i = a - slicemin\n",
    "        i = a\n",
    "        Zprime[i] = zcoord[a-1] \n",
    "    #    w[i] = 0.05*(a - 1) - 5.0 - shift -> Ahother way to determine z\n",
    "        At = guess(y2)\n",
    "        params, pcov2 = curve_fit(func, x, y2,[At, 2, 1], maxfev=10000)\n",
    "        Rprime[i] = params[1]\n",
    "    return Zprime, Rprime"
   ]
  },
  {
   "cell_type": "code",
   "execution_count": 65,
   "metadata": {
    "collapsed": false
   },
   "outputs": [
    {
     "data": {
      "image/png": "[encoded data removed]",
      "text/plain": [
       "<matplotlib.figure.Figure at 0x11250c890>"
      ]
     },
     "metadata": {},
     "output_type": "display_data"
    }
   ],
   "source": [
    "# WE PLOT Rprime and Zprime\n",
    "Zprime, Rprime = fit_all(zcoord, input)\n",
    "#fig = pl.figure()                  \n",
    "plt.plot(Rprime,Zprime, 'k.')\n",
    "#fig.suptitle(filename)\n",
    "plt.ylim(-3,9)\n",
    "plt.xlim(0,8)\n",
    "plt.ylabel('z [nm]')\n",
    "plt.xlabel('R [nm]')\n",
    "plt.grid(True)\n",
    "#x_fit2-xc"
   ]
  },
  {
   "cell_type": "code",
   "execution_count": 66,
   "metadata": {
    "collapsed": false
   },
   "outputs": [],
   "source": [
    "Rdummy =[]\n",
    "Zdummy =[]\n",
    "Rdummy = list(Rprime[0:slicemin+1])+list(Rprime[slicemax:-1])\n",
    "Zdummy = list(Zprime[0:slicemin+1])+list(Zprime[slicemax:-1])"
   ]
  },
  {
   "cell_type": "code",
   "execution_count": 67,
   "metadata": {
    "collapsed": false
   },
   "outputs": [
    {
     "data": {
      "image/png": "[encoded data removed]",
      "text/plain": [
       "<matplotlib.figure.Figure at 0x11228f7d0>"
      ]
     },
     "metadata": {},
     "output_type": "display_data"
    }
   ],
   "source": [
    "zeroline_x = np.linspace(0, 7.0, num=300)\n",
    "zeroline_y = np.zeros(300) \n",
    "line1, = plt.plot(zeroline_x,zeroline_y, '-',color=\"orange\",lw=2,label='SL-position used') #orange is better!!!\n",
    "\n",
    "zeroline_y2 = np.zeros(300)- abs(shift-shift2)\n",
    "line2, = plt.plot(zeroline_x,zeroline_y2, '-',color=\"black\",lw=2,label='GDS')\n",
    "\n",
    "zeroline_y3 = np.zeros(300)- abs(shift-shift3)\n",
    "line3, = plt.plot(zeroline_x,zeroline_y3, '-',color=\"green\",lw=2,label='SAM peak')\n",
    "\n",
    "\n",
    "theta_fit = linspace(-pi, pi, 180)\n",
    "x_fit2 = R_2*cos(theta_fit)\n",
    "y_fit2 = xc+R_2*sin(theta_fit)\n",
    "rcParams['legend.numpoints'] = 2\n",
    "circle1, = plt.plot(x_fit2, y_fit2,'--',color=\"brown\", label='Circle fit', lw=2)\n",
    "rcParams['legend.numpoints'] = 1\n",
    "# plot(X, C, color=\"blue\", linewidth=2.5, linestyle=\"-\")\n",
    "#Set x limits\n",
    "xlim(-5,5)\n",
    "# Set y limits\n",
    "ylim(-0.5,6.55)\n",
    "plt.ylabel('z [nm]',fontsize=22)\n",
    "plt.xlabel('Circle radius [nm]',fontsize=22)\n",
    "# WE PLOT Rprime and Zprime\n",
    "Zprime, Rprime = fit_all(zcoord, input)                 \n",
    "#circle2, = plt.plot(Rprime,Zprime, 'r.', label='All Points',markersize=7)\n",
    "circle2, = plt.plot(Rdummy,Zdummy, 'b.', label='Points dismissed',markersize=7)\n",
    "circle3, = plt.plot(R,z, '.',color=\"orange\",label='Points used for fit', markersize=7)\n",
    "plt.legend(handles=[circle1, circle3, circle2, line1,line2, line3],loc=2,fontsize=16)\n",
    "#plt.legend(loc=2, fontsize=16)\n",
    "fig = matplotlib.pyplot.gcf()\n",
    "\n",
    "xticks(fontsize=16)\n",
    "yticks(fontsize=16)\n",
    "\n",
    "titletext = r'$\\Phi = \\ $' +str(b)+ '\\%, $n_{W}=\\ $' +str(c)+ ', $t_0 = \\ $'+ str(int(starttime))+'ns'\n",
    "plt.suptitle(titletext,fontsize=20,fontweight='bold')\n",
    "\n",
    "fig.set_size_inches(7,5)\n",
    "plt.savefig(plotsfolder+circleplot, bbox_inches='tight',dpi=400)"
   ]
  },
  {
   "cell_type": "code",
   "execution_count": 81,
   "metadata": {
    "collapsed": false
   },
   "outputs": [
    {
     "name": "stdout",
     "output_type": "stream",
     "text": [
      "0.14625\n",
      "0.336\n",
      "2.652 2.50575 2.316\n"
     ]
    }
   ],
   "source": [
    "print abs(shift-shift2)\n",
    "print abs(shift-shift3)\n",
    "print shift, shift2, shift3"
   ]
  },
  {
   "cell_type": "code",
   "execution_count": 122,
   "metadata": {
    "collapsed": false
   },
   "outputs": [
    {
     "data": {
      "image/png": "[encoded data removed]",
      "text/plain": [
       "<matplotlib.figure.Figure at 0x112b45a10>"
      ]
     },
     "metadata": {},
     "output_type": "display_data"
    }
   ],
   "source": [
    "zeroline_x = np.linspace(0, 7.0, num=300)\n",
    "\n",
    "zeroline_y3 = np.zeros(300)+ abs(shift-shift3)\n",
    "plt.plot(zeroline_x,zeroline_y3, '-',color=\"orange\",label='First Water Position',lw=2)\n",
    "\n",
    "zeroline_y2 = np.zeros(300)+ abs(shift-shift2)\n",
    "plt.plot(zeroline_x,zeroline_y2, 'b-', label='GDS position')\n",
    "\n",
    "zeroline_y = np.zeros(300) \n",
    "plt.plot(zeroline_x,zeroline_y, 'g-', label='Last SAM Peak Postition',lw=2)\n",
    "\n",
    "\n",
    "theta_fit = linspace(-pi, pi, 180)\n",
    "x_fit2 = R_2*cos(theta_fit)\n",
    "y_fit2 = xc+R_2*sin(theta_fit)\n",
    "\"\"\"\n",
    "x_fit222 = R_222*cos(theta_fit)\n",
    "y_fit222 = xc22+R_222*sin(theta_fit)\n",
    "\n",
    "plt.plot(x_fit222, y_fit222,'-',color=\"green\", lw=2)\n",
    "plt.plot(x_fit222, y_fit222,'-',color=\"black\", label='First Water Peak as z=0', lw=2)\n",
    "\n",
    "# WE PLOT Rprime and Zprime\n",
    "plt.plot(R22,z22, '.',color=\"orange\",label='WP:Points Used for Fit', markersize=7)\n",
    "plt.plot(R22,z22, 'k.',label='Points Used for Fit', markersize=7)\n",
    "\"\"\"\n",
    "plt.plot(x_fit2, y_fit2,'-',color=\"orange\", lw=2)\n",
    "plt.plot(x_fit2, y_fit2,'-',color=\"black\", label='Last SAM Peak as z=0', lw=2)\n",
    "\n",
    "\n",
    "# WE PLOT Rprime and Zprime\n",
    "Zprime, Rprime = fit_all(zcoord, input)                 \n",
    "plt.plot(Rdummy,Zdummy, 'r.', label='SP:Points Not Used for Fit',markersize=7)\n",
    "plt.plot(Rdummy22,Zdummy22, 'b.', label='WP:Points Not Used for Fit',markersize=7)\n",
    "plt.plot(R,z, 'g.',label='SP:Points Used for Fit', markersize=7)\n",
    "\n",
    "#plt.plot(R,z, 'k.', markersize=7)\n",
    "\n",
    "\n",
    "#Set x limits\n",
    "xlim(0,7)\n",
    "# Set y limits\n",
    "ylim(-1,8)\n",
    "plt.ylabel('z [nm]',fontsize=22)\n",
    "plt.xlabel('R [nm]',fontsize=22)\n",
    "\n",
    "rcParams['legend.numpoints'] = 1\n",
    "plt.legend(handles=[circle1, circle3, circle2])\n",
    "plt.legend()\n",
    "fig = matplotlib.pyplot.gcf()\n",
    "fig.set_size_inches(7,5)\n",
    "#pylab.savefig(plotsfolder+'3'+circleplot, bbox_inches='tight', pad_inches=0,dpi=300)"
   ]
  },
  {
   "cell_type": "code",
   "execution_count": 120,
   "metadata": {
    "collapsed": false
   },
   "outputs": [
    {
     "data": {
      "image/png": "[encoded data removed]",
      "text/plain": [
       "<matplotlib.figure.Figure at 0x1124856d0>"
      ]
     },
     "metadata": {},
     "output_type": "display_data"
    }
   ],
   "source": [
    "zeroline_x = np.linspace(0, 7.0, num=300)\n",
    "\n",
    "\n",
    "anglelinex=(R_2-0.5)+cos(radians(theta-90))*zeroline_x\n",
    "angleliney=sin(radians(theta-90))*zeroline_x\n",
    "plt.plot(anglelinex,angleliney)\n",
    "anglelinex22=(R_222-0.7)+cos(radians(radians(theta22-90)))*zeroline_x\n",
    "angleliney22=sin(radians(theta22-90))*zeroline_x\n",
    "plt.plot(anglelinex22,angleliney22)\n",
    "\n",
    "zeroline_y3 = np.zeros(300)+ abs(shift-shift3)\n",
    "plt.plot(zeroline_x,zeroline_y3, '-',color=\"orange\",label='First Water Position',lw=2)\n",
    "\n",
    "zeroline_y2 = np.zeros(300)+ abs(shift-shift2)\n",
    "plt.plot(zeroline_x,zeroline_y2, 'k-', label='GDS position')\n",
    "\n",
    "zeroline_y = np.zeros(300) \n",
    "plt.plot(zeroline_x,zeroline_y, 'g-', label='Last SAM Peak Postition',lw=2)\n",
    "\n",
    "\n",
    "theta_fit = linspace(-pi, pi, 180)\n",
    "x_fit2 = R_2*cos(theta_fit)\n",
    "y_fit2 = xc+R_2*sin(theta_fit)\n",
    "plt.plot(x_fit2, y_fit2,'-',color=\"orange\", lw=2)\n",
    "\n",
    "\"\"\"\n",
    "x_fit222 = R_222*cos(theta_fit)\n",
    "y_fit222 = xc22+R_222*sin(theta_fit)\n",
    "\n",
    "plt.plot(x_fit222, y_fit222,'-',color=\"green\", lw=2)\n",
    "#plt.plot(x_fit2, y_fit2,'-',color=\"black\", label='Last SAM Peak as z=0', lw=2)\n",
    "#plt.plot(x_fit222, y_fit222,'-',color=\"black\", label='First Water Peak as z=0', lw=2)\n",
    "\n",
    "# WE PLOT Rprime and Zprime\n",
    "plt.plot(R22,z22, 'k.',label='Points Used for Fit', markersize=7)\n",
    "#plt.plot(R22,z22, '.',color=\"orange\",label='WP:Points Used for Fit', markersize=7)\n",
    "\"\"\"\n",
    "\n",
    "#Set x limits\n",
    "xlim(0,7)\n",
    "# Set y limits\n",
    "ylim(-1,6)\n",
    "plt.ylabel('z [nm]',fontsize=22)\n",
    "plt.xlabel('R [nm]',fontsize=22)\n",
    "# WE PLOT Rprime and Zprime\n",
    "Zprime, Rprime = fit_all(zcoord, input)                 \n",
    "####plt.plot(Rdummy,Zdummy, 'r.', label='SP:Points Not Used for Fit',markersize=7)\n",
    "####plt.plot(Rdummy22,Zdummy22, 'b.', label='WP:Points Not Used for Fit',markersize=7)\n",
    "#plt.plot(R,z, 'g.',label='SP:Points Used for Fit', markersize=7)\n",
    "\n",
    "plt.plot(R,z, 'k.', markersize=7)\n",
    "\n",
    "rcParams['legend.numpoints'] = 1\n",
    "####plt.legend(handles=[circle1, circle3, circle2])\n",
    "plt.legend()\n",
    "fig = matplotlib.pyplot.gcf()\n",
    "fig.set_size_inches(7,5)\n",
    "#pylab.savefig(plotsfolder+'3'+circleplot, bbox_inches='tight', pad_inches=0,dpi=300)"
   ]
  },
  {
   "cell_type": "code",
   "execution_count": 104,
   "metadata": {
    "collapsed": false
   },
   "outputs": [
    {
     "name": "stdout",
     "output_type": "stream",
     "text": [
      "200 200 6.648\n"
     ]
    }
   ],
   "source": [
    "print len(Rprime), len(Zprime), Zprime[156]"
   ]
  },
  {
   "cell_type": "code",
   "execution_count": 105,
   "metadata": {
    "collapsed": false
   },
   "outputs": [],
   "source": [
    "# HERE WE EXTRACT FROM Zprime AND Rprime THE POINTS CORRESPONDING TO THE SLICES BETWEEN SLICEMAX AND SLICEMIN TO TEST THE CIRCLE FIT\n",
    "#slicemin = 45\n",
    "#slicemax = 156\n",
    "dims = slicemax - slicemin + 1\n",
    "i=0\n",
    "Zprime2 = np.zeros(dims)\n",
    "Rprime2 = np.zeros(dims)\n",
    "for a in range(slicemin, slicemax+1):\n",
    "        i = a - slicemin\n",
    "        Zprime2[i] = Zprime[a-1]\n",
    "        Rprime2[i] = Rprime[a-1]"
   ]
  },
  {
   "cell_type": "code",
   "execution_count": 106,
   "metadata": {
    "collapsed": false
   },
   "outputs": [
    {
     "name": "stdout",
     "output_type": "stream",
     "text": [
      "[0.0, -2.6520000000000001, -2.5920000000000001, -2.532, -2.472, -2.4119999999999999, -2.3520000000000003, -2.2920000000000003, -2.2320000000000002, -2.1720000000000002, -2.1120000000000001, -2.052, -1.9920000000000002, -1.9320000000000002, -1.8720000000000001, -1.8120000000000003, -1.7520000000000002, -1.6920000000000002, -1.6320000000000001, -1.5720000000000001, -1.5120000000000002, -1.4520000000000002, -1.3920000000000001, -1.3320000000000003, -1.2720000000000002, -1.2120000000000002, -1.1520000000000001, -1.0920000000000001, -1.0320000000000003, -0.9720000000000002, -0.91200000000000014, -0.85200000000000031, -0.79200000000000026, -0.73200000000000021, -0.67200000000000015, -0.6120000000000001, -0.55200000000000005, -0.49199999999999999, -0.43200000000000038, -0.37200000000000033, -0.31200000000000028, -0.25200000000000022, -0.19200000000000017, -0.13200000000000012, -0.072000000000000064, -0.012000000000000455, 0.047999999999999599, 4.8479999999999999, 4.9079999999999995, 4.968, 5.0279999999999996, 5.0879999999999992, 5.1479999999999997, 5.2079999999999993, 5.2679999999999998, 5.3279999999999994, 5.387999999999999, 5.4479999999999995, 5.508, 5.5679999999999987, 5.6279999999999992, 5.6879999999999997, 5.7480000000000002, 5.8079999999999989, 5.8679999999999994, 5.9279999999999999, 5.9880000000000004, 6.0479999999999992, 6.1079999999999997, 6.1680000000000001, 6.2279999999999989, 6.2879999999999994, 6.3479999999999999, 6.4080000000000004, 6.4679999999999991, 6.5279999999999996, 6.5880000000000001, 6.6479999999999988, 6.7079999999999993, 6.7679999999999998, 6.8280000000000003, 6.887999999999999, 6.9479999999999995, 7.008, 7.0679999999999987, 7.1279999999999992, 7.1879999999999997, 7.2480000000000002, 7.3079999999999989, 7.3679999999999994, 7.4279999999999999, 7.4879999999999987, 7.5479999999999992, 7.6079999999999997, 7.6680000000000001, 7.7279999999999989, 7.7879999999999994, 7.8479999999999999, 7.9079999999999986, 7.9679999999999991, 8.0279999999999987, 8.088000000000001, 8.1479999999999997, 8.2079999999999984, 8.2680000000000007, 8.3279999999999994, 8.3879999999999981, 8.4480000000000004, 8.5079999999999991, 8.5679999999999978, 8.6280000000000001, 8.6879999999999988, 8.7480000000000011, 8.8079999999999998, 8.8679999999999986, 8.9280000000000008, 8.9879999999999995, 9.0479999999999983, 9.1080000000000005, 9.1679999999999993]\n"
     ]
    }
   ],
   "source": [
    "print Zdummy"
   ]
  },
  {
   "cell_type": "code",
   "execution_count": 107,
   "metadata": {
    "collapsed": false
   },
   "outputs": [
    {
     "name": "stdout",
     "output_type": "stream",
     "text": [
      "[0.0, 2.0, 2.0, 2.0, 2.0, 2.0, 2.0, 2.0, 2.0, 2.0, 2.0, 2.0, 2.0, 2.0, 2.0, 2.0, 2.0, 2.0, 2.0, 2.0, 2.0, 2.0, 2.0, 2.0, 2.0, 2.0, 2.0, 2.0, 2.0, 2.0, 2.0, 2.0, 2.0, 2.0, 2.0, 2.0, 2.0, 2.0, 2.0, 0.33443775808752108, 3.1333860269958995, 3.2382988157674069, 3.1644947979109777, 3.0716578933651295, 2.9513427175363214, 3.0236508998412965, 3.1135302942906251, 1.2288434776931492, 1.1643883731648477, 1.1137187218863334, 0.79296316390945731, 0.86577694639650371, 0.88509411812492333, 0.90233546917095231, 0.85207109477442, 0.62020512396055294, 0.52078716718867946, 0.7332060023458955, 0.59564260165193039, 0.48624091957674143, 2.0, 1.6638560621662155, 1.4970774223144223, 2.0, 1.9999987137593724, 1.9999988005833589, 2.0, 2.0, 2.0, 2.0, 2.0, 2.0, 1.9999999908163837, 1.9999999958465196, 1.9999999969472484, 1.9999999976289744, 2.0, 2.0, 2.0, 2.0, 2.0, 2.0, 2.0, 2.0, 2.0, 2.0, 2.0, 2.0, 2.0, 2.0, 2.0, 2.0, 2.0, 2.0, 2.3634276682711177, 2.0, 2.3754240813424596, 2.308760800638372, 2.0, 2.0, 2.0, 2.0, 2.0, 2.0, 2.0, 2.0, 2.0, 2.0, 2.0, 2.0, 2.0, 2.0, 2.0, 3.1258501325935124, 3.1642484136387314, 2.0, 2.0, 2.0, 2.0, 2.0]\n"
     ]
    }
   ],
   "source": [
    "print Rdummy"
   ]
  },
  {
   "cell_type": "code",
   "execution_count": 108,
   "metadata": {
    "collapsed": false
   },
   "outputs": [
    {
     "data": {
      "text/plain": [
       "array([ 3.11353029,  3.14456602,  3.20494792,  3.1967116 ,  3.21871141,\n",
       "        3.2250693 ,  3.26260112,  3.30973732,  3.30392346,  3.33020153,\n",
       "        3.3403039 ,  3.36321048,  3.36300418,  3.38926338,  3.38606565,\n",
       "        3.4291163 ,  3.41328466,  3.42175091,  3.44778889,  3.42898947,\n",
       "        3.4611319 ,  3.44438855,  3.45183324,  3.46972355,  3.47541285,\n",
       "        3.46903957,  3.46308219,  3.47733922,  3.47649473,  3.47305639,\n",
       "        3.42697794,  3.44189371,  3.45949386,  3.4490157 ,  3.44862849,\n",
       "        3.42017689,  3.39494547,  3.40945876,  3.39750173,  3.39528465,\n",
       "        3.36774184,  3.33690878,  3.34475252,  3.28646301,  3.28576008,\n",
       "        3.28781301,  3.24180882,  3.22668812,  3.20267157,  3.15004525,\n",
       "        3.15984845,  3.13521131,  3.0836326 ,  3.05978689,  3.00918342,\n",
       "        2.98230546,  2.95787421,  2.88155357,  2.8726247 ,  2.82588163,\n",
       "        2.74885145,  2.7406622 ,  2.66603141,  2.63905975,  2.54218396,\n",
       "        2.5126149 ,  2.41038411,  2.41437835,  2.32768232,  2.23848338,\n",
       "        2.18287293,  2.108614  ,  2.04966122,  1.90048277,  1.88416652,\n",
       "        1.85041352,  1.77381505,  1.57342005,  1.42205825,  1.41400103,\n",
       "        1.22884348])"
      ]
     },
     "execution_count": 108,
     "metadata": {},
     "output_type": "execute_result"
    }
   ],
   "source": [
    "R"
   ]
  },
  {
   "cell_type": "code",
   "execution_count": 109,
   "metadata": {
    "collapsed": false
   },
   "outputs": [
    {
     "data": {
      "text/plain": [
       "array([ 0.048,  0.108,  0.168,  0.228,  0.288,  0.348,  0.408,  0.468,\n",
       "        0.528,  0.588,  0.648,  0.708,  0.768,  0.828,  0.888,  0.948,\n",
       "        1.008,  1.068,  1.128,  1.188,  1.248,  1.308,  1.368,  1.428,\n",
       "        1.488,  1.548,  1.608,  1.668,  1.728,  1.788,  1.848,  1.908,\n",
       "        1.968,  2.028,  2.088,  2.148,  2.208,  2.268,  2.328,  2.388,\n",
       "        2.448,  2.508,  2.568,  2.628,  2.688,  2.748,  2.808,  2.868,\n",
       "        2.928,  2.988,  3.048,  3.108,  3.168,  3.228,  3.288,  3.348,\n",
       "        3.408,  3.468,  3.528,  3.588,  3.648,  3.708,  3.768,  3.828,\n",
       "        3.888,  3.948,  4.008,  4.068,  4.128,  4.188,  4.248,  4.308,\n",
       "        4.368,  4.428,  4.488,  4.548,  4.608,  4.668,  4.728,  4.788,\n",
       "        4.848])"
      ]
     },
     "execution_count": 109,
     "metadata": {},
     "output_type": "execute_result"
    }
   ],
   "source": [
    "z"
   ]
  },
  {
   "cell_type": "code",
   "execution_count": 110,
   "metadata": {
    "collapsed": false
   },
   "outputs": [],
   "source": [
    "#From here Water Peak data 22"
   ]
  },
  {
   "cell_type": "code",
   "execution_count": 111,
   "metadata": {
    "collapsed": false
   },
   "outputs": [],
   "source": [
    "Zdummy22=[0.0, -2.6640000000000001, -2.6040000000000001, -2.544, -2.484, -2.4240000000000004, -2.3640000000000003, -2.3040000000000003, -2.2440000000000002, -2.1840000000000002, -2.1240000000000001, -2.0640000000000001, -2.0040000000000004, -1.9440000000000002, -1.8840000000000001, -1.8240000000000003, -1.7640000000000002, -1.7040000000000002, -1.6440000000000001, -1.5840000000000001, -1.5240000000000002, -1.4640000000000002, -1.4040000000000001, -1.3440000000000003, -1.2840000000000003, -1.2240000000000002, -1.1640000000000001, -1.1040000000000001, -1.0440000000000003, -0.98400000000000021, -0.92400000000000015, -0.86400000000000032, -0.80400000000000027, -0.74400000000000022, -0.68400000000000016, -0.62400000000000011, -0.56400000000000006, -0.504, -0.44400000000000039, -0.38400000000000034, -0.32400000000000029, -0.26400000000000023, -0.20400000000000018, -0.14400000000000013, -0.084000000000000075, -0.024000000000000465, 0.035999999999999588, 0.095999999999999641, 4.895999999999999, 4.9559999999999995, 5.016, 5.0759999999999987, 5.1359999999999992, 5.1959999999999997, 5.2560000000000002, 5.3159999999999989, 5.3759999999999994, 5.4359999999999999, 5.4960000000000004, 5.5559999999999992, 5.6159999999999997, 5.6760000000000002, 5.7360000000000007, 5.7959999999999994, 5.8559999999999999, 5.9160000000000004, 5.9760000000000009, 6.0359999999999996, 6.0960000000000001, 6.1560000000000006, 6.2159999999999993, 6.2759999999999998, 6.3360000000000003, 6.3960000000000008, 6.4559999999999995, 6.516, 6.5760000000000005, 6.6359999999999992, 6.6959999999999997, 6.7560000000000002, 6.8160000000000007, 6.8759999999999994, 6.9359999999999999, 6.9960000000000004, 7.0559999999999992, 7.1159999999999997, 7.1760000000000002, 7.2360000000000007, 7.2959999999999994, 7.3559999999999999, 7.4160000000000004, 7.4759999999999991, 7.5359999999999996, 7.5960000000000001, 7.6560000000000006, 7.7159999999999993, 7.7759999999999998, 7.8360000000000003, 7.895999999999999, 7.9559999999999995, 8.016, 8.0760000000000005, 8.1359999999999992, 8.1959999999999997, 8.2560000000000002, 8.3160000000000007, 8.3759999999999994, 8.4359999999999999, 8.4960000000000004, 8.5559999999999992, 8.6159999999999997, 8.6760000000000002, 8.7360000000000007, 8.7959999999999994, 8.8559999999999999, 8.9160000000000004, 8.9759999999999991, 9.0359999999999996, 9.0960000000000001, 9.1560000000000006]"
   ]
  },
  {
   "cell_type": "code",
   "execution_count": 112,
   "metadata": {
    "collapsed": false
   },
   "outputs": [],
   "source": [
    "Rdummy22=[0.0, 2.0, 2.0, 2.0, 2.0, 2.0, 2.0, 2.0, 2.0, 2.0, 2.0, 2.0, 2.0, 2.0, 2.0, 2.0, 2.0, 2.0, 2.0, 2.0, 2.0, 2.0, 2.0, 2.0, 2.0, 2.0, 2.0, 2.0, 2.0, 2.0, 2.0, 2.0, 2.0, 2.0, 2.0, 2.0, 2.0, 2.0, 2.0, 3.5005239354568438, 3.9710928010113382, 3.9862762751034637, 3.9812361980502797, 3.8741010920414141, 3.8041350243064942, 3.8526749959546049, 3.9259265064504194, 3.9623983722787637, 1.364813342868989, 1.3193026802589769, 1.0857247923048241, 0.98662536439451221, 0.98507447144637672, 0.68063348425568004, 0.26201624055606743, 0.87996803113749733, 0.56835180979922761, 0.75682774134301234, 0.90007002649897505, 0.48067856189497421, 0.4756806696115623, 2.0, 2.0, 2.0, 2.0, 2.0, 2.0, 2.0, 1.9999999970875102, 1.9999999966429207, 2.0, 2.0, 2.0, 2.0, 2.0, 2.0, 2.0, 2.0, 2.0, 2.0, 2.0, 2.0, 2.0, 2.0, 2.0, 2.0, 2.0, 2.0, 1.9607146945173335, 2.0, 1.9999906777656979, 2.0, 2.0, 2.0, 2.0, 2.0, 2.0, 2.0, 2.0, 2.0, 2.0, 2.0, 2.0, 2.0, 2.0, 2.0, 2.0, 1.9999995123041323, 1.9999993584753031, 1.9999999788719249, 1.9999993794476323, 1.9999999748163499, 2.0, 2.0, 2.0, 2.0, 2.0, 2.0, 2.0, 2.0]"
   ]
  },
  {
   "cell_type": "code",
   "execution_count": 113,
   "metadata": {
    "collapsed": false
   },
   "outputs": [],
   "source": [
    "R22=array([ 3.96239837,  3.98777897,  3.97034247,  3.96232205,  4.01400388,\n",
    "        4.00707699,  4.02579194,  4.06891846,  4.05497718,  4.04803864,\n",
    "        4.03233564,  4.09761666,  4.05734268,  4.1087859 ,  4.07908085,\n",
    "        4.107631  ,  4.09222897,  4.07567488,  4.09084869,  4.08905418,\n",
    "        4.07010528,  4.07985666,  4.09493267,  4.08066578,  4.07103503,\n",
    "        4.05806488,  4.06101459,  4.04491395,  4.05038723,  4.0373375 ,\n",
    "        4.01762314,  4.01728446,  4.0179207 ,  3.99279131,  3.96382901,\n",
    "        3.9413476 ,  3.95942041,  3.91550842,  3.89017175,  3.87819716,\n",
    "        3.8314219 ,  3.84262197,  3.80677053,  3.78602367,  3.75457599,\n",
    "        3.72756439,  3.69041642,  3.66107359,  3.64707338,  3.60990955,\n",
    "        3.57351969,  3.5160614 ,  3.4814915 ,  3.45913372,  3.41848934,\n",
    "        3.35310527,  3.29141923,  3.27677836,  3.23510556,  3.17609441,\n",
    "        3.11141968,  3.0771554 ,  2.99745634,  2.97224753,  2.896079  ,\n",
    "        2.81739609,  2.70149127,  2.71306893,  2.6074497 ,  2.51678084,\n",
    "        2.44419531,  2.34516423,  2.2919071 ,  2.17966751,  2.10086283,\n",
    "        1.98756795,  1.90147324,  1.76081096,  1.5678734 ,  1.567117  ,\n",
    "        1.36481334])"
   ]
  },
  {
   "cell_type": "code",
   "execution_count": 114,
   "metadata": {
    "collapsed": false
   },
   "outputs": [],
   "source": [
    "z22=array([ 0.096,  0.156,  0.216,  0.276,  0.336,  0.396,  0.456,  0.516,\n",
    "        0.576,  0.636,  0.696,  0.756,  0.816,  0.876,  0.936,  0.996,\n",
    "        1.056,  1.116,  1.176,  1.236,  1.296,  1.356,  1.416,  1.476,\n",
    "        1.536,  1.596,  1.656,  1.716,  1.776,  1.836,  1.896,  1.956,\n",
    "        2.016,  2.076,  2.136,  2.196,  2.256,  2.316,  2.376,  2.436,\n",
    "        2.496,  2.556,  2.616,  2.676,  2.736,  2.796,  2.856,  2.916,\n",
    "        2.976,  3.036,  3.096,  3.156,  3.216,  3.276,  3.336,  3.396,\n",
    "        3.456,  3.516,  3.576,  3.636,  3.696,  3.756,  3.816,  3.876,\n",
    "        3.936,  3.996,  4.056,  4.116,  4.176,  4.236,  4.296,  4.356,\n",
    "        4.416,  4.476,  4.536,  4.596,  4.656,  4.716,  4.776,  4.836,\n",
    "        4.896])"
   ]
  },
  {
   "cell_type": "code",
   "execution_count": 115,
   "metadata": {
    "collapsed": false
   },
   "outputs": [],
   "source": [
    "theta22=104.762249968\n",
    "base_r22=3.95964613966\n",
    "xc22=1.04339314236\n",
    "R_222=4.09480973928"
   ]
  },
  {
   "cell_type": "code",
   "execution_count": 116,
   "metadata": {
    "collapsed": false
   },
   "outputs": [],
   "source": [
    "#From here GDS data 33"
   ]
  },
  {
   "cell_type": "code",
   "execution_count": 95,
   "metadata": {
    "collapsed": false
   },
   "outputs": [],
   "source": [
    "theta33=108.611448781\n",
    "base_r33=3.88067025888\n",
    "xc33= 1.3068531434  \n",
    "R_233= 4.09480973875"
   ]
  },
  {
   "cell_type": "code",
   "execution_count": null,
   "metadata": {
    "collapsed": false
   },
   "outputs": [],
   "source": []
  },
  {
   "cell_type": "code",
   "execution_count": null,
   "metadata": {
    "collapsed": true
   },
   "outputs": [],
   "source": []
  }
 ],
 "metadata": {
  "kernelspec": {
   "display_name": "Python 2",
   "language": "python",
   "name": "python2"
  },
  "language_info": {
   "codemirror_mode": {
    "name": "ipython",
    "version": 2
   },
   "file_extension": ".py",
   "mimetype": "text/x-python",
   "name": "python",
   "nbconvert_exporter": "python",
   "pygments_lexer": "ipython2",
   "version": "2.7.11"
  }
 },
 "nbformat": 4,
 "nbformat_minor": 0
}
