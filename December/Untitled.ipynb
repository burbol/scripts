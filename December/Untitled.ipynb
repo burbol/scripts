{
 "cells": [
  {
   "cell_type": "code",
   "execution_count": 7,
   "metadata": {
    "collapsed": false
   },
   "outputs": [
    {
     "name": "stdout",
     "output_type": "stream",
     "text": [
      "Populating the interactive namespace from numpy and matplotlib\n"
     ]
    }
   ],
   "source": [
    "%pylab inline"
   ]
  },
  {
   "cell_type": "code",
   "execution_count": 8,
   "metadata": {
    "collapsed": true
   },
   "outputs": [],
   "source": [
    "import matplotlib \n",
    "import matplotlib.pyplot as plt\n",
    "import numpy as np\n",
    "from scipy.optimize import curve_fit\n",
    "from scipy import stats"
   ]
  },
  {
   "cell_type": "code",
   "execution_count": 9,
   "metadata": {
    "collapsed": false
   },
   "outputs": [
    {
     "name": "stdout",
     "output_type": "stream",
     "text": [
      "/Volumes/UNI/Densmaps_NewVersion4/Results_NewVersion4\n"
     ]
    }
   ],
   "source": [
    "%cd /Volumes/UNI/Densmaps_NewVersion4/Results_NewVersion4"
   ]
  },
  {
   "cell_type": "code",
   "execution_count": 10,
   "metadata": {
    "collapsed": true
   },
   "outputs": [],
   "source": [
    "percentages = [0, 5, 11, 17, 33,50, 66]\n",
    "Waters=[1000, 2000, 3000, 4000, 5000, 6500, 7000, 8000, 9000, 10000]\n",
    "\n",
    "mac_theta_WaterPeak = np.zeros(len(percentages))\n",
    "mac_theta_MiddlePoint = np.zeros(len(percentages))\n",
    "mac_theta_SAMPeak = np.zeros(len(percentages))\n",
    "sigma_WaterPeak = np.zeros(len(percentages))\n",
    "sigma_MiddlePoint = np.zeros(len(percentages))\n",
    "sigma_SAMPeak = np.zeros(len(percentages))\n",
    "\n",
    "# In the following dictionaries we will save the raw input data\n",
    "angles_WaterPeak = {}\n",
    "angles_MiddlePoint = {}\n",
    "angles_SAMPeak = {}\n",
    "radii_WaterPeak = {}\n",
    "radii_MiddlePoint = {}\n",
    "radii_SAMPeak = {}\n",
    "\n",
    "# In the following dictionaries we will save the results for the cos(theta) and 1/r_base, and their errorbars. \n",
    "# We will call them the \"results-dictionaries\"\n",
    "theta_WaterPeak = {}\n",
    "rbase_WaterPeak = {}\n",
    "errortheta_WaterPeak = {}\n",
    "errorr_base_WaterPeak = {}\n",
    "\n",
    "theta_MiddlePoint = {}\n",
    "rbase_MiddlePoint = {}\n",
    "errortheta_MiddlePoint = {}\n",
    "errorr_base_MiddlePoint = {}\n",
    "\n",
    "theta_SAMPeak = {}\n",
    "rbase_SAMPeak = {}\n",
    "errortheta_SAMPeak = {}\n",
    "errorr_base_SAMPeak = {}\n",
    "\n",
    "\n",
    "# For each surface we will store 10 results corresponding to the 10 droplets in each system. This means that in every \n",
    "# entry of the \"results-dictionaries\" we will store a list of 10 elements. Thus, now we store in them lists with 10 zeros. \n",
    "\n",
    "for system in percentages:\n",
    "\n",
    "    theta_WaterPeak[system] = np.zeros(len(Waters))\n",
    "    rbase_WaterPeak[system] = np.zeros(len(Waters))\n",
    "    errortheta_WaterPeak[system] = np.zeros(len(Waters))\n",
    "    errorr_base_WaterPeak[system] = np.zeros(len(Waters))\n",
    "\n",
    "    theta_MiddlePoint[system] = np.zeros(len(Waters))\n",
    "    rbase_MiddlePoint[system] = np.zeros(len(Waters))\n",
    "    errortheta_MiddlePoint[system] = np.zeros(len(Waters))\n",
    "    errorr_base_MiddlePoint[system] = np.zeros(len(Waters))\n",
    "\n",
    "    theta_SAMPeak[system] = np.zeros(len(Waters))\n",
    "    rbase_SAMPeak[system] = np.zeros(len(Waters))\n",
    "    errortheta_SAMPeak[system] = np.zeros(len(Waters))\n",
    "    errorr_base_SAMPeak[system] = np.zeros(len(Waters))"
   ]
  },
  {
   "cell_type": "code",
   "execution_count": 11,
   "metadata": {
    "collapsed": true
   },
   "outputs": [],
   "source": [
    "# We create an array named \"t\" with the time values. We use the length of the longest simulation.\n",
    "\n",
    "maxlength=100 #maximum length in ns\n",
    "t = np.zeros(2*maxlength)\n",
    "i=0\n",
    "for d in frange(0, maxlength, 0.5,closed=0):\n",
    "    t[i] = d\n",
    "    i = i + 1"
   ]
  },
  {
   "cell_type": "code",
   "execution_count": 12,
   "metadata": {
    "collapsed": false
   },
   "outputs": [
    {
     "name": "stdout",
     "output_type": "stream",
     "text": [
      "SAM= 5 1600 1600 1600 1600\n"
     ]
    },
    {
     "ename": "IndexError",
     "evalue": "index 1600 is out of bounds for axis 0 with size 1600",
     "output_type": "error",
     "traceback": [
      "\u001b[0;31m---------------------------------------------------------------------------\u001b[0m",
      "\u001b[0;31mIndexError\u001b[0m                                Traceback (most recent call last)",
      "\u001b[0;32m<ipython-input-12-e89c33ff42a4>\u001b[0m in \u001b[0;36m<module>\u001b[0;34m()\u001b[0m\n\u001b[1;32m     24\u001b[0m         \u001b[0mm\u001b[0m \u001b[0;34m=\u001b[0m \u001b[0;36m0\u001b[0m\u001b[0;34m\u001b[0m\u001b[0m\n\u001b[1;32m     25\u001b[0m         \u001b[0;32mfor\u001b[0m \u001b[0ml\u001b[0m \u001b[0;32min\u001b[0m \u001b[0mrange\u001b[0m\u001b[0;34m(\u001b[0m\u001b[0mi\u001b[0m\u001b[0;34m,\u001b[0m\u001b[0mj\u001b[0m\u001b[0;34m)\u001b[0m\u001b[0;34m:\u001b[0m\u001b[0;34m\u001b[0m\u001b[0m\n\u001b[0;32m---> 26\u001b[0;31m             \u001b[0mth\u001b[0m\u001b[0;34m[\u001b[0m\u001b[0mm\u001b[0m\u001b[0;34m]\u001b[0m\u001b[0;34m=\u001b[0m\u001b[0mtheta_WaterPeak_data\u001b[0m\u001b[0;34m[\u001b[0m\u001b[0ml\u001b[0m\u001b[0;34m]\u001b[0m\u001b[0;34m\u001b[0m\u001b[0m\n\u001b[0m\u001b[1;32m     27\u001b[0m             \u001b[0mr\u001b[0m\u001b[0;34m[\u001b[0m\u001b[0mm\u001b[0m\u001b[0;34m]\u001b[0m\u001b[0;34m=\u001b[0m\u001b[0mrbase_WaterPeak_data\u001b[0m\u001b[0;34m[\u001b[0m\u001b[0ml\u001b[0m\u001b[0;34m]\u001b[0m\u001b[0;34m\u001b[0m\u001b[0m\n\u001b[1;32m     28\u001b[0m             \u001b[0mm\u001b[0m \u001b[0;34m=\u001b[0m \u001b[0mm\u001b[0m \u001b[0;34m+\u001b[0m\u001b[0;36m1\u001b[0m\u001b[0;34m\u001b[0m\u001b[0m\n",
      "\u001b[0;31mIndexError\u001b[0m: index 1600 is out of bounds for axis 0 with size 1600"
     ]
    }
   ],
   "source": [
    "# We save the data in the arrays \"theta_all\" and \"rbase_all\"\n",
    "SAMs=[5,21,25,41] # Here we use only the SAMs with Contact Angles. Not the systems with complete wetting.\n",
    "\n",
    "# Here we create two dictionaries named \"angles\" and \"radii\". Each dictionary consists of a set of \"key: value\" pairs, each one corresponding to a different system. The keys are (also) a pair of numbers \"b, c\".\n",
    "# \"b\" refers to the OH-coverage percentage of the SAM, and \"c\" to the number of water molecules of the droplet. For example, the key \"5, 1000\" refers to the system with a surface with 5% OH-coverage, \n",
    "# and a droplet with 1000 water molecules. The value corresponding to each key is an array with the 40 calculated angles/base radii, that belong to that system. For example: \"radii[(11, 3000)]\" would give back\n",
    "# the array with the 40 calculated values of the base radii corresponding to the system with a surface with 11% OH-coverage, and a droplet with 3000 water molecules.\n",
    "\n",
    "for b in SAMs:\n",
    "    theta_WaterPeak_data, rbase_WaterPeak_data = np.loadtxt('Contact_Angles2_WaterPeak_s'+str(b)+'.txt', skiprows=2, usecols = (0,1),unpack=True)\n",
    "    #theta_MiddlePoint_data, rbase_MiddlePoint_data = np.loadtxt('Contact_Angles2_MiddlePoint_s'+str(b)+'.txt', skiprows=2, usecols = (0,1),unpack=True)\n",
    "    theta_SAMPeak_data, rbase_SAMPeak_data = np.loadtxt('Contact_Angles2_SAM_last_C_atom_s'+str(b)+'.txt', skiprows=2, usecols = (0,1),unpack=True)\n",
    "    print \"SAM=\", b, len(theta_WaterPeak_data), len(rbase_WaterPeak_data),len(theta_SAMPeak_data), len(rbase_SAMPeak_data)\n",
    "    #len(theta_MiddlePoint_data), len(rbase_MiddlePoint_data),\n",
    "    k = 0\n",
    "    for c in Waters:\n",
    "        # First data with z=0 at the first water peak\n",
    "        z = b, c\n",
    "        th = [0] *(2*maxlength)\n",
    "        r = [0] *(2*maxlength)\n",
    "        i=k*(2*maxlength)\n",
    "        j=(k+1)*(2*maxlength)\n",
    "        #print \"z=\", z, \"i=\", i, \"j=\", j\n",
    "        m = 0\n",
    "        for l in range(i,j):\n",
    "            th[m]=theta_WaterPeak_data[l]\n",
    "            r[m]=rbase_WaterPeak_data[l]\n",
    "            m = m +1\n",
    "        angles_WaterPeak[z] = th\n",
    "        radii_WaterPeak[z] = r\n",
    "        \n",
    "        ## Then data with z=0 at the middle point\n",
    "        #th = [0] *(2*maxlength)\n",
    "        #r = [0] *(2*maxlength)\n",
    "        #m=0\n",
    "        #for l in range(i,j):\n",
    "        #    th[m]=theta_MiddlePoint_data[l]\n",
    "        #    r[m]=rbase_MiddlePoint_data[l]\n",
    "        #    m = m +1\n",
    "        #angles_MiddlePoint[z] = th\n",
    "        #radii_MiddlePoint[z] = r\n",
    "        \n",
    "        # Lastly data with z=0 at the last SAM peak\n",
    "        th = [0] *(2*maxlength)\n",
    "        r = [0] *(2*maxlength)\n",
    "        m=0\n",
    "        for l in range(i,j):\n",
    "            th[m]=theta_SAMPeak_data[l]\n",
    "            r[m]=rbase_SAMPeak_data[l]\n",
    "            m = m +1\n",
    "        angles_SAMPeak[z] = th\n",
    "        radii_SAMPeak[z] = r\n",
    "        \n",
    "        k=k+1"
   ]
  },
  {
   "cell_type": "code",
   "execution_count": null,
   "metadata": {
    "collapsed": true
   },
   "outputs": [],
   "source": []
  }
 ],
 "metadata": {
  "kernelspec": {
   "display_name": "Python 2",
   "language": "python",
   "name": "python2"
  },
  "language_info": {
   "codemirror_mode": {
    "name": "ipython",
    "version": 2
   },
   "file_extension": ".py",
   "mimetype": "text/x-python",
   "name": "python",
   "nbconvert_exporter": "python",
   "pygments_lexer": "ipython2",
   "version": "2.7.9"
  }
 },
 "nbformat": 4,
 "nbformat_minor": 0
}
