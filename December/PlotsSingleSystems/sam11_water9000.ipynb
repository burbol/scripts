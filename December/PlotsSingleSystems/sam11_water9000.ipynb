{
 "metadata": {
  "name": "",
  "signature": "sha256:2cdb5223d2daacda374d0a5d738cbb87b18af73e927cd71e33596f44554fb006"
 },
 "nbformat": 3,
 "nbformat_minor": 0,
 "worksheets": [
  {
   "cells": [
    {
     "cell_type": "code",
     "collapsed": false,
     "input": [
      "%pylab inline"
     ],
     "language": "python",
     "metadata": {},
     "outputs": [
      {
       "output_type": "stream",
       "stream": "stdout",
       "text": [
        "Populating the interactive namespace from numpy and matplotlib\n"
       ]
      }
     ],
     "prompt_number": 1
    },
    {
     "cell_type": "code",
     "collapsed": false,
     "input": [
      "%cd /Volumes/UNI/SHELDON/files_for_laila/g_rad_densmaps_all\n",
      "#%cd /Volumes/UNI/SHELDON/CLOSEDsheldon/eixeres/files_for_laila/g_rad_densmaps_s11_repeated/"
     ],
     "language": "python",
     "metadata": {},
     "outputs": [
      {
       "output_type": "stream",
       "stream": "stdout",
       "text": [
        "/Volumes/UNI/SHELDON/files_for_laila/g_rad_densmaps_all\n"
       ]
      }
     ],
     "prompt_number": 40
    },
    {
     "cell_type": "code",
     "collapsed": false,
     "input": [
      "import matplotlib \n",
      "import matplotlib.pyplot as plt\n",
      "import numpy as np\n",
      "from scipy.optimize import curve_fit\n",
      "from scipy import stats"
     ],
     "language": "python",
     "metadata": {},
     "outputs": [],
     "prompt_number": 41
    },
    {
     "cell_type": "code",
     "collapsed": false,
     "input": [
      "# We save the data in the arrays \"theta_all\" and \"rbase_all\"\n",
      "#theta_all, rbase_all = np.loadtxt('Contact_Angles2_WaterPeak_s11_w6500.txt', skiprows=2, usecols = (0,1),unpack=True)\n",
      "theta_all, rbase_all = np.loadtxt('Contact_Angles2_WaterPeak_s11_w9000.txt', skiprows=2, usecols = (0,1),unpack=True)"
     ],
     "language": "python",
     "metadata": {},
     "outputs": [],
     "prompt_number": 42
    },
    {
     "cell_type": "code",
     "collapsed": false,
     "input": [
      "# Here we create two dictionaries named \"angles\" and \"radii\". Each dictionary consists of a set of \"key: value\" pairs, each one corresponding to a different system. The keys are (also) a pair of numbers \"b, c\".\n",
      "# \"b\" refers to the OH-coverage percentage of the SAM, and \"c\" to the number of water molecules of the droplet. For example, the key \"5, 1000\" refers to the system with a surface with 5% OH-coverage, \n",
      "# and a droplet with 1000 water molecules. The value corresponding to each key is an array with the 40 calculated angles/base radii, that belong to that system. For example: \"radii[(11, 3000)]\" would give back\n",
      "# the array with the 40 calculated values of the base radii corresponding to the system with a surface with 11% OH-coverage, and a droplet with 3000 water molecules.\n",
      "angles={}\n",
      "radii={}\n",
      "k = 0\n",
      "for b in [11]:\n",
      "    for c in [9000]:\n",
      "        z = b, c\n",
      "        m = 0\n",
      "        th = [0] * 200\n",
      "        r = [0] * 200\n",
      "        i=k*200\n",
      "        j=(k+1)*200\n",
      "        for l in range(i,j):\n",
      "            th[m]=theta_all[l]\n",
      "            r[m]=rbase_all[l]\n",
      "            m = m +1\n",
      "        angles[z] = th\n",
      "        radii[z] = r\n",
      "        k=k+1\n",
      "\n",
      "theta_s0 = np.zeros(10)\n",
      "rbase_s0 = np.zeros(10)\n",
      "#We choose a system and substitute the values \"b\" and \"c\" to save the corresponding angle and radii values in two arrays named, respectively, \"theta\" and \"rbase\".\n",
      "b=11\n",
      "c=9000\n",
      "theta = array(angles[(b, c)])\n",
      "rbase = array(radii[(b, c)])\n",
      "#print \"theta=\", theta\n",
      "#print \"rbase=\", rbase\n",
      "print len(theta)\n",
      "print theta[0]"
     ],
     "language": "python",
     "metadata": {},
     "outputs": [
      {
       "output_type": "stream",
       "stream": "stdout",
       "text": [
        "200\n",
        "174.08972628\n"
       ]
      }
     ],
     "prompt_number": 43
    },
    {
     "cell_type": "code",
     "collapsed": false,
     "input": [
      "# This function allows to use ranges, just as the built-in function range(), but with float arguments.\n",
      "# Taken from \"http://code.activestate.com/recipes/66472-frange-a-range-function-with-float-increments/\"\n",
      "def frange(start, end=None, inc=None):\n",
      "    if end == None:\n",
      "        end = start + 0.0\n",
      "        start = 0.0\n",
      "\n",
      "    if inc == None:\n",
      "        inc = 1.0\n",
      "\n",
      "    L = []\n",
      "    while 1:\n",
      "        next = start + len(L) * inc\n",
      "        if inc > 0 and next >= end:\n",
      "            break\n",
      "        elif inc < 0 and next <= end:\n",
      "            break\n",
      "        L.append(next)\n",
      "    return L"
     ],
     "language": "python",
     "metadata": {},
     "outputs": [],
     "prompt_number": 44
    },
    {
     "cell_type": "code",
     "collapsed": false,
     "input": [
      "# We create an array named \"t\" with the time values.\n",
      "t = np.zeros(len(theta))\n",
      "i=0\n",
      "for d in frange(0, len(theta)/2, 0.5):\n",
      "    t[i] = d\n",
      "    i = i + 1\n",
      "print len(t), len(theta)"
     ],
     "language": "python",
     "metadata": {},
     "outputs": [
      {
       "output_type": "stream",
       "stream": "stdout",
       "text": [
        "200 200\n"
       ]
      }
     ],
     "prompt_number": 45
    },
    {
     "cell_type": "code",
     "collapsed": false,
     "input": [
      "b=11\n",
      "c=9000\n",
      "#theta = array(angles[(b, c)])\n",
      "#rbase = array(radii[(b, c)])\n",
      "nametheta = \"thetas%sw%s.png\" % (b,c)\n",
      "namebaserad = \"rads%sw%s.png\" % (b,c)\n",
      "\n",
      "start=9\n",
      "end=119\n",
      "theta_avr = np.mean(theta[start:end])*np.ones(end - start)\n",
      "rbase_avr = np.mean(rbase[start:end])*np.ones(end - start)\n",
      "t_avr = t[start:end]\n",
      "\n",
      "theta_s0[0]=theta_avr[0] \n",
      "rbase_s0[0]=rbase_avr[0] \n",
      "print theta_s0[0]\n",
      "print rbase_s0[0]\n",
      "\n",
      "#PLOT FOR CONTACT ANGLE OF SAM 0% & 1000 WATER MOLECULES. (Also saved to file)\n",
      "#plt.plot(t,theta,'ro')\n",
      "plt.plot(t,theta)\n",
      "plt.plot(t_avr, theta_avr, linewidth=2.5,)\n",
      "plt.xlabel('time [ns]')\n",
      "plt.ylabel(r'$\\theta$ [deg]')\n",
      "plt.suptitle(r'Contact Angle $\\theta$ vs. Time', fontsize=14, fontweight='bold')\n",
      "#plt.title(r'Contact Angle $\\theta$ vs. Time')\n",
      "plt.text(31, 150, 'SAM '+str(b)+'%, Water '+str(c)+' molec.',style='italic',\n",
      "        bbox={'facecolor':'red', 'alpha':0.5, 'pad':10})\n",
      "plt.grid(True)\n",
      "#plt.axis([0, 60, 85, 150])\n",
      "#pylab.savefig(nametheta)\n",
      "plt.show()\n",
      "\n",
      "#PLOT FOR BASE RADIUS OF SAM 0% & 1000 WATER MOLECULES.(Also saved to file)\n",
      "#plt.plot(t,rbase,'ro')\n",
      "plt.plot(t,rbase)\n",
      "plt.plot(t_avr, rbase_avr, linewidth=2.5,)\n",
      "plt.xlabel('time [ns]')\n",
      "plt.ylabel(r'R$\\ _{BASE} $ [nm]')\n",
      "plt.suptitle(r'Base Radius R$\\ _{BASE}$ vs. Time', fontsize=14, fontweight='bold')\n",
      "#plt.title(r'Contact Angle $\\theta$ vs. Time')\n",
      "plt.text(31, 1.0, 'SAM '+str(b)+'%, Water '+str(c)+' molec.',style='italic', bbox={'facecolor':'red', 'alpha':0.5, 'pad':10})\n",
      "plt.grid(True)\n",
      "#plt.axis([0, 60, 0, 2])\n",
      "#pylab.savefig(namebaserad)\n",
      "plt.show()"
     ],
     "language": "python",
     "metadata": {},
     "outputs": [
      {
       "output_type": "stream",
       "stream": "stdout",
       "text": [
        "nan\n",
        "nan\n"
       ]
      },
      {
       "metadata": {},
       "output_type": "display_data",
       "png": "[encoded data removed]",
       "text": [
        "<matplotlib.figure.Figure at 0x10f6415d0>"
       ]
      },
      {
       "metadata": {},
       "output_type": "display_data",
       "png": "[encoded data removed]",
       "text": [
        "<matplotlib.figure.Figure at 0x10f652050>"
       ]
      }
     ],
     "prompt_number": 46
    },
    {
     "cell_type": "code",
     "collapsed": false,
     "input": [
      "plt.plot(t,theta,'ro')"
     ],
     "language": "python",
     "metadata": {},
     "outputs": [
      {
       "metadata": {},
       "output_type": "pyout",
       "prompt_number": 11,
       "text": [
        "[<matplotlib.lines.Line2D at 0x10ff00c90>]"
       ]
      },
      {
       "metadata": {},
       "output_type": "display_data",
       "png": "[encoded data removed]",
       "text": [
        "<matplotlib.figure.Figure at 0x10f650090>"
       ]
      }
     ],
     "prompt_number": 11
    },
    {
     "cell_type": "code",
     "collapsed": false,
     "input": [],
     "language": "python",
     "metadata": {},
     "outputs": []
    }
   ],
   "metadata": {}
  }
 ]
}