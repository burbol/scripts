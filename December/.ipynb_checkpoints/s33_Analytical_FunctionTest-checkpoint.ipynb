{
 "metadata": {
  "name": "",
  "signature": "sha256:3eb15c1ae326f49e915cb9452ba29195293b745e114c837f6ed1022744cef7e0"
 },
 "nbformat": 3,
 "nbformat_minor": 0,
 "worksheets": [
  {
   "cells": [
    {
     "cell_type": "code",
     "collapsed": false,
     "input": [
      "%pylab inline\n",
      "import matplotlib \n",
      "import matplotlib.pyplot as plt\n",
      "import numpy as np"
     ],
     "language": "python",
     "metadata": {},
     "outputs": [
      {
       "output_type": "stream",
       "stream": "stdout",
       "text": [
        "Populating the interactive namespace from numpy and matplotlib\n"
       ]
      }
     ],
     "prompt_number": 1
    },
    {
     "cell_type": "code",
     "collapsed": false,
     "input": [
      "a=np.linspace(-10,10,200)\n",
      "b=np.tan(radians(a))\n",
      "plt.plot(a,b)"
     ],
     "language": "python",
     "metadata": {},
     "outputs": [],
     "prompt_number": 20
    },
    {
     "cell_type": "code",
     "collapsed": false,
     "input": [
      "# For GDS\n",
      "theta=80.793191059\n",
      "rbase=2.55692336474\n",
      "epsilon=-0.06346\n",
      "\n",
      "\n",
      "phi=radians(theta-90)\n",
      "Zc=rbase*tan(phi)\n",
      "Rc=rbase/cos(phi)\n",
      "print \"phi=\",phi\n",
      "print \"Zc=\",Zc\n",
      "print \"Rc=\",Rc\n",
      "print abs(Zc-epsilon)\n",
      "print Zc-epsilon\n",
      "#if (Rc**2) < (epsilon-Zc)**2:\n",
      "    #print \"STOPPED!\"\n",
      "rbase_new=sqrt((Rc**2)-((epsilon-Zc)**2))\n",
      "phi_new=arctan((Zc-epsilon)/rbase_new)\n",
      "theta_new=degrees(phi_new)+90\n",
      "    \n",
      "# printing for testing...\n",
      "#print \"Rc=\",Rc\n",
      "#print \"Zc=\",Zc\n",
      "print \"phi=\",degrees(phi)\n",
      "print theta_new, rbase_new"
     ],
     "language": "python",
     "metadata": {},
     "outputs": [
      {
       "output_type": "stream",
       "stream": "stdout",
       "text": [
        "phi= -0.160689129623\n",
        "Zc= -0.414443056441\n",
        "Rc= 2.59029344673\n",
        "0.350983056441\n",
        "-0.350983056441\n",
        "phi= -9.206808941\n",
        "82.2125046271 2.56640430063\n"
       ]
      }
     ],
     "prompt_number": 39
    },
    {
     "cell_type": "code",
     "collapsed": false,
     "input": [
      "#For SAM Peak\n",
      "theta=80.793191059\n",
      "rbase=2.55692336474\n",
      "epsilon=-0.16\n",
      "\n",
      "\n",
      "phi=radians(theta-90)\n",
      "Zc=rbase*tan(phi)\n",
      "Rc=rbase/cos(phi)\n",
      "print \"phi=\",phi\n",
      "print \"Zc=\",Zc\n",
      "print \"Rc=\",Rc\n",
      "print abs(Zc-epsilon)\n",
      "print Zc-epsilon\n",
      "#if (Rc**2) < (epsilon-Zc)**2:\n",
      "    #print \"STOPPED!\"\n",
      "rbase_new=sqrt((Rc**2)-((epsilon-Zc)**2))\n",
      "phi_new=arctan((Zc-epsilon)/rbase_new)\n",
      "theta_new=degrees(phi_new)+90\n",
      "    \n",
      "# printing for testing...\n",
      "#print \"Rc=\",Rc\n",
      "#print \"Zc=\",Zc\n",
      "print \"phi=\",degrees(phi)\n",
      "print theta_new, rbase_new"
     ],
     "language": "python",
     "metadata": {},
     "outputs": [
      {
       "output_type": "stream",
       "stream": "stdout",
       "text": [
        "phi= -0.160689129623\n",
        "Zc= -0.414443056441\n",
        "Rc= 2.59029344673\n",
        "0.254443056441\n",
        "-0.254443056441\n",
        "phi= -9.206808941\n",
        "84.3627775466 2.57776625612\n"
       ]
      }
     ],
     "prompt_number": 38
    },
    {
     "cell_type": "code",
     "collapsed": false,
     "input": [
      "ang=np.linspace(0,2*np.pi,200)\n",
      "a=Rc*cos(ang)\n",
      "b=(Rc*sin(ang))+Zc\n",
      "plt.plot(a,b)\n",
      "linex=np.linspace(-3,3,200)\n",
      "liney=np.zeros(200)\n",
      "liney2=np.zeros(200)+epsilon\n",
      "plt.plot(linex,liney)\n",
      "plt.plot(linex,liney2)"
     ],
     "language": "python",
     "metadata": {},
     "outputs": [
      {
       "metadata": {},
       "output_type": "pyout",
       "prompt_number": 30,
       "text": [
        "[<matplotlib.lines.Line2D at 0x10efdc210>]"
       ]
      },
      {
       "metadata": {},
       "output_type": "display_data",
       "png": "[encoded data removed]",
       "text": [
        "<matplotlib.figure.Figure at 0x10f064110>"
       ]
      }
     ],
     "prompt_number": 30
    },
    {
     "cell_type": "code",
     "collapsed": false,
     "input": [
      "print np.tan(radians(-10))"
     ],
     "language": "python",
     "metadata": {},
     "outputs": [
      {
       "output_type": "stream",
       "stream": "stdout",
       "text": [
        "-0.176326980708\n"
       ]
      }
     ],
     "prompt_number": 14
    },
    {
     "cell_type": "code",
     "collapsed": false,
     "input": [
      "print np.tan(radians(10))"
     ],
     "language": "python",
     "metadata": {},
     "outputs": [
      {
       "output_type": "stream",
       "stream": "stdout",
       "text": [
        "0.176326980708\n"
       ]
      }
     ],
     "prompt_number": 15
    },
    {
     "cell_type": "code",
     "collapsed": false,
     "input": [],
     "language": "python",
     "metadata": {},
     "outputs": []
    }
   ],
   "metadata": {}
  }
 ]
}