{
 "metadata": {
  "name": "",
  "signature": "sha256:7dceefb88e6cdaad8b1b1ba13f70118647117a72636ae56ab949b3632c7a80b5"
 },
 "nbformat": 3,
 "nbformat_minor": 0,
 "worksheets": [
  {
   "cells": [
    {
     "cell_type": "code",
     "collapsed": false,
     "input": [
      "# This script subtitutes angles and radii from a .txt file to another"
     ],
     "language": "python",
     "metadata": {},
     "outputs": [],
     "prompt_number": 1
    },
    {
     "cell_type": "code",
     "collapsed": false,
     "input": [
      "%pylab inline"
     ],
     "language": "python",
     "metadata": {},
     "outputs": [
      {
       "output_type": "stream",
       "stream": "stdout",
       "text": [
        "Populating the interactive namespace from numpy and matplotlib\n"
       ]
      }
     ],
     "prompt_number": 1
    },
    {
     "cell_type": "code",
     "collapsed": false,
     "input": [
      "import matplotlib \n",
      "import matplotlib.pyplot as plt\n",
      "import numpy as np\n",
      "import os"
     ],
     "language": "python",
     "metadata": {},
     "outputs": [],
     "prompt_number": 2
    },
    {
     "cell_type": "code",
     "collapsed": false,
     "input": [
      "# This function allows to use ranges, just as the built-in function range(), but with float arguments.\n",
      "# Taken from \"http://code.activestate.com/recipes/66472-frange-a-range-function-with-float-increments/\"\n",
      "def frange(start, end=None, inc=None):\n",
      "\tif end == None:\n",
      "\t\tend = start + 0.0\n",
      "\t\tstart = 0.0\n",
      "\n",
      "\tif inc == None:\n",
      "\t\tinc = 1.0\n",
      "\n",
      "\tL = []\n",
      "\twhile 1:\n",
      "\t\tnext = start + len(L) * inc\n",
      "\t\tif inc > 0 and next >= end:\n",
      "\t\t\tbreak\n",
      "\t\telif inc < 0 and next <= end:\n",
      "\t\t\tbreak\n",
      "\t\tL.append(next)\n",
      "\t\t\n",
      "\treturn L"
     ],
     "language": "python",
     "metadata": {},
     "outputs": [],
     "prompt_number": 3
    },
    {
     "cell_type": "code",
     "collapsed": false,
     "input": [
      "#FolderOldFile = '/Users/burbol2/Dropbox/Apps/Computable/Final_Results_CAngles' #file with \"old\" values\n",
      "#FolderOldFile = '/Volumes/UNI/SHELDON/files_for_laila/g_rad_densmaps_all/' #file with \"new\" values\n",
      "FolderOldFile = '/Volumes/UNI/SHELDON/CLOSEDsheldon/eixeres/files_for_laila/g_rad_densmaps_all/' #file with \"new\" values\n",
      "#FolderOldFile = '/Users/burbol2/Desktop'\n",
      "\n",
      "FolderNewFile = '/Volumes/UNI/SHELDON/files_for_laila/s0_w1000/' #file with \"new\" values\n",
      "#FolderNewFile = '/Volumes/UNI/SHELDON/files_for_laila/g_rad_densmaps_all/' #file with \"new\" values\n",
      "#FolderNewFile = '/Volumes/UNI/SHELDON/CLOSEDsheldon/eixeres/files_for_laila/g_rad_densmaps_next' #file with \"new\" values\n",
      "#FolderNewFile = '/Volumes/UNI/SHELDON/s11_w2000_dmap2'\n",
      "#FolderNewFile = '/Users/burbol2/Desktop'\n",
      "\n",
      "FolderOldWithNew = '/Users/burbol2/Desktop' #new file with all the values, old and new subtituted ones"
     ],
     "language": "python",
     "metadata": {},
     "outputs": [],
     "prompt_number": 44
    },
    {
     "cell_type": "code",
     "collapsed": false,
     "input": [
      "# Systems in the \"old\" file\n",
      "Waters=[1000, 2000, 3000, 4000, 5000, 6500, 7000, 8000, 9000, 10000]\n",
      "\n",
      "# Systems in the \"new\" file\n",
      "SAMsToInsert = [11]\n",
      "WatersToInsert = [2000]"
     ],
     "language": "python",
     "metadata": {},
     "outputs": [],
     "prompt_number": 45
    },
    {
     "cell_type": "code",
     "collapsed": false,
     "input": [
      "# We read and save the \"new\" file\n",
      "\n",
      "maxlength=100 #maximum length in ns\n",
      "\n",
      "os.chdir(FolderNewFile)\n",
      "\n",
      "anglesToInsert = {}\n",
      "radiiToInsert = {}\n",
      "for b in SAMsToInsert:\n",
      "    k = 0\n",
      "    for c in WatersToInsert:\n",
      "    #for c in Waters:\n",
      "        #theta, rbase = np.loadtxt('Contact_Angles2_WaterPeak_s'+str(b)+'_w'+str(c)+'.txt', skiprows=2, usecols = (0,1),unpack=True)\n",
      "        #theta, rbase = np.loadtxt('Contact_Angles2_MiddlePoint_s'+str(b)+'_w'+str(c)+'.txt', skiprows=2, usecols = (0,1),unpack=True)\n",
      "        #theta, rbase = np.loadtxt('Contact_Angles2_SAMPeak_s'+str(b)+'_w'+str(c)+'.txt', skiprows=2, usecols = (0,1),unpack=True)\n",
      "        #theta, rbase = np.loadtxt('Contact_Angles2_GDS_s'+str(b)+'_next.txt', skiprows=2, usecols = (0,1),unpack=True)\n",
      "        \n",
      "        theta, rbase = np.loadtxt('Contact_Angles2_GDS_s'+str(b)+'_w'+str(c)+'.txt', skiprows=2, usecols = (0,1),unpack=True)\n",
      "        print \"SAM=\", b, \"Waters=\",c, \"length=\",len(theta), len(rbase)\n",
      "        z = b, c\n",
      "        th = [0] *(2*maxlength)\n",
      "        r = [0] *(2*maxlength)\n",
      "        i=k*(2*maxlength)\n",
      "        j=(k+1)*(2*maxlength)\n",
      "        #print \"z=\", z, \"i=\", i, \"j=\", j\n",
      "        m = 0\n",
      "        for l in range(i,j):\n",
      "            th[m]=theta[l]\n",
      "            r[m]=rbase[l]\n",
      "            m = m +1\n",
      "        anglesToInsert[z] = th\n",
      "        radiiToInsert[z] = r\n",
      "        k=k+1\n",
      "   \n",
      "j=SAMsToInsert[0]\n",
      "k=WatersToInsert[0]\n",
      "#We print some values as an exmaple:\n",
      "print len(anglesToInsert[(j,k)]), len(radiiToInsert[(j,k)])\n",
      "print type(anglesToInsert[(j,k)]), type(radiiToInsert[(j,k)])\n",
      "print anglesToInsert[(j,k)]\n",
      "print anglesToInsert[(j,k)][40]\n",
      "print radiiToInsert[(j,k)][50]"
     ],
     "language": "python",
     "metadata": {},
     "outputs": [
      {
       "output_type": "stream",
       "stream": "stdout",
       "text": [
        "SAM= 11 Waters= 2000 length= 200 200\n",
        "200 200\n",
        "<type 'list'> <type 'list'>\n",
        "[nan, nan, nan, nan, nan, nan, nan, nan, nan, nan, nan, nan, nan, nan, nan, nan, nan, nan, nan, nan, nan, nan, nan, nan, nan, nan, nan, nan, nan, nan, nan, nan, nan, nan, nan, nan, nan, nan, nan, nan, 172.89010037700001, 129.32350980699999, 130.70926610999999, 118.57785194900001, 114.67249414699999, 167.59252386099999, 135.612103975, 129.08338670500001, 122.696219344, 119.30561541100001, 116.92369292399999, 116.054227247, 117.500360238, 117.174298096, 116.705055266, 115.975281317, 116.574754025, 117.58221949599999, 118.892258537, 117.811903319, 118.126629941, 118.68581555, 118.26828590300001, 117.802695161, 118.635474277, 118.865832582, 117.821994631, 119.27444394, 117.981447131, 118.884038027, 118.534651704, 119.21172038100001, 117.265214415, 114.99954128500001, 116.701181564, 118.42978588, 118.88742161499999, 118.544582178, 118.60515364600001, 118.627824432, 118.674275159, 118.248545182, 117.386637205, 118.552595724, 119.13075811, nan, 137.110180614, 127.040307634, 121.290932188, 116.999680321, 115.6804764, 116.07637740600001, 117.00641531799999, 116.92600075199999, 118.79212668, 117.612582245, 116.667985148, 117.230898377, 116.75770443899999, 116.84776745800001, nan, nan, nan, nan, nan, nan, nan, nan, nan, nan, nan, nan, nan, nan, nan, nan, nan, nan, nan, nan, nan, nan, nan, nan, nan, nan, nan, nan, nan, nan, nan, nan, nan, nan, nan, nan, nan, nan, nan, nan, nan, nan, nan, nan, nan, nan, nan, nan, nan, nan, nan, nan, nan, nan, nan, nan, nan, nan, nan, nan, nan, nan, nan, nan, nan, nan, nan, nan, nan, nan, nan, nan, nan, nan, nan, nan, nan, nan, nan, nan, nan, nan, nan, nan, nan, nan, nan, nan, nan, nan, nan, nan, nan, nan, nan, nan, nan, nan, nan, nan]\n",
        "172.890100377\n",
        "2.31874082755\n"
       ]
      }
     ],
     "prompt_number": 46
    },
    {
     "cell_type": "code",
     "collapsed": false,
     "input": [
      "# Testing vector lengths\n",
      "j=SAMsToInsert[0]\n",
      "k=WatersToInsert[0]\n",
      "print len(anglesToInsert[(j,k)][40:]), len(radiiToInsert[(j,k)][40:])\n",
      "print anglesToInsert[(j,k)][41], anglesToInsert[(j,k)][79], anglesToInsert[(j,k)][41:][-1]\n",
      "print anglesToInsert[(j,k)][45:86], len( anglesToInsert[(j,k)][0:81])"
     ],
     "language": "python",
     "metadata": {},
     "outputs": [
      {
       "output_type": "stream",
       "stream": "stdout",
       "text": [
        "160 160\n",
        "129.323509807 118.627824432 nan\n",
        "[167.59252386099999, 135.612103975, 129.08338670500001, 122.696219344, 119.30561541100001, 116.92369292399999, 116.054227247, 117.500360238, 117.174298096, 116.705055266, 115.975281317, 116.574754025, 117.58221949599999, 118.892258537, 117.811903319, 118.126629941, 118.68581555, 118.26828590300001, 117.802695161, 118.635474277, 118.865832582, 117.821994631, 119.27444394, 117.981447131, 118.884038027, 118.534651704, 119.21172038100001, 117.265214415, 114.99954128500001, 116.701181564, 118.42978588, 118.88742161499999, 118.544582178, 118.60515364600001, 118.627824432, 118.674275159, 118.248545182, 117.386637205, 118.552595724, 119.13075811, nan] 81\n"
       ]
      }
     ],
     "prompt_number": 47
    },
    {
     "cell_type": "code",
     "collapsed": false,
     "input": [
      "# RUN ONLY ONCE!!\n",
      "# We want to \"throw away\" the first 40 values and the last 85 values\n",
      "# of the \"new\" file and then subtitute the remaining \n",
      "# values in the place the old ones\n",
      "'''\n",
      "start2keep=45\n",
      "end2keep=85\n",
      "values2delete=200-(end2keep-start2keep)\n",
      "j=SAMsToInsert[0]\n",
      "k=WatersToInsert[0]\n",
      "\n",
      "anglesToInsert[(j,k)] = anglesToInsert[(j,k)][start2keep:end2keep]\n",
      "radiiToInsert[(j,k)] = radiiToInsert[(j,k)][start2keep:end2keep]\n",
      "\n",
      "# We add 'nan' values because anglesToInsert and radiiToInsert are now shorter\n",
      "NanValues=np.zeros(values2delete)\n",
      "for i in range(len(NanValues)):\n",
      "    NanValues[i]='nan'\n",
      "NanValues=list(NanValues)\n",
      "    \n",
      "anglesToInsert[(j,k)] = anglesToInsert[(j,k)]+NanValues\n",
      "radiiToInsert[(j,k)] = radiiToInsert[(j,k)]+NanValues\n",
      "\n",
      "print anglesToInsert[(j,k)]\n",
      "print radiiToInsert[(j,k)]\n",
      "'''"
     ],
     "language": "python",
     "metadata": {},
     "outputs": [
      {
       "output_type": "stream",
       "stream": "stdout",
       "text": [
        "[167.59252386099999, 135.612103975, 129.08338670500001, 122.696219344, 119.30561541100001, 116.92369292399999, 116.054227247, 117.500360238, 117.174298096, 116.705055266, 115.975281317, 116.574754025, 117.58221949599999, 118.892258537, 117.811903319, 118.126629941, 118.68581555, 118.26828590300001, 117.802695161, 118.635474277, 118.865832582, 117.821994631, 119.27444394, 117.981447131, 118.884038027, 118.534651704, 119.21172038100001, 117.265214415, 114.99954128500001, 116.701181564, 118.42978588, 118.88742161499999, 118.544582178, 118.60515364600001, 118.627824432, 118.674275159, 118.248545182, 117.386637205, 118.552595724, 119.13075811, nan, nan, nan, nan, nan, nan, nan, nan, nan, nan, nan, nan, nan, nan, nan, nan, nan, nan, nan, nan, nan, nan, nan, nan, nan, nan, nan, nan, nan, nan, nan, nan, nan, nan, nan, nan, nan, nan, nan, nan, nan, nan, nan, nan, nan, nan, nan, nan, nan, nan, nan, nan, nan, nan, nan, nan, nan, nan, nan, nan, nan, nan, nan, nan, nan, nan, nan, nan, nan, nan, nan, nan, nan, nan, nan, nan, nan, nan, nan, nan, nan, nan, nan, nan, nan, nan, nan, nan, nan, nan, nan, nan, nan, nan, nan, nan, nan, nan, nan, nan, nan, nan, nan, nan, nan, nan, nan, nan, nan, nan, nan, nan, nan, nan, nan, nan, nan, nan, nan, nan, nan, nan, nan, nan, nan, nan, nan, nan, nan, nan, nan, nan, nan, nan, nan, nan, nan, nan, nan, nan, nan, nan, nan, nan, nan, nan, nan, nan, nan, nan, nan, nan, nan, nan, nan, nan, nan, nan, nan, nan]\n",
        "[0.50513962988000005, 1.7229851163900001, 1.9447810993500001, 2.1378361862199999, 2.2494525615900001, 2.3187408275500001, 2.34814826716, 2.3133468985199999, 2.3177670912499999, 2.3289043434400001, 2.3531050422600002, 2.3306623594200002, 2.3018512702999998, 2.2628761260100001, 2.29344827679, 2.28276305255, 2.2628777481000002, 2.2778632356699999, 2.2929104954100001, 2.26900636909, 2.2626756371100001, 2.29688492419, 2.24769562557, 2.2847725039300002, 2.2573194414, 2.2693906250200002, 2.2484337344599998, 2.3112112324599998, 2.3785654690500002, 2.3246835615600001, 2.2757172292800001, 2.2596837988899998, 2.2691915382699999, 2.2691622522200001, 2.27135037646, 2.2669191666900002, 2.2775943404399999, 2.3070537041999999, 2.2717316328799999, 2.2477949923599998, nan, nan, nan, nan, nan, nan, nan, nan, nan, nan, nan, nan, nan, nan, nan, nan, nan, nan, nan, nan, nan, nan, nan, nan, nan, nan, nan, nan, nan, nan, nan, nan, nan, nan, nan, nan, nan, nan, nan, nan, nan, nan, nan, nan, nan, nan, nan, nan, nan, nan, nan, nan, nan, nan, nan, nan, nan, nan, nan, nan, nan, nan, nan, nan, nan, nan, nan, nan, nan, nan, nan, nan, nan, nan, nan, nan, nan, nan, nan, nan, nan, nan, nan, nan, nan, nan, nan, nan, nan, nan, nan, nan, nan, nan, nan, nan, nan, nan, nan, nan, nan, nan, nan, nan, nan, nan, nan, nan, nan, nan, nan, nan, nan, nan, nan, nan, nan, nan, nan, nan, nan, nan, nan, nan, nan, nan, nan, nan, nan, nan, nan, nan, nan, nan, nan, nan, nan, nan, nan, nan, nan, nan, nan, nan, nan, nan, nan, nan, nan, nan, nan, nan, nan, nan, nan, nan, nan, nan, nan, nan]\n"
       ]
      }
     ],
     "prompt_number": 48
    },
    {
     "cell_type": "code",
     "collapsed": false,
     "input": [
      "print len(anglesToInsert[(j,k)])"
     ],
     "language": "python",
     "metadata": {},
     "outputs": [
      {
       "output_type": "stream",
       "stream": "stdout",
       "text": [
        "200\n"
       ]
      }
     ],
     "prompt_number": 49
    },
    {
     "cell_type": "code",
     "collapsed": false,
     "input": [
      "# RUN ONLY ONCE!!\n",
      "# We want to \"throw away\" the first 40 values of the \"new\" file and then subtitute the remaining \n",
      "# values in the place the old ones\n",
      "'''\n",
      "values2delete=40\n",
      "j=SAMsToInsert[0]\n",
      "k=WatersToInsert[0]\n",
      "\n",
      "anglesToInsert[(j,k)] = anglesToInsert[(j,k)][values2delete:]\n",
      "radiiToInsert[(j,k)] = radiiToInsert[(j,k)][values2delete:]\n",
      "#print anglesToInsert\n",
      "print type(anglesToInsert[(j,k)]), type(radiiToInsert[(j,k)])\n",
      "\n",
      "# We add 'nan' values because anglesToInsert and radiiToInsert are now shorter\n",
      "NanValues=np.zeros(values2delete)\n",
      "for i in range(len(NanValues)):\n",
      "    NanValues[i]='nan'\n",
      "NanValues=list(NanValues)\n",
      "    \n",
      "anglesToInsert[(j,k)] = anglesToInsert[(j,k)]+NanValues\n",
      "radiiToInsert[(j,k)] = radiiToInsert[(j,k)]+NanValues\n",
      "'''"
     ],
     "language": "python",
     "metadata": {},
     "outputs": [
      {
       "metadata": {},
       "output_type": "pyout",
       "prompt_number": 55,
       "text": [
        "\"\\nvalues2delete=40\\nj=SAMsToInsert[0]\\nk=WatersToInsert[0]\\n\\nanglesToInsert[(j,k)] = anglesToInsert[(j,k)][values2delete:]\\nradiiToInsert[(j,k)] = radiiToInsert[(j,k)][values2delete:]\\n#print anglesToInsert\\nprint type(anglesToInsert[(j,k)]), type(radiiToInsert[(j,k)])\\n\\n# We add 'nan' values because anglesToInsert and radiiToInsert are now shorter\\nNanValues=np.zeros(values2delete)\\nfor i in range(len(NanValues)):\\n    NanValues[i]='nan'\\nNanValues=list(NanValues)\\n    \\nanglesToInsert[(j,k)] = anglesToInsert[(j,k)]+NanValues\\nradiiToInsert[(j,k)] = radiiToInsert[(j,k)]+NanValues\\n\""
       ]
      }
     ],
     "prompt_number": 55
    },
    {
     "cell_type": "code",
     "collapsed": false,
     "input": [
      "# We read and save the \"old\" file\n",
      "\n",
      "maxlength=100 #maximum length in ns\n",
      "\n",
      "os.chdir(FolderOldFile)\n",
      "\n",
      "angles = {}\n",
      "radii = {}\n",
      "#for b in [17]:\n",
      "for b in SAMsToInsert:\n",
      "    #theta, rbase = np.loadtxt('Contact_Angles2_WaterPeak_s'+str(b)+'.txt', skiprows=2, usecols = (0,1),unpack=True)\n",
      "    #theta, rbase = np.loadtxt('Contact_Angles2_MiddlePoint_s'+str(b)+'.txt', skiprows=2, usecols = (0,1),unpack=True)\n",
      "    #theta, rbase = np.loadtxt('Contact_Angles2_SAMPeak_s'+str(b)+'.txt', skiprows=2, usecols = (0,1),unpack=True)\n",
      "    theta, rbase = np.loadtxt('Contact_Angles2_GDS_s'+str(b)+'.txt', skiprows=2, usecols = (0,1),unpack=True)\n",
      "    print \"SAM=\", b, len(theta), len(rbase)\n",
      "    k = 0\n",
      "    for c in Waters:\n",
      "        z = b, c\n",
      "        th = [0] *(2*maxlength)\n",
      "        r = [0] *(2*maxlength)\n",
      "        i=k*(2*maxlength)\n",
      "        j=(k+1)*(2*maxlength)\n",
      "        #print \"z=\", z, \"i=\", i, \"j=\", j\n",
      "        m = 0\n",
      "        for l in range(i,j):\n",
      "            th[m]=theta[l]\n",
      "            r[m]=rbase[l]\n",
      "            m = m +1\n",
      "        angles[z] = th\n",
      "        radii[z] = r\n",
      "        k=k+1\n",
      "\n",
      "j=SAMsToInsert[0]\n",
      "k=WatersToInsert[0]\n",
      "#We print some values as an exmaple:\n",
      "print angles[(j,k)][0]\n",
      "print radii[(j,k)][0]"
     ],
     "language": "python",
     "metadata": {},
     "outputs": [
      {
       "output_type": "stream",
       "stream": "stdout",
       "text": [
        "SAM= 11 2000 2000\n",
        "172.89010035\n",
        "0.288671128728\n"
       ]
      }
     ],
     "prompt_number": 50
    },
    {
     "cell_type": "code",
     "collapsed": false,
     "input": [
      "j=SAMsToInsert[0]\n",
      "k=WatersToInsert[0]        \n",
      "print angles[(j,k)]"
     ],
     "language": "python",
     "metadata": {},
     "outputs": [
      {
       "output_type": "stream",
       "stream": "stdout",
       "text": [
        "[172.89010035000001, 129.32350985599999, 130.70926611799999, 118.57785193700001, 114.672494175, nan, nan, nan, nan, nan, nan, nan, nan, nan, nan, nan, nan, nan, nan, nan, nan, nan, nan, nan, nan, nan, nan, nan, nan, nan, nan, nan, nan, nan, nan, nan, nan, nan, nan, nan, nan, nan, nan, nan, nan, nan, nan, nan, nan, nan, nan, nan, nan, nan, nan, nan, nan, nan, nan, nan, nan, nan, nan, nan, nan, nan, nan, nan, nan, nan, nan, nan, nan, nan, nan, nan, nan, nan, nan, nan, nan, nan, nan, nan, nan, nan, nan, nan, nan, nan, nan, nan, nan, nan, nan, nan, nan, nan, nan, nan, nan, nan, nan, nan, nan, nan, nan, nan, nan, nan, nan, nan, nan, nan, nan, nan, nan, nan, nan, nan, nan, nan, nan, nan, nan, nan, nan, nan, nan, nan, nan, nan, nan, nan, nan, nan, nan, nan, nan, nan, nan, nan, nan, nan, nan, nan, nan, nan, nan, nan, nan, nan, nan, nan, nan, nan, nan, nan, nan, nan, nan, nan, nan, nan, nan, nan, nan, nan, nan, nan, nan, nan, nan, nan, nan, nan, nan, nan, nan, nan, nan, nan, nan, nan, nan, nan, nan, nan, nan, nan, nan, nan, nan, nan, nan, nan, nan, nan, nan, nan]\n"
       ]
      }
     ],
     "prompt_number": 51
    },
    {
     "cell_type": "code",
     "collapsed": false,
     "input": [
      "# We subtitute the \"new\" values with the \"old\" ones (from new file to old file)\n",
      "for b in SAMsToInsert:\n",
      "    k = 0\n",
      "    for c in WatersToInsert:\n",
      "        z = b, c\n",
      "        angles[z] = anglesToInsert[z]\n",
      "        radii[z] = radiiToInsert[z]\n",
      "        \n",
      "j=SAMsToInsert[0]\n",
      "k=WatersToInsert[0]        \n",
      "print angles[(j,k)][0]\n",
      "print radii[(j,k)][0]"
     ],
     "language": "python",
     "metadata": {},
     "outputs": [
      {
       "output_type": "stream",
       "stream": "stdout",
       "text": [
        "167.592523861\n",
        "0.50513962988\n"
       ]
      }
     ],
     "prompt_number": 52
    },
    {
     "cell_type": "code",
     "collapsed": false,
     "input": [
      "# Plot for testing results\n",
      "\n",
      "b=SAMsToInsert[0]\n",
      "c=WatersToInsert[0]\n",
      "\n",
      "# We create an array named \"t\" with the time values. We use the length of the longest simulation.\n",
      "\n",
      "maxlength=100 #maximum length in ns\n",
      "t = np.zeros(2*maxlength)\n",
      "i=0\n",
      "for d in frange(0, maxlength, 0.5):\n",
      "    t[i] = d\n",
      "    i = i + 1\n",
      "##############################################################################\n",
      "\n",
      "# This function allows to use ranges, just as the built-in function range(), but with float arguments.\n",
      "# Taken from \"http://code.activestate.com/recipes/66472-frange-a-range-function-with-float-increments/\"\n",
      "def frange(start, end=None, inc=None):\n",
      "    if end == None:\n",
      "        end = start + 0.0\n",
      "        start = 0.0\n",
      "\n",
      "    if inc == None:\n",
      "        inc = 1.0\n",
      "\n",
      "    L = []\n",
      "    while 1:\n",
      "        next = start + len(L) * inc\n",
      "        if inc > 0 and next >= end:\n",
      "            break\n",
      "        elif inc < 0 and next <= end:\n",
      "            break\n",
      "        L.append(next)\n",
      "    return L\n",
      "##############################################################################\n",
      "print len(theta), len(t)\n",
      "\n",
      "\n",
      "theta = array(angles[(b, c)])\n",
      "rbase = array(radii[(b, c)])\n",
      "nametheta = \"thetas%sw%s.png\" % (b,c)\n",
      "namebaserad = \"rads%sw%s.png\" % (b,c)\n",
      "\n",
      "start=9\n",
      "end=119\n",
      "theta_avr = np.mean(theta[start:end])*np.ones(end - start)\n",
      "rbase_avr = np.mean(rbase[start:end])*np.ones(end - start)\n",
      "t_avr = t[start:end]\n",
      "\n",
      "\n",
      "#PLOT FOR CONTACT ANGLE OF SAM 0% & 1000 WATER MOLECULES. (Also saved to file)\n",
      "#plt.plot(t,theta,'ro')\n",
      "plt.plot(t,theta)\n",
      "plt.plot(t_avr, theta_avr, linewidth=2.5,)\n",
      "plt.xlabel('time [ns]')\n",
      "plt.ylabel(r'$\\theta$ [deg]')\n",
      "plt.suptitle(r'Contact Angle $\\theta$ vs. Time', fontsize=14, fontweight='bold')\n",
      "#plt.title(r'Contact Angle $\\theta$ vs. Time')\n",
      "plt.text(31, 150, 'SAM '+str(b)+'%, Water '+str(c)+' molec.',style='italic',\n",
      "        bbox={'facecolor':'red', 'alpha':0.5, 'pad':10})\n",
      "plt.grid(True)\n",
      "#plt.axis([0, 60, 85, 150])\n",
      "#pylab.savefig(nametheta)\n",
      "plt.show()\n",
      "\n",
      "#PLOT FOR BASE RADIUS OF SAM 0% & 1000 WATER MOLECULES.(Also saved to file)\n",
      "#plt.plot(t,rbase,'ro')\n",
      "plt.plot(t,rbase)\n",
      "plt.plot(t_avr, rbase_avr, linewidth=2.5,)\n",
      "plt.xlabel('time [ns]')\n",
      "plt.ylabel(r'R$\\ _{BASE} $ [nm]')\n",
      "plt.suptitle(r'Base Radius R$\\ _{BASE}$ vs. Time', fontsize=14, fontweight='bold')\n",
      "#plt.title(r'Contact Angle $\\theta$ vs. Time')\n",
      "plt.text(31, 1.0, 'SAM '+str(b)+'%, Water '+str(c)+' molec.',style='italic', bbox={'facecolor':'red', 'alpha':0.5, 'pad':10})\n",
      "plt.grid(True)\n",
      "#plt.axis([0, 60, 0, 2])\n",
      "#pylab.savefig(namebaserad)\n",
      "plt.show()"
     ],
     "language": "python",
     "metadata": {},
     "outputs": [
      {
       "output_type": "stream",
       "stream": "stdout",
       "text": [
        "2000 200\n"
       ]
      },
      {
       "metadata": {},
       "output_type": "display_data",
       "png": "[encoded data removed]",
       "text": [
        "<matplotlib.figure.Figure at 0x10e0a49d0>"
       ]
      },
      {
       "metadata": {},
       "output_type": "display_data",
       "png": "[encoded data removed]",
       "text": [
        "<matplotlib.figure.Figure at 0x10deeced0>"
       ]
      }
     ],
     "prompt_number": 53
    },
    {
     "cell_type": "code",
     "collapsed": false,
     "input": [
      "# And now we write all the values (old and new subtituted ones) to the \"old\" files\n",
      "\n",
      "os.chdir(FolderOldWithNew)\n",
      "\n",
      "start_time=0\n",
      "end_time=100\n",
      "\n",
      "for b in SAMsToInsert:\n",
      "#for b in [0]:\n",
      "    \n",
      "    #txtoutput='Contact_Angles_WaterPeak_s'+str(b)+'.txt'\n",
      "    #txtoutput2='Contact_Angles2_WaterPeak_s'+str(b)+'.txt'\n",
      "    #txtoutput='Contact_Angles_MiddlePoint_s'+str(b)+'.txt'\n",
      "    #txtoutput2='Contact_Angles2_MiddlePoint_s'+str(b)+'.txt'\n",
      "    #txtoutput='Contact_Angles_SAMPeak_s'+str(b)+'.txt'\n",
      "    #txtoutput2='Contact_Angles2_SAMPeak_s'+str(b)+'.txt'\n",
      "    txtoutput='Contact_Angles_GDS_s'+str(b)+'.txt'\n",
      "    txtoutput2='Contact_Angles2_GDS_s'+str(b)+'.txt'\n",
      "\n",
      "    with open(txtoutput, 'w') as myfile, open(txtoutput2, 'w') as myfile2:\n",
      "\n",
      "        # We write the first line of the output file: the titles of the 3 columns of data\n",
      "        print >> myfile, '{0}  {1}\t{2}'.format('File', 'Contact Angle', 'Base Radius')\n",
      "        print >> myfile2, '{0}\t{1}'.format('Contact Angle', 'Base Radius')\n",
      "\n",
      "        for c in Waters:\n",
      "    \n",
      "            print >> myfile, '             '\n",
      "            print >> myfile2, '{0}\t{1} {2}'.format('#File:', b, c)\n",
      "            \n",
      "            \n",
      "            theta2 = array(angles[(b, c)])\n",
      "            rbase2 = array(radii[(b, c)])\n",
      "            \n",
      "            k=0\n",
      "            for d in frange(start_time, end_time, 0.5):\n",
      "            # The results are printed to the opened file.\n",
      "                l = d + 0.5\n",
      "                l = str(l)\n",
      "                d = str(d)\n",
      "                filename = 'g_rad_dmap_%dpc_w%d_%sns_%sns.xvg'%(b,c,d,l, )\n",
      "                print >> myfile, '{0}  {1}\t{2}'.format(filename, theta2[k], rbase2[k])\n",
      "                print >> myfile2, '{0}\t{1}'.format(theta2[k], rbase2[k])\n",
      "                \n",
      "                #print '{0}\t{1}'.format(theta2[k], rbase2[k])\n",
      "                \n",
      "                k=k+1"
     ],
     "language": "python",
     "metadata": {},
     "outputs": [],
     "prompt_number": 54
    },
    {
     "cell_type": "code",
     "collapsed": false,
     "input": [],
     "language": "python",
     "metadata": {},
     "outputs": []
    }
   ],
   "metadata": {}
  }
 ]
}