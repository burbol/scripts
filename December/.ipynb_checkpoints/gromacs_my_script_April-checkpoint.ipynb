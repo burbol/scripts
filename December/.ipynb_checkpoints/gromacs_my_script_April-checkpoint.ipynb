{
 "metadata": {
  "name": "",
  "signature": "sha256:ea42b89b74ed97d593fe7dfea2e6b5c37b87a262f8890c1e729e4483fce61fa3"
 },
 "nbformat": 3,
 "nbformat_minor": 0,
 "worksheets": [
  {
   "cells": [
    {
     "cell_type": "code",
     "collapsed": false,
     "input": [
      "# type first on the shell \"source /usr/local/gromacs/bin/GMXRC\"\n",
      "import gromacs\n",
      "gromacs.config.setup()"
     ],
     "language": "python",
     "metadata": {},
     "outputs": [],
     "prompt_number": 2
    },
    {
     "cell_type": "code",
     "collapsed": false,
     "input": [
      "%pylab inline"
     ],
     "language": "python",
     "metadata": {},
     "outputs": [
      {
       "output_type": "stream",
       "stream": "stdout",
       "text": [
        "Populating the interactive namespace from numpy and matplotlib\n"
       ]
      }
     ],
     "prompt_number": 3
    },
    {
     "cell_type": "code",
     "collapsed": false,
     "input": [
      "import matplotlib \n",
      "import matplotlib.pyplot as plt\n",
      "from scipy.optimize import curve_fit\n",
      "from scipy import optimize\n",
      "from scipy import odr"
     ],
     "language": "python",
     "metadata": {},
     "outputs": [],
     "prompt_number": 4
    },
    {
     "cell_type": "code",
     "collapsed": false,
     "input": [
      ">>> import numpy as np\n",
      ">>> import gromacs.formats\n",
      ">>> xvg = gromacs.formats.XVG()"
     ],
     "language": "python",
     "metadata": {},
     "outputs": [],
     "prompt_number": 5
    },
    {
     "cell_type": "code",
     "collapsed": false,
     "input": [
      "%cd /Volumes/UNI/SHELDON/files_for_laila/g_rad_densmaps_all\n",
      "#%cd /Users/burbol/Downloads/g_rad_densmaps"
     ],
     "language": "python",
     "metadata": {},
     "outputs": [
      {
       "output_type": "stream",
       "stream": "stdout",
       "text": [
        "/Volumes/UNI/SHELDON/files_for_laila/g_rad_densmaps_all\n"
       ]
      }
     ],
     "prompt_number": 6
    },
    {
     "cell_type": "code",
     "collapsed": false,
     "input": [
      "#xvg.read(\"g_rad_densmap_s11_w3000_8ns_10ns.xvg\")\n",
      "xvg.read(\"g_rad_dmap_17pc_w7000_25.0ns_25.5ns.xvg\")\n",
      "plotsfolder=\"/Users/burbol2/Dropbox/Apps/Texpad/PaperPics/\"\n",
      "circleplot='circle_fit_s17_w7000_25ns.png' \n",
      "sigmoidplot='sigmoid_fit_s17_w7000_25ns.png' "
     ],
     "language": "python",
     "metadata": {},
     "outputs": [],
     "prompt_number": 7
    },
    {
     "cell_type": "code",
     "collapsed": false,
     "input": [
      "#Here we read from a file the positions of the first water peaks of each system and save them in the array \"peak\"\n",
      "peak = np.loadtxt('WaterPeaksFinal.txt', skiprows=1)\n",
      "\n",
      "# We create the dictionary \"systems\" which relates the systems with the positions of the array \"peakcount\". \n",
      "# For example: \"systems[(11, 3000)]\" would give back the position 22, which can be used to call \"peakcount[22]\" \n",
      "# and get back the shift value of the system with a SAM  with 11% OH- coverage and a water droplet of 3000 molecules.\n",
      "# This is done for the case of using this script with only a subgroup of systems\n",
      "peakpos = 0\n",
      "systems={}\n",
      "for b in [0, 5, 11, 17]:\n",
      "    for c in [1000, 2000, 3000, 4000, 5000, 6500, 7000, 8000, 9000, 10000]:\n",
      "        z = b, c\n",
      "        systems[z] = peakpos\n",
      "        peakpos = peakpos + 1\n",
      "#print systems[(11, 3000)]\n",
      "\n",
      "#We substitute the values \"b\" and \"c\" to get the corresponding shift value\n",
      "b=11\n",
      "c=4000\n",
      "peakcount = systems[(b, c)]\n",
      "shift = peak[peakcount]\n",
      "print \"shift=\", shift"
     ],
     "language": "python",
     "metadata": {},
     "outputs": [
      {
       "output_type": "stream",
       "stream": "stdout",
       "text": [
        "shift= 2.664\n"
       ]
      }
     ],
     "prompt_number": 316
    },
    {
     "cell_type": "code",
     "collapsed": false,
     "input": [
      "#Here we read from a file the positions of the first water peaks of each system and save them in the array \"peak\"\n",
      "peak3 = np.loadtxt('/Users/burbol2/Dropbox/Apps/Computable/Definitions_Interface/All_systems_without66/GDS_positions.txt', skiprows=1)\n",
      "\n",
      "# We create the dictionary \"systems\" which relates the systems with the positions of the array \"peakcount\". \n",
      "# For example: \"systems[(11, 3000)]\" would give back the position 22, which can be used to call \"peakcount[22]\" \n",
      "# and get back the shift value of the system with a SAM  with 11% OH- coverage and a water droplet of 3000 molecules.\n",
      "# This is done for the case of using this script with only a subgroup of systems\n",
      "peakpos = 0\n",
      "systems3={}\n",
      "for b in [0, 5, 11, 17,33,50]:\n",
      "    for c in [1000, 2000, 3000, 4000, 5000, 6500, 7000, 8000, 9000, 10000]:\n",
      "        z = b, c\n",
      "        systems3[z] = peakpos\n",
      "        peakpos = peakpos + 1\n",
      "#print systems[(11, 3000)]\n",
      "\n",
      "#We substitute the values \"b\" and \"c\" to get the corresponding shift value\n",
      "b=17\n",
      "c=7000\n",
      "peakcount = systems3[(b, c)]\n",
      "shift2 = peak3[peakcount]\n",
      "print \"shift2=\", shift2"
     ],
     "language": "python",
     "metadata": {},
     "outputs": [
      {
       "output_type": "stream",
       "stream": "stdout",
       "text": [
        "shift2= 2.40054\n"
       ]
      }
     ],
     "prompt_number": 317
    },
    {
     "cell_type": "code",
     "collapsed": false,
     "input": [
      "#Here we read from a file the positions of the first water peaks of each system and save them in the array \"peak\"\n",
      "peak2 = np.loadtxt('SAMPeaks.txt', skiprows=1)\n",
      "\n",
      "# We create the dictionary \"systems\" which relates the systems with the positions of the array \"peakcount\". \n",
      "# For example: \"systems[(11, 3000)]\" would give back the position 22, which can be used to call \"peakcount[22]\" \n",
      "# and get back the shift value of the system with a SAM  with 11% OH- coverage and a water droplet of 3000 molecules.\n",
      "# This is done for the case of using this script with only a subgroup of systems\n",
      "peakpos = 0\n",
      "systems2={}\n",
      "for b in [0, 5, 11, 17]:\n",
      "    for c in [1000, 2000, 3000, 4000, 5000, 6500, 7000, 8000, 9000, 10000]:\n",
      "        z = b, c\n",
      "        systems2[z] = peakpos\n",
      "        peakpos2 = peakpos + 1\n",
      "#print systems[(11, 3000)]\n",
      "\n",
      "#We substitute the values \"b\" and \"c\" to get the corresponding shift value\n",
      "b=17\n",
      "c=7000\n",
      "peakcount = systems2[(b, c)]\n",
      "shift3 = peak2[peakcount]\n",
      "print \"shift3=\", shift3"
     ],
     "language": "python",
     "metadata": {},
     "outputs": [
      {
       "output_type": "stream",
       "stream": "stdout",
       "text": [
        "shift3= 2.16\n"
       ]
      }
     ],
     "prompt_number": 318
    },
    {
     "cell_type": "code",
     "collapsed": false,
     "input": [
      "#print shift-shift2\n",
      "#shift3=shift - ((shift-shift2)/2)\n",
      "print shift,shift2,shift3"
     ],
     "language": "python",
     "metadata": {},
     "outputs": [
      {
       "output_type": "stream",
       "stream": "stdout",
       "text": [
        "2.664 2.40054 2.16\n"
       ]
      }
     ],
     "prompt_number": 319
    },
    {
     "cell_type": "code",
     "collapsed": false,
     "input": [
      "#For testing!!\n",
      "a=shift\n",
      "shift=shift3\n",
      "shift3=a\n",
      "print shift,shift2,shift3"
     ],
     "language": "python",
     "metadata": {},
     "outputs": [
      {
       "output_type": "stream",
       "stream": "stdout",
       "text": [
        "2.16 2.40054 2.664\n"
       ]
      }
     ],
     "prompt_number": 320
    },
    {
     "cell_type": "code",
     "collapsed": false,
     "input": [
      "xvg.plot()"
     ],
     "language": "python",
     "metadata": {},
     "outputs": [
      {
       "metadata": {},
       "output_type": "display_data",
       "png": "[encoded data removed]",
       "text": [
        "<matplotlib.figure.Figure at 0x113d1bad0>"
       ]
      }
     ],
     "prompt_number": 321
    },
    {
     "cell_type": "code",
     "collapsed": false,
     "input": [
      "#colclass = matplotlib.colors.Colormap(jet, N=256)\n",
      "#matplotlib.cm.register_cmap(name='jet', cmap='colclass')\n",
      "#matplotlib.colors.ListedColormap([0,0,0], name='jet', N=None)\n",
      "#mycolor = matplotlib.cm.get_cmap(name='jet', lut=None)\n",
      "xvg.plot(columns=[0,58], maxpoints=None, alpha=1)"
     ],
     "language": "python",
     "metadata": {},
     "outputs": [
      {
       "metadata": {},
       "output_type": "display_data",
       "png": "[encoded data removed]",
       "text": [
        "<matplotlib.figure.Figure at 0x113caa450>"
       ]
      }
     ],
     "prompt_number": 322
    },
    {
     "cell_type": "code",
     "collapsed": false,
     "input": [
      "xvg.errorbar(columns=[0,100,100], maxpoints=1000, color=\"red\")"
     ],
     "language": "python",
     "metadata": {},
     "outputs": [
      {
       "metadata": {},
       "output_type": "display_data",
       "png": "[encoded data removed]",
       "text": [
        "<matplotlib.figure.Figure at 0x1117c0e50>"
       ]
      }
     ],
     "prompt_number": 323
    },
    {
     "cell_type": "code",
     "collapsed": false,
     "input": [
      "input = xvg.array"
     ],
     "language": "python",
     "metadata": {},
     "outputs": [],
     "prompt_number": 324
    },
    {
     "cell_type": "code",
     "collapsed": false,
     "input": [
      "x = input[0]\n",
      "print \"len(input)=\",len(input),\"len(x)=\", len(x)\n",
      "slice = 56\n",
      "y = input[slice]\n",
      "print \"slice=\", slice, \", x[slice]=\", x[slice],\", y[0]=\", y[0]\n",
      "\n",
      "# Here we create the array \"zcoord\" with the z-coordinates of the slices subtracting the shift value. If the system total length in \n",
      "# the z-direction ZLENGTH=12.0 nm. Change this value if necessary.\n",
      "ZLENGTH = 12.0\n",
      "slicestotal = len(input) - 1\n",
      "S = ZLENGTH/ slicestotal\n",
      "print \"S=\", S\n",
      "zcoord = np.zeros(len(input)-1)\n",
      "for i in range(1,len(input)): \n",
      "    zcoord[i-1] = (S *(i-1))-shift\n",
      "print \"first coordinates of zcoord\", zcoord[0], zcoord[1], zcoord[2], zcoord[-1]"
     ],
     "language": "python",
     "metadata": {},
     "outputs": [
      {
       "output_type": "stream",
       "stream": "stdout",
       "text": [
        "len(input)= 201 len(x)= 1000\n",
        "slice= 56 , x[slice]= 1.63946 , y[0]= 653.56691\n",
        "S= 0.06\n",
        "first coordinates of zcoord -2.16 -2.1 -2.04 9.78\n"
       ]
      }
     ],
     "prompt_number": 325
    },
    {
     "cell_type": "code",
     "collapsed": false,
     "input": [
      "# Searching for initian guess for the first parameter of the fit\n",
      "def guess(y):\n",
      "    m = max(y)\n",
      "    m2 = min(y)\n",
      "    third = (m - m2)/3\n",
      "    bottom = m - third\n",
      "    tot = 0\n",
      "    count = 0\n",
      "    for i in range(0, len(y)):\n",
      "        if y[i] >= bottom:\n",
      "            tot = tot + y[i]\n",
      "            count = count + 1\n",
      "    At = tot / count\n",
      "    return At"
     ],
     "language": "python",
     "metadata": {},
     "outputs": [],
     "prompt_number": 326
    },
    {
     "cell_type": "code",
     "collapsed": false,
     "input": [
      "def func(r, ro, R, d):\n",
      "    return (ro/2)*(1-np.tanh(2*(r-R)/d))"
     ],
     "language": "python",
     "metadata": {},
     "outputs": [],
     "prompt_number": 327
    },
    {
     "cell_type": "code",
     "collapsed": false,
     "input": [
      "# THE FUNCTION waterbulk() DETERMINES THE BULK VALUE OF WATER DENSITY\n",
      "# It takes 3 arguments: \n",
      "# input: all the data of the density map of one system (type: list with total length=1000, and length of each element input[i]=201)\n",
      "# zcoord: the z-coordinates of the slices of the system (type: list with length=200)\n",
      "# func: sigmoidal function used to fit the density data of one slice (type: function)\n",
      "def waterbulk(input, zcoord, func):\n",
      "    print \"WE ARE INSIDE THE FUNCTION WATERBULK\"\n",
      "    x = input[0]\n",
      "    densmean = np.zeros(200)\n",
      "    i = 0\n",
      "    start = 0\n",
      "    for slice in range(1,200):\n",
      "        ymean = input[slice]\n",
      "        At = guess(ymean) \n",
      "        #k = At\n",
      "        popt, pcov = curve_fit(func, x, ymean,[At, 2, 1], maxfev=10000)\n",
      "        k = func(0,*popt)\n",
      "        densmean[slice]=k\n",
      "        if k > 800:\n",
      "           start = slice - i\n",
      "           i = i + 1\n",
      "           end = start + i\n",
      "           densmean2 = np.zeros(i + 1)\n",
      "           i2 = 0\n",
      "    for slice2 in range(0,200):\n",
      "        ymean = input[slice2]\n",
      "        At = guess(ymean)\n",
      "        #k = At\n",
      "        popt, pcov = curve_fit(func, x, ymean,[At, 2, 1], maxfev=10000)\n",
      "        k = func(0,*popt)\n",
      "        if k > 800:\n",
      "            densmean2[i2] = k\n",
      "            i2 = i2 + 1\n",
      "    print \"WE ARE IN THE LAST LINE OF THE FUNCTION WATERBULK\"\n",
      "    return np.median(densmean2)\n",
      "#for slice in range(100,110):\n",
      "    #ymean = input[slice]\n",
      "    #print guess(ymean*2)"
     ],
     "language": "python",
     "metadata": {},
     "outputs": [],
     "prompt_number": 328
    },
    {
     "cell_type": "code",
     "collapsed": false,
     "input": [
      "bulk=waterbulk(input, zcoord, func)\n",
      "print bulk"
     ],
     "language": "python",
     "metadata": {},
     "outputs": [
      {
       "output_type": "stream",
       "stream": "stdout",
       "text": [
        "WE ARE INSIDE THE FUNCTION WATERBULK\n",
        "WE ARE IN THE LAST LINE OF THE FUNCTION WATERBULK"
       ]
      },
      {
       "output_type": "stream",
       "stream": "stdout",
       "text": [
        "\n",
        "998.103900465\n"
       ]
      }
     ],
     "prompt_number": 329
    },
    {
     "cell_type": "code",
     "collapsed": false,
     "input": [
      "#xvg.errorbar(columns=[0,80,81])"
     ],
     "language": "python",
     "metadata": {},
     "outputs": [],
     "prompt_number": 330
    },
    {
     "cell_type": "code",
     "collapsed": false,
     "input": [
      "y = input[100]\n",
      "popt, pcov = curve_fit(func, x, y,[1000, 3, 1])\n",
      "print popt, pcov\n",
      "plt.plot(x, func(x, *popt),'r-',label='fitted density profile',linewidth=4)\n",
      "plt.plot(x,y,'k.',label='average radial density')\n",
      "plt.xlabel('Radius [nm]',fontsize=22)\n",
      "#plt.ylabel(r' [nm]',fontsize=22)\n",
      "plt.ylabel(r'$\\rho_{rad} $ [$\\frac{Kg}{m^3}$]',fontsize=27)\n",
      "rcParams['legend.numpoints'] = 1\n",
      "plt.legend()\n",
      "fig = matplotlib.pyplot.gcf()\n",
      "fig.set_size_inches(7,5)\n",
      "pylab.savefig(plotsfolder+sigmoidplot, bbox_inches='tight', pad_inches=0,dpi=300)"
     ],
     "language": "python",
     "metadata": {},
     "outputs": [
      {
       "output_type": "stream",
       "stream": "stdout",
       "text": [
        "[  9.76678211e+02   3.45913366e+00   4.63661143e-01] [[  8.46550710e+01  -3.00773487e-02   8.72077877e-02]\n",
        " [ -3.00773487e-02   9.37651381e-05  -4.21223540e-05]\n",
        " [  8.72077877e-02  -4.21223540e-05   1.12037772e-03]]\n"
       ]
      },
      {
       "metadata": {},
       "output_type": "display_data",
       "png": "[encoded data removed]",
       "text": [
        "<matplotlib.figure.Figure at 0x1136cd850>"
       ]
      }
     ],
     "prompt_number": 331
    },
    {
     "cell_type": "code",
     "collapsed": false,
     "input": [
      "k = func(0,*popt)\n",
      "print k"
     ],
     "language": "python",
     "metadata": {},
     "outputs": [
      {
       "output_type": "stream",
       "stream": "stdout",
       "text": [
        "976.678211369\n"
       ]
      }
     ],
     "prompt_number": 332
    },
    {
     "cell_type": "code",
     "collapsed": false,
     "input": [
      "def checkslice(s, t, bulk):\n",
      "    popt, pcov = curve_fit(func, x, s,[t, 2, 1],maxfev=10000)\n",
      "    k = func(0,*popt)\n",
      "    bulklimit = 0.9*bulk\n",
      "    if k > bulklimit:\n",
      "        return True\n",
      "    else: \n",
      "        return False"
     ],
     "language": "python",
     "metadata": {},
     "outputs": [],
     "prompt_number": 258
    },
    {
     "cell_type": "code",
     "collapsed": false,
     "input": [
      "slicemin = 0\n",
      "for slice in range(0,150):\n",
      "    y = input[slice]\n",
      "    At = guess(y)\n",
      "    if checkslice(y, At, bulk):\n",
      "       slicemin = slice\n",
      "       print slicemin\n",
      "       break\n",
      "    else: continue"
     ],
     "language": "python",
     "metadata": {},
     "outputs": [
      {
       "output_type": "stream",
       "stream": "stdout",
       "text": [
        "44\n"
       ]
      }
     ],
     "prompt_number": 333
    },
    {
     "cell_type": "code",
     "collapsed": false,
     "input": [
      "slicemax = 0\n",
      "for slice in range(200,0,-1):\n",
      "    y = input[slice]\n",
      "    At = guess(y)\n",
      "    if checkslice(y, At, bulk):\n",
      "       slicemax = slice\n",
      "       print slicemax\n",
      "       break\n",
      "    else: continue"
     ],
     "language": "python",
     "metadata": {},
     "outputs": [
      {
       "output_type": "stream",
       "stream": "stdout",
       "text": [
        "127\n"
       ]
      }
     ],
     "prompt_number": 334
    },
    {
     "cell_type": "code",
     "collapsed": false,
     "input": [
      "# We set the number of the first slice as \"zeroslice\", which will be used later for leaving the first 8nm above the surface out of the fitted data.  \n",
      "zeroslice = 0\n",
      "cnt = 0\n",
      "for slicepos in zcoord:\n",
      "    #print slicepos\n",
      "    if slicepos >= 0.0: \n",
      "        zeroslice = cnt\n",
      "        break\n",
      "    cnt = cnt + 1\n",
      "print \"zeroslice=\", zeroslice\n",
      "print \"shift=\", shift, \", zcoord[zeroslice-1]=\", zcoord[zeroslice-1],\", zcoord[zeroslice]=\", x[zeroslice]"
     ],
     "language": "python",
     "metadata": {},
     "outputs": [
      {
       "output_type": "stream",
       "stream": "stdout",
       "text": [
        "zeroslice= 36\n",
        "shift= 2.16 , zcoord[zeroslice-1]= -0.06 , zcoord[zeroslice]= 1.3145\n"
       ]
      }
     ],
     "prompt_number": 335
    },
    {
     "cell_type": "code",
     "collapsed": false,
     "input": [
      "#We leave the slices below zero out of the fit\n",
      "if zeroslice > slicemin:\n",
      "   slicemin = zeroslice \n",
      "print zeroslice, slicemin, slicemax\n",
      "print \"shift=\", shift"
     ],
     "language": "python",
     "metadata": {},
     "outputs": [
      {
       "output_type": "stream",
       "stream": "stdout",
       "text": [
        "36 44 127\n",
        "shift= 2.16\n"
       ]
      }
     ],
     "prompt_number": 336
    },
    {
     "cell_type": "code",
     "collapsed": false,
     "input": [
      "# FUNCTION \"from_slice_circle\" to make a circle fit of some consecutive slices\n",
      "# slicemin: number of the first slice; \n",
      "# slicemax: number of the last slice\n",
      "# input: array containing all the data of the density map of all the slices \n",
      "# zcoord: list with the z-coordinates of all the slices\n",
      "# returns 7 variables: \n",
      "# xc, yc, R_2: the coordinates of the circle center and its radius (xc corresponds to the z-position and yc to the radial distance to the central axis of the drop. \n",
      "#   But yc won't be used for later calculations and has to be set it to yc=0).\n",
      "# residu, residu2: error of the circle fit and quadratic error\n",
      "# z, R: coordinates of the resulting points of the fitted radial density profile of each slice between slicemin and slicemax\n",
      "# \n",
      "def from_slice_circle(slicemax, slicemin, input, zcoord):\n",
      "   \t    \n",
      "# Now we determine R and z. \n",
      "# R comes from the fit, and z is a vector with the shifted positions of the slices.\n",
      "    dims = slicemax - slicemin + 1\n",
      "    x = input[0]\n",
      "    i=0\n",
      "    z = np.zeros(dims)\n",
      "    R = np.zeros(dims)\n",
      "    for a in range(slicemin, slicemax+1):\n",
      "        y2 = input[a]\n",
      "        i = a - slicemin\n",
      "        z[i] = zcoord[a-1] \n",
      "        At = guess(y2)\n",
      "        params, pcov2 = curve_fit(func, x, y2,[At, 2, 1], maxfev=10000)\n",
      "        R[i] = params[1]\n",
      "# Here we use part of the source code of a website, to fit points to a circle.--> \"http://wiki.scipy.org/Cookbook/Least_Squares_Circle\"\n",
      "     \n",
      "    x_m = mean(z)\n",
      "    y_m = mean(R)\n",
      "    x = z\n",
      "    y = R\n",
      "    \n",
      "    # == METHOD 3 ==\n",
      "    # Basic usage of odr with an implicit function definition\n",
      "\n",
      "    def calc_R(xc, yc):\n",
      "         \"\"\" calculate the distance of each 2D points from the center c=(xc, yc) \"\"\"\n",
      "         return sqrt((x-xc)**2 + (y-yc)**2)\n",
      "\n",
      "    def f_3(beta, x):\n",
      "         \"\"\" implicit definition of the circle \"\"\"\n",
      "         return (x[0]-beta[0])**2 + (x[1])**2 -beta[2]**2\n",
      "\n",
      "    # initial guess for parameters\n",
      "    R_m = calc_R(x_m, 0).mean()\n",
      "    beta0 = [ x_m, 0, R_m]\n",
      "\n",
      "    # for implicit function :\n",
      "    #       data.x contains both coordinates of the points\n",
      "    #       data.y is the dimensionality of the response\n",
      "    lsc_data   = odr.Data(row_stack([x, y]), y=1)\n",
      "    lsc_model  = odr.Model(f_3, implicit=True)\n",
      "    lsc_odr    = odr.ODR(lsc_data, lsc_model, beta0)\n",
      "    lsc_out    = lsc_odr.run()\n",
      "\n",
      "    xc_3, yc_3, R_3 = lsc_out.beta\n",
      "    Ri_3       = calc_R(xc_3, yc_3)\n",
      "    residu_3   = sum((Ri_3 - R_3)**2)\n",
      "    residu2_3  = sum((Ri_3**2-R_3**2)**2)\n",
      "    \n",
      "    # We translate all the circle down, so that yc=0        \n",
      "    #R = R\n",
      "    #yc = yc - yc\n",
      "\n",
      "    return xc_3, yc_3, R_3, residu_3, residu2_3, z, R"
     ],
     "language": "python",
     "metadata": {},
     "outputs": [],
     "prompt_number": 337
    },
    {
     "cell_type": "code",
     "collapsed": false,
     "input": [
      "# The function \"distance\" calculates the distance between the fitted circle and a point. It takes 5 argumets:\n",
      "# x, y are the coordinates of the point; xc, yc are the coordinates of the circle center; R is its radius.\n",
      "def distance(x, y, xc, yc,R):\n",
      "    a = np.asarray([x,y])\n",
      "    b = np.asarray([xc,yc])\n",
      "    d = np.linalg.norm(a - b)- R\n",
      "    d = math.fabs(d)\n",
      "    return d "
     ],
     "language": "python",
     "metadata": {},
     "outputs": [],
     "prompt_number": 338
    },
    {
     "cell_type": "code",
     "collapsed": false,
     "input": [
      "xc, yc, R_2, residu, residu2, z, R= from_slice_circle(slicemax, slicemin, input, zcoord)\n",
      "print \"xc, yc, R_2, z[-1], R[-1], residu, residu2\"\n",
      "print xc, yc, R_2, z[-1], R[-1], residu, residu2\n",
      "print \"shift is\", shift\n",
      "\n",
      " # Now we search for the \"best\" slices to make the circle fit and calculate later the contact angle and base radius.\n",
      " # We look for the first and last fitted LG-interface points (related to the first and last droplet slices: slicemin and slicemax) with a distance to the circle smaller then epsilon, which we set to 0.029nm.\n",
      "                        \n",
      "epsilon = 0.03\n",
      "epsilon2 = 0.031\n",
      "# For slicemin\n",
      "print \"Starting the search for the best slicemin. We start with slicemin =\", slicemin\n",
      "xc, yc, R_2, residu, residu2, z, R= from_slice_circle(slicemax, slicemin, input, zcoord)\n",
      "d = distance(z[0], R[0], xc, yc, R_2)\n",
      "if d <= epsilon:\n",
      "    print \"d is smaller then epsilon: d=\", d\n",
      "    while d <= epsilon:\n",
      "        oldslicemin = slicemin\n",
      "        slicemin = oldslicemin - 1\n",
      "        print \"subtracted 1 from slicemin. Now slicemin=\", slicemin\n",
      "        old_d = d\n",
      "        xc, yc, R_2, residu, residu2, z, R= from_slice_circle(slicemax, slicemin, input, zcoord)\n",
      "        d = distance(z[0], R[0], xc, yc, R_2)\n",
      "        print \"New d=\", d\n",
      "elif d > epsilon:\n",
      "    print \"d is bigger then epsilon: d=\", d\n",
      "    while d > epsilon:\n",
      "        oldslicemin = slicemin\n",
      "        slicemin = oldslicemin + 1\n",
      "        print \"added 1 to slicemin. Now slicemin=\", slicemin\n",
      "        old_d = d\n",
      "        xc, yc, R_2, residu, residu2, z, R= from_slice_circle(slicemax, slicemin, input, zcoord)\n",
      "        d = distance(z[0], R[0], xc, yc, R_2)\n",
      "        print \"New d=\", d\n",
      "if d > epsilon:\n",
      "   print \"We subtracted one too much. d has become bigger then epsilon ->d=\", d\n",
      "   slicemin = oldslicemin\n",
      "   d = old_d\n",
      "   print \"We add one slice again. Now slicemin=\", slicemin, \"And d=\", d\n",
      "               \n",
      "print \"Out of search loop! slicemin=\", slicemin, \"and its d=\", d \n",
      "\n",
      "# For slicemax\n",
      "slicesnr = slicemax - slicemin\n",
      "print \"Starting the search for the best slicemax. We start with slicemax =\", slicemax, \"And slicesnr=\", slicesnr\n",
      "xc, yc, R_2, residu, residu2, z, R= from_slice_circle(slicemax, slicemin, input, zcoord)\n",
      "d = distance(z[-1], R[-1], xc, yc, R_2)\n",
      "if d <= epsilon2:\n",
      "    print \"d is smaller then epsilon: d=\", d\n",
      "    while d <= epsilon2:   \n",
      "        oldslicemax = slicemax\n",
      "        slicemax = oldslicemax + 1\n",
      "        slicesnr = slicemax - slicemin +1\n",
      "        print \"added 1 to slicemax. Now slicemax=\", slicemax, \"And slicesnr=\", slicesnr\n",
      "        old_d = d\n",
      "        xc, yc, R_2, residu, residu2, z, R= from_slice_circle(slicemax, slicemin, input, zcoord)\n",
      "        slicesnr = slicemax - slicemin - 1\n",
      "        d = distance(z[-1], R[-1], xc, yc, R_2)\n",
      "        print \"New d=\", d\n",
      "elif d > epsilon2:\n",
      "     print \"d is bigger then epsilon: d=\", d\n",
      "     while d > epsilon2:\n",
      "           oldslicemax = slicemax\n",
      "           slicemax = oldslicemax - 1\n",
      "           slicesnr = slicemax - slicemin +1\n",
      "           print \"subtracted 1 from slicemax. Now slicemax=\", slicemax, \"And slicesnr=\", slicesnr\n",
      "           old_d = d\n",
      "           xc, yc, R_2, residu, residu2, z, R= from_slice_circle(slicemax, slicemin, input, zcoord)\n",
      "           slicesnr = slicemax - slicemin -1\n",
      "           d = distance(z[-1], R[-1], xc, yc, R_2)\n",
      "           print \"New d=\", d\n",
      "if d > epsilon2:\n",
      "   print \"We added one too much. d has become bigger then epsilon ->d=\", d\n",
      "   slicemax = oldslicemax\n",
      "   d = old_d\n",
      "   print \"We subtract one slice again. Now slicemax=\", slicemax, \"And d=\", d\n",
      "                      \n",
      "print \"slicemax is\", slicemax, \"and its d is\", d        \n",
      "\n",
      "# Once we have the \"correct\" values of slicemin and slicemax we make the circle fit again\n",
      "xc, yc, R_2, residu, residu2, z, R= from_slice_circle(slicemax, slicemin, input, zcoord)\n",
      "print \"Once we have the correct values of slicemin and slicemax we make the circle fit again\"\n",
      "print \"xc, yc, R_2, residu, residu2\"\n",
      "print xc, yc, R_2, residu, residu2"
     ],
     "language": "python",
     "metadata": {},
     "outputs": [
      {
       "output_type": "stream",
       "stream": "stdout",
       "text": [
        "xc, yc, R_2, z[-1], R[-1], residu, residu2\n",
        "1.56234039141 0.0 4.08669509489 5.4 1.36481334287 0.0657129977043 4.35407520669\n",
        "shift is 2.16\n",
        "Starting the search for the best slicemin. We start with slicemin = 44\n",
        "d is bigger then epsilon: d="
       ]
      },
      {
       "output_type": "stream",
       "stream": "stdout",
       "text": [
        " 0.114745340299\n",
        "added 1 to slicemin. Now slicemin= 45\n",
        "New d="
       ]
      },
      {
       "output_type": "stream",
       "stream": "stdout",
       "text": [
        " 0.0904459260671\n",
        "added 1 to slicemin. Now slicemin= 46\n",
        "New d="
       ]
      },
      {
       "output_type": "stream",
       "stream": "stdout",
       "text": [
        " 0.0397020338844\n",
        "added 1 to slicemin. Now slicemin= 47\n",
        "New d="
       ]
      },
      {
       "output_type": "stream",
       "stream": "stdout",
       "text": [
        " 0.0207264523566\n",
        "Out of search loop! slicemin= 47 and its d= 0.0207264523566\n",
        "Starting the search for the best slicemax. We start with slicemax = 127 And slicesnr= 80\n",
        "d is smaller then epsilon: d="
       ]
      },
      {
       "output_type": "stream",
       "stream": "stdout",
       "text": [
        " 0.00759857985518\n",
        "added 1 to slicemax. Now slicemax= 128 And slicesnr= 82\n",
        "New d="
       ]
      },
      {
       "output_type": "stream",
       "stream": "stdout",
       "text": [
        " 0.0326431595018\n",
        "We added one too much. d has become bigger then epsilon ->d= 0.0326431595018\n",
        "We subtract one slice again. Now slicemax= 127 And d= 0.00759857985518\n",
        "slicemax is 127 and its d is 0.00759857985518\n",
        "Once we have the correct values of slicemin and slicemax we make the circle fit again"
       ]
      },
      {
       "output_type": "stream",
       "stream": "stdout",
       "text": [
        "\n",
        "xc, yc, R_2, residu, residu2\n",
        "1.54739314243 0.0 4.09480973906 0.0416491445699 2.78690646109\n"
       ]
      }
     ],
     "prompt_number": 339
    },
    {
     "cell_type": "code",
     "collapsed": false,
     "input": [
      "#We leave the slices below zero out of the fit\n",
      "if zeroslice > slicemin:\n",
      "   slicemin = zeroslice \n",
      "print zeroslice, slicemin, slicemax\n",
      "print \"shift=\", shift"
     ],
     "language": "python",
     "metadata": {},
     "outputs": [
      {
       "output_type": "stream",
       "stream": "stdout",
       "text": [
        "36 47 127\n",
        "shift= 2.16\n"
       ]
      }
     ],
     "prompt_number": 340
    },
    {
     "cell_type": "code",
     "collapsed": false,
     "input": [
      "#slicemin=44\n",
      "#slicemax=156\n",
      "xc, yc, R_2, residu,residiu2, z, R= from_slice_circle(slicemax, slicemin, input, zcoord)\n",
      "print \"xc, yc, R_2, residu, residu2, z, R= from_slice_circle(slicemax, slicemin, input, zcoord)\"\n",
      "print xc, yc, R_2, residu, residu2\n",
      "slicesnr = slicemax - slicemin\n",
      "d = distance(z[-1], R[-1], xc, yc, R_2)\n",
      "print \"slicemax d=\", d, \"(slicemax=)\", slicemax\n",
      "d = distance(z[0], R[0], xc, yc, R_2)\n",
      "print \"slicemin d=\", d, \"(slicemin=)\", slicemin\n",
      "theta_fit = linspace(-pi, pi, 180)\n",
      "x_fit2 = xc + R_2*cos(theta_fit)\n",
      "y_fit2 = yc + R_2*sin(theta_fit)\n",
      "plt.plot(x_fit2, y_fit2, color=\"blue\", label='method', lw=4)\n",
      "# plot(X, C, color=\"blue\", linewidth=2.5, linestyle=\"-\")\n",
      "#Set x limits\n",
      "xlim(0,7)\n",
      "# Set y limits\n",
      "ylim(0,7)\n",
      "plt.plot(z, R, 'k.', markersize=10)\n",
      "plt.ylabel('z [nm]',fontsize=22)\n",
      "plt.xlabel('R [nm]',fontsize=22)"
     ],
     "language": "python",
     "metadata": {},
     "outputs": [
      {
       "output_type": "stream",
       "stream": "stdout",
       "text": [
        "xc, yc, R_2, residu, residu2, z, R= from_slice_circle(slicemax, slicemin, input, zcoord)\n",
        "1.54739314243 0.0 4.09480973906 0.0416491445699 2.78690646109\n",
        "slicemax d= 0.00759857985518 (slicemax=) 127\n",
        "slicemin d= 0.0207264523566 (slicemin=) 47\n"
       ]
      },
      {
       "metadata": {},
       "output_type": "pyout",
       "prompt_number": 341,
       "text": [
        "<matplotlib.text.Text at 0x1058e4f90>"
       ]
      },
      {
       "metadata": {},
       "output_type": "display_data",
       "png": "[encoded data removed]",
       "text": [
        "<matplotlib.figure.Figure at 0x114092f10>"
       ]
      }
     ],
     "prompt_number": 341
    },
    {
     "cell_type": "code",
     "collapsed": false,
     "input": [
      "print len(R)"
     ],
     "language": "python",
     "metadata": {},
     "outputs": [
      {
       "output_type": "stream",
       "stream": "stdout",
       "text": [
        "81\n"
       ]
      }
     ],
     "prompt_number": 342
    },
    {
     "cell_type": "code",
     "collapsed": false,
     "input": [
      "def angle(R, m):\n",
      "    t = m / np.sqrt(R**2 - m**2)\n",
      "    t2 = math.degrees(np.arctan(t)) + 90\n",
      "    return t2"
     ],
     "language": "python",
     "metadata": {},
     "outputs": [],
     "prompt_number": 343
    },
    {
     "cell_type": "code",
     "collapsed": false,
     "input": [
      "def radius(R, m):\n",
      "    r = np.sqrt(R**2 - m**2)\n",
      "    return r"
     ],
     "language": "python",
     "metadata": {},
     "outputs": [],
     "prompt_number": 344
    },
    {
     "cell_type": "code",
     "collapsed": false,
     "input": [
      "theta = angle(R_2, xc)\n",
      "base_r = radius(R_2, xc)\n",
      "print \"The Contact Angle is  \", theta\n",
      "print \"The base radius is  \", base_r\n",
      "print \"The circle paremeters are xc=\",xc,\" Radius=\",R_2"
     ],
     "language": "python",
     "metadata": {},
     "outputs": [
      {
       "output_type": "stream",
       "stream": "stdout",
       "text": [
        "The Contact Angle is   112.203128471\n",
        "The base radius is   3.79117940249\n",
        "The circle paremeters are xc= 1.54739314243  Radius= 4.09480973906\n"
       ]
      }
     ],
     "prompt_number": 345
    },
    {
     "cell_type": "code",
     "collapsed": false,
     "input": [
      "print shift"
     ],
     "language": "python",
     "metadata": {},
     "outputs": [
      {
       "output_type": "stream",
       "stream": "stdout",
       "text": [
        "2.16\n"
       ]
      }
     ],
     "prompt_number": 346
    },
    {
     "cell_type": "code",
     "collapsed": false,
     "input": [
      "# HERE WE CREATE TWO VECTORS WITH ALL THE FITTED POINTS RESULTING FROM THE SIGMOIDAL FIT APLLIED TO THE DENSITY DATA. THE RESULTING \n",
      "# VECTORS ARE Rprime and Zprime, where we save the coorsinates R and Z, which can be used later to choose the best points \n",
      "# for the circle fit. Rprime comes from the fit, and Zprime is a vector with the shifted positions of the slices.\n",
      "def fit_all(zcoord, input):\n",
      "    slicemin = 1\n",
      "    slicemax = 200\n",
      "    dims = slicemax - slicemin + 1\n",
      "    x = input[0]\n",
      "    i=0\n",
      "    Zprime = np.zeros(dims)\n",
      "    Rprime = np.zeros(dims)\n",
      "    #w = np.zeros(dims)\n",
      "    for a in range(slicemin, slicemax-1):\n",
      "        y2 = input[a]\n",
      "        i = a - slicemin\n",
      "        i = a\n",
      "        Zprime[i] = zcoord[a-1] \n",
      "    #    w[i] = 0.05*(a - 1) - 5.0 - shift -> Ahother way to determine z\n",
      "        At = guess(y2)\n",
      "        params, pcov2 = curve_fit(func, x, y2,[At, 2, 1], maxfev=10000)\n",
      "        Rprime[i] = params[1]\n",
      "    return Zprime, Rprime"
     ],
     "language": "python",
     "metadata": {},
     "outputs": [],
     "prompt_number": 347
    },
    {
     "cell_type": "code",
     "collapsed": false,
     "input": [
      "# WE PLOT Rprime and Zprime\n",
      "Zprime, Rprime = fit_all(zcoord, input)\n",
      "#fig = pl.figure()                  \n",
      "plt.plot(Rprime,Zprime, 'k.')\n",
      "#fig.suptitle(filename)\n",
      "plt.ylim(-3,9)\n",
      "plt.xlim(0,8)\n",
      "plt.ylabel('z [nm]')\n",
      "plt.xlabel('R [nm]')\n",
      "plt.grid(True)\n",
      "#x_fit2-xc"
     ],
     "language": "python",
     "metadata": {},
     "outputs": [
      {
       "metadata": {},
       "output_type": "display_data",
       "png": "[encoded data removed]",
       "text": [
        "<matplotlib.figure.Figure at 0x114003e90>"
       ]
      }
     ],
     "prompt_number": 348
    },
    {
     "cell_type": "code",
     "collapsed": false,
     "input": [
      "Rdummy =[]\n",
      "Zdummy =[]\n",
      "Rdummy = list(Rprime[0:slicemin+1])+list(Rprime[slicemax:-1])\n",
      "Zdummy = list(Zprime[0:slicemin+1])+list(Zprime[slicemax:-1])"
     ],
     "language": "python",
     "metadata": {},
     "outputs": [],
     "prompt_number": 349
    },
    {
     "cell_type": "code",
     "collapsed": false,
     "input": [
      "zeroline_x = np.linspace(0, 7.0, num=300)\n",
      "zeroline_y = np.zeros(300) \n",
      "plt.plot(zeroline_x,zeroline_y, 'g-',lw=2)\n",
      "'''\n",
      "zeroline_y2 = np.zeros(300)- (shift-shift2)\n",
      "plt.plot(zeroline_x,zeroline_y2, 'k-')\n",
      "\n",
      "zeroline_y3 = np.zeros(300)- (shift-shift3)\n",
      "plt.plot(zeroline_x,zeroline_y3, 'k-')\n",
      "'''\n",
      "\n",
      "theta_fit = linspace(-pi, pi, 180)\n",
      "x_fit2 = R_2*cos(theta_fit)\n",
      "y_fit2 = xc+R_2*sin(theta_fit)\n",
      "circle1, = plt.plot(x_fit2, y_fit2,'--',color=\"black\", label='Circle Fit', lw=2)\n",
      "# plot(X, C, color=\"blue\", linewidth=2.5, linestyle=\"-\")\n",
      "#Set x limits\n",
      "xlim(0,7)\n",
      "# Set y limits\n",
      "ylim(-1,6)\n",
      "plt.ylabel('z [nm]',fontsize=22)\n",
      "plt.xlabel('R [nm]',fontsize=22)\n",
      "# WE PLOT Rprime and Zprime\n",
      "Zprime, Rprime = fit_all(zcoord, input)                 \n",
      "#circle2, = plt.plot(Rprime,Zprime, 'r.', label='All Points',markersize=7)\n",
      "circle2, = plt.plot(Rdummy,Zdummy, 'r.', label='Points Not Used for Fit',markersize=7)\n",
      "circle3, = plt.plot(R,z, 'g.',label='Points Used for Fit', markersize=7)\n",
      "rcParams['legend.numpoints'] = 1\n",
      "plt.legend(handles=[circle1, circle3, circle2])\n",
      "fig = matplotlib.pyplot.gcf()\n",
      "fig.set_size_inches(7,5)\n",
      "pylab.savefig(plotsfolder+circleplot, bbox_inches='tight', pad_inches=0,dpi=300)"
     ],
     "language": "python",
     "metadata": {},
     "outputs": [
      {
       "metadata": {},
       "output_type": "display_data",
       "png": "[encoded data removed]",
       "text": [
        "<matplotlib.figure.Figure at 0x11408cd50>"
       ]
      }
     ],
     "prompt_number": 397
    },
    {
     "cell_type": "code",
     "collapsed": false,
     "input": [
      "print abs(shift-shift2)\n",
      "print abs(shift-shift3)\n",
      "print shift, shift2, shift3"
     ],
     "language": "python",
     "metadata": {},
     "outputs": [
      {
       "output_type": "stream",
       "stream": "stdout",
       "text": [
        "0.24054\n",
        "0.504\n",
        "2.16 2.40054 2.664\n"
       ]
      }
     ],
     "prompt_number": 351
    },
    {
     "cell_type": "code",
     "collapsed": false,
     "input": [
      "zeroline_x = np.linspace(0, 7.0, num=300)\n",
      "\n",
      "zeroline_y3 = np.zeros(300)+ abs(shift-shift3)\n",
      "plt.plot(zeroline_x,zeroline_y3, '-',color=\"orange\",label='First Water Position',lw=2)\n",
      "\n",
      "zeroline_y2 = np.zeros(300)+ abs(shift-shift2)\n",
      "plt.plot(zeroline_x,zeroline_y2, 'b-', label='GDS position')\n",
      "\n",
      "zeroline_y = np.zeros(300) \n",
      "plt.plot(zeroline_x,zeroline_y, 'g-', label='Last SAM Peak Postition',lw=2)\n",
      "\n",
      "\n",
      "theta_fit = linspace(-pi, pi, 180)\n",
      "x_fit2 = R_2*cos(theta_fit)\n",
      "y_fit2 = xc+R_2*sin(theta_fit)\n",
      "x_fit222 = R_222*cos(theta_fit)\n",
      "y_fit222 = xc22+R_222*sin(theta_fit)\n",
      "plt.plot(x_fit2, y_fit2,'-',color=\"orange\", lw=2)\n",
      "plt.plot(x_fit222, y_fit222,'-',color=\"green\", lw=2)\n",
      "#plt.plot(x_fit2, y_fit2,'-',color=\"black\", label='Last SAM Peak as z=0', lw=2)\n",
      "#plt.plot(x_fit222, y_fit222,'-',color=\"black\", label='First Water Peak as z=0', lw=2)\n",
      "#Set x limits\n",
      "xlim(0,7)\n",
      "# Set y limits\n",
      "ylim(-1,6)\n",
      "plt.ylabel('z [nm]',fontsize=22)\n",
      "plt.xlabel('R [nm]',fontsize=22)\n",
      "# WE PLOT Rprime and Zprime\n",
      "Zprime, Rprime = fit_all(zcoord, input)                 \n",
      "####plt.plot(Rdummy,Zdummy, 'r.', label='SP:Points Not Used for Fit',markersize=7)\n",
      "####plt.plot(Rdummy22,Zdummy22, 'b.', label='WP:Points Not Used for Fit',markersize=7)\n",
      "#plt.plot(R,z, 'g.',label='SP:Points Used for Fit', markersize=7)\n",
      "#plt.plot(R22,z22, '.',color=\"orange\",label='WP:Points Used for Fit', markersize=7)\n",
      "plt.plot(R,z, 'k.', markersize=7)\n",
      "plt.plot(R22,z22, 'k.',label='Points Used for Fit', markersize=7)\n",
      "rcParams['legend.numpoints'] = 1\n",
      "####plt.legend(handles=[circle1, circle3, circle2])\n",
      "plt.legend()\n",
      "fig = matplotlib.pyplot.gcf()\n",
      "fig.set_size_inches(7,5)\n",
      "pylab.savefig(plotsfolder+'3'+circleplot, bbox_inches='tight', pad_inches=0,dpi=300)"
     ],
     "language": "python",
     "metadata": {},
     "outputs": [
      {
       "metadata": {},
       "output_type": "display_data",
       "png": "[encoded data removed]",
       "text": [
        "<matplotlib.figure.Figure at 0x113e2bcd0>"
       ]
      }
     ],
     "prompt_number": 371
    },
    {
     "cell_type": "code",
     "collapsed": false,
     "input": [
      "zeroline_x = np.linspace(0, 7.0, num=300)\n",
      "\n",
      "\n",
      "anglelinex=(R_2-0.5)+cos(radians(theta-90))*zeroline_x\n",
      "angleliney=sin(radians(theta-90))*zeroline_x\n",
      "plt.plot(anglelinex,angleliney)\n",
      "anglelinex22=(R_222-0.7)+cos(radians(radians(theta22-90)))*zeroline_x\n",
      "angleliney22=sin(radians(theta22-90))*zeroline_x\n",
      "plt.plot(anglelinex22,angleliney22)\n",
      "\n",
      "zeroline_y3 = np.zeros(300)+ abs(shift-shift3)\n",
      "plt.plot(zeroline_x,zeroline_y3, '-',color=\"orange\",label='First Water Position',lw=2)\n",
      "\n",
      "zeroline_y2 = np.zeros(300)+ abs(shift-shift2)\n",
      "plt.plot(zeroline_x,zeroline_y2, 'k-', label='GDS position')\n",
      "\n",
      "zeroline_y = np.zeros(300) \n",
      "plt.plot(zeroline_x,zeroline_y, 'g-', label='Last SAM Peak Postition',lw=2)\n",
      "\n",
      "\n",
      "theta_fit = linspace(-pi, pi, 180)\n",
      "x_fit2 = R_2*cos(theta_fit)\n",
      "y_fit2 = xc+R_2*sin(theta_fit)\n",
      "x_fit222 = R_222*cos(theta_fit)\n",
      "y_fit222 = xc22+R_222*sin(theta_fit)\n",
      "plt.plot(x_fit2, y_fit2,'-',color=\"orange\", lw=2)\n",
      "plt.plot(x_fit222, y_fit222,'-',color=\"green\", lw=2)\n",
      "#plt.plot(x_fit2, y_fit2,'-',color=\"black\", label='Last SAM Peak as z=0', lw=2)\n",
      "#plt.plot(x_fit222, y_fit222,'-',color=\"black\", label='First Water Peak as z=0', lw=2)\n",
      "#Set x limits\n",
      "xlim(0,7)\n",
      "# Set y limits\n",
      "ylim(-1,6)\n",
      "plt.ylabel('z [nm]',fontsize=22)\n",
      "plt.xlabel('R [nm]',fontsize=22)\n",
      "# WE PLOT Rprime and Zprime\n",
      "Zprime, Rprime = fit_all(zcoord, input)                 \n",
      "####plt.plot(Rdummy,Zdummy, 'r.', label='SP:Points Not Used for Fit',markersize=7)\n",
      "####plt.plot(Rdummy22,Zdummy22, 'b.', label='WP:Points Not Used for Fit',markersize=7)\n",
      "#plt.plot(R,z, 'g.',label='SP:Points Used for Fit', markersize=7)\n",
      "#plt.plot(R22,z22, '.',color=\"orange\",label='WP:Points Used for Fit', markersize=7)\n",
      "plt.plot(R,z, 'k.', markersize=7)\n",
      "plt.plot(R22,z22, 'k.',label='Points Used for Fit', markersize=7)\n",
      "rcParams['legend.numpoints'] = 1\n",
      "####plt.legend(handles=[circle1, circle3, circle2])\n",
      "plt.legend()\n",
      "fig = matplotlib.pyplot.gcf()\n",
      "fig.set_size_inches(7,5)\n",
      "#pylab.savefig(plotsfolder+'3'+circleplot, bbox_inches='tight', pad_inches=0,dpi=300)"
     ],
     "language": "python",
     "metadata": {},
     "outputs": [
      {
       "metadata": {},
       "output_type": "display_data",
       "png": "[encoded data removed]",
       "text": [
        "<matplotlib.figure.Figure at 0x111778e50>"
       ]
      }
     ],
     "prompt_number": 392
    },
    {
     "cell_type": "code",
     "collapsed": false,
     "input": [
      "print len(Rprime), len(Zprime), Zprime[156]"
     ],
     "language": "python",
     "metadata": {},
     "outputs": [
      {
       "output_type": "stream",
       "stream": "stdout",
       "text": [
        "200 200 6.636\n"
       ]
      }
     ],
     "prompt_number": 53
    },
    {
     "cell_type": "code",
     "collapsed": false,
     "input": [
      "# HERE WE EXTRACT FROM Zprime AND Rprime THE POINTS CORRESPONDING TO THE SLICES BETWEEN SLICEMAX AND SLICEMIN TO TEST THE CIRCLE FIT\n",
      "#slicemin = 45\n",
      "#slicemax = 156\n",
      "dims = slicemax - slicemin + 1\n",
      "i=0\n",
      "Zprime2 = np.zeros(dims)\n",
      "Rprime2 = np.zeros(dims)\n",
      "for a in range(slicemin, slicemax+1):\n",
      "        i = a - slicemin\n",
      "        Zprime2[i] = Zprime[a-1]\n",
      "        Rprime2[i] = Rprime[a-1]"
     ],
     "language": "python",
     "metadata": {},
     "outputs": [],
     "prompt_number": 160
    },
    {
     "cell_type": "code",
     "collapsed": false,
     "input": [
      "print Zdummy"
     ],
     "language": "python",
     "metadata": {},
     "outputs": [
      {
       "output_type": "stream",
       "stream": "stdout",
       "text": [
        "[0.0, -2.6640000000000001, -2.6040000000000001, -2.544, -2.484, -2.4240000000000004, -2.3640000000000003, -2.3040000000000003, -2.2440000000000002, -2.1840000000000002, -2.1240000000000001, -2.0640000000000001, -2.0040000000000004, -1.9440000000000002, -1.8840000000000001, -1.8240000000000003, -1.7640000000000002, -1.7040000000000002, -1.6440000000000001, -1.5840000000000001, -1.5240000000000002, -1.4640000000000002, -1.4040000000000001, -1.3440000000000003, -1.2840000000000003, -1.2240000000000002, -1.1640000000000001, -1.1040000000000001, -1.0440000000000003, -0.98400000000000021, -0.92400000000000015, -0.86400000000000032, -0.80400000000000027, -0.74400000000000022, -0.68400000000000016, -0.62400000000000011, -0.56400000000000006, -0.504, -0.44400000000000039, -0.38400000000000034, -0.32400000000000029, -0.26400000000000023, -0.20400000000000018, -0.14400000000000013, -0.084000000000000075, -0.024000000000000465, 0.035999999999999588, 0.095999999999999641, 4.895999999999999, 4.9559999999999995, 5.016, 5.0759999999999987, 5.1359999999999992, 5.1959999999999997, 5.2560000000000002, 5.3159999999999989, 5.3759999999999994, 5.4359999999999999, 5.4960000000000004, 5.5559999999999992, 5.6159999999999997, 5.6760000000000002, 5.7360000000000007, 5.7959999999999994, 5.8559999999999999, 5.9160000000000004, 5.9760000000000009, 6.0359999999999996, 6.0960000000000001, 6.1560000000000006, 6.2159999999999993, 6.2759999999999998, 6.3360000000000003, 6.3960000000000008, 6.4559999999999995, 6.516, 6.5760000000000005, 6.6359999999999992, 6.6959999999999997, 6.7560000000000002, 6.8160000000000007, 6.8759999999999994, 6.9359999999999999, 6.9960000000000004, 7.0559999999999992, 7.1159999999999997, 7.1760000000000002, 7.2360000000000007, 7.2959999999999994, 7.3559999999999999, 7.4160000000000004, 7.4759999999999991, 7.5359999999999996, 7.5960000000000001, 7.6560000000000006, 7.7159999999999993, 7.7759999999999998, 7.8360000000000003, 7.895999999999999, 7.9559999999999995, 8.016, 8.0760000000000005, 8.1359999999999992, 8.1959999999999997, 8.2560000000000002, 8.3160000000000007, 8.3759999999999994, 8.4359999999999999, 8.4960000000000004, 8.5559999999999992, 8.6159999999999997, 8.6760000000000002, 8.7360000000000007, 8.7959999999999994, 8.8559999999999999, 8.9160000000000004, 8.9759999999999991, 9.0359999999999996, 9.0960000000000001, 9.1560000000000006]\n"
       ]
      }
     ],
     "prompt_number": 312
    },
    {
     "cell_type": "code",
     "collapsed": false,
     "input": [
      "print Rdummy"
     ],
     "language": "python",
     "metadata": {},
     "outputs": [
      {
       "output_type": "stream",
       "stream": "stdout",
       "text": [
        "[0.0, 2.0, 2.0, 2.0, 2.0, 2.0, 2.0, 2.0, 2.0, 2.0, 2.0, 2.0, 2.0, 2.0, 2.0, 2.0, 2.0, 2.0, 2.0, 2.0, 2.0, 2.0, 2.0, 2.0, 2.0, 2.0, 2.0, 2.0, 2.0, 2.0, 2.0, 2.0, 2.0, 2.0, 2.0, 2.0, 2.0, 2.0, 2.0, 3.5005239354568438, 3.9710928010113382, 3.9862762751034637, 3.9812361980502797, 3.8741010920414141, 3.8041350243064942, 3.8526749959546049, 3.9259265064504194, 3.9623983722787637, 1.364813342868989, 1.3193026802589769, 1.0857247923048241, 0.98662536439451221, 0.98507447144637672, 0.68063348425568004, 0.26201624055606743, 0.87996803113749733, 0.56835180979922761, 0.75682774134301234, 0.90007002649897505, 0.48067856189497421, 0.4756806696115623, 2.0, 2.0, 2.0, 2.0, 2.0, 2.0, 2.0, 1.9999999970875102, 1.9999999966429207, 2.0, 2.0, 2.0, 2.0, 2.0, 2.0, 2.0, 2.0, 2.0, 2.0, 2.0, 2.0, 2.0, 2.0, 2.0, 2.0, 2.0, 2.0, 1.9607146945173335, 2.0, 1.9999906777656979, 2.0, 2.0, 2.0, 2.0, 2.0, 2.0, 2.0, 2.0, 2.0, 2.0, 2.0, 2.0, 2.0, 2.0, 2.0, 2.0, 1.9999995123041323, 1.9999993584753031, 1.9999999788719249, 1.9999993794476323, 1.9999999748163499, 2.0, 2.0, 2.0, 2.0, 2.0, 2.0, 2.0, 2.0]\n"
       ]
      }
     ],
     "prompt_number": 313
    },
    {
     "cell_type": "code",
     "collapsed": false,
     "input": [
      "R"
     ],
     "language": "python",
     "metadata": {},
     "outputs": [
      {
       "metadata": {},
       "output_type": "pyout",
       "prompt_number": 314,
       "text": [
        "array([ 3.96239837,  3.98777897,  3.97034247,  3.96232205,  4.01400388,\n",
        "        4.00707699,  4.02579194,  4.06891846,  4.05497718,  4.04803864,\n",
        "        4.03233564,  4.09761666,  4.05734268,  4.1087859 ,  4.07908085,\n",
        "        4.107631  ,  4.09222897,  4.07567488,  4.09084869,  4.08905418,\n",
        "        4.07010528,  4.07985666,  4.09493267,  4.08066578,  4.07103503,\n",
        "        4.05806488,  4.06101459,  4.04491395,  4.05038723,  4.0373375 ,\n",
        "        4.01762314,  4.01728446,  4.0179207 ,  3.99279131,  3.96382901,\n",
        "        3.9413476 ,  3.95942041,  3.91550842,  3.89017175,  3.87819716,\n",
        "        3.8314219 ,  3.84262197,  3.80677053,  3.78602367,  3.75457599,\n",
        "        3.72756439,  3.69041642,  3.66107359,  3.64707338,  3.60990955,\n",
        "        3.57351969,  3.5160614 ,  3.4814915 ,  3.45913372,  3.41848934,\n",
        "        3.35310527,  3.29141923,  3.27677836,  3.23510556,  3.17609441,\n",
        "        3.11141968,  3.0771554 ,  2.99745634,  2.97224753,  2.896079  ,\n",
        "        2.81739609,  2.70149127,  2.71306893,  2.6074497 ,  2.51678084,\n",
        "        2.44419531,  2.34516423,  2.2919071 ,  2.17966751,  2.10086283,\n",
        "        1.98756795,  1.90147324,  1.76081096,  1.5678734 ,  1.567117  ,\n",
        "        1.36481334])"
       ]
      }
     ],
     "prompt_number": 314
    },
    {
     "cell_type": "code",
     "collapsed": false,
     "input": [
      "z"
     ],
     "language": "python",
     "metadata": {},
     "outputs": [
      {
       "metadata": {},
       "output_type": "pyout",
       "prompt_number": 315,
       "text": [
        "array([ 0.096,  0.156,  0.216,  0.276,  0.336,  0.396,  0.456,  0.516,\n",
        "        0.576,  0.636,  0.696,  0.756,  0.816,  0.876,  0.936,  0.996,\n",
        "        1.056,  1.116,  1.176,  1.236,  1.296,  1.356,  1.416,  1.476,\n",
        "        1.536,  1.596,  1.656,  1.716,  1.776,  1.836,  1.896,  1.956,\n",
        "        2.016,  2.076,  2.136,  2.196,  2.256,  2.316,  2.376,  2.436,\n",
        "        2.496,  2.556,  2.616,  2.676,  2.736,  2.796,  2.856,  2.916,\n",
        "        2.976,  3.036,  3.096,  3.156,  3.216,  3.276,  3.336,  3.396,\n",
        "        3.456,  3.516,  3.576,  3.636,  3.696,  3.756,  3.816,  3.876,\n",
        "        3.936,  3.996,  4.056,  4.116,  4.176,  4.236,  4.296,  4.356,\n",
        "        4.416,  4.476,  4.536,  4.596,  4.656,  4.716,  4.776,  4.836,\n",
        "        4.896])"
       ]
      }
     ],
     "prompt_number": 315
    },
    {
     "cell_type": "code",
     "collapsed": false,
     "input": [
      "#From here Water Peak data 22"
     ],
     "language": "python",
     "metadata": {},
     "outputs": []
    },
    {
     "cell_type": "code",
     "collapsed": false,
     "input": [
      "Zdummy22=[0.0, -2.6640000000000001, -2.6040000000000001, -2.544, -2.484, -2.4240000000000004, -2.3640000000000003, -2.3040000000000003, -2.2440000000000002, -2.1840000000000002, -2.1240000000000001, -2.0640000000000001, -2.0040000000000004, -1.9440000000000002, -1.8840000000000001, -1.8240000000000003, -1.7640000000000002, -1.7040000000000002, -1.6440000000000001, -1.5840000000000001, -1.5240000000000002, -1.4640000000000002, -1.4040000000000001, -1.3440000000000003, -1.2840000000000003, -1.2240000000000002, -1.1640000000000001, -1.1040000000000001, -1.0440000000000003, -0.98400000000000021, -0.92400000000000015, -0.86400000000000032, -0.80400000000000027, -0.74400000000000022, -0.68400000000000016, -0.62400000000000011, -0.56400000000000006, -0.504, -0.44400000000000039, -0.38400000000000034, -0.32400000000000029, -0.26400000000000023, -0.20400000000000018, -0.14400000000000013, -0.084000000000000075, -0.024000000000000465, 0.035999999999999588, 0.095999999999999641, 4.895999999999999, 4.9559999999999995, 5.016, 5.0759999999999987, 5.1359999999999992, 5.1959999999999997, 5.2560000000000002, 5.3159999999999989, 5.3759999999999994, 5.4359999999999999, 5.4960000000000004, 5.5559999999999992, 5.6159999999999997, 5.6760000000000002, 5.7360000000000007, 5.7959999999999994, 5.8559999999999999, 5.9160000000000004, 5.9760000000000009, 6.0359999999999996, 6.0960000000000001, 6.1560000000000006, 6.2159999999999993, 6.2759999999999998, 6.3360000000000003, 6.3960000000000008, 6.4559999999999995, 6.516, 6.5760000000000005, 6.6359999999999992, 6.6959999999999997, 6.7560000000000002, 6.8160000000000007, 6.8759999999999994, 6.9359999999999999, 6.9960000000000004, 7.0559999999999992, 7.1159999999999997, 7.1760000000000002, 7.2360000000000007, 7.2959999999999994, 7.3559999999999999, 7.4160000000000004, 7.4759999999999991, 7.5359999999999996, 7.5960000000000001, 7.6560000000000006, 7.7159999999999993, 7.7759999999999998, 7.8360000000000003, 7.895999999999999, 7.9559999999999995, 8.016, 8.0760000000000005, 8.1359999999999992, 8.1959999999999997, 8.2560000000000002, 8.3160000000000007, 8.3759999999999994, 8.4359999999999999, 8.4960000000000004, 8.5559999999999992, 8.6159999999999997, 8.6760000000000002, 8.7360000000000007, 8.7959999999999994, 8.8559999999999999, 8.9160000000000004, 8.9759999999999991, 9.0359999999999996, 9.0960000000000001, 9.1560000000000006]"
     ],
     "language": "python",
     "metadata": {},
     "outputs": [],
     "prompt_number": 93
    },
    {
     "cell_type": "code",
     "collapsed": false,
     "input": [
      "Rdummy22=[0.0, 2.0, 2.0, 2.0, 2.0, 2.0, 2.0, 2.0, 2.0, 2.0, 2.0, 2.0, 2.0, 2.0, 2.0, 2.0, 2.0, 2.0, 2.0, 2.0, 2.0, 2.0, 2.0, 2.0, 2.0, 2.0, 2.0, 2.0, 2.0, 2.0, 2.0, 2.0, 2.0, 2.0, 2.0, 2.0, 2.0, 2.0, 2.0, 3.5005239354568438, 3.9710928010113382, 3.9862762751034637, 3.9812361980502797, 3.8741010920414141, 3.8041350243064942, 3.8526749959546049, 3.9259265064504194, 3.9623983722787637, 1.364813342868989, 1.3193026802589769, 1.0857247923048241, 0.98662536439451221, 0.98507447144637672, 0.68063348425568004, 0.26201624055606743, 0.87996803113749733, 0.56835180979922761, 0.75682774134301234, 0.90007002649897505, 0.48067856189497421, 0.4756806696115623, 2.0, 2.0, 2.0, 2.0, 2.0, 2.0, 2.0, 1.9999999970875102, 1.9999999966429207, 2.0, 2.0, 2.0, 2.0, 2.0, 2.0, 2.0, 2.0, 2.0, 2.0, 2.0, 2.0, 2.0, 2.0, 2.0, 2.0, 2.0, 2.0, 1.9607146945173335, 2.0, 1.9999906777656979, 2.0, 2.0, 2.0, 2.0, 2.0, 2.0, 2.0, 2.0, 2.0, 2.0, 2.0, 2.0, 2.0, 2.0, 2.0, 2.0, 1.9999995123041323, 1.9999993584753031, 1.9999999788719249, 1.9999993794476323, 1.9999999748163499, 2.0, 2.0, 2.0, 2.0, 2.0, 2.0, 2.0, 2.0]"
     ],
     "language": "python",
     "metadata": {},
     "outputs": [],
     "prompt_number": 95
    },
    {
     "cell_type": "code",
     "collapsed": false,
     "input": [
      "R22=array([ 3.96239837,  3.98777897,  3.97034247,  3.96232205,  4.01400388,\n",
      "        4.00707699,  4.02579194,  4.06891846,  4.05497718,  4.04803864,\n",
      "        4.03233564,  4.09761666,  4.05734268,  4.1087859 ,  4.07908085,\n",
      "        4.107631  ,  4.09222897,  4.07567488,  4.09084869,  4.08905418,\n",
      "        4.07010528,  4.07985666,  4.09493267,  4.08066578,  4.07103503,\n",
      "        4.05806488,  4.06101459,  4.04491395,  4.05038723,  4.0373375 ,\n",
      "        4.01762314,  4.01728446,  4.0179207 ,  3.99279131,  3.96382901,\n",
      "        3.9413476 ,  3.95942041,  3.91550842,  3.89017175,  3.87819716,\n",
      "        3.8314219 ,  3.84262197,  3.80677053,  3.78602367,  3.75457599,\n",
      "        3.72756439,  3.69041642,  3.66107359,  3.64707338,  3.60990955,\n",
      "        3.57351969,  3.5160614 ,  3.4814915 ,  3.45913372,  3.41848934,\n",
      "        3.35310527,  3.29141923,  3.27677836,  3.23510556,  3.17609441,\n",
      "        3.11141968,  3.0771554 ,  2.99745634,  2.97224753,  2.896079  ,\n",
      "        2.81739609,  2.70149127,  2.71306893,  2.6074497 ,  2.51678084,\n",
      "        2.44419531,  2.34516423,  2.2919071 ,  2.17966751,  2.10086283,\n",
      "        1.98756795,  1.90147324,  1.76081096,  1.5678734 ,  1.567117  ,\n",
      "        1.36481334])"
     ],
     "language": "python",
     "metadata": {},
     "outputs": [],
     "prompt_number": 96
    },
    {
     "cell_type": "code",
     "collapsed": false,
     "input": [
      "z22=array([ 0.096,  0.156,  0.216,  0.276,  0.336,  0.396,  0.456,  0.516,\n",
      "        0.576,  0.636,  0.696,  0.756,  0.816,  0.876,  0.936,  0.996,\n",
      "        1.056,  1.116,  1.176,  1.236,  1.296,  1.356,  1.416,  1.476,\n",
      "        1.536,  1.596,  1.656,  1.716,  1.776,  1.836,  1.896,  1.956,\n",
      "        2.016,  2.076,  2.136,  2.196,  2.256,  2.316,  2.376,  2.436,\n",
      "        2.496,  2.556,  2.616,  2.676,  2.736,  2.796,  2.856,  2.916,\n",
      "        2.976,  3.036,  3.096,  3.156,  3.216,  3.276,  3.336,  3.396,\n",
      "        3.456,  3.516,  3.576,  3.636,  3.696,  3.756,  3.816,  3.876,\n",
      "        3.936,  3.996,  4.056,  4.116,  4.176,  4.236,  4.296,  4.356,\n",
      "        4.416,  4.476,  4.536,  4.596,  4.656,  4.716,  4.776,  4.836,\n",
      "        4.896])"
     ],
     "language": "python",
     "metadata": {},
     "outputs": [],
     "prompt_number": 97
    },
    {
     "cell_type": "code",
     "collapsed": false,
     "input": [
      "theta22=104.762249968\n",
      "base_r22=3.95964613966\n",
      "xc22=1.04339314236\n",
      "R_222=4.09480973928"
     ],
     "language": "python",
     "metadata": {},
     "outputs": [],
     "prompt_number": 117
    },
    {
     "cell_type": "code",
     "collapsed": false,
     "input": [
      "#From here GDS data 33"
     ],
     "language": "python",
     "metadata": {},
     "outputs": [],
     "prompt_number": 271
    },
    {
     "cell_type": "code",
     "collapsed": false,
     "input": [
      "theta33=108.611448781\n",
      "base_r33=3.88067025888\n",
      "xc33= 1.3068531434  \n",
      "R_233= 4.09480973875"
     ],
     "language": "python",
     "metadata": {},
     "outputs": [],
     "prompt_number": 272
    },
    {
     "cell_type": "code",
     "collapsed": false,
     "input": [],
     "language": "python",
     "metadata": {},
     "outputs": []
    }
   ],
   "metadata": {}
  }
 ]
}