{
 "metadata": {
  "name": ""
 },
 "nbformat": 3,
 "nbformat_minor": 0,
 "worksheets": [
  {
   "cells": [
    {
     "cell_type": "code",
     "collapsed": false,
     "input": [
      "import matplotlib \n",
      "import matplotlib.pyplot as plt\n",
      "import numpy as np"
     ],
     "language": "python",
     "metadata": {},
     "outputs": [],
     "prompt_number": 1
    },
    {
     "cell_type": "code",
     "collapsed": false,
     "input": [
      "%cd /home/eixeres/Dropbox/Apps/Computable/Definitions_Interface"
     ],
     "language": "python",
     "metadata": {},
     "outputs": [
      {
       "output_type": "stream",
       "stream": "stdout",
       "text": [
        "/home/eixeres/Dropbox/Apps/Computable/Definitions_Interface\n"
       ]
      }
     ],
     "prompt_number": 3
    },
    {
     "cell_type": "code",
     "collapsed": false,
     "input": [
      "diff=np.loadtxt('Difference_Ptensor_GDS_SAM.txt',skiprows=1)"
     ],
     "language": "python",
     "metadata": {},
     "outputs": [],
     "prompt_number": 4
    },
    {
     "cell_type": "code",
     "collapsed": false,
     "input": [
      "percentages = [0, 5, 11, 17, 33, 50]\n",
      "Waters=[1000, 2000, 3000, 4000, 5000, 6500, 7000, 8000, 9000, 10000]"
     ],
     "language": "python",
     "metadata": {},
     "outputs": [],
     "prompt_number": 5
    },
    {
     "cell_type": "code",
     "collapsed": false,
     "input": [
      "print percentages.index(5)"
     ],
     "language": "python",
     "metadata": {},
     "outputs": [
      {
       "output_type": "stream",
       "stream": "stdout",
       "text": [
        "1\n"
       ]
      }
     ],
     "prompt_number": 6
    },
    {
     "cell_type": "code",
     "collapsed": false,
     "input": [
      "%cd /home/eixeres/Dropbox/Apps/Computable/Definitions_Interface/All_systems_without66"
     ],
     "language": "python",
     "metadata": {},
     "outputs": [
      {
       "output_type": "stream",
       "stream": "stdout",
       "text": [
        "/home/eixeres/Dropbox/Apps/Computable/Definitions_Interface/All_systems_without66\n"
       ]
      }
     ],
     "prompt_number": 7
    },
    {
     "cell_type": "code",
     "collapsed": false,
     "input": [
      "SAMpeaks=np.loadtxt('SAMPeaks.txt',skiprows=1)"
     ],
     "language": "python",
     "metadata": {},
     "outputs": [],
     "prompt_number": 8
    },
    {
     "cell_type": "code",
     "collapsed": false,
     "input": [
      "GDS=np.zeros(len(SAMpeaks))\n",
      "j=0\n",
      "for i in range(len(SAMpeaks)):\n",
      "    GDS[i]=SAMpeaks[i]+diff[j]\n",
      "    if (i%10)==0:\n",
      "        print \"yes\"\n",
      "        j = j+1"
     ],
     "language": "python",
     "metadata": {},
     "outputs": [
      {
       "output_type": "stream",
       "stream": "stdout",
       "text": [
        "yes\n",
        "yes\n",
        "yes\n",
        "yes\n",
        "yes\n",
        "yes\n"
       ]
      }
     ],
     "prompt_number": 9
    },
    {
     "cell_type": "code",
     "collapsed": false,
     "input": [
      "print GDS"
     ],
     "language": "python",
     "metadata": {},
     "outputs": [
      {
       "output_type": "stream",
       "stream": "stdout",
       "text": [
        "[ 2.42575  2.39759  2.39759  2.39759  2.39759  2.39759  2.39759  2.39759\n",
        "  2.39759  2.39759  2.55359  2.50575  2.50575  2.50575  2.50575  2.50575\n",
        "  2.50575  2.50575  2.50575  2.50575  2.50575  2.47726  2.47726  2.47726\n",
        "  2.47726  2.47726  2.47726  2.47726  2.47726  2.47726  2.46526  2.40054\n",
        "  2.40054  2.40054  2.40054  2.40054  2.40054  2.40054  2.40054  2.40054\n",
        "  5.05654  5.01674  5.01674  5.01674  5.01674  9.95674  9.87674  5.01674\n",
        "  5.01674  5.01674  4.85674  4.86223  5.00223  5.00223  5.00223  5.00223\n",
        "  5.00223  5.00223  4.86223  4.86223]\n"
       ]
      }
     ],
     "prompt_number": 10
    },
    {
     "cell_type": "code",
     "collapsed": false,
     "input": [
      "with open('GDS_positions.txt', 'w') as f:\n",
      "    for x in GDS:\n",
      "        f.write(str(x)+'\\n')"
     ],
     "language": "python",
     "metadata": {},
     "outputs": [],
     "prompt_number": 17
    },
    {
     "cell_type": "code",
     "collapsed": false,
     "input": [],
     "language": "python",
     "metadata": {},
     "outputs": []
    }
   ],
   "metadata": {}
  }
 ]
}