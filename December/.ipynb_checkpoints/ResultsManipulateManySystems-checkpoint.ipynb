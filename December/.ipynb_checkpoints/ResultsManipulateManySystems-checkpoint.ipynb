{
 "metadata": {
  "name": "",
  "signature": "sha256:52c08119253fe032c9b6a7f6c6428acaf05222d35f6fe2791283e4130011fc7a"
 },
 "nbformat": 3,
 "nbformat_minor": 0,
 "worksheets": [
  {
   "cells": [
    {
     "cell_type": "code",
     "collapsed": false,
     "input": [
      "# This script subtitutes angles and radii from a .txt file to another"
     ],
     "language": "python",
     "metadata": {},
     "outputs": [],
     "prompt_number": 1
    },
    {
     "cell_type": "code",
     "collapsed": false,
     "input": [
      "%pylab inline"
     ],
     "language": "python",
     "metadata": {},
     "outputs": [
      {
       "output_type": "stream",
       "stream": "stdout",
       "text": [
        "Populating the interactive namespace from numpy and matplotlib\n"
       ]
      }
     ],
     "prompt_number": 1
    },
    {
     "cell_type": "code",
     "collapsed": false,
     "input": [
      "import matplotlib \n",
      "import matplotlib.pyplot as plt\n",
      "import numpy as np\n",
      "import os"
     ],
     "language": "python",
     "metadata": {},
     "outputs": [],
     "prompt_number": 2
    },
    {
     "cell_type": "code",
     "collapsed": false,
     "input": [
      "# This function allows to use ranges, just as the built-in function range(), but with float arguments.\n",
      "# Taken from \"http://code.activestate.com/recipes/66472-frange-a-range-function-with-float-increments/\"\n",
      "def frange(start, end=None, inc=None):\n",
      "\tif end == None:\n",
      "\t\tend = start + 0.0\n",
      "\t\tstart = 0.0\n",
      "\n",
      "\tif inc == None:\n",
      "\t\tinc = 1.0\n",
      "\n",
      "\tL = []\n",
      "\twhile 1:\n",
      "\t\tnext = start + len(L) * inc\n",
      "\t\tif inc > 0 and next >= end:\n",
      "\t\t\tbreak\n",
      "\t\telif inc < 0 and next <= end:\n",
      "\t\t\tbreak\n",
      "\t\tL.append(next)\n",
      "\t\t\n",
      "\treturn L"
     ],
     "language": "python",
     "metadata": {},
     "outputs": [],
     "prompt_number": 292
    },
    {
     "cell_type": "code",
     "collapsed": false,
     "input": [
      "#FolderOldFile = '/Users/burbol2/Dropbox/Apps/Computable/Final_Results_CAngles' #file with \"old\" values\n",
      "#FolderNewFile = '/Volumes/UNI/SHELDON/files_for_laila/s0_w1000/' #file with \"new\" values\n",
      "#FolderOldFile = '/Volumes/UNI/SHELDON/files_for_laila/g_rad_densmaps_all/' #file with \"new\" values\n",
      "\n",
      "FolderOldFile = '/Volumes/UNI/SHELDON/CLOSEDsheldon/eixeres/files_for_laila/g_rad_densmaps_all/' #file with \"new\" values\n",
      "FolderOldWithNew = '/Users/burbol2/Desktop' #new file with all the values, old and new subtituted ones\n",
      "\n",
      "FolderNewFile = '/Volumes/UNI/SHELDON/CLOSEDsheldon/eixeres/files_for_laila/g_rad_densmaps_next' #file with \"new\" values\n",
      "#FolderOldFile = '/Users/burbol2/Desktop'\n",
      "#FolderNewFile = '/Users/burbol2/Desktop'"
     ],
     "language": "python",
     "metadata": {},
     "outputs": [],
     "prompt_number": 293
    },
    {
     "cell_type": "code",
     "collapsed": false,
     "input": [
      "# Systems in the \"old\" file\n",
      "Waters=[1000, 2000, 3000, 4000, 5000, 6500, 7000, 8000, 9000, 10000]\n",
      "#SAMs=[0,5,11,17,33]\n",
      "\n",
      "# Systems in the \"new\" file\n",
      "SAMsToInsert = [17]\n",
      "WatersToInsertList = [7000, 8000, 9000]\n",
      "WatersToInsert = 8000"
     ],
     "language": "python",
     "metadata": {},
     "outputs": [],
     "prompt_number": 294
    },
    {
     "cell_type": "code",
     "collapsed": false,
     "input": [
      "# We read and save the \"new\" file\n",
      "\n",
      "maxlength=100 #maximum length in ns\n",
      "\n",
      "os.chdir(FolderNewFile)\n",
      "\n",
      "anglesToInsert = {}\n",
      "radiiToInsert = {}\n",
      "for b in SAMsToInsert:\n",
      "    k = 0\n",
      "    for c in Waters:\n",
      "        #theta, rbase = np.loadtxt('Contact_Angles2_WaterPeak_s'+str(b)+'_w'+str(c)+'.txt', skiprows=2, usecols = (0,1),unpack=True)\n",
      "        #theta, rbase = np.loadtxt('Contact_Angles2_MiddlePoint_s'+str(b)+'_w'+str(c)+'.txt', skiprows=2, usecols = (0,1),unpack=True)\n",
      "        #theta, rbase = np.loadtxt('Contact_Angles2_SAMPeak_s'+str(b)+'_w'+str(c)+'.txt', skiprows=2, usecols = (0,1),unpack=True)\n",
      "        #theta, rbase = np.loadtxt('Contact_Angles2_GDS_s'+str(b)+'_w'+str(c)+'.txt', skiprows=2, usecols = (0,1),unpack=True)\n",
      "        \n",
      "        theta, rbase = np.loadtxt('Contact_Angles2_GDS_s'+str(b)+'_next.txt', skiprows=2, usecols = (0,1),unpack=True)\n",
      "        #theta, rbase = np.loadtxt('Contact_Angles2_WaterPeak_s'+str(b)+'_next.txt', skiprows=2, usecols = (0,1),unpack=True)\n",
      "        print \"SAM=\", b, \"Waters=\",c, \"length=\",len(theta), len(rbase)\n",
      "        z = b, c\n",
      "        th = [0] *(2*maxlength)\n",
      "        r = [0] *(2*maxlength)\n",
      "        i=k*(2*maxlength)\n",
      "        j=(k+1)*(2*maxlength)\n",
      "        #print \"z=\", z, \"i=\", i, \"j=\", j\n",
      "        m = 0\n",
      "        for l in range(i,j):\n",
      "            th[m]=theta[l]\n",
      "            r[m]=rbase[l]\n",
      "            m = m +1\n",
      "        anglesToInsert[z] = th\n",
      "        radiiToInsert[z] = r\n",
      "        k=k+1\n",
      "   \n",
      "j=SAMsToInsert[0]\n",
      "k=WatersToInsert\n",
      "#We print some values as an exmaple:\n",
      "print len(anglesToInsert[(j,k)]), len(radiiToInsert[(j,k)])\n",
      "print anglesToInsert[(j,k)][40]\n",
      "print radiiToInsert[(j,k)][50]"
     ],
     "language": "python",
     "metadata": {},
     "outputs": [
      {
       "output_type": "stream",
       "stream": "stdout",
       "text": [
        "SAM= 17 Waters= 1000 length= 2000 2000\n",
        "SAM= 17 Waters= 2000 length= 2000 2000\n",
        "SAM= 17 Waters= 3000 length= 2000 2000\n",
        "SAM= 17 Waters= 4000 length= 2000 2000\n",
        "SAM="
       ]
      },
      {
       "output_type": "stream",
       "stream": "stdout",
       "text": [
        " 17 Waters= 5000 length= 2000 2000\n",
        "SAM= 17 Waters= 6500 length= 2000 2000\n",
        "SAM= 17 Waters= 7000 length= 2000 2000\n",
        "SAM= 17 Waters= 8000 length= 2000 2000\n",
        "SAM="
       ]
      },
      {
       "output_type": "stream",
       "stream": "stdout",
       "text": [
        " 17 Waters= 9000 length= 2000 2000\n",
        "SAM= 17 Waters= 10000 length= 2000 2000\n",
        "200 200\n",
        "nan\n",
        "nan\n"
       ]
      }
     ],
     "prompt_number": 295
    },
    {
     "cell_type": "code",
     "collapsed": false,
     "input": [
      "# We read and save the \"old\" file\n",
      "\n",
      "maxlength=100 #maximum length in ns\n",
      "\n",
      "os.chdir(FolderOldFile)\n",
      "\n",
      "angles = {}\n",
      "radii = {}\n",
      "#for b in [17]:\n",
      "for b in SAMsToInsert:\n",
      "    #theta, rbase = np.loadtxt('Contact_Angles2_WaterPeak_s'+str(b)+'.txt', skiprows=2, usecols = (0,1),unpack=True)\n",
      "    #theta, rbase = np.loadtxt('Contact_Angles2_MiddlePoint_s'+str(b)+'.txt', skiprows=2, usecols = (0,1),unpack=True)\n",
      "    #theta, rbase = np.loadtxt('Contact_Angles2_SAMPeak_s'+str(b)+'.txt', skiprows=2, usecols = (0,1),unpack=True)\n",
      "    \n",
      "    theta, rbase = np.loadtxt('Contact_Angles2_GDS_s'+str(b)+'.txt', skiprows=2, usecols = (0,1),unpack=True)\n",
      "    #theta, rbase = np.loadtxt('Contact_Angles2_WaterPeak_s'+str(b)+'.txt', skiprows=2, usecols = (0,1),unpack=True)\n",
      "    k = 0\n",
      "    for c in Waters:\n",
      "    #for c in [10000]:\n",
      "        print \"SAM=\", b, \"Waters=\",c,len(theta), len(rbase)\n",
      "        z = b, c\n",
      "        th = [0] *(2*maxlength)\n",
      "        r = [0] *(2*maxlength)\n",
      "        i=k*(2*maxlength)\n",
      "        j=(k+1)*(2*maxlength)\n",
      "        #print \"z=\", z, \"i=\", i, \"j=\", j\n",
      "        m = 0\n",
      "        for l in range(i,j):\n",
      "            th[m]=theta[l]\n",
      "            r[m]=rbase[l]\n",
      "            m = m +1\n",
      "        angles[z] = th\n",
      "        radii[z] = r\n",
      "        k=k+1\n",
      "\n",
      "j=SAMsToInsert[0]\n",
      "k=WatersToInsert\n",
      "#We print some values as an exmaple:\n",
      "print angles[(j,k)][0]\n",
      "print radii[(j,k)][0]"
     ],
     "language": "python",
     "metadata": {},
     "outputs": [
      {
       "output_type": "stream",
       "stream": "stdout",
       "text": [
        "SAM= 17 Waters= 1000 2000 2000\n",
        "SAM= 17 Waters= 2000 2000 2000\n",
        "SAM= 17 Waters= 3000 2000 2000\n",
        "SAM= 17 Waters= 4000 2000 2000\n",
        "SAM= 17 Waters= 5000 2000 2000\n",
        "SAM= 17 Waters= 6500 2000 2000\n",
        "SAM= 17 Waters= 7000 2000 2000\n",
        "SAM= 17 Waters= 8000 2000 2000\n",
        "SAM= 17 Waters= 9000 2000 2000\n",
        "SAM= 17 Waters= 10000 2000 2000\n",
        "nan\n",
        "nan\n"
       ]
      }
     ],
     "prompt_number": 296
    },
    {
     "cell_type": "code",
     "collapsed": false,
     "input": [
      "# We print the values to see if they are consecutive\n",
      "\n",
      "j=SAMsToInsert[0]\n",
      "k=WatersToInsert\n",
      "print j,k\n",
      "print angles[(j,k)]\n",
      "print anglesToInsert[(j,k)]"
     ],
     "language": "python",
     "metadata": {},
     "outputs": [
      {
       "output_type": "stream",
       "stream": "stdout",
       "text": [
        "17 8000\n",
        "[nan, nan, nan, nan, nan, nan, 157.89636715500001, 151.91816475799999, 146.404993182, 158.011378949, 152.04838064899999, 150.24352181699999, 139.73882653199999, 141.16010769900001, 136.149266635, 129.96435608900001, 133.30180932600001, 124.105222924, 117.435568057, 123.062621302, 114.76748760300001, 115.284286081, 112.823631389, 114.684169712, 113.17865507499999, 113.34289850099999, 112.139691785, 109.869569963, 111.762264289, 111.28149214600001, 110.857393699, 110.44145873799999, 109.971639279, 109.72139805, 109.063514879, 108.688752972, 108.91551250400001, 108.234370392, 108.38936171500001, 108.32764235, 108.081599, 108.12359847800001, 107.82089586799999, 107.81570243900001, 107.095250165, 107.117932904, 107.05518062500001, 107.253581412, 105.966120053, 106.23488867499999, 106.795582756, 106.880733533, 107.31789867400001, 107.193316048, 106.87701503300001, 106.857484937, 106.679006195, 106.450788174, 106.48447237800001, 107.32733752199999, 106.950987365, 106.08937106099999, 106.61967457900001, 106.66065652899999, 106.01868480100001, 105.984199007, 106.157456407, 106.342444801, 107.022236261, 106.69942503199999, 106.554297795, 106.280981711, 106.370142278, 106.405570525, 106.369377693, 106.25617549899999, 105.716634038, 105.446472101, 105.327662054, 104.989110819, 105.08810031, 105.368904035, 105.23028672300001, 105.370334098, 105.505149352, 105.37022142799999, 105.473282287, 105.544025401, 105.408620533, 105.187374828, 105.398517438, 105.42317264, 105.322129976, 105.315597341, 105.14923260400001, 105.150709503, 104.619515436, 104.715485007, 105.62585915, 105.616771489, 105.499128552, 105.337882771, 105.445217507, 105.575808854, 105.582434546, 105.749014942, 105.749904492, 105.312145402, 105.390413462, 105.304590721, 105.13066734100001, 104.709896517, 105.140371511, 105.347733623, 105.005232521, 105.287503745, 105.17586905899999, 104.979109851, 105.237443931, 105.124666772, nan, nan, nan, nan, nan, nan, nan, nan, nan, nan, nan, nan, nan, nan, nan, nan, nan, nan, nan, nan, nan, nan, nan, nan, nan, nan, nan, nan, nan, nan, nan, nan, nan, nan, nan, nan, nan, nan, nan, nan, nan, nan, nan, nan, nan, nan, nan, nan, nan, nan, nan, nan, nan, nan, nan, nan, nan, nan, nan, nan, nan, nan, nan, nan, nan, nan, nan, nan, nan, nan, nan, nan, nan, nan, nan, nan, nan, nan, nan, nan]\n",
        "[105.233977052, 105.014753924, 105.140069771, 105.229059214, 104.765218957, 104.683855471, 105.00540718000001, 105.577265329, 106.150668934, 105.93469029800001, 106.34310436200001, 106.202404898, 106.14745161, 105.54853796, 105.62890206599999, 105.687155662, 105.645574541, 105.775366455, 105.379454283, 105.495604177, 105.168055056, 104.71319706200001, 104.615525131, 104.341990608, 104.558295229, 104.575527834, 104.744869149, 104.786158528, 104.663736614, 105.086648923, 104.64120765200001, 105.106792, 105.12336334299999, 105.30909448200001, 105.185396834, 105.077192666, 104.96759120999999, 104.653037635, 104.714267882, 104.765122936, nan, nan, nan, nan, nan, nan, nan, nan, nan, nan, nan, nan, nan, nan, nan, nan, nan, nan, nan, nan, nan, nan, nan, nan, nan, nan, nan, nan, nan, nan, nan, nan, nan, nan, nan, nan, nan, nan, nan, nan, nan, nan, nan, nan, nan, nan, nan, nan, nan, nan, nan, nan, nan, nan, nan, nan, nan, nan, nan, nan, nan, nan, nan, nan, nan, nan, nan, nan, nan, nan, nan, nan, nan, nan, nan, nan, nan, nan, nan, nan, nan, nan, nan, nan, nan, nan, nan, nan, nan, nan, nan, nan, nan, nan, nan, nan, nan, nan, nan, nan, nan, nan, nan, nan, nan, nan, nan, nan, nan, nan, nan, nan, nan, nan, nan, nan, nan, nan, nan, nan, nan, nan, nan, nan, nan, nan, nan, nan, nan, nan, nan, nan, nan, nan, nan, nan, nan, nan, nan, nan, nan, nan, nan, nan, nan, nan, nan, nan, nan, nan, nan, nan, nan, nan, nan, nan, nan, nan, nan, nan]\n"
       ]
      }
     ],
     "prompt_number": 297
    },
    {
     "cell_type": "code",
     "collapsed": false,
     "input": [
      "# We check how long the value liosts are\n",
      "j=SAMsToInsert[0]\n",
      "#k=WatersToInsert\n",
      "k=WatersToInsertList[0]\n",
      "\n",
      "print \"len\",len(angles[(j,k)]), len(anglesToInsert[(j,k)])\n",
      "print \"angles\",angles[(j,k)][0],angles[(j,k)][119],angles[(j,k)][-1]\n",
      "print \"anglesToInsert\",anglesToInsert[(j,k)][0],anglesToInsert[(j,k)][39], anglesToInsert[(j,k)][-1]\n",
      "\n",
      "print \"radii\",radii[(j,k)][0],radii[(j,k)][119],radii[(j,k)][-1]\n",
      "print \"radiiToInsert\",radiiToInsert[(j,k)][0],radiiToInsert[(j,k)][39], radiiToInsert[(j,k)][-1]\n",
      "print angles[(j,k)][0:121]\n",
      "print anglesToInsert[(j,k)][0:41]"
     ],
     "language": "python",
     "metadata": {},
     "outputs": [
      {
       "output_type": "stream",
       "stream": "stdout",
       "text": [
        "len 200 200\n",
        "angles nan 107.243655934 nan\n",
        "anglesToInsert 107.180873216 105.626776206 nan\n",
        "radii nan 3.9102942661 nan\n",
        "radiiToInsert 3.91268379048 3.98046933751 nan\n",
        "[nan, nan, nan, 171.99694069, nan, 154.80618324400001, 157.59744905700001, 165.20875978199999, 152.00822433299999, 143.409545893, 136.57706519600001, 133.18314000500001, 129.782244064, 131.025051437, 125.24680418, 123.854463412, 123.24744035800001, 116.532736317, 116.72897792800001, 114.582585365, 110.920744146, 114.946934247, 112.19343445299999, 112.636464906, 111.277391185, 111.101227494, 110.34215894899999, 109.859218661, 109.693976843, 109.410616838, 109.08028533300001, 108.623535156, 108.826521426, 108.40196053699999, 108.136559658, 108.376887411, 108.11674501900001, 108.427893324, 108.699105156, 108.318525791, 107.985252293, 107.633367972, 107.673188657, 107.930912655, 108.072251381, 108.311783084, 108.443265142, 107.773334104, 107.91327557699999, 107.18310522100001, 107.658521239, 107.66215237599999, 107.67104550400001, 107.546849223, 107.641013903, 107.71238205100001, 107.654359258, 107.859921091, 107.693737982, 107.96380304, 108.10751454299999, 108.18398666, 107.485754994, 107.749349204, 107.732975747, 108.43804534900001, 108.361723782, 108.194209015, 108.35022649299999, 107.916213898, 107.957963826, 108.04819369400001, 107.997856535, 107.647233175, 107.57303429, 107.222004711, 106.45816598, 106.54436913000001, 106.109494661, 106.061452742, 105.820018318, 105.84411558799999, 105.768221651, 105.82465167399999, 106.47756980699999, 106.78628264699999, 106.62103444500001, 106.70618256900001, 106.79891668099999, 106.353172728, 106.30519611, 106.659397872, 106.604335218, 106.275776389, 106.513847345, 105.539488706, 106.46834880500001, 106.181335899, 106.476231779, 107.358559419, 106.928652352, 106.757520136, 106.67632953, 106.37005431999999, 106.78843181400001, 105.862935812, 105.987614437, 105.499083736, 105.37440296699999, 105.628327732, 106.13538483400001, 106.276089391, 106.653699635, 105.854902866, 106.216372737, 106.298983564, 106.276647775, 107.053096908, 107.41300079600001, 107.243655934, nan]\n",
        "[107.18087321599999, 106.972399825, 106.77154389099999, 106.63326350299999, 106.956175868, 107.173121912, 106.82289702200001, 106.654668864, 106.450987645, 106.599433312, 106.754066845, 106.58009173400001, 106.45402152299999, 106.613967903, 106.84888238400001, 106.346684651, 106.122847445, 106.126119308, 106.271134754, 105.57067672300001, 106.020068674, 105.913614686, 105.53556354, 105.476827085, 105.43370861699999, 105.36574758, 105.941323302, 106.421049072, 106.86709234999999, 106.76989004000001, 106.655382893, 106.705162133, 106.546363177, 105.922524083, 105.971560032, 105.47073133000001, 105.518945993, 106.01830064400001, 105.886361498, 105.626776206, nan]\n"
       ]
      }
     ],
     "prompt_number": 298
    },
    {
     "cell_type": "code",
     "collapsed": false,
     "input": [
      "# We subtitute the \"new\" values with the \"old\" ones (from new file to old file):\n",
      "# 1) we delete the 'nan' values at the end of the old results\n",
      "# 2) we delete the 'nan' values at the end of the new results\n",
      "# 3) we merge the remaining results\n",
      "# 4) we add 'nan' values at the end\n",
      "\n",
      "numberOld=120 #number of old values to keep\n",
      "numberNew=40 #number of new values to keep\n",
      "numberNans=200-numberOld-numberNew #number of values to create\n",
      "\n",
      "# We create a list with the needed 'nan' values\n",
      "NanValues=np.zeros(numberNans)\n",
      "for i in range(len(NanValues)):\n",
      "    NanValues[i]='nan'\n",
      "NanValues=list(NanValues)\n",
      "\n",
      "for b in SAMsToInsert:\n",
      "#for b in [0]:\n",
      "    k = 0\n",
      "    for c in WatersToInsertList:\n",
      "    #for c in [WatersToInsert]:\n",
      "        z = b, c\n",
      "        \n",
      "        angles[z] = angles[z][0:numberOld] + anglesToInsert[z][0:numberNew] + NanValues\n",
      "        radii[z] = radii[z][0:numberOld] + radiiToInsert[z][0:numberNew] + NanValues\n",
      "        \n",
      "j=SAMsToInsert[0]\n",
      "k=WatersToInsert \n",
      "print angles[(j,k)][0]\n",
      "print radii[(j,k)][0]"
     ],
     "language": "python",
     "metadata": {},
     "outputs": [
      {
       "output_type": "stream",
       "stream": "stdout",
       "text": [
        "nan\n",
        "nan\n"
       ]
      }
     ],
     "prompt_number": 299
    },
    {
     "cell_type": "code",
     "collapsed": false,
     "input": [
      "# Plot for testing results\n",
      "\n",
      "b=SAMsToInsert[0]\n",
      "c=WatersToInsert\n",
      "#c=3000\n",
      "\n",
      "# We create an array named \"t\" with the time values. We use the length of the longest simulation.\n",
      "maxlength=100 #maximum length in ns\n",
      "t = np.zeros(2*maxlength)\n",
      "i=0\n",
      "for d in frange(0, maxlength, 0.5):\n",
      "    t[i] = d\n",
      "    i = i + 1\n",
      "##############################################################################\n",
      "\n",
      "# This function allows to use ranges, just as the built-in function range(), but with float arguments.\n",
      "# Taken from \"http://code.activestate.com/recipes/66472-frange-a-range-function-with-float-increments/\"\n",
      "def frange(start, end=None, inc=None):\n",
      "    if end == None:\n",
      "        end = start + 0.0\n",
      "        start = 0.0\n",
      "\n",
      "    if inc == None:\n",
      "        inc = 1.0\n",
      "\n",
      "    L = []\n",
      "    while 1:\n",
      "        next = start + len(L) * inc\n",
      "        if inc > 0 and next >= end:\n",
      "            break\n",
      "        elif inc < 0 and next <= end:\n",
      "            break\n",
      "        L.append(next)\n",
      "    return L\n",
      "##############################################################################\n",
      "print len(theta), len(t)\n",
      "\n",
      "\n",
      "theta = array(angles[(b, c)])\n",
      "rbase = array(radii[(b, c)])\n",
      "nametheta = \"thetas%sw%s.png\" % (b,c)\n",
      "namebaserad = \"rads%sw%s.png\" % (b,c)\n",
      "\n",
      "\n",
      "#PLOT FOR CONTACT ANGLE OF SAM 0% & 1000 WATER MOLECULES. (Also saved to file)\n",
      "#plt.plot(t,theta,'ro')\n",
      "plt.plot(t,theta)\n",
      "plt.xlabel('time [ns]')\n",
      "plt.ylabel(r'$\\theta$ [deg]')\n",
      "plt.suptitle(r'Contact Angle $\\theta$ vs. Time', fontsize=14, fontweight='bold')\n",
      "#plt.title(r'Contact Angle $\\theta$ vs. Time')\n",
      "plt.text(31, 150, 'SAM '+str(b)+'%, Water '+str(c)+' molec.',style='italic',\n",
      "        bbox={'facecolor':'red', 'alpha':0.5, 'pad':10})\n",
      "plt.grid(True)\n",
      "#plt.axis([0, 60, 85, 150])\n",
      "#pylab.savefig(nametheta)\n",
      "plt.show()\n",
      "\n",
      "#PLOT FOR BASE RADIUS OF SAM 0% & 1000 WATER MOLECULES.(Also saved to file)\n",
      "#plt.plot(t,rbase,'ro')\n",
      "plt.plot(t,rbase)\n",
      "plt.xlabel('time [ns]')\n",
      "plt.ylabel(r'R$\\ _{BASE} $ [nm]')\n",
      "plt.suptitle(r'Base Radius R$\\ _{BASE}$ vs. Time', fontsize=14, fontweight='bold')\n",
      "#plt.title(r'Contact Angle $\\theta$ vs. Time')\n",
      "plt.text(31, 1.0, 'SAM '+str(b)+'%, Water '+str(c)+' molec.',style='italic', bbox={'facecolor':'red', 'alpha':0.5, 'pad':10})\n",
      "plt.grid(True)\n",
      "#plt.axis([0, 60, 0, 2])\n",
      "#pylab.savefig(namebaserad)\n",
      "plt.show()"
     ],
     "language": "python",
     "metadata": {},
     "outputs": [
      {
       "output_type": "stream",
       "stream": "stdout",
       "text": [
        "2000 200\n"
       ]
      },
      {
       "metadata": {},
       "output_type": "display_data",
       "png": "[encoded data removed]",
       "text": [
        "<matplotlib.figure.Figure at 0x10ed79110>"
       ]
      },
      {
       "metadata": {},
       "output_type": "display_data",
       "png": "[encoded data removed]",
       "text": [
        "<matplotlib.figure.Figure at 0x10e577e50>"
       ]
      }
     ],
     "prompt_number": 300
    },
    {
     "cell_type": "code",
     "collapsed": false,
     "input": [
      "# And now we write all the values (old and new subtituted ones) to the \"old\" files\n",
      "\n",
      "os.chdir(FolderOldWithNew)\n",
      "\n",
      "start_time=0\n",
      "end_time=100\n",
      "\n",
      "for b in SAMsToInsert:\n",
      "#for b in [0]:\n",
      "    \n",
      "    #txtoutput='Contact_Angles_WaterPeak_s'+str(b)+'.txt'\n",
      "    #txtoutput2='Contact_Angles2_WaterPeak_s'+str(b)+'.txt'\n",
      "    #txtoutput='Contact_Angles_MiddlePoint_s'+str(b)+'.txt'\n",
      "    #txtoutput2='Contact_Angles2_MiddlePoint_s'+str(b)+'.txt'\n",
      "    #txtoutput='Contact_Angles_SAMPeak_s'+str(b)+'.txt'\n",
      "    #txtoutput2='Contact_Angles2_SAMPeak_s'+str(b)+'.txt'\n",
      "    txtoutput='Contact_Angles_GDS_s'+str(b)+'.txt'\n",
      "    txtoutput2='Contact_Angles2_GDS_s'+str(b)+'.txt'\n",
      "\n",
      "    with open(txtoutput, 'w') as myfile, open(txtoutput2, 'w') as myfile2:\n",
      "\n",
      "        # We write the first line of the output file: the titles of the 3 columns of data\n",
      "        print >> myfile, '{0}  {1}\t{2}'.format('File', 'Contact Angle', 'Base Radius')\n",
      "        print >> myfile2, '{0}\t{1}'.format('Contact Angle', 'Base Radius')\n",
      "\n",
      "        for c in Waters:\n",
      "        #for c in [WatersToInsert]:\n",
      "    \n",
      "            print >> myfile, '             '\n",
      "            print >> myfile2, '{0}\t{1} {2}'.format('#File:', b, c)\n",
      "            \n",
      "            theta2 = array(angles[(b, c)])\n",
      "            rbase2 = array(radii[(b, c)])\n",
      "            \n",
      "            k=0\n",
      "            for d in frange(start_time, end_time, 0.5):\n",
      "            # The results are printed to the opened file.\n",
      "                l = d + 0.5\n",
      "                l = str(l)\n",
      "                d = str(d)\n",
      "                filename = 'g_rad_dmap_%dpc_w%d_%sns_%sns.xvg'%(b,c,d,l, )\n",
      "                print >> myfile, '{0}  {1}\t{2}'.format(filename, theta2[k], rbase2[k])\n",
      "                print >> myfile2, '{0}\t{1}'.format(theta2[k], rbase2[k])\n",
      "                \n",
      "                k=k+1"
     ],
     "language": "python",
     "metadata": {},
     "outputs": [],
     "prompt_number": 301
    },
    {
     "cell_type": "code",
     "collapsed": false,
     "input": [
      "ResultsFolder='/Users/burbol2/Dropbox/Apps/Computable/Final_Results_CAngles/'\n",
      "os.system('cp '+str(FolderOldWithNew) +'/'+str(txtoutput)+ ' '+str(ResultsFolder))\n",
      "os.system('cp '+str(FolderOldWithNew) +'/'+str(txtoutput2)+ ' '+str(ResultsFolder))\n",
      "os.system('cp '+str(FolderOldWithNew) +'/'+str(txtoutput)+ ' '+str(FolderOldFile))\n",
      "os.system('cp '+str(FolderOldWithNew) +'/'+str(txtoutput2)+ ' '+str(FolderOldFile))"
     ],
     "language": "python",
     "metadata": {},
     "outputs": [
      {
       "metadata": {},
       "output_type": "pyout",
       "prompt_number": 302,
       "text": [
        "0"
       ]
      }
     ],
     "prompt_number": 302
    },
    {
     "cell_type": "code",
     "collapsed": false,
     "input": [
      "ResultsFolder='/Users/burbol2/Dropbox/Apps/Computable/Final_Results_CAngles/'\n",
      "print('cp '+str(FolderOldWithNew) +'/'+str(txtoutput)+ ' '+str(ResultsFolder))\n",
      "print('cp '+str(FolderOldWithNew) +'/'+str(txtoutput2)+ ' '+str(ResultsFolder))\n",
      "print('cp '+str(FolderOldWithNew) +'/'+str(txtoutput)+ ' '+str(FolderOldFile))\n",
      "print('cp '+str(FolderOldWithNew) +'/'+str(txtoutput2)+ ' '+str(FolderOldFile))"
     ],
     "language": "python",
     "metadata": {},
     "outputs": [
      {
       "output_type": "stream",
       "stream": "stdout",
       "text": [
        "cp /Users/burbol2/Desktop/Contact_Angles_GDS_s17.txt /Users/burbol2/Dropbox/Apps/Computable/Final_Results_CAngles/\n",
        "cp /Users/burbol2/Desktop/Contact_Angles2_GDS_s17.txt /Users/burbol2/Dropbox/Apps/Computable/Final_Results_CAngles/\n",
        "cp /Users/burbol2/Desktop/Contact_Angles_GDS_s17.txt /Volumes/UNI/SHELDON/CLOSEDsheldon/eixeres/files_for_laila/g_rad_densmaps_all/\n",
        "cp /Users/burbol2/Desktop/Contact_Angles2_GDS_s17.txt /Volumes/UNI/SHELDON/CLOSEDsheldon/eixeres/files_for_laila/g_rad_densmaps_all/\n"
       ]
      }
     ],
     "prompt_number": 303
    },
    {
     "cell_type": "code",
     "collapsed": false,
     "input": [],
     "language": "python",
     "metadata": {},
     "outputs": []
    }
   ],
   "metadata": {}
  }
 ]
}