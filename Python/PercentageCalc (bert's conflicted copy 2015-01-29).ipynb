{
 "metadata": {
  "name": ""
 },
 "nbformat": 3,
 "nbformat_minor": 0,
 "worksheets": [
  {
   "cells": [
    {
     "cell_type": "code",
     "collapsed": false,
     "input": [
      "%pylab inline"
     ],
     "language": "python",
     "metadata": {},
     "outputs": [
      {
       "output_type": "stream",
       "stream": "stdout",
       "text": [
        "Populating the interactive namespace from numpy and matplotlib\n"
       ]
      }
     ],
     "prompt_number": 1
    },
    {
     "cell_type": "code",
     "collapsed": false,
     "input": [
      "#!/usr/bin/env python\n",
      "\n",
      "import numpy as np\n",
      "import math\n",
      "##import matplotlib as mpl\n",
      "##mpl.use('Agg')\n",
      "import matplotlib.pyplot as plt\n",
      "import sys"
     ],
     "language": "python",
     "metadata": {},
     "outputs": [],
     "prompt_number": 2
    },
    {
     "cell_type": "code",
     "collapsed": false,
     "input": [
      "###################    SET THE PERCENTAGE MANUALLY     #################### \n",
      "####  FIRST, WE DETERMINE THE NUMBER OF CARBONS AND OXYGENS NEEDED  ####\n",
      "percentage = 20\n",
      "percentage = percentage/100.0\n",
      "zPos=21.680\n",
      "# Here we define the functions and variables that we will use to find the number of carbons and oxygens.\n",
      "dummy, Nx, Ny, NoxyTotal, Exactpc = False, 0, 0, 0, 0\n",
      "def goodratio(x):\n",
      "    if (abs(round(x,2)-round(x)))<=0.01 and round(x**2)>=7:\n",
      "        return True\n",
      "    else:\n",
      "        return False  \n",
      "def searchratio(percentage):\n",
      "    for n in range(2,100):\n",
      "        for m in range(2,100):\n",
      "            NoxyInt = sqrt((n*m*8.*percentage)/(1-percentage))\n",
      "            if goodratio(NoxyInt):\n",
      "                NoxyTotal = round(NoxyInt**2) #total number of oxygens\n",
      "                Nx = m  # Number of carbons in x-direction = Nx\n",
      "                Ny = n*8  # Number of carbons in y-direction = Ny\n",
      "                Exactpc = round(NoxyInt**2,6)/(n*m*8 + round(NoxyInt**2,6)) # Exact percentage\n",
      "                #return True\n",
      "                return Nx, Ny, NoxyTotal, Exactpc\n",
      "    print \"Desired ratio not found. Check returned values!!\"\n",
      "    return Nx, Ny, NoxyTotal, Exactpc \n",
      "\n",
      "# This line is where the number of oxygens and carbons is set!!!\n",
      "Nx, Ny, NoxyTotal, Exactpc = searchratio(percentage)   \n",
      "Noxy = int(sqrt(NoxyTotal)) # number of oxygens in each direction --> Nox**2 = NoxTotal\n",
      "\n",
      "\n",
      "#Here we check if the particle numbers found really produce the desired percentage\n",
      "print dummy, Nx, Ny, NoxyTotal, Exactpc\n",
      "print \"total number of oxygens = \", NoxyTotal\n",
      "print \"total number of carbons = \",Nx*Ny\n",
      "print \"Number of carbons in x-direction = Nx = \", Nx\n",
      "print \"Number of carbons in y-direction = Ny = \", Ny\n",
      "print \"Exact percentage = \", Exactpc\n",
      "Roundpc = round(Exactpc,3) # Rounded percentage\n",
      "print \"Rounded percentage = \", Roundpc\n"
     ],
     "language": "python",
     "metadata": {},
     "outputs": [
      {
       "output_type": "stream",
       "stream": "stdout",
       "text": [
        "False 4 16 16.0 0.2\n",
        "total number of oxygens =  16.0\n",
        "total number of carbons =  64\n",
        "Number of carbons in x-direction = Nx =  4\n",
        "Number of carbons in y-direction = Ny =  16\n",
        "Exact percentage =  0.2\n",
        "Rounded percentage =  0.2\n"
       ]
      }
     ],
     "prompt_number": 3
    },
    {
     "cell_type": "code",
     "collapsed": false,
     "input": [
      "for n in range(1,49):\n",
      "    ratio = n/(80.)\n",
      "    print \"for n = \", n, \"the percentage is = \", ratio*100"
     ],
     "language": "python",
     "metadata": {},
     "outputs": [
      {
       "output_type": "stream",
       "stream": "stdout",
       "text": [
        "for n =  1 the percentage is =  1.25\n",
        "for n =  2 the percentage is =  2.5\n",
        "for n =  3 the percentage is =  3.75\n",
        "for n =  4 the percentage is =  5.0\n",
        "for n =  5 the percentage is =  6.25\n",
        "for n =  6 the percentage is =  7.5\n",
        "for n =  7 the percentage is =  8.75\n",
        "for n =  8 the percentage is =  10.0\n",
        "for n =  9 the percentage is =  11.25\n",
        "for n =  10 the percentage is =  12.5\n",
        "for n =  11 the percentage is =  13.75\n",
        "for n =  12 the percentage is =  15.0\n",
        "for n =  13 the percentage is =  16.25\n",
        "for n =  14 the percentage is =  17.5\n",
        "for n =  15 the percentage is =  18.75\n",
        "for n =  16 the percentage is =  20.0\n",
        "for n =  17 the percentage is =  21.25\n",
        "for n =  18 the percentage is =  22.5\n",
        "for n =  19 the percentage is =  23.75\n",
        "for n =  20 the percentage is =  25.0\n",
        "for n =  21 the percentage is =  26.25\n",
        "for n =  22 the percentage is =  27.5\n",
        "for n =  23 the percentage is =  28.75\n",
        "for n =  24 the percentage is =  30.0\n",
        "for n =  25 the percentage is =  31.25\n",
        "for n =  26 the percentage is =  32.5\n",
        "for n =  27 the percentage is =  33.75\n",
        "for n =  28 the percentage is =  35.0\n",
        "for n =  29 the percentage is =  36.25\n",
        "for n =  30 the percentage is =  37.5\n",
        "for n =  31 the percentage is =  38.75\n",
        "for n =  32 the percentage is =  40.0\n",
        "for n =  33 the percentage is =  41.25\n",
        "for n =  34 the percentage is =  42.5\n",
        "for n =  35 the percentage is =  43.75\n",
        "for n =  36 the percentage is =  45.0\n",
        "for n =  37 the percentage is =  46.25\n",
        "for n =  38 the percentage is =  47.5\n",
        "for n =  39 the percentage is =  48.75\n",
        "for n =  40 the percentage is =  50.0\n",
        "for n =  41 the percentage is =  51.25\n",
        "for n =  42 the percentage is =  52.5\n",
        "for n =  43 the percentage is =  53.75\n",
        "for n =  44 the percentage is =  55.0\n",
        "for n =  45 the percentage is =  56.25\n",
        "for n =  46 the percentage is =  57.5\n",
        "for n =  47 the percentage is =  58.75\n",
        "for n =  48 the percentage is =  60.0\n"
       ]
      }
     ],
     "prompt_number": 4
    },
    {
     "cell_type": "code",
     "collapsed": false,
     "input": [
      "for p in range(1,60):\n",
      "    p = p/100.\n",
      "    z=(1-float(p))/float(p)\n",
      "    if (abs(round(z,2)-round(z)))<=0.1:\n",
      "        print z, p*100"
     ],
     "language": "python",
     "metadata": {},
     "outputs": [
      {
       "output_type": "stream",
       "stream": "stdout",
       "text": [
        "99.0 1.0\n",
        "49.0 2.0\n",
        "24.0 4.0\n",
        "19.0 5.0\n",
        "9.0 10.0\n",
        "8.09090909091 11.0\n",
        "4.0 20.0\n",
        "3.0 25.0\n",
        "2.0303030303 33.0\n",
        "1.94117647059 34.0\n",
        "1.08333333333 48.0\n",
        "1.04081632653 49.0\n",
        "1.0 50.0\n",
        "0.960784313725 51.0\n",
        "0.923076923077 52.0\n"
       ]
      }
     ],
     "prompt_number": 5
    },
    {
     "cell_type": "code",
     "collapsed": false,
     "input": [
      "percentage = 33\n",
      "p = percentage/100.0\n",
      "for i in range(1,10):    \n",
      "    nxnySearch = i*80*p/(1-p)\n",
      "    if (abs(round(nxnySearch,2)-round(nxnySearch)))<=0.01:\n",
      "        print nxny, i\n",
      "        nxny = nxnySearch\n",
      "print factors(int(nxny))\n",
      "print int(nxny)"
     ],
     "language": "python",
     "metadata": {},
     "outputs": [
      {
       "ename": "NameError",
       "evalue": "name 'nxny' is not defined",
       "output_type": "pyerr",
       "traceback": [
        "\u001b[0;31m---------------------------------------------------------------------------\u001b[0m\n\u001b[0;31mNameError\u001b[0m                                 Traceback (most recent call last)",
        "\u001b[0;32m<ipython-input-6-7a78aba1e89c>\u001b[0m in \u001b[0;36m<module>\u001b[0;34m()\u001b[0m\n\u001b[1;32m      4\u001b[0m     \u001b[0mnxnySearch\u001b[0m \u001b[0;34m=\u001b[0m \u001b[0mi\u001b[0m\u001b[0;34m*\u001b[0m\u001b[0;36m80\u001b[0m\u001b[0;34m*\u001b[0m\u001b[0mp\u001b[0m\u001b[0;34m/\u001b[0m\u001b[0;34m(\u001b[0m\u001b[0;36m1\u001b[0m\u001b[0;34m-\u001b[0m\u001b[0mp\u001b[0m\u001b[0;34m)\u001b[0m\u001b[0;34m\u001b[0m\u001b[0m\n\u001b[1;32m      5\u001b[0m     \u001b[0;32mif\u001b[0m \u001b[0;34m(\u001b[0m\u001b[0mabs\u001b[0m\u001b[0;34m(\u001b[0m\u001b[0mround\u001b[0m\u001b[0;34m(\u001b[0m\u001b[0mnxnySearch\u001b[0m\u001b[0;34m,\u001b[0m\u001b[0;36m2\u001b[0m\u001b[0;34m)\u001b[0m\u001b[0;34m-\u001b[0m\u001b[0mround\u001b[0m\u001b[0;34m(\u001b[0m\u001b[0mnxnySearch\u001b[0m\u001b[0;34m)\u001b[0m\u001b[0;34m)\u001b[0m\u001b[0;34m)\u001b[0m\u001b[0;34m<=\u001b[0m\u001b[0;36m0.01\u001b[0m\u001b[0;34m:\u001b[0m\u001b[0;34m\u001b[0m\u001b[0m\n\u001b[0;32m----> 6\u001b[0;31m         \u001b[0;32mprint\u001b[0m \u001b[0mnxny\u001b[0m\u001b[0;34m,\u001b[0m \u001b[0mi\u001b[0m\u001b[0;34m\u001b[0m\u001b[0m\n\u001b[0m\u001b[1;32m      7\u001b[0m         \u001b[0mnxny\u001b[0m \u001b[0;34m=\u001b[0m \u001b[0mnxnySearch\u001b[0m\u001b[0;34m\u001b[0m\u001b[0m\n\u001b[1;32m      8\u001b[0m \u001b[0;32mprint\u001b[0m \u001b[0mfactors\u001b[0m\u001b[0;34m(\u001b[0m\u001b[0mint\u001b[0m\u001b[0;34m(\u001b[0m\u001b[0mnxny\u001b[0m\u001b[0;34m)\u001b[0m\u001b[0;34m)\u001b[0m\u001b[0;34m\u001b[0m\u001b[0m\n",
        "\u001b[0;31mNameError\u001b[0m: name 'nxny' is not defined"
       ]
      }
     ],
     "prompt_number": 6
    },
    {
     "cell_type": "code",
     "collapsed": false,
     "input": [
      "def factors(n):    \n",
      "    return set(reduce(list.__add__, \n",
      "                ([i, n//i] for i in range(1, int(n**0.5) + 1) if n % i == 0)))"
     ],
     "language": "python",
     "metadata": {},
     "outputs": [],
     "prompt_number": 7
    },
    {
     "cell_type": "code",
     "collapsed": false,
     "input": [
      "factors(76)"
     ],
     "language": "python",
     "metadata": {},
     "outputs": [
      {
       "metadata": {},
       "output_type": "pyout",
       "prompt_number": 8,
       "text": [
        "{1, 2, 4, 19, 38, 76}"
       ]
      }
     ],
     "prompt_number": 8
    },
    {
     "cell_type": "code",
     "collapsed": false,
     "input": [
      "def divisorGenerator(n):\n",
      "    large_divisors = []\n",
      "    for i in xrange(1, int(math.sqrt(n) + 1)):\n",
      "        if n % i is 0:\n",
      "            yield i\n",
      "            if i is not n / i:\n",
      "                large_divisors.insert(0, n / i)\n",
      "    for divisor in large_divisors:\n",
      "        yield divisor\n",
      "\n",
      "print list(divisorGenerator(18))"
     ],
     "language": "python",
     "metadata": {},
     "outputs": [
      {
       "output_type": "stream",
       "stream": "stdout",
       "text": [
        "[1, 2, 3, 6, 9, 18]\n"
       ]
      }
     ],
     "prompt_number": 9
    },
    {
     "cell_type": "code",
     "collapsed": false,
     "input": [
      "divisors=list(divisorGenerator(80))\n",
      "for i in divisors[1:]:\n",
      "    for j in divisors[1:]:\n",
      "        if i*j <=80:\n",
      "            print \"i*j=\", i*j, \" for i=\", i, \" and j=\", j"
     ],
     "language": "python",
     "metadata": {},
     "outputs": [
      {
       "output_type": "stream",
       "stream": "stdout",
       "text": [
        "i*j= 4  for i= 2  and j= 2\n",
        "i*j= 8  for i= 2  and j= 4\n",
        "i*j= 10  for i= 2  and j= 5\n",
        "i*j= 16  for i= 2  and j= 8\n",
        "i*j= 20  for i= 2  and j= 10\n",
        "i*j= 32  for i= 2  and j= 16\n",
        "i*j= 40  for i= 2  and j= 20\n",
        "i*j= 80  for i= 2  and j= 40\n",
        "i*j= 8  for i= 4  and j= 2\n",
        "i*j= 16  for i= 4  and j= 4\n",
        "i*j= 20  for i= 4  and j= 5\n",
        "i*j= 32  for i= 4  and j= 8\n",
        "i*j= 40  for i= 4  and j= 10\n",
        "i*j= 64  for i= 4  and j= 16\n",
        "i*j= 80  for i= 4  and j= 20\n",
        "i*j= 10  for i= 5  and j= 2\n",
        "i*j= 20  for i= 5  and j= 4\n",
        "i*j= 25  for i= 5  and j= 5\n",
        "i*j= 40  for i= 5  and j= 8\n",
        "i*j= 50  for i= 5  and j= 10\n",
        "i*j= 80  for i= 5  and j= 16\n",
        "i*j= 16  for i= 8  and j= 2\n",
        "i*j= 32  for i= 8  and j= 4\n",
        "i*j= 40  for i= 8  and j= 5\n",
        "i*j= 64  for i= 8  and j= 8\n",
        "i*j= 80  for i= 8  and j= 10\n",
        "i*j= 20  for i= 10  and j= 2\n",
        "i*j= 40  for i= 10  and j= 4\n",
        "i*j= 50  for i= 10  and j= 5\n",
        "i*j= 80  for i= 10  and j= 8\n",
        "i*j= 32  for i= 16  and j= 2\n",
        "i*j= 64  for i= 16  and j= 4\n",
        "i*j= 80  for i= 16  and j= 5\n",
        "i*j= 40  for i= 20  and j= 2\n",
        "i*j= 80  for i= 20  and j= 4\n",
        "i*j= 80  for i= 40  and j= 2\n"
       ]
      }
     ],
     "prompt_number": 10
    },
    {
     "cell_type": "code",
     "collapsed": false,
     "input": [
      "for n in range(1,60):\n",
      "    p = n/100.0\n",
      "    i = 1./p\n",
      "    print \"for percentage = \",n , \"i is = \", i"
     ],
     "language": "python",
     "metadata": {},
     "outputs": [
      {
       "output_type": "stream",
       "stream": "stdout",
       "text": [
        "for percentage =  1 i is =  100.0\n",
        "for percentage =  2 i is =  50.0\n",
        "for percentage =  3 i is =  33.3333333333\n",
        "for percentage =  4 i is =  25.0\n",
        "for percentage =  5 i is =  20.0\n",
        "for percentage =  6 i is =  16.6666666667\n",
        "for percentage =  7 i is =  14.2857142857\n",
        "for percentage =  8 i is =  12.5\n",
        "for percentage =  9 i is =  11.1111111111\n",
        "for percentage =  10 i is =  10.0\n",
        "for percentage =  11 i is =  9.09090909091\n",
        "for percentage =  12 i is =  8.33333333333\n",
        "for percentage =  13 i is =  7.69230769231\n",
        "for percentage =  14 i is =  7.14285714286\n",
        "for percentage =  15 i is =  6.66666666667\n",
        "for percentage =  16 i is =  6.25\n",
        "for percentage =  17 i is =  5.88235294118\n",
        "for percentage =  18 i is =  5.55555555556\n",
        "for percentage =  19 i is =  5.26315789474\n",
        "for percentage =  20 i is =  5.0\n",
        "for percentage =  21 i is =  4.7619047619\n",
        "for percentage =  22 i is =  4.54545454545\n",
        "for percentage =  23 i is =  4.34782608696\n",
        "for percentage =  24 i is =  4.16666666667\n",
        "for percentage =  25 i is =  4.0\n",
        "for percentage =  26 i is =  3.84615384615\n",
        "for percentage =  27 i is =  3.7037037037\n",
        "for percentage =  28 i is =  3.57142857143\n",
        "for percentage =  29 i is =  3.44827586207\n",
        "for percentage =  30 i is =  3.33333333333\n",
        "for percentage =  31 i is =  3.22580645161\n",
        "for percentage =  32 i is =  3.125\n",
        "for percentage =  33 i is =  3.0303030303\n",
        "for percentage =  34 i is =  2.94117647059\n",
        "for percentage =  35 i is =  2.85714285714\n",
        "for percentage =  36 i is =  2.77777777778\n",
        "for percentage =  37 i is =  2.7027027027\n",
        "for percentage =  38 i is =  2.63157894737\n",
        "for percentage =  39 i is =  2.5641025641\n",
        "for percentage =  40 i is =  2.5\n",
        "for percentage =  41 i is =  2.43902439024\n",
        "for percentage =  42 i is =  2.38095238095\n",
        "for percentage =  43 i is =  2.32558139535\n",
        "for percentage =  44 i is =  2.27272727273\n",
        "for percentage =  45 i is =  2.22222222222\n",
        "for percentage =  46 i is =  2.17391304348\n",
        "for percentage =  47 i is =  2.12765957447\n",
        "for percentage =  48 i is =  2.08333333333\n",
        "for percentage =  49 i is =  2.04081632653\n",
        "for percentage =  50 i is =  2.0\n",
        "for percentage =  51 i is =  1.96078431373\n",
        "for percentage =  52 i is =  1.92307692308\n",
        "for percentage =  53 i is =  1.88679245283\n",
        "for percentage =  54 i is =  1.85185185185\n",
        "for percentage =  55 i is =  1.81818181818\n",
        "for percentage =  56 i is =  1.78571428571\n",
        "for percentage =  57 i is =  1.75438596491\n",
        "for percentage =  58 i is =  1.72413793103\n",
        "for percentage =  59 i is =  1.69491525424\n"
       ]
      }
     ],
     "prompt_number": 11
    },
    {
     "cell_type": "code",
     "collapsed": false,
     "input": [
      "# for nxoxy different then nyoxy\n",
      "for n in range(20,26): #this is the percentage\n",
      "    for carbons in range(54,90):\n",
      "        p = n/100.0\n",
      "        top = carbons/2\n",
      "        for nyoxy in range(1,top):\n",
      "            x = p*carbons/nyoxy\n",
      "            if (abs(round(x,2)-round(x)))<=0.01:\n",
      "                    ratio = carbons/round(float(nyoxy),2)\n",
      "                    remain= carbons%nyoxy\n",
      "                    if remain == 0:\n",
      "                        oxygens = x*nyoxy\n",
      "                        print \"oxygens=\",oxygens,\"nxoxy=\", x, \"nyoxy=\", nyoxy,\"exact p=\", x*nyoxy/round(float(carbons),2) , \" and carbons= \", carbons"
     ],
     "language": "python",
     "metadata": {},
     "outputs": [
      {
       "output_type": "stream",
       "stream": "stdout",
       "text": [
        "oxygens= 11.0 nxoxy= 11.0 nyoxy= 1 exact p= 0.2  and carbons=  55\n",
        "oxygens= 11.0 nxoxy= 1.0 nyoxy= 11 exact p= 0.2  and carbons=  55\n",
        "oxygens= 12.0 nxoxy= 12.0 nyoxy= 1 exact p= 0.2  and carbons=  60\n",
        "oxygens= 12.0 nxoxy= 6.0 nyoxy= 2 exact p= 0.2  and carbons=  60\n",
        "oxygens= 12.0 nxoxy= 4.0 nyoxy= 3 exact p= 0.2  and carbons=  60\n",
        "oxygens= 12.0 nxoxy= 3.0 nyoxy= 4 exact p= 0.2  and carbons=  60\n",
        "oxygens= 12.0 nxoxy= 2.0 nyoxy= 6 exact p= 0.2  and carbons=  60\n",
        "oxygens= 12.0 nxoxy= 1.0 nyoxy= 12 exact p= 0.2  and carbons=  60\n",
        "oxygens= 13.0 nxoxy= 13.0 nyoxy= 1 exact p= 0.2  and carbons=  65\n",
        "oxygens= 13.0 nxoxy= 1.0 nyoxy= 13 exact p= 0.2  and carbons=  65\n",
        "oxygens= 14.0 nxoxy= 14.0 nyoxy= 1 exact p= 0.2  and carbons=  70\n",
        "oxygens= 14.0 nxoxy= 7.0 nyoxy= 2 exact p= 0.2  and carbons=  70\n",
        "oxygens= 14.0 nxoxy= 2.0 nyoxy= 7 exact p= 0.2  and carbons=  70\n",
        "oxygens= 14.0 nxoxy= 1.0 nyoxy= 14 exact p= 0.2  and carbons=  70\n",
        "oxygens= 15.0 nxoxy= 15.0 nyoxy= 1 exact p= 0.2  and carbons=  75\n",
        "oxygens= 15.0 nxoxy= 5.0 nyoxy= 3 exact p= 0.2  and carbons=  75\n",
        "oxygens= 15.0 nxoxy= 3.0 nyoxy= 5 exact p= 0.2  and carbons=  75\n",
        "oxygens= 15.0 nxoxy= 1.0 nyoxy= 15 exact p= 0.2  and carbons=  75\n",
        "oxygens= 16.0 nxoxy= 16.0 nyoxy= 1 exact p= 0.2  and carbons=  80\n",
        "oxygens= 16.0 nxoxy= 8.0 nyoxy= 2 exact p= 0.2  and carbons=  80\n",
        "oxygens= 16.0 nxoxy= 4.0 nyoxy= 4 exact p= 0.2  and carbons=  80\n",
        "oxygens= 16.0 nxoxy= 2.0 nyoxy= 8 exact p= 0.2  and carbons=  80\n",
        "oxygens= 16.0 nxoxy= 1.0 nyoxy= 16 exact p= 0.2  and carbons=  80\n",
        "oxygens= 17.0 nxoxy= 17.0 nyoxy= 1 exact p= 0.2  and carbons=  85\n",
        "oxygens= 17.0 nxoxy= 1.0 nyoxy= 17 exact p= 0.2  and carbons=  85\n",
        "oxygens= 11.97 nxoxy= 3.99 nyoxy= 3 exact p= 0.21  and carbons=  57\n",
        "oxygens= 15.96 nxoxy= 3.99 nyoxy= 4 exact p= 0.21  and carbons=  76\n",
        "oxygens= 14.95 nxoxy= 2.99 nyoxy= 5 exact p= 0.23  and carbons=  65\n",
        "oxygens= 17.94 nxoxy= 2.99 nyoxy= 6 exact p= 0.23  and carbons=  78\n",
        "oxygens= 18.0 nxoxy= 18.0 nyoxy= 1 exact p= 0.24  and carbons=  75\n",
        "oxygens= 18.0 nxoxy= 6.0 nyoxy= 3 exact p= 0.24  and carbons=  75\n",
        "oxygens= 14.0 nxoxy= 14.0 nyoxy= 1 exact p= 0.25  and carbons=  56\n",
        "oxygens= 14.0 nxoxy= 7.0 nyoxy= 2 exact p= 0.25  and carbons=  56\n",
        "oxygens= 14.0 nxoxy= 2.0 nyoxy= 7 exact p= 0.25  and carbons=  56\n",
        "oxygens= 14.0 nxoxy= 1.0 nyoxy= 14 exact p= 0.25  and carbons=  56\n",
        "oxygens= 15.0 nxoxy= 15.0 nyoxy= 1 exact p= 0.25  and carbons=  60\n",
        "oxygens= 15.0 nxoxy= 5.0 nyoxy= 3 exact p= 0.25  and carbons=  60\n",
        "oxygens= 15.0 nxoxy= 3.0 nyoxy= 5 exact p= 0.25  and carbons=  60\n",
        "oxygens= 15.0 nxoxy= 1.0 nyoxy= 15 exact p= 0.25  and carbons=  60\n",
        "oxygens= 16.0 nxoxy= 16.0 nyoxy= 1 exact p= 0.25  and carbons=  64\n",
        "oxygens= 16.0 nxoxy= 8.0 nyoxy= 2 exact p= 0.25  and carbons=  64\n",
        "oxygens= 16.0 nxoxy= 4.0 nyoxy= 4 exact p= 0.25  and carbons=  64\n",
        "oxygens= 16.0 nxoxy= 2.0 nyoxy= 8 exact p= 0.25  and carbons=  64\n",
        "oxygens= 16.0 nxoxy= 1.0 nyoxy= 16 exact p= 0.25  and carbons=  64\n",
        "oxygens= 17.0 nxoxy= 17.0 nyoxy= 1 exact p= 0.25  and carbons=  68\n",
        "oxygens= 17.0 nxoxy= 1.0 nyoxy= 17 exact p= 0.25  and carbons=  68\n",
        "oxygens= 18.0 nxoxy= 18.0 nyoxy= 1 exact p= 0.25  and carbons=  72\n",
        "oxygens= 18.0 nxoxy= 9.0 nyoxy= 2 exact p= 0.25  and carbons=  72\n",
        "oxygens= 18.0 nxoxy= 6.0 nyoxy= 3 exact p= 0.25  and carbons=  72\n",
        "oxygens= 18.0 nxoxy= 3.0 nyoxy= 6 exact p= 0.25  and carbons=  72\n",
        "oxygens= 18.0 nxoxy= 2.0 nyoxy= 9 exact p= 0.25  and carbons=  72\n",
        "oxygens= 18.0 nxoxy= 1.0 nyoxy= 18 exact p= 0.25  and carbons=  72\n",
        "oxygens= 19.0 nxoxy= 19.0 nyoxy= 1 exact p= 0.25  and carbons=  76\n",
        "oxygens= 19.0 nxoxy= 1.0 nyoxy= 19 exact p= 0.25  and carbons=  76\n",
        "oxygens= 20.0 nxoxy= 20.0 nyoxy= 1 exact p= 0.25  and carbons=  80\n",
        "oxygens= 20.0 nxoxy= 10.0 nyoxy= 2 exact p= 0.25  and carbons=  80\n",
        "oxygens= 20.0 nxoxy= 5.0 nyoxy= 4 exact p= 0.25  and carbons=  80\n",
        "oxygens= 20.0 nxoxy= 4.0 nyoxy= 5 exact p= 0.25  and carbons=  80\n",
        "oxygens= 20.0 nxoxy= 2.0 nyoxy= 10 exact p= 0.25  and carbons=  80\n",
        "oxygens= 20.0 nxoxy= 1.0 nyoxy= 20 exact p= 0.25  and carbons=  80\n",
        "oxygens= 21.0 nxoxy= 21.0 nyoxy= 1 exact p= 0.25  and carbons=  84\n",
        "oxygens= 21.0 nxoxy= 7.0 nyoxy= 3 exact p= 0.25  and carbons=  84\n",
        "oxygens= 21.0 nxoxy= 3.0 nyoxy= 7 exact p= 0.25  and carbons=  84\n",
        "oxygens= 21.0 nxoxy= 1.0 nyoxy= 21 exact p= 0.25  and carbons=  84\n",
        "oxygens= 22.0 nxoxy= 22.0 nyoxy= 1 exact p= 0.25  and carbons=  88\n",
        "oxygens= 22.0 nxoxy= 11.0 nyoxy= 2 exact p= 0.25  and carbons=  88\n",
        "oxygens= 22.0 nxoxy= 2.0 nyoxy= 11 exact p= 0.25  and carbons=  88\n",
        "oxygens= 22.0 nxoxy= 1.0 nyoxy= 22 exact p= 0.25  and carbons=  88\n"
       ]
      }
     ],
     "prompt_number": 21
    },
    {
     "cell_type": "code",
     "collapsed": false,
     "input": [
      "# for nxoxy different then nyoxy\n",
      "for n in range(20,60): #this is the percentage\n",
      "    p = n/100.0\n",
      "    for ny in range(1,25):\n",
      "            x = p*ny\n",
      "            if (abs(round(x,2)-round(x)))<=0.01:\n",
      "                print \" and carbons= \", ny*x,\"nxoxy=nx=\", x ,\"oxygens=\",x**2,\"exact p=\", x**2/round(float(ny*x),2) "
     ],
     "language": "python",
     "metadata": {},
     "outputs": [
      {
       "output_type": "stream",
       "stream": "stdout",
       "text": [
        " and carbons=  5.0 nxoxy=nx= 1.0 oxygens= 1.0 exact p= 0.2\n",
        " and carbons=  20.0 nxoxy=nx= 2.0 oxygens= 4.0 exact p= 0.2\n",
        " and carbons=  45.0 nxoxy=nx= 3.0 oxygens= 9.0 exact p= 0.2\n",
        " and carbons=  80.0 nxoxy=nx= 4.0 oxygens= 16.0 exact p= 0.2\n",
        " and carbons=  75.81 nxoxy=nx= 3.99 oxygens= 15.9201 exact p= 0.21\n",
        " and carbons=  38.87 nxoxy=nx= 2.99 oxygens= 8.9401 exact p= 0.23\n",
        " and carbons=  4.0 nxoxy=nx= 1.0 oxygens= 1.0 exact p= 0.25\n",
        " and carbons=  16.0 nxoxy=nx= 2.0 oxygens= 4.0 exact p= 0.25\n",
        " and carbons=  36.0 nxoxy=nx= 3.0 oxygens= 9.0 exact p= 0.25\n",
        " and carbons=  64.0 nxoxy=nx= 4.0 oxygens= 16.0 exact p= 0.25\n",
        " and carbons=  100.0 nxoxy=nx= 5.0 oxygens= 25.0 exact p= 0.25\n",
        " and carbons=  144.0 nxoxy=nx= 6.0 oxygens= 36.0 exact p= 0.25\n",
        " and carbons=  30.0 nxoxy=nx= 3.0 oxygens= 9.0 exact p= 0.3\n",
        " and carbons=  120.0 nxoxy=nx= 6.0 oxygens= 36.0 exact p= 0.3\n",
        " and carbons=  140.0 nxoxy=nx= 7.0 oxygens= 49.0 exact p= 0.35\n",
        " and carbons=  10.0 nxoxy=nx= 2.0 oxygens= 4.0 exact p= 0.4\n",
        " and carbons=  40.0 nxoxy=nx= 4.0 oxygens= 16.0 exact p= 0.4\n",
        " and carbons=  90.0 nxoxy=nx= 6.0 oxygens= 36.0 exact p= 0.4\n",
        " and carbons=  160.0 nxoxy=nx= 8.0 oxygens= 64.0 exact p= 0.4\n",
        " and carbons=  21.07 nxoxy=nx= 3.01 oxygens= 9.0601 exact p= 0.43\n",
        " and carbons=  180.0 nxoxy=nx= 9.0 oxygens= 81.0 exact p= 0.45\n",
        " and carbons=  135.83 nxoxy=nx= 7.99 oxygens= 63.8401 exact p= 0.47\n",
        " and carbons=  2.0 nxoxy=nx= 1.0 oxygens= 1.0 exact p= 0.5\n",
        " and carbons=  8.0 nxoxy=nx= 2.0 oxygens= 4.0 exact p= 0.5\n",
        " and carbons=  18.0 nxoxy=nx= 3.0 oxygens= 9.0 exact p= 0.5\n",
        " and carbons=  32.0 nxoxy=nx= 4.0 oxygens= 16.0 exact p= 0.5\n",
        " and carbons=  50.0 nxoxy=nx= 5.0 oxygens= 25.0 exact p= 0.5\n",
        " and carbons=  72.0 nxoxy=nx= 6.0 oxygens= 36.0 exact p= 0.5\n",
        " and carbons=  98.0 nxoxy=nx= 7.0 oxygens= 49.0 exact p= 0.5\n",
        " and carbons=  128.0 nxoxy=nx= 8.0 oxygens= 64.0 exact p= 0.5\n",
        " and carbons=  162.0 nxoxy=nx= 9.0 oxygens= 81.0 exact p= 0.5\n",
        " and carbons=  200.0 nxoxy=nx= 10.0 oxygens= 100.0 exact p= 0.5\n",
        " and carbons=  242.0 nxoxy=nx= 11.0 oxygens= 121.0 exact p= 0.5\n",
        " and carbons=  288.0 nxoxy=nx= 12.0 oxygens= 144.0 exact p= 0.5\n",
        " and carbons=  153.17 nxoxy=nx= 9.01 oxygens= 81.1801 exact p= 0.53\n",
        " and carbons=  220.0 nxoxy=nx= 11.0 oxygens= 121.0 exact p= 0.55\n",
        " and carbons=  27.93 nxoxy=nx= 3.99 oxygens= 15.9201 exact p= 0.57\n"
       ]
      }
     ],
     "prompt_number": 19
    },
    {
     "cell_type": "code",
     "collapsed": false,
     "input": [
      "for p in range(20,21):\n",
      "    Ny=p\n",
      "    for Nx in range(1,11):\n",
      "        carbons=Nx*Ny\n",
      "        Nxoxy=Nx\n",
      "        Nyoxy=float(p)/100*float(Nx)*float(Ny)\n",
      "        print \"carbons=\",carbons,\" Nyoxy=\",Nyoxy,\" Nxoxy=\", Nxoxy,\"perc=\", Nxoxy*Nyoxy/carbons"
     ],
     "language": "python",
     "metadata": {},
     "outputs": [
      {
       "output_type": "stream",
       "stream": "stdout",
       "text": [
        "carbons= 20  Nyoxy= 4.0  Nxoxy= 1 perc= 0.2\n",
        "carbons= 40  Nyoxy= 8.0  Nxoxy= 2 perc= 0.4\n",
        "carbons= 60  Nyoxy= 12.0  Nxoxy= 3 perc= 0.6\n",
        "carbons= 80  Nyoxy= 16.0  Nxoxy= 4 perc= 0.8\n",
        "carbons= 100  Nyoxy= 20.0  Nxoxy= 5 perc= 1.0\n",
        "carbons= 120  Nyoxy= 24.0  Nxoxy= 6 perc= 1.2\n",
        "carbons= 140  Nyoxy= 28.0  Nxoxy= 7 perc= 1.4\n",
        "carbons= 160  Nyoxy= 32.0  Nxoxy= 8 perc= 1.6\n",
        "carbons= 180  Nyoxy= 36.0  Nxoxy= 9 perc= 1.8\n",
        "carbons= 200  Nyoxy= 40.0  Nxoxy= 10 perc= 2.0\n"
       ]
      }
     ],
     "prompt_number": 22
    },
    {
     "cell_type": "code",
     "collapsed": false,
     "input": [
      "# for nxoxy different then nyoxy\n",
      "for p in range(20,60): #this is the percentage\n",
      "    p=p/100.\n",
      "    for i in range(2,50):\n",
      "        Nx=2*i\n",
      "        Ny = float(i)/(2*float(p))\n",
      "        carbons = Nx*Ny\n",
      "        if (abs(round(Ny,2)-round(Ny)))<=0.01 and carbons<1000:\n",
      "            x = i\n",
      "            print \