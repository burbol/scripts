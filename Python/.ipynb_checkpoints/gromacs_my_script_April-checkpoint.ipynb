{
 "metadata": {
  "name": "",
  "signature": "sha256:a1ae56491f868ee366321d53ef95647cff5bc7544839f329c9aa3202be7109eb"
 },
 "nbformat": 3,
 "nbformat_minor": 0,
 "worksheets": [
  {
   "cells": [
    {
     "cell_type": "code",
     "collapsed": false,
     "input": [
      "# type first on the shell \"source /usr/local/gromacs/bin/GMXRC\"\n",
      "import gromacs\n",
      "gromacs.config.setup()"
     ],
     "language": "python",
     "metadata": {},
     "outputs": [],
     "prompt_number": 3
    },
    {
     "cell_type": "code",
     "collapsed": false,
     "input": [
      "%pylab inline"
     ],
     "language": "python",
     "metadata": {},
     "outputs": [
      {
       "output_type": "stream",
       "stream": "stdout",
       "text": [
        "Populating the interactive namespace from numpy and matplotlib\n"
       ]
      }
     ],
     "prompt_number": 4
    },
    {
     "cell_type": "code",
     "collapsed": false,
     "input": [
      "import matplotlib \n",
      "import matplotlib.pyplot as plt\n",
      "from scipy.optimize import curve_fit\n",
      "from scipy import optimize\n",
      "from scipy import odr"
     ],
     "language": "python",
     "metadata": {},
     "outputs": [],
     "prompt_number": 5
    },
    {
     "cell_type": "code",
     "collapsed": false,
     "input": [
      ">>> import numpy as np\n",
      ">>> import gromacs.formats\n",
      ">>> xvg = gromacs.formats.XVG()"
     ],
     "language": "python",
     "metadata": {},
     "outputs": [],
     "prompt_number": 6
    },
    {
     "cell_type": "code",
     "collapsed": false,
     "input": [
      "%cd /Volumes/UNI/SHELDON/files_for_laila/g_rad_densmaps_all\n",
      "#%cd /Users/burbol/Downloads/g_rad_densmaps"
     ],
     "language": "python",
     "metadata": {},
     "outputs": [
      {
       "output_type": "stream",
       "stream": "stdout",
       "text": [
        "/Volumes/UNI/SHELDON/files_for_laila/g_rad_densmaps_all\n"
       ]
      }
     ],
     "prompt_number": 7
    },
    {
     "cell_type": "code",
     "collapsed": false,
     "input": [
      "#xvg.read(\"g_rad_densmap_s11_w3000_8ns_10ns.xvg\")\n",
      "xvg.read(\"g_rad_dmap_17pc_w7000_25.0ns_25.5ns.xvg\")\n",
      "plotsfolder=\"/Users/burbol2/Dropbox/Apps/Texpad/PaperPics/\"\n",
      "circleplot='circle_fit_s17_w7000_25ns.png' \n",
      "sigmoidplot='sigmoid_fit_s17_w7000_25ns.png' "
     ],
     "language": "python",
     "metadata": {},
     "outputs": [],
     "prompt_number": 64
    },
    {
     "cell_type": "code",
     "collapsed": false,
     "input": [
      "#Here we read from a file the positions of the first water peaks of each system and save them in the array \"peak\"\n",
      "peak3 = np.loadtxt('MiddlePoint.txt', skiprows=1)\n",
      "\n",
      "# We create the dictionary \"systems\" which relates the systems with the positions of the array \"peakcount\". \n",
      "# For example: \"systems[(11, 3000)]\" would give back the position 22, which can be used to call \"peakcount[22]\" \n",
      "# and get back the shift value of the system with a SAM  with 11% OH- coverage and a water droplet of 3000 molecules.\n",
      "# This is done for the case of using this script with only a subgroup of systems\n",
      "peakpos = 0\n",
      "systems3={}\n",
      "for b in [0, 5, 11, 17]:\n",
      "    for c in [1000, 2000, 3000, 4000, 5000, 6500, 7000, 8000, 9000, 10000]:\n",
      "        z = b, c\n",
      "        systems3[z] = peakpos\n",
      "        peakpos = peakpos + 1\n",
      "#print systems[(11, 3000)]\n",
      "\n",
      "#We substitute the values \"b\" and \"c\" to get the corresponding shift value\n",
      "b=17\n",
      "c=7000\n",
      "peakcount = systems3[(b, c)]\n",
      "shift3 = peak3[peakcount]\n",
      "print \"shift3=\", shift3"
     ],
     "language": "python",
     "metadata": {},
     "outputs": [
      {
       "output_type": "stream",
       "stream": "stdout",
       "text": [
        "shift3= 2.472\n"
       ]
      }
     ],
     "prompt_number": 12
    },
    {
     "cell_type": "code",
     "collapsed": false,
     "input": [
      "#Here we read from a file the positions of the first water peaks of each system and save them in the array \"peak\"\n",
      "peak2 = np.loadtxt('SAMPeaks.txt', skiprows=1)\n",
      "\n",
      "# We create the dictionary \"systems\" which relates the systems with the positions of the array \"peakcount\". \n",
      "# For example: \"systems[(11, 3000)]\" would give back the position 22, which can be used to call \"peakcount[22]\" \n",
      "# and get back the shift value of the system with a SAM  with 11% OH- coverage and a water droplet of 3000 molecules.\n",
      "# This is done for the case of using this script with only a subgroup of systems\n",
      "peakpos = 0\n",
      "systems2={}\n",
      "for b in [0, 5, 11, 17]:\n",
      "    for c in [1000, 2000, 3000, 4000, 5000, 6500, 7000, 8000, 9000, 10000]:\n",
      "        z = b, c\n",
      "        systems2[z] = peakpos\n",
      "        peakpos2 = peakpos + 1\n",
      "#print systems[(11, 3000)]\n",
      "\n",
      "#We substitute the values \"b\" and \"c\" to get the corresponding shift value\n",
      "b=17\n",
      "c=7000\n",
      "peakcount = systems2[(b, c)]\n",
      "shift2 = peak2[peakcount]\n",
      "print \"shift2=\", shift2"
     ],
     "language": "python",
     "metadata": {},
     "outputs": [
      {
       "output_type": "stream",
       "stream": "stdout",
       "text": [
        "shift2= 2.16\n"
       ]
      }
     ],
     "prompt_number": 13
    },
    {
     "cell_type": "code",
     "collapsed": false,
     "input": [
      "#Here we read from a file the positions of the first water peaks of each system and save them in the array \"peak\"\n",
      "peak = np.loadtxt('WaterPeaksFinal.txt', skiprows=1)\n",
      "\n",
      "# We create the dictionary \"systems\" which relates the systems with the positions of the array \"peakcount\". \n",
      "# For example: \"systems[(11, 3000)]\" would give back the position 22, which can be used to call \"peakcount[22]\" \n",
      "# and get back the shift value of the system with a SAM  with 11% OH- coverage and a water droplet of 3000 molecules.\n",
      "# This is done for the case of using this script with only a subgroup of systems\n",
      "peakpos = 0\n",
      "systems={}\n",
      "for b in [0, 5, 11, 17]:\n",
      "    for c in [1000, 2000, 3000, 4000, 5000, 6500, 7000, 8000, 9000, 10000]:\n",
      "        z = b, c\n",
      "        systems[z] = peakpos\n",
      "        peakpos = peakpos + 1\n",
      "#print systems[(11, 3000)]\n",
      "\n",
      "#We substitute the values \"b\" and \"c\" to get the corresponding shift value\n",
      "b=11\n",
      "c=4000\n",
      "peakcount = systems[(b, c)]\n",
      "shift = peak[peakcount]\n",
      "print \"shift=\", shift"
     ],
     "language": "python",
     "metadata": {},
     "outputs": [
      {
       "output_type": "stream",
       "stream": "stdout",
       "text": [
        "shift= 2.664\n"
       ]
      }
     ],
     "prompt_number": 14
    },
    {
     "cell_type": "code",
     "collapsed": false,
     "input": [
      "print shift-shift2\n",
      "print shift-shift3"
     ],
     "language": "python",
     "metadata": {},
     "outputs": [
      {
       "output_type": "stream",
       "stream": "stdout",
       "text": [
        "0.504\n",
        "0.192\n"
       ]
      }
     ],
     "prompt_number": 15
    },
    {
     "cell_type": "code",
     "collapsed": false,
     "input": [
      "xvg.plot()"
     ],
     "language": "python",
     "metadata": {},
     "outputs": [
      {
       "metadata": {},
       "output_type": "display_data",
       "png": "[encoded data removed]",
       "text": [
        "<matplotlib.figure.Figure at 0x10fe820d0>"
       ]
      }
     ],
     "prompt_number": 20
    },
    {
     "cell_type": "code",
     "collapsed": false,
     "input": [
      "#colclass = matplotlib.colors.Colormap(jet, N=256)\n",
      "#matplotlib.cm.register_cmap(name='jet', cmap='colclass')\n",
      "#matplotlib.colors.ListedColormap([0,0,0], name='jet', N=None)\n",
      "#mycolor = matplotlib.cm.get_cmap(name='jet', lut=None)\n",
      "xvg.plot(columns=[0,58], maxpoints=None, alpha=1)"
     ],
     "language": "python",
     "metadata": {},
     "outputs": [
      {
       "metadata": {},
       "output_type": "display_data",
       "png": "[encoded data removed]",
       "text": [
        "<matplotlib.figure.Figure at 0x10fab3d90>"
       ]
      }
     ],
     "prompt_number": 21
    },
    {
     "cell_type": "code",
     "collapsed": false,
     "input": [
      "xvg.errorbar(columns=[0,100,100], maxpoints=1000, color=\"red\")"
     ],
     "language": "python",
     "metadata": {},
     "outputs": [
      {
       "output_type": "stream",
       "stream": "stderr",
       "text": [
        "/Users/burbol2/Library/Enthought/Canopy_64bit/User/lib/python2.7/site-packages/matplotlib/axes/_axes.py:2652: MatplotlibDeprecationWarning: Use of None object as fmt keyword argument to suppress plotting of data values is deprecated since 1.4; use the string \"none\" instead.\n",
        "  warnings.warn(msg, mplDeprecation, stacklevel=1)\n"
       ]
      },
      {
       "metadata": {},
       "output_type": "display_data",
       "png": "[encoded data removed]",
       "text": [
        "<matplotlib.figure.Figure at 0x10fea6190>"
       ]
      }
     ],
     "prompt_number": 22
    },
    {
     "cell_type": "code",
     "collapsed": false,
     "input": [
      "input = xvg.array"
     ],
     "language": "python",
     "metadata": {},
     "outputs": [],
     "prompt_number": 23
    },
    {
     "cell_type": "code",
     "collapsed": false,
     "input": [
      "x = input[0]\n",
      "print \"len(input)=\",len(input),\"len(x)=\", len(x)\n",
      "slice = 56\n",
      "y = input[slice]\n",
      "print \"slice=\", slice, \", x[slice]=\", x[slice],\", y[0]=\", y[0]\n",
      "\n",
      "# Here we create the array \"zcoord\" with the z-coordinates of the slices subtracting the shift value. If the system total length in \n",
      "# the z-direction ZLENGTH=12.0 nm. Change this value if necessary.\n",
      "ZLENGTH = 12.0\n",
      "slicestotal = len(input) - 1\n",
      "S = ZLENGTH/ slicestotal\n",
      "print \"S=\", S\n",
      "zcoord = np.zeros(len(input)-1)\n",
      "for i in range(1,len(input)): \n",
      "    zcoord[i-1] = (S *(i-1))-shift\n",
      "print \"first coordinates of zcoord\", zcoord[0], zcoord[1], zcoord[2], zcoord[-1]"
     ],
     "language": "python",
     "metadata": {},
     "outputs": [
      {
       "output_type": "stream",
       "stream": "stdout",
       "text": [
        "len(input)= 201 len(x)= 1000\n",
        "slice= 56 , x[slice]= 1.63946 , y[0]= 653.56691\n",
        "S= 0.06\n",
        "first coordinates of zcoord -2.664 -2.604 -2.544 9.276\n"
       ]
      }
     ],
     "prompt_number": 24
    },
    {
     "cell_type": "code",
     "collapsed": false,
     "input": [
      "# Searching for initian guess for the first parameter of the fit\n",
      "def guess(y):\n",
      "    m = max(y)\n",
      "    m2 = min(y)\n",
      "    third = (m - m2)/3\n",
      "    bottom = m - third\n",
      "    tot = 0\n",
      "    count = 0\n",
      "    for i in range(0, len(y)):\n",
      "        if y[i] >= bottom:\n",
      "            tot = tot + y[i]\n",
      "            count = count + 1\n",
      "    At = tot / count\n",
      "    return At"
     ],
     "language": "python",
     "metadata": {},
     "outputs": [],
     "prompt_number": 25
    },
    {
     "cell_type": "code",
     "collapsed": false,
     "input": [
      "def func(r, ro, R, d):\n",
      "    return (ro/2)*(1-np.tanh(2*(r-R)/d))"
     ],
     "language": "python",
     "metadata": {},
     "outputs": [],
     "prompt_number": 26
    },
    {
     "cell_type": "code",
     "collapsed": false,
     "input": [
      "# THE FUNCTION waterbulk() DETERMINES THE BULK VALUE OF WATER DENSITY\n",
      "# It takes 3 arguments: \n",
      "# input: all the data of the density map of one system (type: list with total length=1000, and length of each element input[i]=201)\n",
      "# zcoord: the z-coordinates of the slices of the system (type: list with length=200)\n",
      "# func: sigmoidal function used to fit the density data of one slice (type: function)\n",
      "def waterbulk(input, zcoord, func):\n",
      "    print \"WE ARE INSIDE THE FUNCTION WATERBULK\"\n",
      "    x = input[0]\n",
      "    densmean = np.zeros(200)\n",
      "    i = 0\n",
      "    start = 0\n",
      "    for slice in range(1,200):\n",
      "        ymean = input[slice]\n",
      "        At = guess(ymean) \n",
      "        #k = At\n",
      "        popt, pcov = curve_fit(func, x, ymean,[At, 2, 1], maxfev=10000)\n",
      "        k = func(0,*popt)\n",
      "        densmean[slice]=k\n",
      "        if k > 800:\n",
      "           start = slice - i\n",
      "           i = i + 1\n",
      "           end = start + i\n",
      "           densmean2 = np.zeros(i + 1)\n",
      "           i2 = 0\n",
      "    for slice2 in range(0,200):\n",
      "        ymean = input[slice2]\n",
      "        At = guess(ymean)\n",
      "        #k = At\n",
      "        popt, pcov = curve_fit(func, x, ymean,[At, 2, 1], maxfev=10000)\n",
      "        k = func(0,*popt)\n",
      "        if k > 800:\n",
      "            densmean2[i2] = k\n",
      "            i2 = i2 + 1\n",
      "    print \"WE ARE IN THE LAST LINE OF THE FUNCTION WATERBULK\"\n",
      "    return np.median(densmean2)\n",
      "#for slice in range(100,110):\n",
      "    #ymean = input[slice]\n",
      "    #print guess(ymean*2)"
     ],
     "language": "python",
     "metadata": {},
     "outputs": [],
     "prompt_number": 27
    },
    {
     "cell_type": "code",
     "collapsed": false,
     "input": [
      "bulk=waterbulk(input, zcoord, func)\n",
      "print bulk"
     ],
     "language": "python",
     "metadata": {},
     "outputs": [
      {
       "output_type": "stream",
       "stream": "stdout",
       "text": [
        "WE ARE INSIDE THE FUNCTION WATERBULK\n",
        "WE ARE IN THE LAST LINE OF THE FUNCTION WATERBULK"
       ]
      },
      {
       "output_type": "stream",
       "stream": "stdout",
       "text": [
        "\n",
        "998.103900465\n"
       ]
      }
     ],
     "prompt_number": 28
    },
    {
     "cell_type": "code",
     "collapsed": false,
     "input": [
      "#xvg.errorbar(columns=[0,80,81])"
     ],
     "language": "python",
     "metadata": {},
     "outputs": [],
     "prompt_number": 29
    },
    {
     "cell_type": "code",
     "collapsed": false,
     "input": [
      "y = input[100]\n",
      "popt, pcov = curve_fit(func, x, y,[1000, 3, 1])\n",
      "print popt, pcov\n",
      "plt.plot(x, func(x, *popt),'r-',label='fitted density profile',linewidth=4)\n",
      "plt.plot(x,y,'k.',label='radial density data')\n",
      "plt.xlabel('z [nm]',fontsize=22)\n",
      "#plt.ylabel(r' [nm]',fontsize=22)\n",
      "plt.ylabel(r'$\\rho $ [$\\frac{Kg}{m^3}$]',fontsize=27)\n",
      "plt.legend()\n",
      "fig = matplotlib.pyplot.gcf()\n",
      "fig.set_size_inches(10.5,8)\n",
      "pylab.savefig(plotsfolder+sigmoidplot, bbox_inches='tight', pad_inches=0,dpi=300)"
     ],
     "language": "python",
     "metadata": {},
     "outputs": [
      {
       "output_type": "stream",
       "stream": "stdout",
       "text": [
        "[  9.76678211e+02   3.45913366e+00   4.63661143e-01] [[  8.46550710e+01  -3.00773487e-02   8.72077877e-02]\n",
        " [ -3.00773487e-02   9.37651381e-05  -4.21223540e-05]\n",
        " [  8.72077877e-02  -4.21223540e-05   1.12037772e-03]]\n"
       ]
      },
      {
       "metadata": {},
       "output_type": "display_data",
       "png": "[encoded data removed]",
       "text": [
        "<matplotlib.figure.Figure at 0x1118cc590>"
       ]
      }
     ],
     "prompt_number": 81
    },
    {
     "cell_type": "code",
     "collapsed": false,
     "input": [
      "k = func(0,*popt)\n",
      "print k"
     ],
     "language": "python",
     "metadata": {},
     "outputs": [
      {
       "output_type": "stream",
       "stream": "stdout",
       "text": [
        "976.678211369\n"
       ]
      }
     ],
     "prompt_number": 31
    },
    {
     "cell_type": "code",
     "collapsed": false,
     "input": [
      "def checkslice(s, t, bulk):\n",
      "    popt, pcov = curve_fit(func, x, s,[t, 2, 1],maxfev=10000)\n",
      "    k = func(0,*popt)\n",
      "    bulklimit = 0.9*bulk\n",
      "    if k > bulklimit:\n",
      "        return True\n",
      "    else: \n",
      "        return False"
     ],
     "language": "python",
     "metadata": {},
     "outputs": [],
     "prompt_number": 225
    },
    {
     "cell_type": "code",
     "collapsed": false,
     "input": [
      "slicemin = 0\n",
      "for slice in range(0,150):\n",
      "    y = input[slice]\n",
      "    At = guess(y)\n",
      "    if checkslice(y, At, bulk):\n",
      "       slicemin = slice\n",
      "       print slicemin\n",
      "       break\n",
      "    else: continue"
     ],
     "language": "python",
     "metadata": {},
     "outputs": [
      {
       "output_type": "stream",
       "stream": "stdout",
       "text": [
        "44\n"
       ]
      }
     ],
     "prompt_number": 226
    },
    {
     "cell_type": "code",
     "collapsed": false,
     "input": [
      "slicemax = 0\n",
      "for slice in range(200,0,-1):\n",
      "    y = input[slice]\n",
      "    At = guess(y)\n",
      "    if checkslice(y, At, bulk):\n",
      "       slicemax = slice\n",
      "       print slicemax\n",
      "       break\n",
      "    else: continue"
     ],
     "language": "python",
     "metadata": {},
     "outputs": [
      {
       "output_type": "stream",
       "stream": "stdout",
       "text": [
        "127\n"
       ]
      }
     ],
     "prompt_number": 227
    },
    {
     "cell_type": "code",
     "collapsed": false,
     "input": [
      "# We set the number of the first slice as \"zeroslice\", which will be used later for leaving the first 8nm above the surface out of the fitted data.  \n",
      "zeroslice = 0\n",
      "cnt = 0\n",
      "for slicepos in zcoord:\n",
      "    #print slicepos\n",
      "    if slicepos >= 0.0: \n",
      "        zeroslice = cnt\n",
      "        break\n",
      "    cnt = cnt + 1\n",
      "print \"zeroslice=\", zeroslice\n",
      "print \"shift=\", shift, \", zcoord[zeroslice-1]=\", zcoord[zeroslice-1],\", zcoord[zeroslice]=\", x[zeroslice]"
     ],
     "language": "python",
     "metadata": {},
     "outputs": [
      {
       "output_type": "stream",
       "stream": "stdout",
       "text": [
        "zeroslice= 45\n",
        "shift= 2.664 , zcoord[zeroslice-1]= -0.024 , zcoord[zeroslice]= 1.46965\n"
       ]
      }
     ],
     "prompt_number": 228
    },
    {
     "cell_type": "code",
     "collapsed": false,
     "input": [
      "#We leave the slices below zero out of the fit\n",
      "if zeroslice > slicemin:\n",
      "   slicemin = zeroslice \n",
      "print zeroslice, slicemin, slicemax\n",
      "print \"shift=\", shift"
     ],
     "language": "python",
     "metadata": {},
     "outputs": [
      {
       "output_type": "stream",
       "stream": "stdout",
       "text": [
        "45 45 127\n",
        "shift= 2.664\n"
       ]
      }
     ],
     "prompt_number": 229
    },
    {
     "cell_type": "code",
     "collapsed": false,
     "input": [
      "# FUNCTION \"from_slice_circle\" to make a circle fit of some consecutive slices\n",
      "# slicemin: number of the first slice; \n",
      "# slicemax: number of the last slice\n",
      "# input: array containing all the data of the density map of all the slices \n",
      "# zcoord: list with the z-coordinates of all the slices\n",
      "# returns 7 variables: \n",
      "# xc, yc, R_2: the coordinates of the circle center and its radius (xc corresponds to the z-position and yc to the radial distance to the central axis of the drop. \n",
      "#   But yc won't be used for later calculations and has to be set it to yc=0).\n",
      "# residu, residu2: error of the circle fit and quadratic error\n",
      "# z, R: coordinates of the resulting points of the fitted radial density profile of each slice between slicemin and slicemax\n",
      "# \n",
      "def from_slice_circle(slicemax, slicemin, input, zcoord):\n",
      "   \t    \n",
      "# Now we determine R and z. \n",
      "# R comes from the fit, and z is a vector with the shifted positions of the slices.\n",
      "    dims = slicemax - slicemin + 1\n",
      "    x = input[0]\n",
      "    i=0\n",
      "    z = np.zeros(dims)\n",
      "    R = np.zeros(dims)\n",
      "    for a in range(slicemin, slicemax+1):\n",
      "        y2 = input[a]\n",
      "        i = a - slicemin\n",
      "        z[i] = zcoord[a-1] \n",
      "        At = guess(y2)\n",
      "        params, pcov2 = curve_fit(func, x, y2,[At, 2, 1], maxfev=10000)\n",
      "        R[i] = params[1]\n",
      "# Here we use part of the source code of a website, to fit points to a circle.--> \"http://wiki.scipy.org/Cookbook/Least_Squares_Circle\"\n",
      "     \n",
      "    x_m = mean(z)\n",
      "    y_m = mean(R)\n",
      "    x = z\n",
      "    y = R\n",
      "    \n",
      "    # == METHOD 3 ==\n",
      "    # Basic usage of odr with an implicit function definition\n",
      "\n",
      "    def calc_R(xc, yc):\n",
      "         \"\"\" calculate the distance of each 2D points from the center c=(xc, yc) \"\"\"\n",
      "         return sqrt((x-xc)**2 + (y-yc)**2)\n",
      "\n",
      "    def f_3(beta, x):\n",
      "         \"\"\" implicit definition of the circle \"\"\"\n",
      "         return (x[0]-beta[0])**2 + (x[1])**2 -beta[2]**2\n",
      "\n",
      "    # initial guess for parameters\n",
      "    R_m = calc_R(x_m, 0).mean()\n",
      "    beta0 = [ x_m, 0, R_m]\n",
      "\n",
      "    # for implicit function :\n",
      "    #       data.x contains both coordinates of the points\n",
      "    #       data.y is the dimensionality of the response\n",
      "    lsc_data   = odr.Data(row_stack([x, y]), y=1)\n",
      "    lsc_model  = odr.Model(f_3, implicit=True)\n",
      "    lsc_odr    = odr.ODR(lsc_data, lsc_model, beta0)\n",
      "    lsc_out    = lsc_odr.run()\n",
      "\n",
      "    xc_3, yc_3, R_3 = lsc_out.beta\n",
      "    Ri_3       = calc_R(xc_3, yc_3)\n",
      "    residu_3   = sum((Ri_3 - R_3)**2)\n",
      "    residu2_3  = sum((Ri_3**2-R_3**2)**2)\n",
      "    \n",
      "    # We translate all the circle down, so that yc=0        \n",
      "    #R = R\n",
      "    #yc = yc - yc\n",
      "\n",
      "    return xc_3, yc_3, R_3, residu_3, residu2_3, z, R"
     ],
     "language": "python",
     "metadata": {},
     "outputs": [],
     "prompt_number": 230
    },
    {
     "cell_type": "code",
     "collapsed": false,
     "input": [
      "# The function \"distance\" calculates the distance between the fitted circle and a point. It takes 5 argumets:\n",
      "# x, y are the coordinates of the point; xc, yc are the coordinates of the circle center; R is its radius.\n",
      "def distance(x, y, xc, yc,R):\n",
      "    a = np.asarray([x,y])\n",
      "    b = np.asarray([xc,yc])\n",
      "    d = np.linalg.norm(a - b)- R\n",
      "    d = math.fabs(d)\n",
      "    return d "
     ],
     "language": "python",
     "metadata": {},
     "outputs": [],
     "prompt_number": 231
    },
    {
     "cell_type": "code",
     "collapsed": false,
     "input": [
      "xc, yc, R_2, residu, residu2, z, R= from_slice_circle(slicemax, slicemin, input, zcoord)\n",
      "print \"xc, yc, R_2, z[-1], R[-1], residu, residu2\"\n",
      "print xc, yc, R_2, z[-1], R[-1], residu, residu2\n",
      "print \"shift is\", shift\n",
      "\n",
      " # Now we search for the \"best\" slices to make the circle fit and calculate later the contact angle and base radius.\n",
      " # We look for the first and last fitted LG-interface points (related to the first and last droplet slices: slicemin and slicemax) with a distance to the circle smaller then epsilon, which we set to 0.029nm.\n",
      "                        \n",
      "epsilon = 0.03\n",
      "epsilon2 = 0.031\n",
      "# For slicemin\n",
      "print \"Starting the search for the best slicemin. We start with slicemin =\", slicemin\n",
      "xc, yc, R_2, residu, residu2, z, R= from_slice_circle(slicemax, slicemin, input, zcoord)\n",
      "d = distance(z[0], R[0], xc, yc, R_2)\n",
      "if d <= epsilon:\n",
      "    print \"d is smaller then epsilon: d=\", d\n",
      "    while d <= epsilon:\n",
      "        oldslicemin = slicemin\n",
      "        slicemin = oldslicemin - 1\n",
      "        print \"subtracted 1 from slicemin. Now slicemin=\", slicemin\n",
      "        old_d = d\n",
      "        xc, yc, R_2, residu, residu2, z, R= from_slice_circle(slicemax, slicemin, input, zcoord)\n",
      "        d = distance(z[0], R[0], xc, yc, R_2)\n",
      "        print \"New d=\", d\n",
      "elif d > epsilon:\n",
      "    print \"d is bigger then epsilon: d=\", d\n",
      "    while d > epsilon:\n",
      "        oldslicemin = slicemin\n",
      "        slicemin = oldslicemin + 1\n",
      "        print \"added 1 to slicemin. Now slicemin=\", slicemin\n",
      "        old_d = d\n",
      "        xc, yc, R_2, residu, residu2, z, R= from_slice_circle(slicemax, slicemin, input, zcoord)\n",
      "        d = distance(z[0], R[0], xc, yc, R_2)\n",
      "        print \"New d=\", d\n",
      "if d > epsilon:\n",
      "   print \"We subtracted one too much. d has become bigger then epsilon ->d=\", d\n",
      "   slicemin = oldslicemin\n",
      "   d = old_d\n",
      "   print \"We add one slice again. Now slicemin=\", slicemin, \"And d=\", d\n",
      "               \n",
      "print \"Out of search loop! slicemin=\", slicemin, \"and its d=\", d \n",
      "\n",
      "# For slicemax\n",
      "slicesnr = slicemax - slicemin\n",
      "print \"Starting the search for the best slicemax. We start with slicemax =\", slicemax, \"And slicesnr=\", slicesnr\n",
      "xc, yc, R_2, residu, residu2, z, R= from_slice_circle(slicemax, slicemin, input, zcoord)\n",
      "d = distance(z[-1], R[-1], xc, yc, R_2)\n",
      "if d <= epsilon2:\n",
      "    print \"d is smaller then epsilon: d=\", d\n",
      "    while d <= epsilon2:   \n",
      "        oldslicemax = slicemax\n",
      "        slicemax = oldslicemax + 1\n",
      "        slicesnr = slicemax - slicemin +1\n",
      "        print \"added 1 to slicemax. Now slicemax=\", slicemax, \"And slicesnr=\", slicesnr\n",
      "        old_d = d\n",
      "        xc, yc, R_2, residu, residu2, z, R= from_slice_circle(slicemax, slicemin, input, zcoord)\n",
      "        slicesnr = slicemax - slicemin - 1\n",
      "        d = distance(z[-1], R[-1], xc, yc, R_2)\n",
      "        print \"New d=\", d\n",
      "elif d > epsilon2:\n",
      "     print \"d is bigger then epsilon: d=\", d\n",
      "     while d > epsilon2:\n",
      "           oldslicemax = slicemax\n",
      "           slicemax = oldslicemax - 1\n",
      "           slicesnr = slicemax - slicemin +1\n",
      "           print \"subtracted 1 from slicemax. Now slicemax=\", slicemax, \"And slicesnr=\", slicesnr\n",
      "           old_d = d\n",
      "           xc, yc, R_2, residu, residu2, z, R= from_slice_circle(slicemax, slicemin, input, zcoord)\n",
      "           slicesnr = slicemax - slicemin -1\n",
      "           d = distance(z[-1], R[-1], xc, yc, R_2)\n",
      "           print \"New d=\", d\n",
      "if d > epsilon2:\n",
      "   print \"We added one too much. d has become bigger then epsilon ->d=\", d\n",
      "   slicemax = oldslicemax\n",
      "   d = old_d\n",
      "   print \"We subtract one slice again. Now slicemax=\", slicemax, \"And d=\", d\n",
      "                      \n",
      "print \"slicemax is\", slicemax, \"and its d is\", d        \n",
      "\n",
      "# Once we have the \"correct\" values of slicemin and slicemax we make the circle fit again\n",
      "xc, yc, R_2, residu, residu2, z, R= from_slice_circle(slicemax, slicemin, input, zcoord)\n",
      "print \"Once we have the correct values of slicemin and slicemax we make the circle fit again\"\n",
      "print \"xc, yc, R_2, residu, residu2\"\n",
      "print xc, yc, R_2, residu, residu2"
     ],
     "language": "python",
     "metadata": {},
     "outputs": [
      {
       "output_type": "stream",
       "stream": "stdout",
       "text": [
        "xc, yc, R_2, z[-1], R[-1], residu, residu2\n",
        "1.05144567259 0.0 4.0904069296 4.896 1.36481334287 0.0518938468656 3.45710822963\n",
        "shift is 2.664\n",
        "Starting the search for the best slicemin. We start with slicemin = 45\n",
        "d is bigger then epsilon: d="
       ]
      },
      {
       "output_type": "stream",
       "stream": "stdout",
       "text": [
        " 0.090445927392\n",
        "added 1 to slicemin. Now slicemin= 46\n",
        "New d="
       ]
      },
      {
       "output_type": "stream",
       "stream": "stdout",
       "text": [
        " 0.0397020327471\n",
        "added 1 to slicemin. Now slicemin= 47\n",
        "New d="
       ]
      },
      {
       "output_type": "stream",
       "stream": "stdout",
       "text": [
        " 0.020726452593\n",
        "Out of search loop! slicemin= 47 and its d= 0.020726452593\n",
        "Starting the search for the best slicemax. We start with slicemax = 127 And slicesnr= 80\n",
        "d is smaller then epsilon: d="
       ]
      },
      {
       "output_type": "stream",
       "stream": "stdout",
       "text": [
        " 0.00759858001803\n",
        "added 1 to slicemax. Now slicemax= 128 And slicesnr= 82\n",
        "New d="
       ]
      },
      {
       "output_type": "stream",
       "stream": "stdout",
       "text": [
        " 0.0326431617365\n",
        "We added one too much. d has become bigger then epsilon ->d= 0.0326431617365\n",
        "We subtract one slice again. Now slicemax= 127 And d= 0.00759858001803\n",
        "slicemax is 127 and its d is 0.00759858001803\n",
        "Once we have the correct values of slicemin and slicemax we make the circle fit again"
       ]
      },
      {
       "output_type": "stream",
       "stream": "stdout",
       "text": [
        "\n",
        "xc, yc, R_2, residu, residu2\n",
        "1.04339314236 0.0 4.09480973928 0.0416491445699 2.78690646098\n"
       ]
      }
     ],
     "prompt_number": 232
    },
    {
     "cell_type": "code",
     "collapsed": false,
     "input": [
      "#We leave the slices below zero out of the fit\n",
      "if zeroslice > slicemin:\n",
      "   slicemin = zeroslice \n",
      "print zeroslice, slicemin, slicemax\n",
      "print \"shift=\", shift"
     ],
     "language": "python",
     "metadata": {},
     "outputs": [
      {
       "output_type": "stream",
       "stream": "stdout",
       "text": [
        "45 47 127\n",
        "shift= 2.664\n"
       ]
      }
     ],
     "prompt_number": 233
    },
    {
     "cell_type": "code",
     "collapsed": false,
     "input": [
      "#slicemin=44\n",
      "#slicemax=156\n",
      "xc, yc, R_2, residu,residiu2, z, R= from_slice_circle(slicemax, slicemin, input, zcoord)\n",
      "print \"xc, yc, R_2, residu, residu2, z, R= from_slice_circle(slicemax, slicemin, input, zcoord)\"\n",
      "print xc, yc, R_2, residu, residu2\n",
      "slicesnr = slicemax - slicemin\n",
      "d = distance(z[-1], R[-1], xc, yc, R_2)\n",
      "print \"slicemax d=\", d, \"(slicemax=)\", slicemax\n",
      "d = distance(z[0], R[0], xc, yc, R_2)\n",
      "print \"slicemin d=\", d, \"(slicemin=)\", slicemin\n",
      "theta_fit = linspace(-pi, pi, 180)\n",
      "x_fit2 = xc + R_2*cos(theta_fit)\n",
      "y_fit2 = yc + R_2*sin(theta_fit)\n",
      "plt.plot(x_fit2, y_fit2, color=\"blue\", label='method', lw=4)\n",
      "# plot(X, C, color=\"blue\", linewidth=2.5, linestyle=\"-\")\n",
      "#Set x limits\n",
      "xlim(0,7)\n",
      "# Set y limits\n",
      "ylim(0,7)\n",
      "plt.plot(z, R, 'k.', markersize=10)\n",
      "plt.ylabel('z [nm]',fontsize=22)\n",
      "plt.xlabel('R [nm]',fontsize=22)"
     ],
     "language": "python",
     "metadata": {},
     "outputs": [
      {
       "output_type": "stream",
       "stream": "stdout",
       "text": [
        "xc, yc, R_2, residu, residu2, z, R= from_slice_circle(slicemax, slicemin, input, zcoord)\n",
        "1.04339314236 0.0 4.09480973928 0.0416491445699 2.78690646098\n",
        "slicemax d= 0.00759858001803 (slicemax=) 127\n",
        "slicemin d= 0.020726452593 (slicemin=) 47\n"
       ]
      },
      {
       "metadata": {},
       "output_type": "pyout",
       "prompt_number": 234,
       "text": [
        "<matplotlib.text.Text at 0x11d1c3a90>"
       ]
      },
      {
       "metadata": {},
       "output_type": "display_data",
       "png": "[encoded data removed]",
       "text": [
        "<matplotlib.figure.Figure at 0x11d136210>"
       ]
      }
     ],
     "prompt_number": 234
    },
    {
     "cell_type": "code",
     "collapsed": false,
     "input": [
      "print len(R)"
     ],
     "language": "python",
     "metadata": {},
     "outputs": [
      {
       "output_type": "stream",
       "stream": "stdout",
       "text": [
        "81\n"
       ]
      }
     ],
     "prompt_number": 235
    },
    {
     "cell_type": "code",
     "collapsed": false,
     "input": [
      "def angle(R, m):\n",
      "    t = m / np.sqrt(R**2 - m**2)\n",
      "    t2 = math.degrees(np.arctan(t)) + 90\n",
      "    return t2"
     ],
     "language": "python",
     "metadata": {},
     "outputs": [],
     "prompt_number": 236
    },
    {
     "cell_type": "code",
     "collapsed": false,
     "input": [
      "def radius(R, m):\n",
      "    r = np.sqrt(R**2 - m**2)\n",
      "    return r"
     ],
     "language": "python",
     "metadata": {},
     "outputs": [],
     "prompt_number": 237
    },
    {
     "cell_type": "code",
     "collapsed": false,
     "input": [
      "theta = angle(R_2, xc)\n",
      "base_r = radius(R_2, xc)\n",
      "print \"The Contact Angle is  \", theta\n",
      "print \"The base radius is  \", base_r"
     ],
     "language": "python",
     "metadata": {},
     "outputs": [
      {
       "output_type": "stream",
       "stream": "stdout",
       "text": [
        "The Contact Angle is   104.762249968\n",
        "The base radius is   3.95964613966\n"
       ]
      }
     ],
     "prompt_number": 238
    },
    {
     "cell_type": "code",
     "collapsed": false,
     "input": [
      "# HERE WE CREATE TWO VECTORS WITH ALL THE FITTED POINTS RESULTING FROM THE SIGMOIDAL FIT APLLIED TO THE DENSITY DATA. THE RESULTING \n",
      "# VECTORS ARE Rprime and Zprime, where we save the coorsinates R and Z, which can be used later to choose the best points \n",
      "# for the circle fit. Rprime comes from the fit, and Zprime is a vector with the shifted positions of the slices.\n",
      "def fit_all(zcoord, input):\n",
      "    slicemin = 1\n",
      "    slicemax = 200\n",
      "    dims = slicemax - slicemin + 1\n",
      "    x = input[0]\n",
      "    i=0\n",
      "    Zprime = np.zeros(dims)\n",
      "    Rprime = np.zeros(dims)\n",
      "    #w = np.zeros(dims)\n",
      "    for a in range(slicemin, slicemax-1):\n",
      "        y2 = input[a]\n",
      "        i = a - slicemin\n",
      "        i = a\n",
      "        Zprime[i] = zcoord[a-1] \n",
      "    #    w[i] = 0.05*(a - 1) - 5.0 - shift -> Ahother way to determine z\n",
      "        At = guess(y2)\n",
      "        params, pcov2 = curve_fit(func, x, y2,[At, 2, 1], maxfev=10000)\n",
      "        Rprime[i] = params[1]\n",
      "    return Zprime, Rprime"
     ],
     "language": "python",
     "metadata": {},
     "outputs": [],
     "prompt_number": 239
    },
    {
     "cell_type": "code",
     "collapsed": false,
     "input": [
      "# WE PLOT Rprime and Zprime\n",
      "Zprime, Rprime = fit_all(zcoord, input)\n",
      "#fig = pl.figure()                  \n",
      "plt.plot(Rprime,Zprime, 'k.')\n",
      "#fig.suptitle(filename)\n",
      "plt.ylim(-3,9)\n",
      "plt.xlim(0,8)\n",
      "plt.ylabel('z [nm]')\n",
      "plt.xlabel('R [nm]')\n",
      "plt.grid(True)\n",
      "#x_fit2-xc"
     ],
     "language": "python",
     "metadata": {},
     "outputs": [
      {
       "metadata": {},
       "output_type": "display_data",
       "png": "[encoded data removed]",
       "text": [
        "<matplotlib.figure.Figure at 0x11be79690>"
       ]
      }
     ],
     "prompt_number": 240
    },
    {
     "cell_type": "code",
     "collapsed": false,
     "input": [
      "zeroline_x = np.linspace(0, 7.0, num=300)\n",
      "zeroline_y = np.zeros(300) \n",
      "plt.plot(zeroline_x,zeroline_y, 'k-')\n",
      "\n",
      "zeroline_y2 = np.zeros(300)- (shift-shift2)\n",
      "plt.plot(zeroline_x,zeroline_y2, 'k-')\n",
      "\n",
      "zeroline_y3 = np.zeros(300)- (shift-shift3)\n",
      "plt.plot(zeroline_x,zeroline_y3, 'k-')\n",
      "\n",
      "\n",
      "theta_fit = linspace(-pi, pi, 180)\n",
      "x_fit2 = R_2*cos(theta_fit)\n",
      "y_fit2 = xc+R_2*sin(theta_fit)\n",
      "circle1, = plt.plot(x_fit2, y_fit2,'--',color=\"blue\", label='Circle Fit', lw=2)\n",
      "# plot(X, C, color=\"blue\", linewidth=2.5, linestyle=\"-\")\n",
      "#Set x limits\n",
      "xlim(0,7)\n",
      "# Set y limits\n",
      "ylim(-1,6)\n",
      "plt.ylabel('z [nm]',fontsize=22)\n",
      "plt.xlabel('R [nm]',fontsize=22)\n",
      "# WE PLOT Rprime and Zprime\n",
      "Zprime, Rprime = fit_all(zcoord, input)                 \n",
      "circle2, = plt.plot(Rprime,Zprime, 'r.', label='All Points',markersize=7)\n",
      "#plt.plot(Rprime,Zprime, '-') \n",
      "circle3, = plt.plot(R,z, 'g*',label='Points Used', markersize=5)\n",
      "plt.legend(handles=[circle1, circle3, circle2])\n",
      "#fig.suptitle(filename)"
     ],
     "language": "python",
     "metadata": {},
     "outputs": [
      {
       "metadata": {},
       "output_type": "pyout",
       "prompt_number": 245,
       "text": [
        "<matplotlib.legend.Legend at 0x11be8b190>"
       ]
      },
      {
       "metadata": {},
       "output_type": "display_data",
       "png": "[encoded data removed]",
       "text": [
        "<matplotlib.figure.Figure at 0x11a8b3ed0>"
       ]
      }
     ],
     "prompt_number": 245
    },
    {
     "cell_type": "code",
     "collapsed": false,
     "input": [
      "print len(Rprime), len(Zprime), Zprime[156]"
     ],
     "language": "python",
     "metadata": {},
     "outputs": [
      {
       "output_type": "stream",
       "stream": "stdout",
       "text": [
        "200 200 6.696\n"
       ]
      }
     ],
     "prompt_number": 159
    },
    {
     "cell_type": "code",
     "collapsed": false,
     "input": [
      "# HERE WE EXTRACT FROM Zprime AND Rprime THE POINTS CORRESPONDING TO THE SLICES BETWEEN SLICEMAX AND SLICEMIN TO TEST THE CIRCLE FIT\n",
      "#slicemin = 45\n",
      "#slicemax = 156\n",
      "dims = slicemax - slicemin + 1\n",
      "i=0\n",
      "Zprime2 = np.zeros(dims)\n",
      "Rprime2 = np.zeros(dims)\n",
      "for a in range(slicemin, slicemax+1):\n",
      "        i = a - slicemin\n",
      "        Zprime2[i] = Zprime[a-1]\n",
      "        Rprime2[i] = Rprime[a-1]"
     ],
     "language": "python",
     "metadata": {},
     "outputs": [],
     "prompt_number": 160
    },
    {
     "cell_type": "code",
     "collapsed": false,
     "input": [
      "Zprime2"
     ],
     "language": "python",
     "metadata": {},
     "outputs": [
      {
       "metadata": {},
       "output_type": "pyout",
       "prompt_number": 161,
       "text": [
        "array([ 3.156,  3.216,  3.276,  3.336,  3.396,  3.456,  3.516,  3.576,\n",
        "        3.636,  3.696,  3.756,  3.816,  3.876,  3.936,  3.996,  4.056,\n",
        "        4.116,  4.176,  4.236,  4.296,  4.356,  4.416,  4.476,  4.536,\n",
        "        4.596,  4.656,  4.716,  4.776,  4.836,  4.896,  4.956,  5.016,\n",
        "        5.076,  5.136,  5.196,  5.256,  5.316,  5.376,  5.436,  5.496,\n",
        "        5.556])"
       ]
      }
     ],
     "prompt_number": 161
    },
    {
     "cell_type": "code",
     "collapsed": false,
     "input": [
      "Rprime2"
     ],
     "language": "python",
     "metadata": {},
     "outputs": [
      {
       "metadata": {},
       "output_type": "pyout",
       "prompt_number": 162,
       "text": [
        "array([ 2.77509645,  2.81047696,  2.80351362,  2.78392453,  2.77088062,\n",
        "        2.79757624,  2.75489049,  2.73956438,  2.71118512,  2.71808167,\n",
        "        2.71599416,  2.66386011,  2.64378755,  2.6229178 ,  2.6230051 ,\n",
        "        2.59648822,  2.53666201,  2.53313338,  2.53259193,  2.48185988,\n",
        "        2.47027833,  2.39668749,  2.40335272,  2.38039214,  2.2938042 ,\n",
        "        2.25781067,  2.22538514,  2.14073328,  2.15688387,  2.09070206,\n",
        "        2.07208927,  1.98689712,  1.93590302,  1.900811  ,  1.74888784,\n",
        "        1.7368531 ,  1.62591476,  1.65614609,  1.54560016,  1.44758847,\n",
        "        1.29967745])"
       ]
      }
     ],
     "prompt_number": 162
    },
    {
     "cell_type": "code",
     "collapsed": false,
     "input": [],
     "language": "python",
     "metadata": {},
     "outputs": []
    }
   ],
   "metadata": {}
  }
 ]
}