{
 "metadata": {
  "name": "",
  "signature": "sha256:6e58e7cc956704e1d4d798cb1e64b2dbde1e10cfda12425c4c2b89a434508db9"
 },
 "nbformat": 3,
 "nbformat_minor": 0,
 "worksheets": [
  {
   "cells": [
    {
     "cell_type": "code",
     "collapsed": false,
     "input": [
      "%pylab inline"
     ],
     "language": "python",
     "metadata": {},
     "outputs": [
      {
       "output_type": "stream",
       "stream": "stdout",
       "text": [
        "Populating the interactive namespace from numpy and matplotlib\n"
       ]
      }
     ],
     "prompt_number": 1
    },
    {
     "cell_type": "code",
     "collapsed": false,
     "input": [
      "%cd /Volumes/UNI/SHELDON/files_for_laila/s0_w1000"
     ],
     "language": "python",
     "metadata": {},
     "outputs": [
      {
       "output_type": "stream",
       "stream": "stdout",
       "text": [
        "/Volumes/UNI/SHELDON/files_for_laila/s0_w1000\n"
       ]
      }
     ],
     "prompt_number": 2
    },
    {
     "cell_type": "code",
     "collapsed": false,
     "input": [
      "import matplotlib \n",
      "import matplotlib.pyplot as plt\n",
      "import numpy as np\n",
      "from scipy.optimize import curve_fit\n",
      "from scipy import stats"
     ],
     "language": "python",
     "metadata": {},
     "outputs": [],
     "prompt_number": 3
    },
    {
     "cell_type": "code",
     "collapsed": false,
     "input": [
      "# We save the data in the arrays \"theta_all\" and \"rbase_all\"\n",
      "theta_all, rbase_all = np.loadtxt('Contact_Angles2_WaterPeak_s0_w1000.txt', skiprows=2, usecols = (0,1),unpack=True)"
     ],
     "language": "python",
     "metadata": {},
     "outputs": [],
     "prompt_number": 18
    },
    {
     "cell_type": "code",
     "collapsed": false,
     "input": [
      "# Here we create two dictionaries named \"angles\" and \"radii\". Each dictionary consists of a set of \"key: value\" pairs, each one corresponding to a different system. The keys are (also) a pair of numbers \"b, c\".\n",
      "# \"b\" refers to the OH-coverage percentage of the SAM, and \"c\" to the number of water molecules of the droplet. For example, the key \"5, 1000\" refers to the system with a surface with 5% OH-coverage, \n",
      "# and a droplet with 1000 water molecules. The value corresponding to each key is an array with the 40 calculated angles/base radii, that belong to that system. For example: \"radii[(11, 3000)]\" would give back\n",
      "# the array with the 40 calculated values of the base radii corresponding to the system with a surface with 11% OH-coverage, and a droplet with 3000 water molecules.\n",
      "angles={}\n",
      "radii={}\n",
      "k = 0\n",
      "for b in [0]:\n",
      "    for c in [1000]:\n",
      "        z = b, c\n",
      "        m = 0\n",
      "        th = [0] * 200\n",
      "        r = [0] * 200\n",
      "        i=k*200\n",
      "        j=(k+1)*200\n",
      "        for l in range(i,j):\n",
      "            th[m]=theta_all[l]\n",
      "            r[m]=rbase_all[l]\n",
      "            m = m +1\n",
      "        angles[z] = th\n",
      "        radii[z] = r\n",
      "        k=k+1\n",
      "\n",
      "theta_s0 = np.zeros(10)\n",
      "rbase_s0 = np.zeros(10)\n",
      "#We choose a system and substitute the values \"b\" and \"c\" to save the corresponding angle and radii values in two arrays named, respectively, \"theta\" and \"rbase\".\n",
      "b=0\n",
      "c=1000\n",
      "theta = array(angles[(b, c)])[40:-1]\n",
      "rbase = array(radii[(b, c)])[40:-1]\n",
      "print \"theta=\", theta\n",
      "print \"rbase=\", rbase\n",
      "print theta[0]"
     ],
     "language": "python",
     "metadata": {},
     "outputs": [
      {
       "output_type": "stream",
       "stream": "stdout",
       "text": [
        "theta= [ 144.06109436  134.41052094  132.63176906  132.81548193  133.35766563\n",
        "  132.87655348  133.61712132  134.40219609  134.07369662  133.11168746\n",
        "  132.21193164  131.80050334  133.71891707  132.44139086  132.26014144\n",
        "  133.10672151  134.64700122  133.24627642  128.81041636  131.90093194\n",
        "  133.91232354  134.40192006  130.61888044  131.8658894   134.25315165\n",
        "  133.83609409  133.34842839  133.6741697   134.31787217  134.51333939\n",
        "  131.00398335  133.09482873  135.22543601  133.49297423  130.22537249\n",
        "  132.49371187  132.38398552  133.41021219  133.95137217  133.41969078\n",
        "  132.74308663  132.16367247  131.73142582  131.7555989   132.02619751\n",
        "  134.67860082  132.54267662  136.46068208  133.90629786  133.07523865\n",
        "  135.23387237  131.40800377  136.03269139  133.01749455  132.30565246\n",
        "  132.67419742  134.40960654  136.779511    132.43374357  132.12874843\n",
        "  131.9083905   134.08713375  134.44677994  131.97053654  132.09312179\n",
        "  135.76395959  136.69557795  134.21144861  133.89209572  132.42748217\n",
        "  132.66649689  132.76832616  132.10119787  132.47978367  135.62967991\n",
        "  133.15719952  132.16013462  133.09230359  131.30823298  132.35753879\n",
        "  128.81049663  132.88899564  135.12699603  132.92528735  133.33375221\n",
        "  134.15654233  132.29518974  131.57162022  135.53631861  134.34769239\n",
        "  131.95339985  131.8286143   133.44195007  132.09625558  132.30766147\n",
        "  130.7861901   132.45390148  132.49270954  132.32725444  132.6737311\n",
        "  134.3992713   133.79619003  130.31389491  129.91710139  130.54829363\n",
        "  134.34016295  133.15227906  132.00339808  133.53946337  131.16844338\n",
        "  133.02283422  131.24321986  130.26675003  132.06642355  134.22640194\n",
        "  134.42375329  135.07558789  130.16459939  130.77572319  133.65547025\n",
        "           nan           nan           nan           nan           nan\n",
        "           nan           nan           nan           nan           nan\n",
        "           nan           nan           nan           nan           nan\n",
        "           nan           nan           nan           nan           nan\n",
        "           nan           nan           nan           nan           nan\n",
        "           nan           nan           nan           nan           nan\n",
        "           nan           nan           nan           nan           nan\n",
        "           nan           nan           nan           nan]\n",
        "rbase= [ 1.14214062  1.40385304  1.45620078  1.44949779  1.43847794  1.44437905\n",
        "  1.43236851  1.40828726  1.42032401  1.44639007  1.46539582  1.47806407\n",
        "  1.42863339  1.46673654  1.46595653  1.44657539  1.40145216  1.44346531\n",
        "  1.55312949  1.47271298  1.42139109  1.40998236  1.50938815  1.47160138\n",
        "  1.41590925  1.42645412  1.43715069  1.4267189   1.41114968  1.40459386\n",
        "  1.49466558  1.44230921  1.38315961  1.43370834  1.52012385  1.46042098\n",
        "  1.45829462  1.43188586  1.42147044  1.43329004  1.44820254  1.46789997\n",
        "  1.48012583  1.48106193  1.47320159  1.40396263  1.46057505  1.35617255\n",
        "  1.42440137  1.4430997   1.38327176  1.48871997  1.36886298  1.44735885\n",
        "  1.46448124  1.45400661  1.40857858  1.34537287  1.46157016  1.46746577\n",
        "  1.47728121  1.41575529  1.40767951  1.47256128  1.4726717   1.37291712\n",
        "  1.34595846  1.4152619   1.42322581  1.46353968  1.45542107  1.45155941\n",
        "  1.47384254  1.45941259  1.37874648  1.44523086  1.47384843  1.4438044\n",
        "  1.4958144   1.46527862  1.55416646  1.45044614  1.38762417  1.44934607\n",
        "  1.436848    1.41823657  1.46859525  1.48147048  1.37996486  1.41158967\n",
        "  1.47415026  1.47915257  1.43427626  1.47226375  1.46251576  1.50393291\n",
        "  1.46252552  1.46153709  1.46382232  1.45462225  1.41129097  1.42433378\n",
        "  1.51847396  1.52928714  1.50262313  1.41055498  1.43946558  1.47159714\n",
        "  1.43260224  1.49682322  1.44396673  1.49342561  1.51847047  1.46947687\n",
        "  1.41463178  1.40742544  1.39255125  1.51706537  1.50396403  1.43277806\n",
        "         nan         nan         nan         nan         nan         nan\n",
        "         nan         nan         nan         nan         nan         nan\n",
        "         nan         nan         nan         nan         nan         nan\n",
        "         nan         nan         nan         nan         nan         nan\n",
        "         nan         nan         nan         nan         nan         nan\n",
        "         nan         nan         nan         nan         nan         nan\n",
        "         nan         nan         nan]\n",
        "144.061094356\n"
       ]
      }
     ],
     "prompt_number": 64
    },
    {
     "cell_type": "code",
     "collapsed": false,
     "input": [
      "# This function allows to use ranges, just as the built-in function range(), but with float arguments.\n",
      "# Taken from \"http://code.activestate.com/recipes/66472-frange-a-range-function-with-float-increments/\"\n",
      "def frange(start, end=None, inc=None):\n",
      "    if end == None:\n",
      "        end = start + 0.0\n",
      "        start = 0.0\n",
      "\n",
      "    if inc == None:\n",
      "        inc = 1.0\n",
      "\n",
      "    L = []\n",
      "    while 1:\n",
      "        next = start + len(L) * inc\n",
      "        if inc > 0 and next >= end:\n",
      "            break\n",
      "        elif inc < 0 and next <= end:\n",
      "            break\n",
      "        L.append(next)\n",
      "    return L"
     ],
     "language": "python",
     "metadata": {},
     "outputs": [],
     "prompt_number": 65
    },
    {
     "cell_type": "code",
     "collapsed": false,
     "input": [
      "# We create an array named \"t\" with the time values.\n",
      "t = np.zeros(len(theta))\n",
      "i=0\n",
      "for d in frange(0, 60, 0.5):\n",
      "    t[i] = d\n",
      "    i = i + 1\n",
      "print len(t), len(theta)"
     ],
     "language": "python",
     "metadata": {},
     "outputs": [
      {
       "output_type": "stream",
       "stream": "stdout",
       "text": [
        "159 159\n"
       ]
      }
     ],
     "prompt_number": 73
    },
    {
     "cell_type": "code",
     "collapsed": false,
     "input": [
      "b=0\n",
      "c=1000\n",
      "thetaX = array(angles[(b, c)])\n",
      "rbaseX = array(radii[(b, c)])\n",
      "nametheta = \"thetas%sw%s.png\" % (b,c)\n",
      "namebaserad = \"rads%sw%s.png\" % (b,c)\n",
      "\n",
      "start=9\n",
      "end=119\n",
      "theta_avr = np.mean(theta[start:end])*np.ones(end - start)\n",
      "rbase_avr = np.mean(rbase[start:end])*np.ones(end - start)\n",
      "t_avr = t[start:end]\n",
      "\n",
      "theta_s0[0]=theta_avr[0] \n",
      "rbase_s0[0]=rbase_avr[0] \n",
      "print theta_s0[0]\n",
      "print rbase_s0[0]\n",
      "\n",
      "#PLOT FOR CONTACT ANGLE OF SAM 0% & 1000 WATER MOLECULES. (Also saved to file)\n",
      "#plt.plot(t,theta,'ro')\n",
      "plt.plot(t,theta)\n",
      "plt.plot(t_avr, theta_avr, linewidth=2.5,)\n",
      "plt.xlabel('time [ns]')\n",
      "plt.ylabel(r'$\\theta$ [deg]')\n",
      "plt.suptitle(r'Contact Angle $\\theta$ vs. Time', fontsize=14, fontweight='bold')\n",
      "#plt.title(r'Contact Angle $\\theta$ vs. Time')\n",
      "plt.text(31, 140, 'SAM 0%, Water 1000 molec.',style='italic',\n",
      "        bbox={'facecolor':'red', 'alpha':0.5, 'pad':10})\n",
      "plt.grid(True)\n",
      "plt.axis([0, 60, 85, 150])\n",
      "pylab.savefig(nametheta)\n",
      "plt.show()\n",
      "\n",
      "#PLOT FOR BASE RADIUS OF SAM 0% & 1000 WATER MOLECULES.(Also saved to file)\n",
      "#plt.plot(t,rbase,'ro')\n",
      "plt.plot(t,rbase)\n",
      "plt.plot(t_avr, rbase_avr, linewidth=2.5,)\n",
      "plt.xlabel('time [ns]')\n",
      "plt.ylabel(r'R$\\ _{BASE} $ [nm]')\n",
      "plt.suptitle(r'Base Radius R$\\ _{BASE}$ vs. Time', fontsize=14, fontweight='bold')\n",
      "#plt.title(r'Contact Angle $\\theta$ vs. Time')\n",
      "plt.text(31, 1.15, 'SAM 0%, Water 1000 molec.',style='italic', bbox={'facecolor':'red', 'alpha':0.5, 'pad':10})\n",
      "plt.grid(True)\n",
      "plt.axis([0, 60, 0, 2])\n",
      "#pylab.savefig(namebaserad)\n",
      "plt.show()"
     ],
     "language": "python",
     "metadata": {},
     "outputs": [
      {
       "output_type": "stream",
       "stream": "stdout",
       "text": [
        "132.920202958\n",
        "1.44841362289\n"
       ]
      },
      {
       "metadata": {},
       "output_type": "display_data",
       "png": "[encoded data removed]",
       "text": [
        "<matplotlib.figure.Figure at 0x110947310>"
       ]
      },
      {
       "metadata": {},
       "output_type": "display_data",
       "png": "[encoded data removed]",
       "text": [
        "<matplotlib.figure.Figure at 0x1101bdf50>"
       ]
      }
     ],
     "prompt_number": 94
    },
    {
     "cell_type": "code",
     "collapsed": false,
     "input": [
      "plt.plot(t,theta,'ro')"
     ],
     "language": "python",
     "metadata": {},
     "outputs": [
      {
       "metadata": {},
       "output_type": "pyout",
       "prompt_number": 62,
       "text": [
        "[<matplotlib.lines.Line2D at 0x1102bcb50>]"
       ]
      },
      {
       "metadata": {},
       "output_type": "display_data",
       "png": "[encoded data removed]",
       "text": [
        "<matplotlib.figure.Figure at 0x1101c3f10>"
       ]
      }
     ],
     "prompt_number": 62
    },
    {
     "cell_type": "code",
     "collapsed": false,
     "input": [],
     "language": "python",
     "metadata": {},
     "outputs": []
    }
   ],
   "metadata": {}
  }
 ]
}