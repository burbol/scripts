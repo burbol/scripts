{
 "metadata": {
  "name": ""
 },
 "nbformat": 3,
 "nbformat_minor": 0,
 "worksheets": [
  {
   "cells": [
    {
     "cell_type": "code",
     "collapsed": false,
     "input": [
      "%pylab inline"
     ],
     "language": "python",
     "metadata": {},
     "outputs": [
      {
       "output_type": "stream",
       "stream": "stdout",
       "text": [
        "Populating the interactive namespace from numpy and matplotlib\n"
       ]
      }
     ],
     "prompt_number": 1
    },
    {
     "cell_type": "code",
     "collapsed": false,
     "input": [
      "# type first on the shell \"source /usr/local/gromacs/bin/GMXRC\"\n",
      "import gromacs\n",
      "gromacs.config.setup()"
     ],
     "language": "python",
     "metadata": {},
     "outputs": [],
     "prompt_number": 3
    },
    {
     "cell_type": "code",
     "collapsed": false,
     "input": [
      "import matplotlib \n",
      "import matplotlib.pyplot as plt\n",
      "import numpy as np\n",
      "import gromacs.formats\n",
      "import scipy.integrate\n",
      "\n",
      "#from scipy.optimize import curve_fit\n",
      "#from scipy import optimize"
     ],
     "language": "python",
     "metadata": {},
     "outputs": [],
     "prompt_number": 5
    },
    {
     "cell_type": "code",
     "collapsed": false,
     "input": [
      "%cd /media/SHELDON/ptensor_density_profiles"
     ],
     "language": "python",
     "metadata": {},
     "outputs": [
      {
       "output_type": "stream",
       "stream": "stdout",
       "text": [
        "/media/SHELDON/ptensor_density_profiles\n"
       ]
      }
     ],
     "prompt_number": 6
    },
    {
     "cell_type": "code",
     "collapsed": false,
     "input": [
      "xvg = gromacs.formats.XVG()\n",
      "xvg.read(\"dens_NPT_sam50_water_ptensor.xvg\")"
     ],
     "language": "python",
     "metadata": {},
     "outputs": [],
     "prompt_number": 32
    },
    {
     "cell_type": "code",
     "collapsed": false,
     "input": [
      "xvg.plot()"
     ],
     "language": "python",
     "metadata": {},
     "outputs": [
      {
       "metadata": {},
       "output_type": "display_data",
       "png": "[encoded data removed]",
       "text": [
        "<matplotlib.figure.Figure at 0x454c810>"
       ]
      }
     ],
     "prompt_number": 33
    },
    {
     "cell_type": "code",
     "collapsed": false,
     "input": [
      "data_s0_sam = xvg.array\n",
      "print len(data_s0_sam[0])"
     ],
     "language": "python",
     "metadata": {},
     "outputs": [
      {
       "output_type": "stream",
       "stream": "stdout",
       "text": [
        "1000\n"
       ]
      }
     ],
     "prompt_number": 9
    },
    {
     "cell_type": "code",
     "collapsed": false,
     "input": [
      "xvg?"
     ],
     "language": "python",
     "metadata": {},
     "outputs": [],
     "prompt_number": 10
    },
    {
     "cell_type": "code",
     "collapsed": false,
     "input": [
      "# We store all the density profiles data in a dictionary\n",
      "sams = [0,5,11,17,33,50,66]\n",
      "water_data = {} # Variable holds water density data for all the surfaces \n",
      "                #-> For Example: water_data[33][0] is the z coordinate and water_data[33][1] is the density of each z coordinate (for sam 33%)\n",
      "surf_data = {} # Variable holds sam density data for all the surfaces\n",
      "for i in sams:\n",
      "    xvg.read(\"dens_NPT_sam\"+str(i)+\"_water_ptensor.xvg\")\n",
      "    water_data[i] = xvg.array\n",
      "    xvg.read(\"dens2_NPT_sam\"+str(i)+\"_water_ptensor.xvg\")\n",
      "    surf_data[i] = xvg.array"
     ],
     "language": "python",
     "metadata": {},
     "outputs": [],
     "prompt_number": 13
    },
    {
     "cell_type": "code",
     "collapsed": false,
     "input": [
      "print surf_data[33]"
     ],
     "language": "python",
     "metadata": {},
     "outputs": [
      {
       "output_type": "stream",
       "stream": "stdout",
       "text": [
        "[[  0.00000000e+00   6.53843000e-03   1.30769000e-02 ...,   6.51881000e+00\n",
        "    6.52535000e+00   6.53189000e+00]\n",
        " [  1.18551000e+03   0.00000000e+00   0.00000000e+00 ...,   0.00000000e+00\n",
        "    0.00000000e+00   0.00000000e+00]]\n"
       ]
      }
     ],
     "prompt_number": 15
    },
    {
     "cell_type": "code",
     "collapsed": false,
     "input": [
      "plt.plot(surf_data[50][0],surf_data[50][1])\n",
      "plt.plot(water_data[50][0],water_data[50][1])\n",
      "plt.show()"
     ],
     "language": "python",
     "metadata": {},
     "outputs": [
      {
       "metadata": {},
       "output_type": "display_data",
       "png": "[encoded data removed]",
       "text": [
        "<matplotlib.figure.Figure at 0x43302d0>"
       ]
      }
     ],
     "prompt_number": 31
    },
    {
     "cell_type": "code",
     "collapsed": false,
     "input": [
      "np.mean(water_data[0][1])"
     ],
     "language": "python",
     "metadata": {},
     "outputs": [
      {
       "metadata": {},
       "output_type": "pyout",
       "prompt_number": 17,
       "text": [
        "595.37209298639902"
       ]
      }
     ],
     "prompt_number": 17
    },
    {
     "cell_type": "code",
     "collapsed": false,
     "input": [
      "### WE TEST 2 METHODS TO CALCULATE THE BULK VALUE OF WATER\n",
      "## FIRST METHOD TO GET THE BULK VALUE: making average with density values higher then 900 Kg/nm3\n",
      "bulk=0.0\n",
      "points=0\n",
      "for j in water_data[0][1]:\n",
      "    if j >= 900:\n",
      "        #print j\n",
      "        bulk = bulk + j\n",
      "        points = points + 1\n",
      "print bulk\n",
      "print points\n",
      "bulk_water = bulk/points\n",
      "print bulk_water\n",
      "\n",
      "\n",
      "## SECOND METHOD TO GET THE BULK VALUE: making average with density values from interval defined from looking at the plot\n",
      "start_num=3.5\n",
      "end_num=6\n",
      "\n",
      "start=round(start_num/water_data[0][0][1])\n",
      "end=round(end_num/water_data[0][0][1])\n",
      "bulk=0.0\n",
      "points=0\n",
      "for k in range(1000):\n",
      "    if k > start and k < end:\n",
      "        j = water_data[0][1][k]\n",
      "        #print j\n",
      "        bulk = bulk + j\n",
      "        points = points + 1\n",
      "print bulk\n",
      "print points\n",
      "bulk_water = bulk/points\n",
      "print bulk_water"
     ],
     "language": "python",
     "metadata": {},
     "outputs": [
      {
       "output_type": "stream",
       "stream": "stdout",
       "text": [
        "576022.38\n",
        "587\n",
        "981.298773424\n",
        "361270.226\n",
        "368\n",
        "981.712570652\n"
       ]
      }
     ],
     "prompt_number": 18
    },
    {
     "cell_type": "code",
     "collapsed": false,
     "input": [
      "bulk_water=np.zeros(len(sams))\n",
      "bulk_surf=np.zeros(len(sams))"
     ],
     "language": "python",
     "metadata": {},
     "outputs": [],
     "prompt_number": 19
    },
    {
     "cell_type": "code",
     "collapsed": false,
     "input": [
      "scipy.integrate.simps(surf_data[0][1], surf_data[0][0])"
     ],
     "language": "python",
     "metadata": {},
     "outputs": [
      {
       "metadata": {},
       "output_type": "pyout",
       "prompt_number": 21,
       "text": [
        "2167.1131990012009"
       ]
      }
     ],
     "prompt_number": 21
    },
    {
     "cell_type": "code",
     "collapsed": false,
     "input": [
      "scipy.integrate.simps(water_data[0][1], water_data[0][0])"
     ],
     "language": "python",
     "metadata": {},
     "outputs": [
      {
       "metadata": {},
       "output_type": "pyout",
       "prompt_number": 24,
       "text": [
        "4035.9689393015924"
       ]
      }
     ],
     "prompt_number": 24
    },
    {
     "cell_type": "code",
     "collapsed": false,
     "input": [],
     "language": "python",
     "metadata": {},
     "outputs": []
    }
   ],
   "metadata": {}
  }
 ]
}