{
 "metadata": {
  "name": "Peak_Differences"
 },
 "nbformat": 3,
 "nbformat_minor": 0,
 "worksheets": [
  {
   "cells": [
    {
     "cell_type": "code",
     "collapsed": false,
     "input": [
      "%pylab inline"
     ],
     "language": "python",
     "metadata": {},
     "outputs": [
      {
       "output_type": "stream",
       "stream": "stdout",
       "text": [
        "\n",
        "Welcome to pylab, a matplotlib-based Python environment [backend: module://IPython.zmq.pylab.backend_inline].\n",
        "For more information, type 'help(pylab)'.\n"
       ]
      }
     ],
     "prompt_number": 1
    },
    {
     "cell_type": "code",
     "collapsed": false,
     "input": [
      "%cd /home/eixeres/Downloads/"
     ],
     "language": "python",
     "metadata": {},
     "outputs": [
      {
       "output_type": "stream",
       "stream": "stdout",
       "text": [
        "/home/eixeres/Downloads\n"
       ]
      }
     ],
     "prompt_number": 2
    },
    {
     "cell_type": "code",
     "collapsed": false,
     "input": [
      "import matplotlib \n",
      "import matplotlib.pyplot as plt\n",
      "import numpy as np"
     ],
     "language": "python",
     "metadata": {},
     "outputs": [],
     "prompt_number": 3
    },
    {
     "cell_type": "code",
     "collapsed": false,
     "input": [
      "SamPeaks = np.loadtxt('SAMPeaks.txt', skiprows=1, unpack=True)"
     ],
     "language": "python",
     "metadata": {},
     "outputs": [],
     "prompt_number": 4
    },
    {
     "cell_type": "code",
     "collapsed": false,
     "input": [
      "WaterPeaks = np.loadtxt('WaterPeaksFinal.txt', skiprows=1, unpack=True)"
     ],
     "language": "python",
     "metadata": {},
     "outputs": [],
     "prompt_number": 7
    },
    {
     "cell_type": "code",
     "collapsed": false,
     "input": [
      "Difference = np.zeros(len(SamPeaks))"
     ],
     "language": "python",
     "metadata": {},
     "outputs": [],
     "prompt_number": 8
    },
    {
     "cell_type": "code",
     "collapsed": false,
     "input": [
      "Difference = WaterPeaks - SamPeaks"
     ],
     "language": "python",
     "metadata": {},
     "outputs": [],
     "prompt_number": 9
    },
    {
     "cell_type": "code",
     "collapsed": false,
     "input": [
      "print Difference"
     ],
     "language": "python",
     "metadata": {},
     "outputs": [
      {
       "output_type": "stream",
       "stream": "stdout",
       "text": [
        "[ 0.36   0.348  0.348  0.36   0.348  0.372  0.36   0.384  0.384  0.384\n",
        "  0.336  0.348  0.348  0.348  0.348  0.348  0.36   0.348  0.348  0.348\n",
        "  0.348  0.336  0.336  0.348  0.336  0.348  0.348  0.348  0.336  0.336\n",
        "  0.336  0.348  0.348  0.348  0.336  0.336  0.336  0.336  0.336  0.336]\n"
       ]
      }
     ],
     "prompt_number": 10
    },
    {
     "cell_type": "code",
     "collapsed": false,
     "input": [
      "MiddlePoint = np.zeros(len(SamPeaks)) "
     ],
     "language": "python",
     "metadata": {},
     "outputs": [],
     "prompt_number": 11
    },
    {
     "cell_type": "code",
     "collapsed": false,
     "input": [
      "MiddlePoint = SamPeaks + (Difference/2)"
     ],
     "language": "python",
     "metadata": {},
     "outputs": [],
     "prompt_number": 12
    },
    {
     "cell_type": "code",
     "collapsed": false,
     "input": [
      "print MiddlePoint"
     ],
     "language": "python",
     "metadata": {},
     "outputs": [
      {
       "output_type": "stream",
       "stream": "stdout",
       "text": [
        "[ 2.34   2.334  2.334  2.34   2.334  2.346  2.34   2.352  2.352  2.352\n",
        "  2.484  2.49   2.49   2.49   2.49   2.49   2.496  2.49   2.49   2.49   2.49\n",
        "  2.484  2.484  2.49   2.484  2.49   2.49   2.49   2.484  2.484  2.472\n",
        "  2.478  2.478  2.478  2.472  2.472  2.472  2.472  2.472  2.472]\n"
       ]
      }
     ],
     "prompt_number": 14
    },
    {
     "cell_type": "code",
     "collapsed": false,
     "input": [
      "print SamPeaks"
     ],
     "language": "python",
     "metadata": {},
     "outputs": [
      {
       "output_type": "stream",
       "stream": "stdout",
       "text": [
        "[ 2.16   2.16   2.16   2.16   2.16   2.16   2.16   2.16   2.16   2.16\n",
        "  2.316  2.316  2.316  2.316  2.316  2.316  2.316  2.316  2.316  2.316\n",
        "  2.316  2.316  2.316  2.316  2.316  2.316  2.316  2.316  2.316  2.316\n",
        "  2.304  2.304  2.304  2.304  2.304  2.304  2.304  2.304  2.304  2.304]\n"
       ]
      }
     ],
     "prompt_number": 15
    },
    {
     "cell_type": "code",
     "collapsed": false,
     "input": [
      "print WaterPeaks"
     ],
     "language": "python",
     "metadata": {},
     "outputs": [
      {
       "output_type": "stream",
       "stream": "stdout",
       "text": [
        "[ 2.52   2.508  2.508  2.52   2.508  2.532  2.52   2.544  2.544  2.544\n",
        "  2.652  2.664  2.664  2.664  2.664  2.664  2.676  2.664  2.664  2.664\n",
        "  2.664  2.652  2.652  2.664  2.652  2.664  2.664  2.664  2.652  2.652\n",
        "  2.64   2.652  2.652  2.652  2.64   2.64   2.64   2.64   2.64   2.64 ]\n"
       ]
      }
     ],
     "prompt_number": 16
    },
    {
     "cell_type": "code",
     "collapsed": false,
     "input": [
      "myfile = open('MiddlePoint.txt', 'w')\n",
      "print >> myfile, '{0}'.format('Middle Point between last SAM Peak and first Water Peak')\n",
      "for i in range(0,len(MiddlePoint)):\n",
      "    print >> myfile, MiddlePoint[i]"
     ],
     "language": "python",
     "metadata": {},
     "outputs": [],
     "prompt_number": 21
    },
    {
     "cell_type": "code",
     "collapsed": false,
     "input": [],
     "language": "python",
     "metadata": {},
     "outputs": []
    }
   ],
   "metadata": {}
  }
 ]
}