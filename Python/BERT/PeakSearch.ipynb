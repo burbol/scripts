{
 "metadata": {
  "name": "PeakSearch"
 },
 "nbformat": 3,
 "nbformat_minor": 0,
 "worksheets": [
  {
   "cells": [
    {
     "cell_type": "code",
     "collapsed": false,
     "input": [
      "%pylab inline"
     ],
     "language": "python",
     "metadata": {},
     "outputs": [
      {
       "output_type": "stream",
       "stream": "stdout",
       "text": [
        "\n",
        "Welcome to pylab, a matplotlib-based Python environment [backend: module://IPython.zmq.pylab.backend_inline].\n",
        "For more information, type 'help(pylab)'.\n"
       ]
      }
     ],
     "prompt_number": 1
    },
    {
     "cell_type": "code",
     "collapsed": false,
     "input": [
      "import gromacs\n",
      "gromacs.config.setup()"
     ],
     "language": "python",
     "metadata": {},
     "outputs": [],
     "prompt_number": 3
    },
    {
     "cell_type": "code",
     "collapsed": false,
     "input": [
      "import matplotlib \n",
      "import matplotlib.pyplot as plt\n",
      "from scipy.optimize import curve_fit\n",
      "import numpy as np\n",
      "import gromacs.formats"
     ],
     "language": "python",
     "metadata": {},
     "outputs": [],
     "prompt_number": 5
    },
    {
     "cell_type": "code",
     "collapsed": false,
     "input": [
      "%cd /home/eixeres/Downloads"
     ],
     "language": "python",
     "metadata": {},
     "outputs": [
      {
       "output_type": "stream",
       "stream": "stdout",
       "text": [
        "/home/eixeres/Downloads\n"
       ]
      }
     ],
     "prompt_number": 7
    },
    {
     "cell_type": "code",
     "collapsed": false,
     "input": [
      "xvg = gromacs.formats.XVG()\n",
      "xvg.read(\"g_density_NVT_sam0_water5000_2.xvg\")"
     ],
     "language": "python",
     "metadata": {},
     "outputs": [],
     "prompt_number": 9
    },
    {
     "cell_type": "code",
     "collapsed": false,
     "input": [
      "xvg.plot()"
     ],
     "language": "python",
     "metadata": {},
     "outputs": [
      {
       "output_type": "display_data",
       "png": "[encoded data removed]"
      }
     ],
     "prompt_number": 10
    },
    {
     "cell_type": "code",
     "collapsed": false,
     "input": [
      "input = xvg.array"
     ],
     "language": "python",
     "metadata": {},
     "outputs": [],
     "prompt_number": 11
    },
    {
     "cell_type": "code",
     "collapsed": false,
     "input": [
      "x = input[0]\n",
      "y = input[1]\n",
      "print x[250], y[250]"
     ],
     "language": "python",
     "metadata": {},
     "outputs": [
      {
       "output_type": "stream",
       "stream": "stdout",
       "text": [
        "3.0 105.565\n"
       ]
      }
     ],
     "prompt_number": 26
    },
    {
     "cell_type": "code",
     "collapsed": false,
     "input": [
      "y = numpy.array(y)\n",
      "max_y = max(y)  # Find the maximum density value\n",
      "max_x = x[y.argmax()]  # Find the x value corresponding to the maximum density value\n",
      "print max_x, max_y"
     ],
     "language": "python",
     "metadata": {},
     "outputs": [
      {
       "output_type": "stream",
       "stream": "stdout",
       "text": [
        "4.932 168.718\n"
       ]
      }
     ],
     "prompt_number": 17
    },
    {
     "cell_type": "code",
     "collapsed": false,
     "input": [
      "max_y2 = xvg.max  # Find the maximum density value\n",
      "max_x2 = x[nonzero(y == max_y2)[0][0]]  # Find the x value corresponding to the maximum density value\n",
      "max_y2 = float(max_y2)\n",
      "print max_x2, max_y2"
     ],
     "language": "python",
     "metadata": {},
     "outputs": [
      {
       "output_type": "stream",
       "stream": "stdout",
       "text": [
        "4.932 168.718\n"
       ]
      }
     ],
     "prompt_number": 30
    },
    {
     "cell_type": "code",
     "collapsed": false,
     "input": [
      "import peakdetect"
     ],
     "language": "python",
     "metadata": {},
     "outputs": [],
     "prompt_number": 34
    },
    {
     "cell_type": "code",
     "collapsed": false,
     "input": [
      "pk = peakdetect.peakdetect"
     ],
     "language": "python",
     "metadata": {},
     "outputs": [],
     "prompt_number": 39
    },
    {
     "cell_type": "code",
     "collapsed": false,
     "input": [
      "[MAXTAB, MINTAB] = pk(y, x, lookahead = 4, delta=0)"
     ],
     "language": "python",
     "metadata": {},
     "outputs": [],
     "prompt_number": 48
    },
    {
     "cell_type": "code",
     "collapsed": false,
     "input": [
      "print MAXTAB"
     ],
     "language": "python",
     "metadata": {},
     "outputs": [
      {
       "output_type": "stream",
       "stream": "stdout",
       "text": [
        "[[2.508, 84.066599999999994], [3.8519999999999999, 148.458], [4.2720000000000002, 159.12100000000001], [4.548, 164.797], [4.7400000000000002, 166.25299999999999], [4.8479999999999999, 167.98599999999999], [4.968, 167.309], [5.0999999999999996, 167.661], [5.2320000000000002, 167.13800000000001], [5.3399999999999999, 166.65100000000001], [5.46, 165.22200000000001], [5.532, 163.226], [5.8200000000000003, 158.21799999999999], [5.8799999999999999, 156.328], [6.2279999999999998, 145.911], [9.0960000000000001, 0.026731899999999999], [9.1920000000000002, 0.017234099999999999], [9.3119999999999994, 0.021479700000000001], [9.5399999999999991, 0.027957900000000001], [9.6240000000000006, 0.0204732], [9.6959999999999997, 0.0212281], [9.7680000000000007, 0.0177374], [9.9600000000000009, 0.025725399999999999], [10.02, 0.029971000000000001], [10.103999999999999, 0.017485799999999999], [10.272, 0.020976499999999999], [10.428000000000001, 0.013743399999999999], [10.667999999999999, 0.020976499999999999], [10.872, 0.025222100000000001], [11.052, 0.021731400000000001], [11.135999999999999, 0.016982500000000001], [11.220000000000001, 0.0167309], [11.352, 0.0287128], [11.412000000000001, 0.0129885], [11.58, 0.029467699999999999], [11.736000000000001, 0.030977500000000002], [11.795999999999999, 0.0427079], [11.843999999999999, 0.040475299999999999]]\n"
       ]
      }
     ],
     "prompt_number": 49
    },
    {
     "cell_type": "code",
     "collapsed": false,
     "input": [
      "print MAXTAB[0]"
     ],
     "language": "python",
     "metadata": {},
     "outputs": [
      {
       "output_type": "stream",
       "stream": "stdout",
       "text": [
        "[2.508, 84.066599999999994]\n"
       ]
      }
     ],
     "prompt_number": 50
    },
    {
     "cell_type": "code",
     "collapsed": false,
     "input": [],
     "language": "python",
     "metadata": {},
     "outputs": []
    }
   ],
   "metadata": {}
  }
 ]
}