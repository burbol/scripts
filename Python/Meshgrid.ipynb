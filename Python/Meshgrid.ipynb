{
 "metadata": {
  "name": "Meshgrid"
 },
 "nbformat": 3,
 "nbformat_minor": 0,
 "worksheets": [
  {
   "cells": [
    {
     "cell_type": "code",
     "collapsed": false,
     "input": [
      "%pylab inline"
     ],
     "language": "python",
     "metadata": {},
     "outputs": [
      {
       "output_type": "stream",
       "stream": "stdout",
       "text": [
        "\n",
        "Welcome to pylab, a matplotlib-based Python environment [backend: module://IPython.zmq.pylab.backend_inline].\n",
        "For more information, type 'help(pylab)'.\n"
       ]
      }
     ],
     "prompt_number": 1
    },
    {
     "cell_type": "code",
     "collapsed": false,
     "input": [
      "import matplotlib \n",
      "import matplotlib.pyplot as plt\n",
      "import numpy as np\n",
      "from scipy.optimize import curve_fit"
     ],
     "language": "python",
     "metadata": {},
     "outputs": [],
     "prompt_number": 2
    },
    {
     "cell_type": "code",
     "collapsed": false,
     "input": [
      "nx, ny = (3, 2)\n",
      "x = np.linspace(0, 1, nx)\n",
      "y = np.linspace(0, 1, ny)\n",
      "print \"x = \", x\n",
      "print \"y = \", y\n",
      "x = [10,0]\n",
      "y = [1,10]\n",
      "xv, yv = meshgrid(x, y)\n",
      "print xv\n",
      "print yv\n",
      "plt.plot(xv, yv, 'o')"
     ],
     "language": "python",
     "metadata": {},
     "outputs": [
      {
       "output_type": "stream",
       "stream": "stdout",
       "text": [
        "x =  [ 0.   0.5  1. ]\n",
        "y =  [ 0.  1.]\n"
       ]
      }
     ],
     "prompt_number": 11
    },
    {
     "cell_type": "code",
     "collapsed": false,
     "input": [
      "X, Y = np.meshgrid([1,2,3], [4,5,6,7])\n",
      "print X\n",
      "print Y\n",
      "plt.plot(X, Y, 'o')"
     ],
     "language": "python",
     "metadata": {},
     "outputs": [
      {
       "output_type": "stream",
       "stream": "stdout",
       "text": [
        "[[1 2 3]\n",
        " [1 2 3]\n",
        " [1 2 3]\n",
        " [1 2 3]]\n",
        "[[4 4 4]\n",
        " [5 5 5]\n",
        " [6 6 6]\n",
        " [7 7 7]]\n"
       ]
      },
      {
       "output_type": "pyout",
       "prompt_number": 55,
       "text": [
        "[<matplotlib.lines.Line2D at 0x42cc9d0>,\n",
        " <matplotlib.lines.Line2D at 0x42cca50>,\n",
        " <matplotlib.lines.Line2D at 0x42ccbd0>]"
       ]
      },
      {
       "output_type": "display_data",
       "png": "[encoded data removed]"
      }
     ],
     "prompt_number": 55
    },
    {
     "cell_type": "code",
     "collapsed": false,
     "input": [
      "mgrid = np.lib.index_tricks.nd_grid()\n",
      "X5, Y5 = np.mgrid[0:14, 5:10]\n",
      "plt.plot(X5, Y5, 'o')\n",
      "print X5\n",
      "print Y5"
     ],
     "language": "python",
     "metadata": {},
     "outputs": [
      {
       "output_type": "stream",
       "stream": "stdout",
       "text": [
        "[[ 0  0  0  0  0]\n",
        " [ 1  1  1  1  1]\n",
        " [ 2  2  2  2  2]\n",
        " [ 3  3  3  3  3]\n",
        " [ 4  4  4  4  4]\n",
        " [ 5  5  5  5  5]\n",
        " [ 6  6  6  6  6]\n",
        " [ 7  7  7  7  7]\n",
        " [ 8  8  8  8  8]\n",
        " [ 9  9  9  9  9]\n",
        " [10 10 10 10 10]\n",
        " [11 11 11 11 11]\n",
        " [12 12 12 12 12]\n",
        " [13 13 13 13 13]]\n",
        "[[5 6 7 8 9]\n",
        " [5 6 7 8 9]\n",
        " [5 6 7 8 9]\n",
        " [5 6 7 8 9]\n",
        " [5 6 7 8 9]\n",
        " [5 6 7 8 9]\n",
        " [5 6 7 8 9]\n",
        " [5 6 7 8 9]\n",
        " [5 6 7 8 9]\n",
        " [5 6 7 8 9]\n",
        " [5 6 7 8 9]\n",
        " [5 6 7 8 9]\n",
        " [5 6 7 8 9]\n",
        " [5 6 7 8 9]]\n"
       ]
      },
      {
       "output_type": "display_data",
       "png": "[encoded data removed]"
      }
     ],
     "prompt_number": 71
    },
    {
     "cell_type": "code",
     "collapsed": false,
     "input": [
      "w,z = np.mgrid[0:5,0:5]\n",
      "print w\n",
      "print z\n",
      "plt.plot(z, w, 'o')"
     ],
     "language": "python",
     "metadata": {},
     "outputs": [
      {
       "output_type": "stream",
       "stream": "stdout",
       "text": [
        "[[0 0 0 0 0]\n",
        " [1 1 1 1 1]\n",
        " [2 2 2 2 2]\n",
        " [3 3 3 3 3]\n",
        " [4 4 4 4 4]]\n",
        "[[0 1 2 3 4]\n",
        " [0 1 2 3 4]\n",
        " [0 1 2 3 4]\n",
        " [0 1 2 3 4]\n",
        " [0 1 2 3 4]]\n"
       ]
      },
      {
       "output_type": "pyout",
       "prompt_number": 72,
       "text": [
        "[<matplotlib.lines.Line2D at 0x4705790>,\n",
        " <matplotlib.lines.Line2D at 0x4705890>,\n",
        " <matplotlib.lines.Line2D at 0x4705610>,\n",
        " <matplotlib.lines.Line2D at 0x4705dd0>,\n",
        " <matplotlib.lines.Line2D at 0x4705a50>]"
       ]
      },
      {
       "output_type": "display_data",
       "png": "[encoded data removed]"
      }
     ],
     "prompt_number": 72
    },
    {
     "cell_type": "code",
     "collapsed": false,
     "input": [
      "np.mgrid[-1:1:5j]"
     ],
     "language": "python",
     "metadata": {},
     "outputs": [
      {
       "output_type": "pyout",
       "prompt_number": 42,
       "text": [
        "array([-1. , -0.5,  0. ,  0.5,  1. ])"
       ]
      }
     ],
     "prompt_number": 42
    },
    {
     "cell_type": "code",
     "collapsed": false,
     "input": [
      "x2,y2 = np.mgrid[1:10,1:10]\n",
      "plt.plot(x2, y2, 'o')"
     ],
     "language": "python",
     "metadata": {},
     "outputs": [
      {
       "output_type": "pyout",
       "prompt_number": 45,
       "text": [
        "[<matplotlib.lines.Line2D at 0x37dff50>,\n",
        " <matplotlib.lines.Line2D at 0x37dffd0>,\n",
        " <matplotlib.lines.Line2D at 0x37e3190>,\n",
        " <matplotlib.lines.Line2D at 0x37e32d0>,\n",
        " <matplotlib.lines.Line2D at 0x37e3410>,\n",
        " <matplotlib.lines.Line2D at 0x37e3550>,\n",
        " <matplotlib.lines.Line2D at 0x37e3690>,\n",
        " <matplotlib.lines.Line2D at 0x37bdd90>,\n",
        " <matplotlib.lines.Line2D at 0x37e3910>]"
       ]
      },
      {
       "output_type": "display_data",
       "png": "[encoded data removed]"
      }
     ],
     "prompt_number": 45
    },
    {
     "cell_type": "code",
     "collapsed": false,
     "input": [
      "x3,y3 = np.mgrid[-5:5,10:13]\n",
      "plt.plot(x3, y3, 'o')"
     ],
     "language": "python",
     "metadata": {},
     "outputs": [
      {
       "output_type": "pyout",
       "prompt_number": 75,
       "text": [
        "[<matplotlib.lines.Line2D at 0x338e590>,\n",
        " <matplotlib.lines.Line2D at 0x338e610>,\n",
        " <matplotlib.lines.Line2D at 0x338e110>]"
       ]
      },
      {
       "output_type": "display_data",
       "png": "[encoded data removed]"
      }
     ],
     "prompt_number": 75
    },
    {
     "cell_type": "code",
     "collapsed": false,
     "input": [],
     "language": "python",
     "metadata": {},
     "outputs": []
    }
   ],
   "metadata": {}
  }
 ]
}