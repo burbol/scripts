{
 "metadata": {
  "name": "First_NoteBook_UNI"
 },
 "nbformat": 3,
 "nbformat_minor": 0,
 "worksheets": [
  {
   "cells": [
    {
     "cell_type": "code",
     "collapsed": false,
     "input": "%pylab inline",
     "language": "python",
     "metadata": {},
     "outputs": [
      {
       "output_type": "stream",
       "stream": "stdout",
       "text": "\nWelcome to pylab, a matplotlib-based Python environment [backend: module://IPython.zmq.pylab.backend_inline].\nFor more information, type 'help(pylab)'.\n"
      }
     ],
     "prompt_number": 1
    },
    {
     "cell_type": "code",
     "collapsed": false,
     "input": "import matplotlib.pyplot as plt\nimport numpy as np\nfrom scipy.optimize import curve_fit",
     "language": "python",
     "metadata": {},
     "outputs": [],
     "prompt_number": 2
    },
    {
     "cell_type": "code",
     "collapsed": false,
     "input": "%cd Berendsen/densmaps_s5_w1000/",
     "language": "python",
     "metadata": {},
     "outputs": [
      {
       "output_type": "stream",
       "stream": "stdout",
       "text": "[Errno 2] No such file or directory: 'Berendsen/densmaps_s5_w1000/'\n/Users/burbol\n"
      }
     ],
     "prompt_number": 1
    },
    {
     "cell_type": "code",
     "collapsed": false,
     "input": "input = np.loadtxt(\"densmap_5pc_1000_12ns_14ns.dat\")",
     "language": "python",
     "metadata": {},
     "outputs": [],
     "prompt_number": 5
    },
    {
     "cell_type": "code",
     "collapsed": false,
     "input": "slice = 91\nx = input[0]\ny = input[slice]",
     "language": "python",
     "metadata": {},
     "outputs": [],
     "prompt_number": 11
    },
    {
     "cell_type": "code",
     "collapsed": false,
     "input": "len(np.transpose(np.nonzero(y)))",
     "language": "python",
     "metadata": {},
     "outputs": [
      {
       "output_type": "pyout",
       "prompt_number": 14,
       "text": "5"
      }
     ],
     "prompt_number": 14
    },
    {
     "cell_type": "code",
     "collapsed": false,
     "input": "x[np.nonzero(y)],  np.nonzero(y), len(np.nonzero(y)), np.transpose(np.nonzero(y))[0]",
     "language": "python",
     "metadata": {},
     "outputs": [
      {
       "output_type": "pyout",
       "prompt_number": 15,
       "text": "(array([ 0.  ,  4.75,  4.8 ,  4.85,  4.9 ]),\n (array([ 0, 96, 97, 98, 99]),),\n 1,\n array([0]))"
      }
     ],
     "prompt_number": 15
    },
    {
     "cell_type": "code",
     "collapsed": false,
     "input": "i = len(np.transpose(np.nonzero(y)))-1\nu = np.zeros(i+1)\nfor j in range(0,i):\n    u[j] = np.transpose(np.nonzero(y))[j]\n    int(u[j])\n    print u[j]",
     "language": "python",
     "metadata": {},
     "outputs": [
      {
       "output_type": "stream",
       "stream": "stdout",
       "text": "0.0\n1.0\n2.0\n3.0\n4.0\n5.0\n6.0\n7.0\n8.0\n9.0\n10.0\n11.0\n12.0\n13.0\n14.0\n15.0\n16.0\n17.0\n18.0\n19.0\n20.0\n21.0\n22.0\n23.0\n24.0\n25.0\n26.0\n27.0\n28.0\n29.0\n30.0\n31.0\n32.0\n33.0\n34.0\n35.0\n36.0\n"
      }
     ],
     "prompt_number": 55
    },
    {
     "cell_type": "code",
     "collapsed": false,
     "input": "u",
     "language": "python",
     "metadata": {},
     "outputs": [
      {
       "output_type": "pyout",
       "prompt_number": 56,
       "text": "array([  0.,   1.,   2.,   3.,   4.,   5.,   6.,   7.,   8.,   9.,  10.,\n        11.,  12.,  13.,  14.,  15.,  16.,  17.,  18.,  19.,  20.,  21.,\n        22.,  23.,  24.,  25.,  26.,  27.,  28.,  29.,  30.,  31.,  32.,\n        33.,  34.,  35.,  36.,   0.])"
      }
     ],
     "prompt_number": 56
    },
    {
     "cell_type": "code",
     "collapsed": false,
     "input": "y",
     "language": "python",
     "metadata": {},
     "outputs": [
      {
       "output_type": "pyout",
       "prompt_number": 57,
       "text": "array([   2.8     ,  228.043   ,  107.687   ,   98.8186  ,   73.2995  ,\n        101.352   ,   84.6523  ,   93.5561  ,   89.9502  ,   91.6643  ,\n        105.02    ,   88.6834  ,   89.2342  ,   90.457   ,   73.9028  ,\n         76.0143  ,   85.2096  ,   67.9522  ,   61.8974  ,   58.5515  ,\n         55.5489  ,   42.1787  ,   31.8199  ,   31.6726  ,   25.8772  ,\n         20.1671  ,   17.5131  ,   10.7567  ,    8.9835  ,    6.00113 ,\n          8.05236 ,    4.04994 ,    3.61973 ,    0.584726,    0.56727 ,\n          0.275414,    0.267656,    0.260323,    0.      ,    0.      ,\n          0.      ,    0.      ,    0.      ,    0.      ,    0.      ,\n          0.      ,    0.      ,    0.      ,    0.      ,    0.      ,\n          0.      ,    0.      ,    0.      ,    0.      ,    0.      ,\n          0.      ,    0.      ,    0.      ,    0.      ,    0.      ,\n          0.      ,    0.      ,    0.      ,    0.      ,    0.      ,\n          0.      ,    0.      ,    0.      ,    0.      ,    0.      ,\n          0.      ,    0.      ,    0.      ,    0.      ,    0.      ,\n          0.      ,    0.      ,    0.      ,    0.      ,    0.      ,\n          0.      ,    0.      ,    0.      ,    0.      ,    0.      ,\n          0.      ,    0.      ,    0.      ,    0.      ,    0.      ,\n          0.      ,    0.      ,    0.      ,    0.      ,    0.      ,\n          0.      ,    0.      ,    0.      ,    0.      ,    0.      ,\n          0.      ])"
      }
     ],
     "prompt_number": 57
    },
    {
     "cell_type": "code",
     "collapsed": false,
     "input": "def checkzero(s):\n    i = len(np.transpose(np.nonzero(s)))\n    if i > 1: \n        return True\n    else: \n         return False",
     "language": "python",
     "metadata": {},
     "outputs": [],
     "prompt_number": 6
    },
    {
     "cell_type": "code",
     "collapsed": false,
     "input": "zeroslice = 0\nfor slice in range(70,150):\n    y = input[slice]\n    if checkzero(y): \n       zeroslice = slice\n       print zeroslice\n       break\n    else: continue",
     "language": "python",
     "metadata": {},
     "outputs": [
      {
       "output_type": "stream",
       "stream": "stdout",
       "text": "90\n"
      }
     ],
     "prompt_number": 7
    },
    {
     "cell_type": "code",
     "collapsed": false,
     "input": "print zeroslice\ny = input[zeroslice]",
     "language": "python",
     "metadata": {},
     "outputs": [
      {
       "output_type": "stream",
       "stream": "stdout",
       "text": "90\n"
      }
     ],
     "prompt_number": 8
    },
    {
     "cell_type": "code",
     "collapsed": false,
     "input": "plt.plot(x,y)\nplt.axis([0.05, 5, 0, 150])\nplt.show()",
     "language": "python",
     "metadata": {},
     "outputs": [
      {
       "output_type": "display_data",
       "png": "[encoded data removed]"
      }
     ],
     "prompt_number": 12
    },
    {
     "cell_type": "code",
     "collapsed": false,
     "input": "def func(r, ro, R, d):\n    return (ro/2)*(1-np.tanh(2*(r-R)/d))",
     "language": "python",
     "metadata": {},
     "outputs": [],
     "prompt_number": 13
    },
    {
     "cell_type": "code",
     "collapsed": false,
     "input": "popt, pcov = curve_fit(func, x, y,[100, 3, 1])\nprint popt",
     "language": "python",
     "metadata": {},
     "outputs": [
      {
       "output_type": "stream",
       "stream": "stdout",
       "text": "[-8.99388226 -0.02793579  0.03143563]\n"
      }
     ],
     "prompt_number": 14
    },
    {
     "cell_type": "code",
     "collapsed": false,
     "input": "import pylab as pl\npl.plot(x, func(x, *popt), 'r-')\npl.plot(x,y,'k.')",
     "language": "python",
     "metadata": {},
     "outputs": [
      {
       "output_type": "pyout",
       "prompt_number": 15,
       "text": "[<matplotlib.lines.Line2D at 0x6233d30>]"
      },
      {
       "output_type": "display_data",
       "png": "[encoded data removed]"
      }
     ],
     "prompt_number": 15
    },
    {
     "cell_type": "code",
     "collapsed": false,
     "input": "k = func(0,*popt)\nprint k",
     "language": "python",
     "metadata": {},
     "outputs": [
      {
       "output_type": "stream",
       "stream": "stdout",
       "text": "-0.249995676806\n"
      }
     ],
     "prompt_number": 16
    },
    {
     "cell_type": "code",
     "collapsed": false,
     "input": "def checkslice(s):\n    popt, pcov = curve_fit(func, x, s,[100, 3, 1])\n    k = func(0,*popt)\n    if k > 90:\n        print popt\n        return True\n    else: \n        return False",
     "language": "python",
     "metadata": {},
     "outputs": [],
     "prompt_number": 17
    },
    {
     "cell_type": "code",
     "collapsed": false,
     "input": "slicemin = 0\nfor slice in range(70,150):\n    y = input[slice]\n    if checkslice(y): \n       slicemin = slice\n       print slicemin\n       break\n    else: continue",
     "language": "python",
     "metadata": {},
     "outputs": [
      {
       "output_type": "stream",
       "stream": "stdout",
       "text": "[ 121.80442914    1.55723013    1.16598858]\n103\n"
      }
     ],
     "prompt_number": 22
    },
    {
     "cell_type": "code",
     "collapsed": false,
     "input": "slicemax = 0\nfor slice in range(200,130,-1):\n    y = input[slice]\n    if checkslice(y): \n       slicemax = slice\n       print slicemax\n       break\n    else: continue",
     "language": "python",
     "metadata": {},
     "outputs": [
      {
       "output_type": "stream",
       "stream": "stdout",
       "text": "[ 99.98962757   0.94906828   0.73801133]\n157\n"
      }
     ],
     "prompt_number": 23
    },
    {
     "cell_type": "code",
     "collapsed": false,
     "input": "print zeroslice, slicemin, slicemax\ny = input[zeroslice]\nshift = y[0]\nprint shift",
     "language": "python",
     "metadata": {},
     "outputs": [
      {
       "output_type": "stream",
       "stream": "stdout",
       "text": "90 103 157\n-0.55\n"
      }
     ],
     "prompt_number": 28
    },
    {
     "cell_type": "code",
     "collapsed": false,
     "input": "dims = slicemax - slicemin + 1\ni=0\nz = np.zeros(dims)\nR = np.zeros(dims)\nfor a in range(slicemin, slicemax):\n    y2 = input[a]\n    params, pcov2 = curve_fit(func, x, y2,[100, 3, 1])\n    z[i] = y2[0] - shift #This is the correct z-value of each slice!\n #   z[i] = 0.05*a-shift\n    R[i] = params[1]\n    i = i + 1\npl.plot(z, R, 'k.')",
     "language": "python",
     "metadata": {},
     "outputs": [
      {
       "output_type": "pyout",
       "prompt_number": 32,
       "text": "[<matplotlib.lines.Line2D at 0x7147b30>]"
      },
      {
       "output_type": "display_data",
       "png": "[encoded data removed]"
      }
     ],
     "prompt_number": 32
    },
    {
     "cell_type": "code",
     "collapsed": false,
     "input": "def circle(z, R, m):\n    return np.sqrt(R**2 - (z - m)**2)",
     "language": "python",
     "metadata": {},
     "outputs": []
    },
    {
     "cell_type": "code",
     "collapsed": false,
     "input": "params2, pcov3 = curve_fit(circle, z2, R, [2.6, 2])",
     "language": "python",
     "metadata": {},
     "outputs": []
    },
    {
     "cell_type": "code",
     "collapsed": false,
     "input": "z3 = np.zeros(49)",
     "language": "python",
     "metadata": {},
     "outputs": []
    },
    {
     "cell_type": "code",
     "collapsed": false,
     "input": "for b in range(1,49):\n    z3[b] = z3[b-1] + (b * 0.8)",
     "language": "python",
     "metadata": {},
     "outputs": []
    },
    {
     "cell_type": "code",
     "collapsed": false,
     "input": "z3.shape",
     "language": "python",
     "metadata": {},
     "outputs": []
    },
    {
     "cell_type": "code",
     "collapsed": false,
     "input": "pl.plot(z3, circle(z3, *params2), 'r-')\npyplot.plot(z2, R,'k.')",
     "language": "python",
     "metadata": {},
     "outputs": []
    },
    {
     "cell_type": "code",
     "collapsed": false,
     "input": "print params2",
     "language": "python",
     "metadata": {},
     "outputs": []
    },
    {
     "cell_type": "code",
     "collapsed": false,
     "input": "R.shape",
     "language": "python",
     "metadata": {},
     "outputs": []
    },
    {
     "cell_type": "code",
     "collapsed": false,
     "input": "np.where?",
     "language": "python",
     "metadata": {},
     "outputs": []
    }
   ],
   "metadata": {}
  }
 ]
}