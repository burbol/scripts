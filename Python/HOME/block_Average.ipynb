{
 "metadata": {
  "name": ""
 },
 "nbformat": 3,
 "nbformat_minor": 0,
 "worksheets": [
  {
   "cells": [
    {
     "cell_type": "code",
     "collapsed": false,
     "input": [
      "%pylab inline"
     ],
     "language": "python",
     "metadata": {},
     "outputs": [
      {
       "output_type": "stream",
       "stream": "stdout",
       "text": [
        "Populating the interactive namespace from numpy and matplotlib\n"
       ]
      }
     ],
     "prompt_number": 17
    },
    {
     "cell_type": "code",
     "collapsed": false,
     "input": [
      "import matplotlib \n",
      "import matplotlib.pyplot as plt\n",
      "import numpy as np\n",
      "from scipy.optimize import curve_fit\n",
      "import statistics"
     ],
     "language": "python",
     "metadata": {},
     "outputs": [],
     "prompt_number": 18
    },
    {
     "cell_type": "code",
     "collapsed": false,
     "input": [
      "#%cd /home/eixeres/Downloads/g_rad_densmaps_p2\n",
      "%cd /Users/burbol/Downloads/Results_Middle"
     ],
     "language": "python",
     "metadata": {},
     "outputs": [
      {
       "output_type": "stream",
       "stream": "stdout",
       "text": [
        "/Users/burbol/Downloads/Results_Middle\n"
       ]
      }
     ],
     "prompt_number": 19
    },
    {
     "cell_type": "code",
     "collapsed": false,
     "input": [
      "theta_results = np.zeros(5)\n",
      "sigma = np.zeros(5)\n",
      "percentages = np.zeros(5)\n",
      "percentages = [0, 5, 11, 17, 66]"
     ],
     "language": "python",
     "metadata": {},
     "outputs": [],
     "prompt_number": 20
    },
    {
     "cell_type": "code",
     "collapsed": false,
     "input": [
      "# This function allows to use ranges, just as the built-in function range(), but with float arguments.\n",
      "# Taken from \"http://code.activestate.com/recipes/66472-frange-a-range-function-with-float-increments/\"\n",
      "def frange(start, end=None, inc=None):\n",
      "    if end == None:\n",
      "        end = start + 0.0\n",
      "        start = 0.0\n",
      "\n",
      "    if inc == None:\n",
      "        inc = 1.0\n",
      "\n",
      "    L = []\n",
      "    while 1:\n",
      "        next = start + len(L) * inc\n",
      "        if inc > 0 and next >= end:\n",
      "            break\n",
      "        elif inc < 0 and next <= end:\n",
      "            break\n",
      "        L.append(next)\n",
      "    return L"
     ],
     "language": "python",
     "metadata": {},
     "outputs": [],
     "prompt_number": 21
    },
    {
     "cell_type": "code",
     "collapsed": false,
     "input": [
      "# We create an array named \"t\" with the time values.\n",
      "t = np.zeros(160)\n",
      "i=0\n",
      "for d in frange(0, 80, 0.5):\n",
      "    t[i] = d\n",
      "    i = i + 1"
     ],
     "language": "python",
     "metadata": {},
     "outputs": [],
     "prompt_number": 22
    },
    {
     "cell_type": "code",
     "collapsed": false,
     "input": [
      "# We save the data in the arrays \"theta_all\" and \"rbase_all\"\n",
      "theta_all, rbase_all = np.loadtxt('Contact_Angles2_MIddle_s5.txt', skiprows=2, usecols = (0,1),unpack=True)"
     ],
     "language": "python",
     "metadata": {},
     "outputs": [],
     "prompt_number": 23
    },
    {
     "cell_type": "code",
     "collapsed": false,
     "input": [
      "print len(theta_all), len(rbase_all)"
     ],
     "language": "python",
     "metadata": {},
     "outputs": [
      {
       "output_type": "stream",
       "stream": "stdout",
       "text": [
        "1600 1600\n"
       ]
      }
     ],
     "prompt_number": 24
    },
    {
     "cell_type": "code",
     "collapsed": false,
     "input": [
      "# Here we create two dictionaries named \"angles\" and \"radii\". Each dictionary consists of a set of \"key: value\" pairs, each one corresponding to a different system. The keys are (also) a pair of numbers \"b, c\".\n",
      "# \"b\" refers to the OH-coverage percentage of the SAM, and \"c\" to the number of water molecules of the droplet. For example, the key \"5, 1000\" refers to the system with a surface with 5% OH-coverage, \n",
      "# and a droplet with 1000 water molecules. The value corresponding to each key is an array with the 40 calculated angles/base radii, that belong to that system. For example: \"radii[(11, 3000)]\" would give back\n",
      "# the array with the 40 calculated values of the base radii corresponding to the system with a surface with 11% OH-coverage, and a droplet with 3000 water molecules.\n",
      "angles={}\n",
      "radii={}\n",
      "k = 0\n",
      "for b in [5]:\n",
      "    for c in [1000, 2000, 3000, 4000, 5000, 6500, 7000, 8000, 9000, 10000]:\n",
      "        z = b, c\n",
      "        m = 0\n",
      "        th = [0] * 160\n",
      "        r = [0] * 160\n",
      "        i=k*160\n",
      "        j=(k+1)*160\n",
      "        for l in range(i,j):\n",
      "            th[m]=theta_all[l]\n",
      "            r[m]=rbase_all[l]\n",
      "            m = m +1\n",
      "        angles[z] = th\n",
      "        radii[z] = r\n",
      "        k=k+1\n",
      "\n",
      "\n",
      "theta_s5 = np.zeros(10)\n",
      "rbase_s5 = np.zeros(10)\n",
      "#We choose a system and substitute the values \"b\" and \"c\" to save the corresponding angle and radii values in two arrays named, respectively, \"theta\" and \"rbase\".\n",
      "#b=0\n",
      "#c=4000\n",
      "#theta = array(angles[(b, c)])\n",
      "#rbase = array(radii[(b, c)])\n",
      "#print \"theta=\", th\n",
      "#print \"rbase=\", r\n",
      "#print theta[0]"
     ],
     "language": "python",
     "metadata": {},
     "outputs": [],
     "prompt_number": 25
    },
    {
     "cell_type": "code",
     "collapsed": false,
     "input": [
      "errortheta_s5 = np.zeros(4)\n",
      "errorr_base_s5 = np.zeros(4)\n",
      "\n",
      "b=5\n",
      "c=1000\n",
      "theta = array(angles[(b, c)])\n",
      "rbase = array(radii[(b, c)])\n",
      "nametheta = \"thetas%sw%s.png\" % (b,c)\n",
      "namebaserad = \"rads%sw%s.png\" % (b,c)\n",
      "\n",
      "start=10\n",
      "end=80\n",
      "theta_avr = np.mean(theta[start:end])*np.ones(end - start)\n",
      "rbase_avr = np.mean(rbase[start:end])*np.ones(end - start)\n",
      "t_avr = t[start:end]\n",
      "\n",
      "theta_s5[0]=theta_avr[0] \n",
      "rbase_s5[0]=rbase_avr[0] \n",
      "errortheta_s5[0], error = blockAverage((theta[start:end]),4)\n",
      "errorr_base_s5[0], error = blockAverage((rbase[start:end]),4)\n",
      "\n",
      "print theta_s5[0]\n",
      "print rbase_s5[0]\n",
      "\n",
      "#PLOT FOR CONTACT ANGLE OF SAM 5% & 1000 WATER MOLECULES. (Also saved to file)\n",
      "\n",
      "plt.plot(t,theta,'ro')\n",
      "plt.plot(t_avr, theta_avr, linewidth=2.5,)\n",
      "plt.xlabel('time [ns]')\n",
      "plt.ylabel(r'$\\theta_{mic}$ [deg]')\n",
      "plt.suptitle(r'Contact Angle $\\theta_{mic}$ vs. Time', fontsize=14, fontweight='bold')\n",
      "#plt.title(r'Contact Angle $\\theta$ vs. Time')\n",
      "plt.text(11, 160, 'SAM 5%, Water 1000 molec.',style='italic',\n",
      "        bbox={'facecolor':'red', 'alpha':0.5, 'pad':10})\n",
      "plt.grid(True)\n",
      "plt.axis([0, 40, 115, 170])\n",
      "pylab.savefig(nametheta)\n",
      "plt.show()\n",
      "\n",
      "#PLOT FOR BASE RADIUS OF SAM 5% & 1000 WATER MOLECULES.(Also saved to file)\n",
      "plt.plot(t,rbase,'ro')\n",
      "plt.plot(t_avr, rbase_avr, linewidth=2.5,)\n",
      "plt.xlabel('time [ns]')\n",
      "plt.ylabel(r'R$\\ _{BASE} $ [nm]')\n",
      "plt.suptitle(r'Base Radius R$\\ _{BASE}$ vs. Time', fontsize=14, fontweight='bold')\n",
      "#plt.title(r'Contact Angle $\\theta$ vs. Time')\n",
      "plt.text(11, 1.1, 'SAM 5%, Water 1000 molec.',style='italic', bbox={'facecolor':'red', 'alpha':0.5, 'pad':10})\n",
      "plt.grid(True)\n",
      "plt.axis([0, 40, 1.0, 1.8])\n",
      "pylab.savefig(namebaserad)\n",
      "plt.show()"
     ],
     "language": "python",
     "metadata": {},
     "outputs": [
      {
       "output_type": "stream",
       "stream": "stdout",
       "text": [
        "134.007990137\n",
        "1.43086740965\n"
       ]
      },
      {
       "metadata": {},
       "output_type": "display_data",
       "png": "[encoded data removed]",
       "text": [
        "<matplotlib.figure.Figure at 0x10b656e50>"
       ]
      },
      {
       "metadata": {},
       "output_type": "display_data",
       "png": "[encoded data removed]",
       "text": [
        "<matplotlib.figure.Figure at 0x10b3f7ed0>"
       ]
      }
     ],
     "prompt_number": 26
    },
    {
     "cell_type": "code",
     "collapsed": false,
     "input": [
      "def naive_variance(data):\n",
      "    n = 0\n",
      "    Sum = 0\n",
      "    Sum_sqr = 0\n",
      " \n",
      "    for x in data:\n",
      "        n = n + 1\n",
      "        Sum = Sum + x\n",
      "        Sum_sqr = Sum_sqr + x*x\n",
      " \n",
      "    variance = (Sum_sqr - (Sum*Sum)/n)/(n - 1)\n",
      "    return variance\n",
      "\n",
      "def blockAverage(datastream, Nblocks):\n",
      "    \n",
      "    # FIRST WE CREATE AN ARRAY TO STORE THE MEAN VALUES OF THE DATA BLOCKS (blockMean)\n",
      "    blockMean = np.zeros(Nblocks)  \n",
      "        \n",
      "    # Nobs is the number of points (observations) in our data\n",
      "    Nobs = len(datastream) \n",
      "    # BlockSize is the size of each block of data\n",
      "    BlockSize = int(Nobs//Nblocks) \n",
      "    \n",
      "    if Nblocks==1:\n",
      "        errorbar = naive_variance(datastream)\n",
      "        return errorbar\n",
      "\n",
      "    else:\n",
      "       # WE CALCULATE IN A LOOP THE MEAN VALUES OF EACH DATA BLOCK (blockMean)\n",
      "        for i in range(0,Nblocks-1):\n",
      "            ibeg = i*BlockSize\n",
      "            iend = (i+1)*BlockSize\n",
      "            blockMean[i] = mean(datastream[ibeg:iend])\n",
      "        # WE TREAT THE LAST BLOCK SEPARATELY, BECAUSE WE HAVE TO TAKE INTO ACCOUNT THE POSSIBLE REMAINING POINTS \n",
      "        # WHEN THE NUMBER OF DATA POINTS ISN'T A MULTIPLE OF THE NUMBER OF BLOCKS\n",
      "        ibeg = (Nblocks-1)*BlockSize\n",
      "        iend = Nobs\n",
      "        blockMean[Nblocks-1] = mean(datastream[ibeg:iend])\n",
      "     \n",
      "        errorbar = (np.std(blockMean))/sqrt(Nblocks -1) #np.std(blockMean) is the standard deviation of blockmean\n",
      "        simulavr = mean(blockMean)\n",
      "        return simulavr, errorbar"
     ],
     "language": "python",
     "metadata": {},
     "outputs": [],
     "prompt_number": 27
    },
    {
     "cell_type": "code",
     "collapsed": false,
     "input": [
      "datastream = theta[10:80]\n",
      "rbasedata = rbase[10:80]\n",
      "maxBlockSize = 4\n",
      "blockVar,blockMean = blockAverage(datastream, maxBlockSize)\n",
      "print \"blockVar = \", blockVar\n",
      "print \"blockMean = \", blockMean"
     ],
     "language": "python",
     "metadata": {},
     "outputs": [
      {
       "output_type": "stream",
       "stream": "stdout",
       "text": [
        "blockVar =  134.006785645\n",
        "blockMean =  0.108221073927\n"
       ]
      }
     ],
     "prompt_number": 36
    },
    {
     "cell_type": "code",
     "collapsed": false,
     "input": [
      "#print \"mean(datastream) = \", mean(datastream)\n",
      "#print \"blockAverage2(datastream,4) = \", blockAverage2(datastream,4)\n",
      "print \"blockAverage(datastream,1) = \", blockAverage(datastream,3)\n",
      "print \"blockAverage(rbasedata,1) = \", blockAverage(rbasedata,3)"
     ],
     "language": "python",
     "metadata": {},
     "outputs": [
      {
       "output_type": "stream",
       "stream": "stdout",
       "text": [
        "blockAverage(datastream,1) =  (134.00858406276754, 0.031607252152267784)\n",
        "blockAverage(rbasedata,1) =  (1.4308693145732427, 0.00048475568176274789)\n"
       ]
      }
     ],
     "prompt_number": 37
    },
    {
     "cell_type": "code",
     "collapsed": false,
     "input": [
      "print cos(np.pi), cos(0)\n",
      "print radians(90)\n",
      "print range(0,0)"
     ],
     "language": "python",
     "metadata": {},
     "outputs": [
      {
       "output_type": "stream",
       "stream": "stdout",
       "text": [
        "-1.0 1.0\n",
        "1.57079632679\n",
        "[]\n"
       ]
      }
     ],
     "prompt_number": 38
    },
    {
     "cell_type": "code",
     "collapsed": false,
     "input": [
      "n=0\n",
      "b=17\n",
      "c=1000\n",
      "#theta = array(angles[(b, c)])\n",
      "#rbase = array(radii[(b, c)])\n",
      "#print theta\n",
      "nametheta = \"thetas%sw%s.png\" % (b,c)\n",
      "namebaserad = \"rads%sw%s.png\" % (b,c)\n",
      "\n",
      "end=80\n",
      "\n",
      "# HERE WE SEARCH FOR THE STARTING POINT (start) OF THE BEST TIME INTERVAL TO GET THE SMALLEST ERROR IN THE CONTACT ANGLE COSINUS\n",
      "\n",
      "error = np.zeros(end-21)\n",
      "average = np.zeros(end-21)\n",
      "error = error.tolist()\n",
      "j=0\n",
      "for i in range (20, end-1):\n",
      "    average[j],error[j] = blockAverage((theta[i:end]),3)    \n",
      "    error[j] = sin(radians(average[j]))*error[j]   \n",
      "    j = j+1\n",
      "bestblock = error.index(min(error))\n",
      "start = bestblock + 20\n",
      "\n",
      "print \"bestblock = \" , bestblock\n",
      "print \"smallest average = \", error[bestblock]\n",
      "print \"error=\", error\n",
      "\n",
      "average, dummy = blockAverage((theta[start:end]),3)  \n",
      "theta_avr = average*np.ones(end - start)\n",
      "#errortheta_s17[n] = dummy\n",
      "\n",
      "average, dummy = blockAverage((rbase[start:end]),3)\n",
      "rbase_avr = average*np.ones(end - start)\n",
      "#errorr_base_s17[n] = dummy\n",
      "t_avr = t[start:end]\n",
      "\n",
      "#theta_s17[n]=theta_avr[0]\n",
      "#rbase_s17[n]=rbase_avr[0]\n",
      "#print theta_s17[n]\n",
      "#print rbase_s17[n]\n",
      "#print \"errortheta_s17[n] = \", errortheta_s17[n]\n",
      "\n",
      "#theta_s17[n]=theta_avr\n",
      "#rbase_s17[n]=rbase_avr\n",
      "\n",
      "print \"j=\",j\n",
      "print \"The best block starts at\", (bestblock+20)/2, \"ns. And ends at \", simulatLen/2, \"ns\""
     ],
     "language": "python",
     "metadata": {},
     "outputs": [
      {
       "output_type": "stream",
       "stream": "stdout",
       "text": [
        "bestblock =  13\n",
        "smallest average =  0.0164395582565\n",
        "error= [0.024290020162750958, 0.024754854575459759, 0.039113602503715858, 0.047668547345462393, 0.053618757279375276, 0.058116984050218992, 0.047867577291753109, 0.050769801152209852, 0.043845152331045016, 0.024196809361571418, 0.05345868348921929, 0.025720271886663666, 0.041902631001092004, 0.016439558256489829, 0.084952869010883919, 0.094248272824998661, 0.092215669084605434, 0.071559614324551143, 0.09736632998355739, 0.11272020272744927, 0.11577575654783546, 0.14325348821253969, 0.15171211434191872, 0.084781473899057352, 0.12846712706679736, 0.056675807958999777, 0.15385084135002838, 0.090957354393046308, 0.12998354574875001, 0.13205063442525314, 0.096477268297852414, 0.14929143696273581, 0.10540536346333514, 0.088192137917028263, 0.11279197721211451, 0.060561083833368945, 0.059768410705258124, 0.073674795038423238, 0.060250258633260285, 0.090640216974665774, 0.11518843234764763, 0.14512896225982644, 0.27894906158648802, 0.28303184714485435, 0.15115526709811339, 0.10190610401523191, 0.08277157602359686, 0.056418849028300806, 0.12966792427453833, 0.096315094080982364, 0.071788128399931858, 0.045906752467031749, 0.09239887126046431, 0.15824622435225535, 0.29272184652733751, 0.32066425959540895, 0.38437585400756585, 0.47009387084189247, nan]\n",
        "j= 59\n",
        "The best block starts at 16 ns. And ends at  40 ns\n"
       ]
      }
     ],
     "prompt_number": 45
    },
    {
     "cell_type": "code",
     "collapsed": false,
     "input": [
      "for m in range(0, len(theta)):\n",
      "    if math.isnan(theta[m]):\n",
      "        break\n",
      "end = m\n",
      "print end"
     ],
     "language": "python",
     "metadata": {},
     "outputs": [
      {
       "output_type": "stream",
       "stream": "stdout",
       "text": [
        "80\n"
       ]
      }
     ],
     "prompt_number": 48
    },
    {
     "cell_type": "code",
     "collapsed": false,
     "input": [],
     "language": "python",
     "metadata": {},
     "outputs": []
    }
   ],
   "metadata": {}
  }
 ]
}