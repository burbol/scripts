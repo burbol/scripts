{
 "metadata": {
  "name": ""
 },
 "nbformat": 3,
 "nbformat_minor": 0,
 "worksheets": [
  {
   "cells": [
    {
     "cell_type": "code",
     "collapsed": false,
     "input": [
      "# THIS SCRIPT PUTS THE FIRST CARBON C1 OF ALL THE CHAINS (OH-HEADED AND CH3-HEADED) AT THE SAME z-LEVEL\n",
      "# CH3- AND OH- CHAINS HAVE THE SAME NUMBER OF CARBONS (20)\n",
      "%pylab inline"
     ],
     "language": "python",
     "metadata": {},
     "outputs": [
      {
       "output_type": "stream",
       "stream": "stdout",
       "text": [
        "Populating the interactive namespace from numpy and matplotlib\n"
       ]
      }
     ],
     "prompt_number": 1
    },
    {
     "cell_type": "code",
     "collapsed": false,
     "input": [
      "#!/usr/bin/env python\n",
      "\n",
      "import numpy as np\n",
      "import math\n",
      "##import matplotlib as mpl\n",
      "##mpl.use('Agg')\n",
      "import matplotlib.pyplot as plt\n",
      "import sys"
     ],
     "language": "python",
     "metadata": {},
     "outputs": [],
     "prompt_number": 2
    },
    {
     "cell_type": "code",
     "collapsed": false,
     "input": [
      "xcopies = 1\n",
      "ycopies = 1\n",
      "\n",
      "Nx = 10*xcopies # number of gridpoints in x-direction (carbons)\n",
      "Ny = 10*ycopies # number of gridpoints in y-direction (carbons)\n",
      "\n",
      "#Nxoxy = 5*xcopies # number of oxygens in x-direction \n",
      "#Nyoxy = 4*ycopies # number of oxygens in y-direction \n",
      "\n",
      "#Percentage = int(100*Nxoxy*Nyoxy/(float(Nx*Ny)))\n",
      "#print \"PERCENTAGE = \", Percentage\n",
      "\n",
      "\n",
      "a0 = 5.0\n",
      "#V = (Vx,Vy) first basis vector \n",
      "#Vx = a0*np.sin(np.pi/6)\n",
      "#Vy = a0*np.cos(np.pi/6)\n",
      "Vx = a0\n",
      "Vy = 0\n",
      "\n",
      "\n",
      "print \"Vx=\",Vx, \"Vy=\", Vy\n",
      "\n",
      "# W = (Wx,Wy) second basis vector\n",
      "#Wx = -a0*np.sin(np.pi/6)\n",
      "#Wy = a0*np.cos(np.pi/6)\n",
      "Wx = a0*np.sin(np.pi/6)\n",
      "Wy = a0*np.cos(np.pi/6)\n",
      "\n",
      "print \"Wx=\",Wx, \"Wy=\", Wy\n",
      "\n",
      "zPos = 21.680\n",
      "\n",
      "\n",
      "# create arrays that hold particle positions and types\n",
      "xPos = np.zeros([Nx,Ny],dtype=float) # x positions of particles\n",
      "yPos = np.zeros([Nx,Ny],dtype=float) # y positions of particles\n",
      "pType = np.zeros([Nx,Ny],dtype=str) # particle type\n",
      "zlastPos = np.zeros([Nx,Ny],dtype=float) # zlastPos ONLY will serve to calculate the box height (z)\n",
      "\n",
      "\n",
      "# xPos[i,j] = x coordinate of the particle at position [i,j]\n",
      "# 0 <= i <= Nx\n",
      "# 0 <= j <= Ny\n",
      "\n",
      "\n",
      "# set standard particle type\n",
      "for i in range(Nx):\n",
      "  for j in range(Ny):\n",
      "    pType[i,j] = 'C' \n",
      "\n",
      "\n",
      "# set particle positions\n",
      "for j in range(Ny):\n",
      "    for i in range(Nx):\n",
      "        xPos[i,j] = i*Vx + j*Wx +12.68\n",
      "        yPos[i,j] = i*Vy + j*Wy \n",
      "for j in range(Ny):\n",
      "    for i in range(Nx):\n",
      "        if xPos[i,j]>xPos[-1,1]:\n",
      "           xPos[i,j] = xPos[i-Nx+1,j-2]\n",
      "            \n",
      "########################### Intervals between Oxygens must be adjusted!!! ########################### \n",
      "# exchange particles\n",
      "#    Get indices of particles to replace:\n",
      "#xinterval = Nx/Nxoxy  #---> only if Nx/Nxoxy has no remainder\n",
      "#yinterval = Ny/Nyoxy\n",
      "#for k in range(0,Nx,xinterval):\n",
      "    #for l in range(0,Ny,yinterval):\n",
      "      #pType[k,l] = 'O' \n",
      "        \n",
      "xinterval = 2\n",
      "yinterval = 1\n",
      "n = 1\n",
      "#for k in range(0,Nx,xinterval):\n",
      "#    for l in range(0,Ny,yinterval):\n",
      "#        pType[k,l] = 'O' \n",
      "#        n = n+1\n",
      "        \n",
      "##### LAST TRY ######\n",
      "n = 0\n",
      "for k in range(0,Nx,yinterval*2):\n",
      "    for l in range(0,Ny,xinterval*2):\n",
      "        pType[k,l] = 'O' \n",
      "        n = n+1\n",
      "for k in range(yinterval,Nx,xinterval*2):\n",
      "    for l in range(xinterval,Ny,xinterval*2):\n",
      "        pType[k,l] = 'O' \n",
      "        n = n+1\n",
      "########\n",
      "print \"oxygens\",n\n",
      "print \"carbons\", Nx*Ny\n",
      "pc = n/(float(Nx)*float(Ny))\n",
      "print \"pc= \", int(pc*100)\n",
      "#for k in range(0,Nx,xinterval):\n",
      "#    for l in range(1,Ny,yinterval):\n",
      "#        pType[k+2,l] = 'O' \n",
      "###################################################################################################\n",
      "\n",
      "# plot the particle types and positions\n",
      "#   create array with 0s where there is O\n",
      "#   and ones where there is C:\n",
      "Z = np.zeros([Nx,Ny],dtype=int)\n",
      "for i in range(Nx):\n",
      "  for j in range(Ny):\n",
      "    if pType[i,j] == 'C':\n",
      "      Z[i,j] = 1\n",
      "      \n",
      "#   plot\n",
      "#    first we plot the heatmap\n",
      "fig, ax = plt.subplots()\n",
      "ax.imshow(Z, cmap=plt.cm.winter, interpolation='nearest')\n",
      "#fig.savefig('output_' + str(Percentage) + '_heatmap.pdf',format='pdf')\n",
      "\n",
      "#    then we plot the actual positions\n",
      "SizeOfDots = 8\n",
      "fig, ax = plt.subplots()\n",
      "for i in range(Nx):\n",
      "  for j in range(Ny):\n",
      "    if pType[i,j] == 'O':\n",
      "      ax.plot([xPos[i,j]],[yPos[i,j]],marker='o',markersize=SizeOfDots,color='blue')\n",
      "    else:\n",
      "      ax.plot([xPos[i,j]],[yPos[i,j]],marker='o',markersize=SizeOfDots,color='green')\n",
      "#ax.set_xlim(xPos[0,0]-0.5,xPos[-1,-1]+0.5)\n",
      "#ax.set_ylim(yPos[0,0]-0.5,yPos[-1,-1]+0.5)\n",
      "plt.show()\n",
      "#fig.savefig('output_' + str(Percentage) + '_positions.pdf',format='pdf')\n"
     ],
     "language": "python",
     "metadata": {},
     "outputs": [
      {
       "output_type": "stream",
       "stream": "stdout",
       "text": [
        "Vx= 5.0 Vy= 0\n",
        "Wx= 2.5 Wy= 4.33012701892\n",
        "oxygens 21\n",
        "carbons 100\n",
        "pc=  21\n"
       ]
      },
      {
       "metadata": {},
       "output_type": "display_data",
       "png": "[encoded data removed]",
       "text": [
        "<matplotlib.figure.Figure at 0x108868810>"
       ]
      },
      {
       "metadata": {},
       "output_type": "display_data",
       "png": "[encoded data removed]",
       "text": [
        "<matplotlib.figure.Figure at 0x10a76f2d0>"
       ]
      }
     ],
     "prompt_number": 3
    },
    {
     "cell_type": "code",
     "collapsed": false,
     "input": [
      "# WARNING!!!! THIS CELL HAS TO RUN 2 TIMES TO GET THE CORRECT VALUES (see comment of zbox)\n",
      "\n",
      "%cd /Users/burbol/Desktop/scripts/SAM_CREATION/SAMs\n",
      "#############################################  PDB FILE WRITTING    ###################################################\n",
      "xbox = round(xPos.max()-xPos.min()+(a0*0.5),3)\n",
      "ybox = round(yPos.max()-yPos.min()+a0,3)\n",
      "zbox = round(zPos,3)-zlastPos.min() #zlastPos doesn't get a value until the end of this cell => run 2 times!\n",
      "title = 'sam ' + str(int(pc*100)) + '% OH-coverage'\n",
      "f = open('start' + str(int(pc*100)) + '.pdb','w')\n",
      "# save the particle types and positions\n",
      "f.write('TITLE     ' + title + '\\n')\n",
      "f.write('REMARK    THIS IS A SIMULATION BOX' + '\\n')\n",
      "f.write(\"CRYST1  %3.3f  %3.3f  %3.3f  90.00  90.00  90.00 P 1           1\"%(xbox,ybox,zbox) + '\\n')\n",
      "f.write('MODEL        1' + '\\n')\n",
      "    \n",
      "def printline(totalpos, atomnum, chaintype, chainNum, x, y, z):\n",
      "    occupancy=1.00\n",
      "    temp=0.00\n",
      "    # save the particle types and positions\n",
      "    f.write( \"%-6s%5d %4s%1s%3s %1s%4d%1s   %8.3f%8.3f%8.3f%6.2f%6.2f          %2s%2s\"%(\"ATOM \", totalpos, atomnum, '',chaintype,'',chainNum,'', x, y, z, occupancy, temp,'','' + '\\n'))\n",
      "    \n",
      "\n",
      "################# Head Groups  ##################\n",
      "\n",
      "\n",
      "####  SAMs Head Groups  TOP ####\n",
      "\n",
      "xLengthCHTOP = -0.09\n",
      "yLengthCHTOP = 0.00\n",
      "zLengthCHTOP = +0.99\n",
      "\n",
      "####  OAM Head Groups  TOP ####\n",
      "\n",
      "xLengthCO = -0.22\n",
      "yLengthCO = 0.00\n",
      "zLengthCO = -1.42\n",
      "\n",
      "xLengthOH = +0.87\n",
      "yLengthOH = 0.00\n",
      "zLengthOH = +0.39    \n",
      "\n",
      "############## SAM & OAM CHAINS ##############\n",
      "xLengthCCa = -1.40\n",
      "yLengthCCa = 0.00\n",
      "zLengthCCa = -0.64\n",
      "\n",
      "xLengthCH1a = -0.50\n",
      "yLengthCH1a = +0.81\n",
      "zLengthCH1a = +0.29\n",
      "\n",
      "xLengthCH2a = -0.50\n",
      "yLengthCH2a = -0.810\n",
      "zLengthCH2a = +0.29\n",
      "\n",
      "xLengthCCb = +0.15\n",
      "yLengthCCb = 0.00\n",
      "zLengthCCb = -1.53\n",
      "\n",
      "xLengthCH1b = +0.50\n",
      "yLengthCH1b = +0.81\n",
      "zLengthCH1b = -0.29\n",
      "\n",
      "xLengthCH2b = +0.50\n",
      "yLengthCH2b = -0.810\n",
      "zLengthCH2b = -0.29\n",
      "\n",
      "####  Head Groups  BOTTOM  (a) ####\n",
      "\n",
      "xLengthCHBOTTOM = 0.10\n",
      "yLengthCHBOTTOM = 0.00\n",
      "zLengthCHBOTTOM = -0.99\n",
      "\n",
      "\n",
      "# We start all the counters\n",
      "chainlength = 65\n",
      "totalpos=1\n",
      "chainNum = 0\n",
      "indexH = 1\n",
      "indexC = 1\n",
      "indexO = 1\n",
      "\n",
      "\n",
      "# First we write the top Head Group\n",
      "for i in range(Nx):\n",
      "  for j in range(Ny): \n",
      "        chainNum = chainNum +1\n",
      "        xoldC= round(xPos[i,j],3)\n",
      "        yoldC= round(yPos[i,j],3)\n",
      "        zoldC= zPos\n",
      "        atomtype = pType[i,j]\n",
      "        indexC = 1\n",
      "        indexO = 1        \n",
      "        indexH = 1\n",
      "        if atomtype == 'O':    #OXYGEN CHAIN\n",
      "            chainlength = 63\n",
      "            chaintype='OAM'\n",
      "            atomnum=str(atomtype)+str(indexC)\n",
      "            xnew = xoldC \n",
      "            ynew = yoldC \n",
      "            znew = zoldC - zLengthCO\n",
      "            printline(totalpos, atomnum, chaintype, chainNum, xnew, ynew, znew)  # O1\n",
      "            totalpos = totalpos + 1\n",
      "            #Third H atom (H3) in OAM\n",
      "            atomtype = 'H'\n",
      "            atomnum=str(atomtype)+str(indexH)\n",
      "            xnew = xoldC + xLengthOH\n",
      "            ynew = yoldC + yLengthOH\n",
      "            znew = zoldC + zLengthOH - zLengthCO\n",
      "            printline(totalpos, atomnum, chaintype, chainNum, xnew, ynew, znew) #H1 (in OAM)\n",
      "            totalpos = totalpos + 1\n",
      "            indexH = indexH + 1 \n",
      "            xFirstC = xLengthCO\n",
      "            yFirstC = yLengthCO\n",
      "            zFirstC = zLengthCO - zLengthCO\n",
      "        elif atomtype == 'C':    #CARBON CHAIN parameters\n",
      "        #Third H atom (H3)\n",
      "            chainlength = 65\n",
      "            chaintype='SAM'\n",
      "            xFirstC = 0.00\n",
      "            yFirstC = 0.00\n",
      "            zFirstC = 0.00\n",
      "                        \n",
      "        # At the beginning of each chain we write a Head Group (TOP)\n",
      "        #First Carbon   \n",
      "        atomtype = 'C'\n",
      "        #f.write(\"in loop \" + str(d)  + '\\n')\n",
      "        atomnum=str(atomtype)+str(indexC)\n",
      "        xnew = xoldC + xFirstC\n",
      "        ynew = yoldC + yFirstC\n",
      "        znew = zoldC + zFirstC\n",
      "        printline(totalpos, atomnum, chaintype, chainNum, xnew, ynew, znew) #C1\n",
      "        totalpos = totalpos + 1\n",
      "        indexC = indexC + 1\n",
      "        xoldC=xnew\n",
      "        yoldC=ynew\n",
      "        zoldC=znew\n",
      "        #First H atom (H1)\n",
      "        atomtype = 'H'\n",
      "        atomnum=str(atomtype)+str(indexH)\n",
      "        xnew = xoldC + xLengthCH1b\n",
      "        ynew = yoldC + yLengthCH1b\n",
      "        znew = zoldC + zLengthCH1b\n",
      "        printline(totalpos, atomnum, chaintype, chainNum, xnew, ynew, znew) #H1\n",
      "        totalpos = totalpos + 1\n",
      "        indexH = indexH + 1\n",
      "        #Second H atom (H2)\n",
      "        atomtype = 'H'\n",
      "        atomnum=str(atomtype)+str(indexH)\n",
      "        xnew = xoldC + xLengthCH2b\n",
      "        ynew = yoldC + yLengthCH2b\n",
      "        znew = zoldC - xLengthCH2b\n",
      "        printline(totalpos, atomnum, chaintype, chainNum, xnew, ynew, znew) #H2\n",
      "        totalpos = totalpos + 1\n",
      "        indexH = indexH + 1  \n",
      "        if chaintype=='SAM':\n",
      "            #Third H atom (H3)\n",
      "            atomtype = 'H'\n",
      "            atomnum=str(atomtype)+str(indexH)\n",
      "            xnew = xoldC + xLengthCHTOP\n",
      "            ynew = yoldC + yLengthCHTOP\n",
      "            znew = zoldC + zLengthCHTOP\n",
      "            printline(totalpos, atomnum, chaintype, chainNum, xnew, ynew, znew) #H3 (only in SAM)\n",
      "            totalpos = totalpos + 1\n",
      "            indexH = indexH + 1  \n",
      "            chainlength = 65\n",
      "            chaintype='SAM'\n",
      "            xFirstC = 0.00\n",
      "            yFirstC = 0.00\n",
      "            zFirstC = 0.00\n",
      "          \n",
      "        #here comes the \"body\" of the chain\n",
      "        #while totalpos <= (totalpos+chainlength-5):\n",
      "        for d in range(9): \n",
      "            #First Carbon\n",
      "            atomtype = 'C'\n",
      "            #f.write(\"in loop \" + str(d)  + '\\n')\n",
      "            atomnum=str(atomtype)+str(indexC)\n",
      "            xnew = xoldC + xLengthCCa\n",
      "            ynew = yoldC + yLengthCCa\n",
      "            znew = zoldC + zLengthCCa\n",
      "            printline(totalpos, atomnum, chaintype, chainNum, xnew, ynew, znew) #C2\n",
      "            totalpos = totalpos + 1\n",
      "            indexC = indexC + 1\n",
      "            xoldC=xnew\n",
      "            yoldC=ynew\n",
      "            zoldC=znew\n",
      "            #First H atom (H1)\n",
      "            atomtype = 'H'\n",
      "            atomnum=str(atomtype)+str(indexH)\n",
      "            xnew = xoldC + xLengthCH1a\n",
      "            ynew = yoldC + yLengthCH1a\n",
      "            znew = zoldC + zLengthCH1a\n",
      "            printline(totalpos, atomnum, chaintype, chainNum, xnew, ynew, znew) \n",
      "            totalpos = totalpos + 1\n",
      "            indexH = indexH + 1\n",
      "            #Second H atom (H2)\n",
      "            atomtype = 'H'\n",
      "            atomnum=str(atomtype)+str(indexH)\n",
      "            xnew = xoldC + xLengthCH2a\n",
      "            ynew = yoldC + yLengthCH2a\n",
      "            znew = zoldC + zLengthCH2a\n",
      "            printline(totalpos, atomnum, chaintype, chainNum, xnew, ynew, znew)\n",
      "            totalpos = totalpos + 1\n",
      "            indexH = indexH + 1\n",
      "            #There are two different vectors C-C, so we need to alternate them\n",
      "            #Second Carbon\n",
      "            atomtype = 'C'\n",
      "            atomnum=str(atomtype)+str(indexC)\n",
      "            xnew = xoldC + xLengthCCb\n",
      "            ynew = yoldC + yLengthCCb \n",
      "            znew = zoldC + zLengthCCb\n",
      "            printline(totalpos, atomnum, chaintype, chainNum, xnew, ynew, znew) #C3\n",
      "            totalpos = totalpos + 1\n",
      "            indexC = indexC + 1\n",
      "            xoldC=xnew\n",
      "            yoldC=ynew\n",
      "            zoldC=znew\n",
      "            #First H atom (H1)\n",
      "            atomtype = 'H'\n",
      "            atomnum=str(atomtype)+str(indexH)\n",
      "            xnew = xoldC + xLengthCH1b\n",
      "            ynew = yoldC + yLengthCH1b\n",
      "            znew = zoldC + zLengthCH1b\n",
      "            printline(totalpos, atomnum, chaintype, chainNum, xnew, ynew, znew)\n",
      "            totalpos = totalpos + 1\n",
      "            indexH = indexH + 1\n",
      "            #Second H atom (H2)\n",
      "            atomtype = 'H'\n",
      "            atomnum=str(atomtype)+str(indexH)\n",
      "            xnew = xoldC + xLengthCH2b\n",
      "            ynew = yoldC + yLengthCH2b\n",
      "            znew = zoldC + zLengthCH2b\n",
      "            printline(totalpos, atomnum, chaintype, chainNum, xnew, ynew, znew)\n",
      "            totalpos = totalpos + 1\n",
      "            indexH = indexH + 1\n",
      "        # At the end of each chain we also write a Head Group (BOTTOM)\n",
      "        #First Carbon\n",
      "        atomtype = 'C'\n",
      "        atomnum=str(atomtype)+str(indexC)\n",
      "        xnew = xoldC + xLengthCCa\n",
      "        ynew = yoldC + yLengthCCa\n",
      "        znew = zoldC + zLengthCCa\n",
      "        #f.write(\"First carbon BOTTOM \" + '\\n')\n",
      "        printline(totalpos, atomnum, chaintype, chainNum, xnew, ynew, znew)\n",
      "        totalpos = totalpos + 1\n",
      "        xoldC=xnew\n",
      "        yoldC=ynew\n",
      "        zoldC=znew\n",
      "        #First H atom (H1)\n",
      "        atomtype = 'H'\n",
      "        #f.write(\"First H BOTTOM \" + '\\n')\n",
      "        atomnum=str(atomtype)+str(indexH)\n",
      "        xnew = xoldC + xLengthCH1a\n",
      "        ynew = yoldC + yLengthCH1a\n",
      "        znew = zoldC + zLengthCH1a\n",
      "        printline(totalpos, atomnum, chaintype, chainNum, xnew, ynew, znew)\n",
      "        totalpos = totalpos + 1\n",
      "        indexH = indexH + 1\n",
      "        #Second H atom (H2)\n",
      "        atomtype = 'H'\n",
      "        atomnum=str(atomtype)+str(indexH)\n",
      "        xnew = xoldC + xLengthCH2a\n",
      "        ynew = yoldC + yLengthCH2a\n",
      "        znew = zoldC + zLengthCH2a\n",
      "        #f.write(\"Second H BOTTOM \" + '\\n')\n",
      "        printline(totalpos, atomnum, chaintype, chainNum, xnew, ynew, znew)\n",
      "        totalpos = totalpos + 1\n",
      "        indexH = indexH + 1\n",
      "        #Third H atom (H3)\n",
      "        atomtype = 'H'\n",
      "        atomnum=str(atomtype)+str(indexH)\n",
      "        xnew = xoldC + xLengthCHBOTTOM       \n",
      "        ynew = yoldC + yLengthCHBOTTOM\n",
      "        znew = zoldC + zLengthCHBOTTOM\n",
      "        #f.write(\"Third H BOTTOM \" + '\\n')\n",
      "        printline(totalpos, atomnum, chaintype, chainNum, xnew, ynew, znew)\n",
      "        totalpos = totalpos + 1\n",
      "        indexH = indexH + 1 \n",
      "        zlastPos[i,j] = znew\n",
      "f.close()"
     ],
     "language": "python",
     "metadata": {},
     "outputs": [
      {
       "output_type": "stream",
       "stream": "stdout",
       "text": [
        "/Users/burbol/Desktop/scripts/SAM_CREATION/SAMs\n"
       ]
      }
     ],
     "prompt_number": 5
    },
    {
     "cell_type": "code",
     "collapsed": false,
     "input": [
      "## Testing how the number of oxygens and carbons is searched\"\n",
      "percentage = 33\n",
      "percentage = percentage/100.0\n",
      "zPos=21.680\n",
      "# Here we define the functions and variables that we will use to find the number of carbons and oxygens.\n",
      "dummy, Nx, Ny, NoxyTotal, Exactpc = False, 0, 0, 0, 0\n",
      "def goodratio(x):\n",
      "    if (abs(round(x,2)-round(x)))<=0.01 and round(x**2)>=7:\n",
      "        return True\n",
      "    else:\n",
      "        return False  \n",
      "def searchratio(percentage):\n",
      "    for n in range(2,100):\n",
      "        for m in range(2,100):\n",
      "            NoxyInt = sqrt((n*m*8.*percentage)/(1-percentage))\n",
      "            if goodratio(NoxyInt):\n",
      "                NoxyTotal = round(NoxyInt**2) #total number of oxygens\n",
      "                Nx = m  # Number of carbons in x-direction = Nx\n",
      "                Ny = n*8  # Number of carbons in y-direction = Ny\n",
      "                Exactpc = round(NoxyInt**2,6)/(n*m*8 + round(NoxyInt**2,6)) # Exact percentage\n",
      "                #return True\n",
      "                return Nx, Ny, NoxyTotal, Exactpc\n",
      "    print \"Desired ratio not found. Check returned values!!\"\n",
      "    return Nx, Ny, NoxyTotal, Exactpc "
     ],
     "language": "python",
     "metadata": {},
     "outputs": [],
     "prompt_number": 13
    },
    {
     "cell_type": "code",
     "collapsed": false,
     "input": [
      "%cd /Users/burbol/Downloads/SAMs\n",
      "xC19=[]\n",
      "yC19=[]\n",
      "xC19file = open('C19xCoordsam17.txt','r')\n",
      "yC19file = open('C19yCoordsam17.txt','r')\n",
      "#xC19file.read()\n",
      "#yC19file.read()\n",
      "i=0\n",
      "#print xC19file.readline()\n",
      "for line in xC19file:\n",
      "    #print line\n",
      "    xC19.append(line)\n",
      "    dummy = float(xC19[i])\n",
      "    xC19[i]=dummy\n",
      "    i = i+1\n",
      "i=0\n",
      "for line in yC19file:\n",
      "    #print line\n",
      "    yC19.append(float(line))\n",
      "    i = i+1"
     ],
     "language": "python",
     "metadata": {},
     "outputs": [
      {
       "output_type": "stream",
       "stream": "stdout",
       "text": [
        "/Users/burbol/Downloads/SAMs\n"
       ]
      }
     ],
     "prompt_number": 14
    },
    {
     "cell_type": "code",
     "collapsed": false,
     "input": [
      "print len(xC19)\n",
      "print len(yC19)"
     ],
     "language": "python",
     "metadata": {},
     "outputs": [
      {
       "output_type": "stream",
       "stream": "stdout",
       "text": [
        "864\n",
        "864\n"
       ]
      }
     ],
     "prompt_number": 15
    },
    {
     "cell_type": "code",
     "collapsed": false,
     "input": [
      "plt.plot(xC19[0:73], yC19[0:73],marker='o',markersize=SizeOfDots,color='blue')"
     ],
     "language": "python",
     "metadata": {},
     "outputs": [
      {
       "metadata": {},
       "output_type": "pyout",
       "prompt_number": 233,
       "text": [
        "[<matplotlib.lines.Line2D at 0x10a869d90>]"
       ]
      },
      {
       "metadata": {},
       "output_type": "display_data",
       "png": "[encoded data removed]",
       "text": [
        "<matplotlib.figure.Figure at 0x10b8e5750>"
       ]
      }
     ],
     "prompt_number": 233
    },
    {
     "cell_type": "code",
     "collapsed": false,
     "input": [
      "print xC19[0:73]"
     ],
     "language": "python",
     "metadata": {},
     "outputs": [
      {
       "output_type": "stream",
       "stream": "stdout",
       "text": [
        "[11.28, 15.18, 12.68, 15.18, 11.28, 15.18, 12.68, 15.18, 17.68, 20.18, 17.68, 20.18, 17.68, 20.18, 17.68, 20.18, 22.68, 25.18, 21.28, 25.18, 22.68, 25.18, 21.28, 25.18, 26.28, 30.18, 27.68, 30.18, 26.28, 30.18, 27.68, 30.18, 32.68, 35.18, 32.68, 35.18, 32.68, 35.18, 32.68, 35.18, 37.68, 40.18, 36.28, 40.18, 37.68, 40.18, 36.28, 40.18, 41.28, 45.18, 42.68, 45.18, 41.28, 45.18, 42.68, 45.18, 47.68, 50.18, 47.68, 50.18, 47.68, 50.18, 47.68, 50.18, 52.68, 55.18, 51.28, 55.18, 52.68, 55.18, 51.28, 55.18, 56.28]\n"
       ]
      }
     ],
     "prompt_number": 236
    },
    {
     "cell_type": "code",
     "collapsed": false,
     "input": [
      "print yC19[0:73]"
     ],
     "language": "python",
     "metadata": {},
     "outputs": [
      {
       "output_type": "stream",
       "stream": "stdout",
       "text": [
        "[0.0, 4.33, 8.66, 12.99, 17.32, 21.65, 25.98, 30.31, 0.0, 4.33, 8.66, 12.99, 17.32, 21.65, 25.98, 30.31, 0.0, 4.33, 8.66, 12.99, 17.32, 21.65, 25.98, 30.31, 0.0, 4.33, 8.66, 12.99, 17.32, 21.65, 25.98, 30.31, 0.0, 4.33, 8.66, 12.99, 17.32, 21.65, 25.98, 30.31, 0.0, 4.33, 8.66, 12.99, 17.32, 21.65, 25.98, 30.31, 0.0, 4.33, 8.66, 12.99, 17.32, 21.65, 25.98, 30.31, 0.0, 4.33, 8.66, 12.99, 17.32, 21.65, 25.98, 30.31, 0.0, 4.33, 8.66, 12.99, 17.32, 21.65, 25.98, 30.31, 0.0]\n"
       ]
      }
     ],
     "prompt_number": 237
    },
    {
     "cell_type": "code",
     "collapsed": false,
     "input": [
      "for i in range(21):\n",
      "    print xC19[i]-xC19[i+1]\n",
      "for i in range(21):\n",
      "    print yC19[i]-yC19[i+1]"
     ],
     "language": "python",
     "metadata": {},
     "outputs": [
      {
       "output_type": "stream",
       "stream": "stdout",
       "text": [
        "-2.5\n",
        "2.5\n",
        "-2.5\n",
        "2.5\n",
        "-2.5\n",
        "2.5\n",
        "-2.5\n",
        "-2.5\n",
        "-2.5\n",
        "2.5\n",
        "-2.5\n",
        "2.5\n",
        "-2.5\n",
        "2.5\n",
        "-2.5\n",
        "-2.5\n",
        "-2.5\n",
        "2.5\n",
        "-2.5\n",
        "2.5\n",
        "-2.5\n",
        "-4.33\n",
        "-4.33\n",
        "-4.33\n",
        "-4.33\n",
        "-4.33\n",
        "-4.33\n",
        "-4.33\n",
        "30.31\n",
        "-4.33\n",
        "-4.33\n",
        "-4.33\n",
        "-4.33\n",
        "-4.33\n",
        "-4.33\n",
        "-4.33\n",
        "30.31\n",
        "-4.33\n",
        "-4.33\n",
        "-4.33\n",
        "-4.33\n",
        "-4.33\n"
       ]
      }
     ],
     "prompt_number": 124
    },
    {
     "cell_type": "code",
     "collapsed": false,
     "input": [
      "xbox = str(round(xPos[-1,1]-xPos[0,1],3))+ \"0\"\n",
      "ybox = str(round(yPos[0,-1]-yPos[0,0],3))\n",
      "zbox = str(round(zPos,3)-zlastPos.min())+ \"0\"\n",
      "print xbox,ybox,zbox"
     ],
     "language": "python",
     "metadata": {},
     "outputs": [
      {
       "output_type": "stream",
       "stream": "stdout",
       "text": [
        "45.00 30.311 22.580\n"
       ]
      }
     ],
     "prompt_number": 224
    },
    {
     "cell_type": "code",
     "collapsed": false,
     "input": [
      "xbox = str(round(xPos.max()-xPos.min(),3))+ \"00\" \n",
      "ybox = str(round(yPos.max()-yPos.min(),3))\n",
      "zbox = str(round(zPos,3)-zlastPos.min())+ \"0\"\n",
      "print xbox,ybox,zbox"
     ],
     "language": "python",
     "metadata": {},
     "outputs": [
      {
       "output_type": "stream",
       "stream": "stdout",
       "text": [
        "247.500 168.875 22.580\n"
       ]
      }
     ],
     "prompt_number": 25
    },
    {
     "cell_type": "code",
     "collapsed": false,
     "input": [
      "print 100*Nxoxy*Nyoxy/(float(Nx*Ny))"
     ],
     "language": "python",
     "metadata": {},
     "outputs": [
      {
       "output_type": "stream",
       "stream": "stdout",
       "text": [
        "25.0\n"
       ]
      }
     ],
     "prompt_number": 50
    },
    {
     "cell_type": "code",
     "collapsed": false,
     "input": [
      "# exchange particles\n",
      "#    Get indices of particles to replace:\n",
      "xinterval = Nx/float(Nxoxy)\n",
      "yinterval = Ny/float(Nyoxy)\n",
      "print xinterval\n",
      "print yinterval"
     ],
     "language": "python",
     "metadata": {},
     "outputs": [
      {
       "output_type": "stream",
       "stream": "stdout",
       "text": [
        "2.0\n",
        "2.0\n"
       ]
      }
     ],
     "prompt_number": 51
    },
    {
     "cell_type": "code",
     "collapsed": false,
     "input": [
      "print Nx*Ny/copies**2"
     ],
     "language": "python",
     "metadata": {},
     "outputs": [
      {
       "output_type": "stream",
       "stream": "stdout",
       "text": [
        "200\n"
       ]
      }
     ],
     "prompt_number": 52
    },
    {
     "cell_type": "code",
     "collapsed": false,
     "input": [
      "print Nxoxy*Nyoxy"
     ],
     "language": "python",
     "metadata": {},
     "outputs": [
      {
       "output_type": "stream",
       "stream": "stdout",
       "text": [
        "50\n"
       ]
      }
     ],
     "prompt_number": 53
    },
    {
     "cell_type": "code",
     "collapsed": false,
     "input": [
      "print 5%2"
     ],
     "language": "python",
     "metadata": {},
     "outputs": [
      {
       "output_type": "stream",
       "stream": "stdout",
       "text": [
        "1\n"
       ]
      }
     ],
     "prompt_number": 39
    },
    {
     "cell_type": "code",
     "collapsed": false,
     "input": [],
     "language": "python",
     "metadata": {},
     "outputs": []
    }
   ],
   "metadata": {}
  }
 ]
}