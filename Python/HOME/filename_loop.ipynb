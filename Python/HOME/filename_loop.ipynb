{
 "metadata": {
  "name": "filename_loop"
 },
 "nbformat": 3,
 "nbformat_minor": 0,
 "worksheets": [
  {
   "cells": [
    {
     "cell_type": "code",
     "collapsed": false,
     "input": "for i in [0, 5, 11, 17]:\n    for j in [1, 2, 3, 4]:\n        for k in range(0, 20, 2):\n            l = k + 2\n            filename = 'densmap_%dpc_%d000_%d_%d.dat'%(i,j,k,l, )\n            print filename",
     "language": "python",
     "metadata": {},
     "outputs": [
      {
       "output_type": "stream",
       "stream": "stdout",
       "text": "densmap_0pc_1000_0_2.dat\ndensmap_0pc_1000_2_4.dat\ndensmap_0pc_1000_4_6.dat\ndensmap_0pc_1000_6_8.dat\ndensmap_0pc_1000_8_10.dat\ndensmap_0pc_1000_10_12.dat\ndensmap_0pc_1000_12_14.dat\ndensmap_0pc_1000_14_16.dat\ndensmap_0pc_1000_16_18.dat\ndensmap_0pc_1000_18_20.dat\ndensmap_0pc_2000_0_2.dat\ndensmap_0pc_2000_2_4.dat\ndensmap_0pc_2000_4_6.dat\ndensmap_0pc_2000_6_8.dat\ndensmap_0pc_2000_8_10.dat\ndensmap_0pc_2000_10_12.dat\ndensmap_0pc_2000_12_14.dat\ndensmap_0pc_2000_14_16.dat\ndensmap_0pc_2000_16_18.dat\ndensmap_0pc_2000_18_20.dat\ndensmap_0pc_3000_0_2.dat\ndensmap_0pc_3000_2_4.dat\ndensmap_0pc_3000_4_6.dat\ndensmap_0pc_3000_6_8.dat\ndensmap_0pc_3000_8_10.dat\ndensmap_0pc_3000_10_12.dat\ndensmap_0pc_3000_12_14.dat\ndensmap_0pc_3000_14_16.dat\ndensmap_0pc_3000_16_18.dat\ndensmap_0pc_3000_18_20.dat\ndensmap_0pc_4000_0_2.dat\ndensmap_0pc_4000_2_4.dat\ndensmap_0pc_4000_4_6.dat\ndensmap_0pc_4000_6_8.dat\ndensmap_0pc_4000_8_10.dat\ndensmap_0pc_4000_10_12.dat\ndensmap_0pc_4000_12_14.dat\ndensmap_0pc_4000_14_16.dat\ndensmap_0pc_4000_16_18.dat\ndensmap_0pc_4000_18_20.dat\ndensmap_5pc_1000_0_2.dat\ndensmap_5pc_1000_2_4.dat\ndensmap_5pc_1000_4_6.dat\ndensmap_5pc_1000_6_8.dat\ndensmap_5pc_1000_8_10.dat\ndensmap_5pc_1000_10_12.dat\ndensmap_5pc_1000_12_14.dat\ndensmap_5pc_1000_14_16.dat\ndensmap_5pc_1000_16_18.dat\ndensmap_5pc_1000_18_20.dat\ndensmap_5pc_2000_0_2.dat\ndensmap_5pc_2000_2_4.dat\ndensmap_5pc_2000_4_6.dat\ndensmap_5pc_2000_6_8.dat\ndensmap_5pc_2000_8_10.dat\ndensmap_5pc_2000_10_12.dat\ndensmap_5pc_2000_12_14.dat\ndensmap_5pc_2000_14_16.dat\ndensmap_5pc_2000_16_18.dat\ndensmap_5pc_2000_18_20.dat\ndensmap_5pc_3000_0_2.dat\ndensmap_5pc_3000_2_4.dat\ndensmap_5pc_3000_4_6.dat\ndensmap_5pc_3000_6_8.dat\ndensmap_5pc_3000_8_10.dat\ndensmap_5pc_3000_10_12.dat\ndensmap_5pc_3000_12_14.dat\ndensmap_5pc_3000_14_16.dat\ndensmap_5pc_3000_16_18.dat\ndensmap_5pc_3000_18_20.dat\ndensmap_5pc_4000_0_2.dat\ndensmap_5pc_4000_2_4.dat\ndensmap_5pc_4000_4_6.dat\ndensmap_5pc_4000_6_8.dat\ndensmap_5pc_4000_8_10.dat\ndensmap_5pc_4000_10_12.dat\ndensmap_5pc_4000_12_14.dat\ndensmap_5pc_4000_14_16.dat\ndensmap_5pc_4000_16_18.dat\ndensmap_5pc_4000_18_20.dat\ndensmap_11pc_1000_0_2.dat\ndensmap_11pc_1000_2_4.dat\ndensmap_11pc_1000_4_6.dat\ndensmap_11pc_1000_6_8.dat\ndensmap_11pc_1000_8_10.dat\ndensmap_11pc_1000_10_12.dat\ndensmap_11pc_1000_12_14.dat\ndensmap_11pc_1000_14_16.dat\ndensmap_11pc_1000_16_18.dat\ndensmap_11pc_1000_18_20.dat\ndensmap_11pc_2000_0_2.dat\ndensmap_11pc_2000_2_4.dat\ndensmap_11pc_2000_4_6.dat\ndensmap_11pc_2000_6_8.dat\ndensmap_11pc_2000_8_10.dat\ndensmap_11pc_2000_10_12.dat\ndensmap_11pc_2000_12_14.dat\ndensmap_11pc_2000_14_16.dat\ndensmap_11pc_2000_16_18.dat\ndensmap_11pc_2000_18_20.dat\ndensmap_11pc_3000_0_2.dat\ndensmap_11pc_3000_2_4.dat\ndensmap_11pc_3000_4_6.dat\ndensmap_11pc_3000_6_8.dat\ndensmap_11pc_3000_8_10.dat\ndensmap_11pc_3000_10_12.dat\ndensmap_11pc_3000_12_14.dat\ndensmap_11pc_3000_14_16.dat\ndensmap_11pc_3000_16_18.dat\ndensmap_11pc_3000_18_20.dat\ndensmap_11pc_4000_0_2.dat\ndensmap_11pc_4000_2_4.dat\ndensmap_11pc_4000_4_6.dat\ndensmap_11pc_4000_6_8.dat\ndensmap_11pc_4000_8_10.dat\ndensmap_11pc_4000_10_12.dat\ndensmap_11pc_4000_12_14.dat\ndensmap_11pc_4000_14_16.dat\ndensmap_11pc_4000_16_18.dat\ndensmap_11pc_4000_18_20.dat\ndensmap_17pc_1000_0_2.dat\ndensmap_17pc_1000_2_4.dat\ndensmap_17pc_1000_4_6.dat\ndensmap_17pc_1000_6_8.dat\ndensmap_17pc_1000_8_10.dat\ndensmap_17pc_1000_10_12.dat\ndensmap_17pc_1000_12_14.dat\ndensmap_17pc_1000_14_16.dat\ndensmap_17pc_1000_16_18.dat\ndensmap_17pc_1000_18_20.dat\ndensmap_17pc_2000_0_2.dat\ndensmap_17pc_2000_2_4.dat\ndensmap_17pc_2000_4_6.dat\ndensmap_17pc_2000_6_8.dat\ndensmap_17pc_2000_8_10.dat\ndensmap_17pc_2000_10_12.dat\ndensmap_17pc_2000_12_14.dat\ndensmap_17pc_2000_14_16.dat\ndensmap_17pc_2000_16_18.dat\ndensmap_17pc_2000_18_20.dat\ndensmap_17pc_3000_0_2.dat\ndensmap_17pc_3000_2_4.dat\ndensmap_17pc_3000_4_6.dat\ndensmap_17pc_3000_6_8.dat\ndensmap_17pc_3000_8_10.dat\ndensmap_17pc_3000_10_12.dat\ndensmap_17pc_3000_12_14.dat\ndensmap_17pc_3000_14_16.dat\ndensmap_17pc_3000_16_18.dat\ndensmap_17pc_3000_18_20.dat\ndensmap_17pc_4000_0_2.dat\ndensmap_17pc_4000_2_4.dat\ndensmap_17pc_4000_4_6.dat\ndensmap_17pc_4000_6_8.dat\ndensmap_17pc_4000_8_10.dat\ndensmap_17pc_4000_10_12.dat\ndensmap_17pc_4000_12_14.dat\ndensmap_17pc_4000_14_16.dat\ndensmap_17pc_4000_16_18.dat\ndensmap_17pc_4000_18_20.dat\n"
      }
     ],
     "prompt_number": 20
    },
    {
     "cell_type": "code",
     "collapsed": false,
     "input": "import numpy as np",
     "language": "python",
     "metadata": {},
     "outputs": [],
     "prompt_number": 21
    },
    {
     "cell_type": "code",
     "collapsed": false,
     "input": "%cd /Users/burbol/Desktop/Testing/files_for_laila/densmaps_berendsen",
     "language": "python",
     "metadata": {},
     "outputs": [
      {
       "output_type": "stream",
       "stream": "stdout",
       "text": "/Users/burbol/Desktop/Testing/files_for_laila/densmaps_berendsen\n"
      }
     ],
     "prompt_number": 22
    },
    {
     "cell_type": "code",
     "collapsed": false,
     "input": "for i in [5]:\n    for j in [2]:\n        for k in range(0, 20, 2):\n            l = k + 2\n            filename = 'densmap_%dpc_%d000_%d_%d.dat'%(i,j,k,l, )\n            foldername = 'densmaps_s%d_w%d000'%(i,j, )\nprint foldername ",
     "language": "python",
     "metadata": {},
     "outputs": [
      {
       "output_type": "stream",
       "stream": "stdout",
       "text": "densmaps_s5_w2000\n"
      }
     ],
     "prompt_number": 45
    },
    {
     "cell_type": "code",
     "collapsed": false,
     "input": "import os\nos.chdir(foldername)",
     "language": "python",
     "metadata": {},
     "outputs": [],
     "prompt_number": 52
    },
    {
     "cell_type": "code",
     "collapsed": false,
     "input": "pwd",
     "language": "python",
     "metadata": {},
     "outputs": [
      {
       "output_type": "pyout",
       "prompt_number": 53,
       "text": "u'/Users/burbol/Desktop/Testing/files_for_laila/densmaps_berendsen/densmaps_s5_w2000'"
      }
     ],
     "prompt_number": 53
    },
    {
     "cell_type": "code",
     "collapsed": false,
     "input": "cd ..",
     "language": "python",
     "metadata": {},
     "outputs": [
      {
       "output_type": "stream",
       "stream": "stdout",
       "text": "/Users/burbol/Desktop/Testing/files_for_laila/densmaps_berendsen\n"
      }
     ],
     "prompt_number": 54
    },
    {
     "cell_type": "code",
     "collapsed": false,
     "input": "cd $foldername",
     "language": "python",
     "metadata": {},
     "outputs": [
      {
       "output_type": "stream",
       "stream": "stdout",
       "text": "/Users/burbol/Desktop/Testing/files_for_laila/densmaps_berendsen/densmaps_s5_w2000\n"
      }
     ],
     "prompt_number": 56
    },
    {
     "cell_type": "code",
     "collapsed": false,
     "input": "",
     "language": "python",
     "metadata": {},
     "outputs": []
    }
   ],
   "metadata": {}
  }
 ]
}