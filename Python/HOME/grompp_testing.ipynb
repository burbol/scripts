{
 "metadata": {
  "name": ""
 },
 "nbformat": 3,
 "nbformat_minor": 0,
 "worksheets": [
  {
   "cells": [
    {
     "cell_type": "code",
     "collapsed": false,
     "input": [
      "import numpy as np\n",
      "import os"
     ],
     "language": "python",
     "metadata": {},
     "outputs": [],
     "prompt_number": 1
    },
    {
     "cell_type": "code",
     "collapsed": false,
     "input": [
      "samsfolder = \"/Users/burbol/Desktop/scripts/SAM_CREATION/SAMs/NEW/drop_placement\" #path to .gro files\n",
      "\n",
      "pc = [21, 25]\n",
      "molec = [216, 1000, 2000, 3000, 4000, 5000, 6500, 7000, 8000, 9000, 10000]\n",
      "#WE TEST WITH grompp TO SEE IF .top FILE AND .gro FILES ARE WORKING\n",
      "os.chdir(samsfolder)\n",
      "for i in pc:\n",
      "    for j in molec: \n",
      "        filename='sam'+str(i)+'_water'+str(j) #name of .gro files\n",
      "        topfile= str(i)+'pc_'+str(j)+'.top' #name of new .top file\n",
      "        os.system(\"/usr/local/gromacs/bin/grompp -f NVT.mdp -c %s.gro -p %s -o %s.tpr -maxwarn 1\"% (filename,topfile,filename ))"
     ],
     "language": "python",
     "metadata": {},
     "outputs": [],
     "prompt_number": 3
    },
    {
     "cell_type": "code",
     "collapsed": false,
     "input": [
      "#os.system(\"rm \\#*\")\n",
      "os.system(\"ls|grep -c  '.tpr'\")"
     ],
     "language": "python",
     "metadata": {},
     "outputs": [
      {
       "metadata": {},
       "output_type": "pyout",
       "prompt_number": 4,
       "text": [
        "0"
       ]
      }
     ],
     "prompt_number": 4
    },
    {
     "cell_type": "code",
     "collapsed": false,
     "input": [
      "os.system(\"rm *.tpr\")\n",
      "os.system(\"\\#*\")"
     ],
     "language": "python",
     "metadata": {},
     "outputs": [
      {
       "metadata": {},
       "output_type": "pyout",
       "prompt_number": 5,
       "text": [
        "32512"
       ]
      }
     ],
     "prompt_number": 5
    },
    {
     "cell_type": "code",
     "collapsed": false,
     "input": [],
     "language": "python",
     "metadata": {},
     "outputs": []
    }
   ],
   "metadata": {}
  }
 ]
}