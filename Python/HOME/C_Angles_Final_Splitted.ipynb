{
 "metadata": {
  "name": ""
 },
 "nbformat": 3,
 "nbformat_minor": 0,
 "worksheets": [
  {
   "cells": [
    {
     "cell_type": "code",
     "collapsed": false,
     "input": [
      "#!/usr/bin/python\n",
      "\n",
      "# THIS PROGRAM CALCULATES,FROM DENSITY FILES CREATED WITH GROMACS,THE CONTACT ANGLE AND \n",
      "# THE RADIUS AT THE BASE OF A WATER DROPLET WHICH HAS BEEN SIMULATED BEEING ON TOP OF A SURFACE.\n",
      "\n",
      "import matplotlib.pyplot as plt\n",
      "import numpy as np\n",
      "from scipy.optimize import curve_fit\n",
      "import os\n",
      "import math\n",
      "import pylab as pl\n",
      "from matplotlib.backends.backend_pdf import PdfPages"
     ],
     "language": "python",
     "metadata": {},
     "outputs": [],
     "prompt_number": 1
    },
    {
     "cell_type": "code",
     "collapsed": false,
     "input": [
      "# Main directory where all the density files are stored, and where the results will be stored too\n",
      "os.chdir(\"/Users/Burbol/Downloads/Testing/\")\n",
      "\n",
      "\n",
      "# Name of the file where the Contact Angles will be saved\n",
      "myfile = open('Contact_Angles.txt', 'w')\n",
      "myfile2 = open('Contact_Angles2.txt', 'w')\n",
      "\n",
      "# First line of the output file: the titles of the 3 columns of data\n",
      "print >> myfile, '{0}  {1}  {2}'.format('File', 'Contact Angle', 'Base Radius')\n",
      "print >> myfile2, '{0}  {1}'.format('Contact Angle', 'Base Radius')\n",
      "\n",
      "# Path to the pdf-file, where the plots of the fitted circles will be stored\n",
      "pp = PdfPages('/Users/Burbol/Downloads/Testing/Results.pdf')"
     ],
     "language": "python",
     "metadata": {},
     "outputs": [],
     "prompt_number": 2
    },
    {
     "cell_type": "code",
     "collapsed": false,
     "input": [
      "# Loop through all the density files in the main directory. In this case \"b\" stands for the OH-percentage of the SAM,\n",
      "# and \"c\" stands for the number of molecules (2 for 2000, 3 for 3000, etc)\n",
      "for b in [5, 11, 17]:\n",
      "    for c in [1, 2, 3, 4]:\n",
      "        #os.chdir(\"/home/eixeres/Downloads/Berendsen\")\n",
      "        os.chdir('/home/eixeres/Downloads/densmaps2_fine')\n",
      "        foldername = 'densmaps2_s%d_w%d000'%(b,c, )\n",
      "        os.chdir(foldername)\n",
      "        print >> myfile, '             '\n",
      "        for d in range(0, 200, 5):\n",
      "\t    start= d*100\n",
      "            ending=start+500\n",
      "            filename = 'densmap2_%dpc_%d000_%dps_%dps.dat'%(b,c,start,ending, )            \n",
      "            input = np.loadtxt(filename)"
     ],
     "language": "python",
     "metadata": {},
     "outputs": [
      {
       "ename": "OSError",
       "evalue": "[Errno 2] No such file or directory: '/home/eixeres/Downloads/densmaps2_fine'",
       "output_type": "pyerr",
       "traceback": [
        "\u001b[0;31m---------------------------------------------------------------------------\u001b[0m\n\u001b[0;31mOSError\u001b[0m                                   Traceback (most recent call last)",
        "\u001b[0;32m<ipython-input-4-7682ba9e40ee>\u001b[0m in \u001b[0;36m<module>\u001b[0;34m()\u001b[0m\n\u001b[1;32m      4\u001b[0m     \u001b[0;32mfor\u001b[0m \u001b[0mc\u001b[0m \u001b[0;32min\u001b[0m \u001b[0;34m[\u001b[0m\u001b[0;36m1\u001b[0m\u001b[0;34m,\u001b[0m \u001b[0;36m2\u001b[0m\u001b[0;34m,\u001b[0m \u001b[0;36m3\u001b[0m\u001b[0;34m,\u001b[0m \u001b[0;36m4\u001b[0m\u001b[0;34m]\u001b[0m\u001b[0;34m:\u001b[0m\u001b[0;34m\u001b[0m\u001b[0m\n\u001b[1;32m      5\u001b[0m         \u001b[0;31m#os.chdir(\"/home/eixeres/Downloads/Berendsen\")\u001b[0m\u001b[0;34m\u001b[0m\u001b[0;34m\u001b[0m\u001b[0m\n\u001b[0;32m----> 6\u001b[0;31m         \u001b[0mos\u001b[0m\u001b[0;34m.\u001b[0m\u001b[0mchdir\u001b[0m\u001b[0;34m(\u001b[0m\u001b[0;34m'/home/eixeres/Downloads/densmaps2_fine'\u001b[0m\u001b[0;34m)\u001b[0m\u001b[0;34m\u001b[0m\u001b[0m\n\u001b[0m\u001b[1;32m      7\u001b[0m         \u001b[0mfoldername\u001b[0m \u001b[0;34m=\u001b[0m \u001b[0;34m'densmaps2_s%d_w%d000'\u001b[0m\u001b[0;34m%\u001b[0m\u001b[0;34m(\u001b[0m\u001b[0mb\u001b[0m\u001b[0;34m,\u001b[0m\u001b[0mc\u001b[0m\u001b[0;34m,\u001b[0m \u001b[0;34m)\u001b[0m\u001b[0;34m\u001b[0m\u001b[0m\n\u001b[1;32m      8\u001b[0m         \u001b[0mos\u001b[0m\u001b[0;34m.\u001b[0m\u001b[0mchdir\u001b[0m\u001b[0;34m(\u001b[0m\u001b[0mfoldername\u001b[0m\u001b[0;34m)\u001b[0m\u001b[0;34m\u001b[0m\u001b[0m\n",
        "\u001b[0;31mOSError\u001b[0m: [Errno 2] No such file or directory: '/home/eixeres/Downloads/densmaps2_fine'"
       ]
      }
     ],
     "prompt_number": 4
    },
    {
     "cell_type": "code",
     "collapsed": false,
     "input": [
      "##DELETE IN THE SCRIPT\n",
      "b = 0\n",
      "c = 1000\n",
      "filename = 'g_rad_densmap_s0_w1000_2ns_4ns.dat'\n",
      "input = np.loadtxt(filename)\n",
      "tinput = np.transpose(input)"
     ],
     "language": "python",
     "metadata": {},
     "outputs": [
      {
       "ename": "IOError",
       "evalue": "[Errno 2] No such file or directory: 'g_rad_densmap_s0_w1000_2ns_4ns.dat'",
       "output_type": "pyerr",
       "traceback": [
        "\u001b[0;31m---------------------------------------------------------------------------\u001b[0m\n\u001b[0;31mIOError\u001b[0m                                   Traceback (most recent call last)",
        "\u001b[0;32m<ipython-input-5-63a140da92cf>\u001b[0m in \u001b[0;36m<module>\u001b[0;34m()\u001b[0m\n\u001b[1;32m      3\u001b[0m \u001b[0mc\u001b[0m \u001b[0;34m=\u001b[0m \u001b[0;36m1000\u001b[0m\u001b[0;34m\u001b[0m\u001b[0m\n\u001b[1;32m      4\u001b[0m \u001b[0mfilename\u001b[0m \u001b[0;34m=\u001b[0m \u001b[0;34m'g_rad_densmap_s0_w1000_2ns_4ns.dat'\u001b[0m\u001b[0;34m\u001b[0m\u001b[0m\n\u001b[0;32m----> 5\u001b[0;31m \u001b[0minput\u001b[0m \u001b[0;34m=\u001b[0m \u001b[0mnp\u001b[0m\u001b[0;34m.\u001b[0m\u001b[0mloadtxt\u001b[0m\u001b[0;34m(\u001b[0m\u001b[0mfilename\u001b[0m\u001b[0;34m)\u001b[0m\u001b[0;34m\u001b[0m\u001b[0m\n\u001b[0m\u001b[1;32m      6\u001b[0m \u001b[0mtinput\u001b[0m \u001b[0;34m=\u001b[0m \u001b[0mnp\u001b[0m\u001b[0;34m.\u001b[0m\u001b[0mtranspose\u001b[0m\u001b[0;34m(\u001b[0m\u001b[0minput\u001b[0m\u001b[0;34m)\u001b[0m\u001b[0;34m\u001b[0m\u001b[0m\n",
        "\u001b[0;32m/Users/burbol/Library/Enthought/Canopy_64bit/User/lib/python2.7/site-packages/numpy/lib/npyio.pyc\u001b[0m in \u001b[0;36mloadtxt\u001b[0;34m(fname, dtype, comments, delimiter, converters, skiprows, usecols, unpack, ndmin)\u001b[0m\n\u001b[1;32m    727\u001b[0m                 \u001b[0mfh\u001b[0m \u001b[0;34m=\u001b[0m \u001b[0miter\u001b[0m\u001b[0;34m(\u001b[0m\u001b[0mbz2\u001b[0m\u001b[0;34m.\u001b[0m\u001b[0mBZ2File\u001b[0m\u001b[0;34m(\u001b[0m\u001b[0mfname\u001b[0m\u001b[0;34m)\u001b[0m\u001b[0;34m)\u001b[0m\u001b[0;34m\u001b[0m\u001b[0m\n\u001b[1;32m    728\u001b[0m             \u001b[0;32melse\u001b[0m\u001b[0;34m:\u001b[0m\u001b[0;34m\u001b[0m\u001b[0m\n\u001b[0;32m--> 729\u001b[0;31m                 \u001b[0mfh\u001b[0m \u001b[0;34m=\u001b[0m \u001b[0miter\u001b[0m\u001b[0;34m(\u001b[0m\u001b[0mopen\u001b[0m\u001b[0;34m(\u001b[0m\u001b[0mfname\u001b[0m\u001b[0;34m,\u001b[0m \u001b[0;34m'U'\u001b[0m\u001b[0;34m)\u001b[0m\u001b[0;34m)\u001b[0m\u001b[0;34m\u001b[0m\u001b[0m\n\u001b[0m\u001b[1;32m    730\u001b[0m         \u001b[0;32melse\u001b[0m\u001b[0;34m:\u001b[0m\u001b[0;34m\u001b[0m\u001b[0m\n\u001b[1;32m    731\u001b[0m             \u001b[0mfh\u001b[0m \u001b[0;34m=\u001b[0m \u001b[0miter\u001b[0m\u001b[0;34m(\u001b[0m\u001b[0mfname\u001b[0m\u001b[0;34m)\u001b[0m\u001b[0;34m\u001b[0m\u001b[0m\n",
        "\u001b[0;31mIOError\u001b[0m: [Errno 2] No such file or directory: 'g_rad_densmap_s0_w1000_2ns_4ns.dat'"
       ]
      }
     ],
     "prompt_number": 5
    },
    {
     "cell_type": "code",
     "collapsed": false,
     "input": [
      "##DELETE IN THE SCRIPT\n",
      "input[0]\n",
      "tinput[0]"
     ],
     "language": "python",
     "metadata": {},
     "outputs": [
      {
       "ename": "TypeError",
       "evalue": "'function' object has no attribute '__getitem__'",
       "output_type": "pyerr",
       "traceback": [
        "\u001b[0;31m---------------------------------------------------------------------------\u001b[0m\n\u001b[0;31mTypeError\u001b[0m                                 Traceback (most recent call last)",
        "\u001b[0;32m<ipython-input-6-cd99ec5acc4e>\u001b[0m in \u001b[0;36m<module>\u001b[0;34m()\u001b[0m\n\u001b[1;32m      1\u001b[0m \u001b[0;31m##DELETE IN THE SCRIPT\u001b[0m\u001b[0;34m\u001b[0m\u001b[0;34m\u001b[0m\u001b[0m\n\u001b[0;32m----> 2\u001b[0;31m \u001b[0minput\u001b[0m\u001b[0;34m[\u001b[0m\u001b[0;36m0\u001b[0m\u001b[0;34m]\u001b[0m\u001b[0;34m\u001b[0m\u001b[0m\n\u001b[0m\u001b[1;32m      3\u001b[0m \u001b[0mtinput\u001b[0m\u001b[0;34m[\u001b[0m\u001b[0;36m0\u001b[0m\u001b[0;34m]\u001b[0m\u001b[0;34m\u001b[0m\u001b[0m\n",
        "\u001b[0;31mTypeError\u001b[0m: 'function' object has no attribute '__getitem__'"
       ]
      }
     ],
     "prompt_number": 6
    },
    {
     "cell_type": "code",
     "collapsed": false,
     "input": [
      "# The function \"checkzero\" checks, given a specific slice \"s\", if there is some density value different then zero. \n",
      "# In that case it returns \"True\", if all the values are zero, it returns \"False\" (it ignores the first value of the input array, \n",
      "# because it only stores the slice position and not any density information).\n",
      "            x = input[0]\n",
      "            def checkzero(s):\n",
      "                i = len(np.transpose(np.nonzero(s)))\n",
      "                if i > 1: \n",
      "                   return True\n",
      "                else: \n",
      "                   return False"
     ],
     "language": "python",
     "metadata": {},
     "outputs": [
      {
       "ename": "IndentationError",
       "evalue": "unexpected indent (<ipython-input-7-881967d663f5>, line 4)",
       "output_type": "pyerr",
       "traceback": [
        "\u001b[0;36m  File \u001b[0;32m\"<ipython-input-7-881967d663f5>\"\u001b[0;36m, line \u001b[0;32m4\u001b[0m\n\u001b[0;31m    x = input[0]\u001b[0m\n\u001b[0m    ^\u001b[0m\n\u001b[0;31mIndentationError\u001b[0m\u001b[0;31m:\u001b[0m unexpected indent\n"
       ]
      }
     ],
     "prompt_number": 7
    },
    {
     "cell_type": "code",
     "collapsed": false,
     "input": [
      "# Here we use the function \"checkzero\" to find the first slice where there is some point of density different\n",
      "# then zero. Then we set that slice number as the variable \"zeroslice\". We can change the slices being checked (from 70 to 150). \n",
      "            zeroslice = 0\n",
      "            for slice in range(70,150):\n",
      "                y = input[slice]\n",
      "                if checkzero(y): \n",
      "                   zeroslice = slice\n",
      "                   break\n",
      "                else: continue"
     ],
     "language": "python",
     "metadata": {},
     "outputs": [
      {
       "ename": "IndentationError",
       "evalue": "unexpected indent (<ipython-input-8-270d197c5703>, line 3)",
       "output_type": "pyerr",
       "traceback": [
        "\u001b[0;36m  File \u001b[0;32m\"<ipython-input-8-270d197c5703>\"\u001b[0;36m, line \u001b[0;32m3\u001b[0m\n\u001b[0;31m    zeroslice = 0\u001b[0m\n\u001b[0m    ^\u001b[0m\n\u001b[0;31mIndentationError\u001b[0m\u001b[0;31m:\u001b[0m unexpected indent\n"
       ]
      }
     ],
     "prompt_number": 8
    },
    {
     "cell_type": "code",
     "collapsed": false,
     "input": [
      "# The function \"func\" is the sigmoid fit of the density data points.\n",
      "            def func(r, ro, R, d):\n",
      "                return (ro/2)*(1-np.tanh(2*(r-R)/d))\n",
      "                "
     ],
     "language": "python",
     "metadata": {},
     "outputs": [
      {
       "ename": "IndentationError",
       "evalue": "unexpected indent (<ipython-input-9-0c8dab09be60>, line 2)",
       "output_type": "pyerr",
       "traceback": [
        "\u001b[0;36m  File \u001b[0;32m\"<ipython-input-9-0c8dab09be60>\"\u001b[0;36m, line \u001b[0;32m2\u001b[0m\n\u001b[0;31m    def func(r, ro, R, d):\u001b[0m\n\u001b[0m    ^\u001b[0m\n\u001b[0;31mIndentationError\u001b[0m\u001b[0;31m:\u001b[0m unexpected indent\n"
       ]
      }
     ],
     "prompt_number": 9
    },
    {
     "cell_type": "code",
     "collapsed": false,
     "input": [
      "# Searching for initian guess for the first parameter of the fit\n",
      "            def guess(y):\n",
      "                m = max(y)\n",
      "                m2 = min(y)\n",
      "                third = (m - m2)/3\n",
      "                bottom = m - third\n",
      "                tot = 0\n",
      "                count = 0\n",
      "                for i in range(0, len(y)):\n",
      "                    if y[i] >= bottom:\n",
      "                       tot = tot + y[i]\n",
      "                       count = count + 1\n",
      "                At = tot / count\n",
      "                return At\n",
      "                "
     ],
     "language": "python",
     "metadata": {},
     "outputs": [
      {
       "ename": "IndentationError",
       "evalue": "unexpected indent (<ipython-input-10-dfeddb54e4f9>, line 2)",
       "output_type": "pyerr",
       "traceback": [
        "\u001b[0;36m  File \u001b[0;32m\"<ipython-input-10-dfeddb54e4f9>\"\u001b[0;36m, line \u001b[0;32m2\u001b[0m\n\u001b[0;31m    def guess(y):\u001b[0m\n\u001b[0m    ^\u001b[0m\n\u001b[0;31mIndentationError\u001b[0m\u001b[0;31m:\u001b[0m unexpected indent\n"
       ]
      }
     ],
     "prompt_number": 10
    },
    {
     "cell_type": "code",
     "collapsed": false,
     "input": [
      "# The function \"checkslice\" has 2 arguments: \"s\" is the slice number, and \"t\" is the initial guess \n",
      "# of the first parameter of the fit. It makes a fit of the density data, and the checks if the value of \n",
      "# the fitted function at R=0 is greater then 90. If so, it returns \"True\". If not, it returns \"False\".\n",
      "# \"maxfev\" is the allowed number of funtion calls when doing the fit. The default number was 800.\n",
      "            def checkslice(s, t):\n",
      "                popt, pcov = curve_fit(func, x, s,[t, 2, 1], maxfev=10000)\n",
      "                k = func(0,*popt)\n",
      "                if k > 90:\n",
      "                   return True\n",
      "                else: \n",
      "                   return False\n",
      "                   "
     ],
     "language": "python",
     "metadata": {},
     "outputs": [
      {
       "ename": "IndentationError",
       "evalue": "unexpected indent (<ipython-input-11-f07b1a53d53a>, line 5)",
       "output_type": "pyerr",
       "traceback": [
        "\u001b[0;36m  File \u001b[0;32m\"<ipython-input-11-f07b1a53d53a>\"\u001b[0;36m, line \u001b[0;32m5\u001b[0m\n\u001b[0;31m    def checkslice(s, t):\u001b[0m\n\u001b[0m    ^\u001b[0m\n\u001b[0;31mIndentationError\u001b[0m\u001b[0;31m:\u001b[0m unexpected indent\n"
       ]
      }
     ],
     "prompt_number": 11
    },
    {
     "cell_type": "code",
     "collapsed": false,
     "input": [
      "# Here we use \"checkslice\" to find the first slice with density (at R=0) greater the 90. We call that slice \"slicemin\"\n",
      "            slicemin = 0\n",
      "            for slice in range(70,150):\n",
      "                y = input[slice]\n",
      "                At = guess(y)\n",
      "                if checkslice(y, At):\n",
      "\t\t   slicemin = slice\n",
      "                   break\n",
      "                else: continue               "
     ],
     "language": "python",
     "metadata": {},
     "outputs": [
      {
       "ename": "IndentationError",
       "evalue": "unexpected indent (<ipython-input-12-b7ab51ee2472>, line 2)",
       "output_type": "pyerr",
       "traceback": [
        "\u001b[0;36m  File \u001b[0;32m\"<ipython-input-12-b7ab51ee2472>\"\u001b[0;36m, line \u001b[0;32m2\u001b[0m\n\u001b[0;31m    slicemin = 0\u001b[0m\n\u001b[0m    ^\u001b[0m\n\u001b[0;31mIndentationError\u001b[0m\u001b[0;31m:\u001b[0m unexpected indent\n"
       ]
      }
     ],
     "prompt_number": 12
    },
    {
     "cell_type": "code",
     "collapsed": false,
     "input": [
      "# Here we use \"checkslice\" to find the last slice with density (at R=0) greater the 90. We call that slice \"slicemax\"\n",
      "            slicemax = 0\n",
      "            for slice in range(179,130,-1):\n",
      "                y = input[slice]\n",
      "                At = guess(y)\n",
      "                if checkslice(y, At):\n",
      "                   slicemax = slice\n",
      "                   break\n",
      "                else: continue"
     ],
     "language": "python",
     "metadata": {},
     "outputs": [
      {
       "ename": "IndentationError",
       "evalue": "unexpected indent (<ipython-input-13-02715f8fdcb3>, line 2)",
       "output_type": "pyerr",
       "traceback": [
        "\u001b[0;36m  File \u001b[0;32m\"<ipython-input-13-02715f8fdcb3>\"\u001b[0;36m, line \u001b[0;32m2\u001b[0m\n\u001b[0;31m    slicemax = 0\u001b[0m\n\u001b[0m    ^\u001b[0m\n\u001b[0;31mIndentationError\u001b[0m\u001b[0;31m:\u001b[0m unexpected indent\n"
       ]
      }
     ],
     "prompt_number": 13
    },
    {
     "cell_type": "code",
     "collapsed": false,
     "input": [
      "# \"slicemin2\" is the first slice that we will actually analyze. \n",
      "            slicemin2 = zeroslice + 16\n",
      "            if slicemin2 < slicemin:\n",
      "\t      slicemin2 = slicemin\n",
      "\t    "
     ],
     "language": "python",
     "metadata": {},
     "outputs": [
      {
       "ename": "IndentationError",
       "evalue": "unexpected indent (<ipython-input-15-84ee77784a5f>, line 2)",
       "output_type": "pyerr",
       "traceback": [
        "\u001b[0;36m  File \u001b[0;32m\"<ipython-input-15-84ee77784a5f>\"\u001b[0;36m, line \u001b[0;32m2\u001b[0m\n\u001b[0;31m    slicemin2 = zeroslice + 16\u001b[0m\n\u001b[0m    ^\u001b[0m\n\u001b[0;31mIndentationError\u001b[0m\u001b[0;31m:\u001b[0m unexpected indent\n"
       ]
      }
     ],
     "prompt_number": 15
    },
    {
     "cell_type": "code",
     "collapsed": false,
     "input": [
      "# Some output on the screen to follow what the program is doing\n",
      "\t    print \"Checking \", filename\n",
      "\t    print \"slices found: zero, min, zero+16, max\"\n",
      "\t    print zeroslice, slicemin, slicemin2, slicemax\n",
      "\t    "
     ],
     "language": "python",
     "metadata": {},
     "outputs": [
      {
       "ename": "IndentationError",
       "evalue": "unexpected indent (<ipython-input-16-2f1c7ce2d545>, line 2)",
       "output_type": "pyerr",
       "traceback": [
        "\u001b[0;36m  File \u001b[0;32m\"<ipython-input-16-2f1c7ce2d545>\"\u001b[0;36m, line \u001b[0;32m2\u001b[0m\n\u001b[0;31m    print \"Checking \", filename\u001b[0m\n\u001b[0m    ^\u001b[0m\n\u001b[0;31mIndentationError\u001b[0m\u001b[0;31m:\u001b[0m unexpected indent\n"
       ]
      }
     ],
     "prompt_number": 16
    },
    {
     "cell_type": "code",
     "collapsed": false,
     "input": [
      "# We use the position of \"slicezero\" as our shift.\t    \n",
      "            y = input[zeroslice]\n",
      "            shift = y[0]"
     ],
     "language": "python",
     "metadata": {},
     "outputs": [
      {
       "ename": "IndentationError",
       "evalue": "unexpected indent (<ipython-input-17-b4372db5f7fe>, line 2)",
       "output_type": "pyerr",
       "traceback": [
        "\u001b[0;36m  File \u001b[0;32m\"<ipython-input-17-b4372db5f7fe>\"\u001b[0;36m, line \u001b[0;32m2\u001b[0m\n\u001b[0;31m    y = input[zeroslice]\u001b[0m\n\u001b[0m    ^\u001b[0m\n\u001b[0;31mIndentationError\u001b[0m\u001b[0;31m:\u001b[0m unexpected indent\n"
       ]
      }
     ],
     "prompt_number": 17
    },
    {
     "cell_type": "code",
     "collapsed": false,
     "input": [
      "# Now we determine R and z. \n",
      "# R comes from the fit, and z is a vector with the shifted positions of the slices.\n",
      "            dims = slicemax - slicemin2 + 1\n",
      "            maxdim = slicemax + 1\n",
      "            i=0\n",
      "            z = np.zeros(dims)\n",
      "            R = np.zeros(dims)\n",
      "            w = np.zeros(dims)\n",
      "            for a in range(slicemin2, maxdim):\n",
      "                y2 = input[a]\n",
      "                i = a - slicemin2\n",
      "                z[i] = y2[0] - shift\n",
      "          #    w[i] = 0.05*(a - 1) - 5.0 - shift -> Ahother way to determine z\n",
      "                params, pcov2 = curve_fit(func, x, y2,[100, 3, 1],maxfev = 10000)\n",
      "                R[i] = params[1]"
     ],
     "language": "python",
     "metadata": {},
     "outputs": [
      {
       "ename": "IndentationError",
       "evalue": "unexpected indent (<ipython-input-18-2271e0181b5a>, line 3)",
       "output_type": "pyerr",
       "traceback": [
        "\u001b[0;36m  File \u001b[0;32m\"<ipython-input-18-2271e0181b5a>\"\u001b[0;36m, line \u001b[0;32m3\u001b[0m\n\u001b[0;31m    dims = slicemax - slicemin2 + 1\u001b[0m\n\u001b[0m    ^\u001b[0m\n\u001b[0;31mIndentationError\u001b[0m\u001b[0;31m:\u001b[0m unexpected indent\n"
       ]
      }
     ],
     "prompt_number": 18
    },
    {
     "cell_type": "code",
     "collapsed": false,
     "input": [
      "# Here we use part of the source code of a website, to fit points to a circle.--> \"http://wiki.scipy.org/Cookbook/Least_Squares_Circle\"\n",
      "\n",
      "#  == LEAST SQUARES CIRCLE ==\n",
      "# Advanced usage of optimize.leastsq with jacobian\n",
      "\n",
      "            method  = \"leastsq with jacobian\"\n",
      "            from scipy    import optimize\n",
      "\n",
      "             # coordinates of the barycenter\n",
      "            x_m = np.mean(z)\n",
      "            y_m = np.mean(R)\n",
      "\n",
      "            def calc_R(xc, yc):\n",
      "#    \"\"\" calculate the distance of each data points from the center (xc, yc) \"\"\"\n",
      "                return np.sqrt((z-xc)**2 + (R-yc)**2)\n",
      "\n",
      "            def f(c):\n",
      "#    \"\"\" calculate the algebraic distance between the 2D points and the mean circle centered at c=(xc, yc) \"\"\"\n",
      "                Ri = calc_R(*c)\n",
      "                return Ri - Ri.mean()\n",
      "\n",
      "            def Df(c):\n",
      "#    \"\"\" Jacobian of f\n",
      "#    The axis corresponding to derivatives must be coherent with the col_deriv option of leastsq\"\"\"\n",
      "                xc, yc     = c\n",
      "                df_dc    = np.empty((len(c), z.size))\n",
      "\n",
      "                Ri = calc_R(xc, yc)\n",
      "                df_dc[ 0] = (xc - z)/Ri                   # dR/dxc\n",
      "                df_dc[ 1] = (yc - R)/Ri                   # dR/dyc\n",
      "                df_dc       = df_dc - df_dc.mean(axis=1)[:, np.newaxis]\n",
      "                return df_dc\n",
      "\n",
      "            center_estimate = x_m, y_m\n",
      "            center, ier = optimize.leastsq(f, center_estimate, Dfun=Df, col_deriv=True)\n",
      "\n",
      "# The results from the fitted circle, with the coordinates of the circle center: xc, yc, and Circle radius: R_2.\n",
      "            xc, yc = center\n",
      "            Ri        = calc_R(xc, yc)\n",
      "            R_2       = Ri.mean()\n",
      "            residu    = sum((Ri - R_2)**2)"
     ],
     "language": "python",
     "metadata": {},
     "outputs": [
      {
       "ename": "IndentationError",
       "evalue": "unexpected indent (<ipython-input-19-be2d191c5df8>, line 6)",
       "output_type": "pyerr",
       "traceback": [
        "\u001b[0;36m  File \u001b[0;32m\"<ipython-input-19-be2d191c5df8>\"\u001b[0;36m, line \u001b[0;32m6\u001b[0m\n\u001b[0;31m    method  = \"leastsq with jacobian\"\u001b[0m\n\u001b[0m    ^\u001b[0m\n\u001b[0;31mIndentationError\u001b[0m\u001b[0;31m:\u001b[0m unexpected indent\n"
       ]
      }
     ],
     "prompt_number": 19
    },
    {
     "cell_type": "code",
     "collapsed": false,
     "input": [
      "# The function \"plot_circ\" makes a plot of the fitted circle together with the points that have been fitted. \n",
      "# The arguments: z is the shifted position of each slice, R the calculated radius corresponding to each slice,\n",
      "# xc and yc are the coordinates of the center of the fitted circle, and R_2 is the radius of the fitted circle.\n",
      "# Other options regarding the aspect of the plots should be added/changed here inside de function.\n",
      "            def plot_circ(z, R, xc, yc, R_2):                    \n",
      "                fig = pl.figure()           \n",
      "                theta_fit = np.linspace(-np.pi, np.pi, 180)\n",
      "                x_fit2 = xc + R_2*np.cos(theta_fit)\n",
      "                y_fit2 = yc + R_2*np.sin(theta_fit)               \n",
      "                pl.plot(x_fit2, y_fit2, 'b-', z, R, 'k.')\n",
      "                fig.suptitle(filename)\n",
      "                pl.xlim(0,5)\n",
      "                pl.ylim(0,5)\n",
      "                pl.xlabel('z [nm]')\n",
      "                pl.ylabel('R [nm]')\n",
      "                pl.grid(True)\n",
      "                return fig\n",
      "    "
     ],
     "language": "python",
     "metadata": {},
     "outputs": [
      {
       "ename": "IndentationError",
       "evalue": "unexpected indent (<ipython-input-20-e427123722e0>, line 5)",
       "output_type": "pyerr",
       "traceback": [
        "\u001b[0;36m  File \u001b[0;32m\"<ipython-input-20-e427123722e0>\"\u001b[0;36m, line \u001b[0;32m5\u001b[0m\n\u001b[0;31m    def plot_circ(z, R, xc, yc, R_2):\u001b[0m\n\u001b[0m    ^\u001b[0m\n\u001b[0;31mIndentationError\u001b[0m\u001b[0;31m:\u001b[0m unexpected indent\n"
       ]
      }
     ],
     "prompt_number": 20
    },
    {
     "cell_type": "code",
     "collapsed": false,
     "input": [
      "# The function \"angle\" calculates the contact angle.\n",
      "            def angle(R, m):\n",
      "                t = m / np.sqrt(R**2 - m**2)\n",
      "                t2 = math.degrees(np.arctan(t)) + 90\n",
      "                return t2"
     ],
     "language": "python",
     "metadata": {},
     "outputs": [
      {
       "ename": "IndentationError",
       "evalue": "unexpected indent (<ipython-input-21-b3132600e935>, line 2)",
       "output_type": "pyerr",
       "traceback": [
        "\u001b[0;36m  File \u001b[0;32m\"<ipython-input-21-b3132600e935>\"\u001b[0;36m, line \u001b[0;32m2\u001b[0m\n\u001b[0;31m    def angle(R, m):\u001b[0m\n\u001b[0m    ^\u001b[0m\n\u001b[0;31mIndentationError\u001b[0m\u001b[0;31m:\u001b[0m unexpected indent\n"
       ]
      }
     ],
     "prompt_number": 21
    },
    {
     "cell_type": "code",
     "collapsed": false,
     "input": [
      "# The function \"radius\" calculates the base radius of the droplet.\n",
      "            def radius(R, m):\n",
      "                r = np.sqrt(R**2 - m**2)\n",
      "                return r"
     ],
     "language": "python",
     "metadata": {},
     "outputs": [
      {
       "ename": "IndentationError",
       "evalue": "unexpected indent (<ipython-input-22-9d6fad8418ef>, line 2)",
       "output_type": "pyerr",
       "traceback": [
        "\u001b[0;36m  File \u001b[0;32m\"<ipython-input-22-9d6fad8418ef>\"\u001b[0;36m, line \u001b[0;32m2\u001b[0m\n\u001b[0;31m    def radius(R, m):\u001b[0m\n\u001b[0m    ^\u001b[0m\n\u001b[0;31mIndentationError\u001b[0m\u001b[0;31m:\u001b[0m unexpected indent\n"
       ]
      }
     ],
     "prompt_number": 22
    },
    {
     "cell_type": "code",
     "collapsed": false,
     "input": [
      "# Here are our final results, with \"theta\" as the contact angle, and \"base_r\" as the base radius.\n",
      "            theta = angle(R_2, xc)\n",
      "            base_r = radius(R_2, xc)"
     ],
     "language": "python",
     "metadata": {},
     "outputs": [
      {
       "ename": "IndentationError",
       "evalue": "unexpected indent (<ipython-input-23-08ddf4e38252>, line 2)",
       "output_type": "pyerr",
       "traceback": [
        "\u001b[0;36m  File \u001b[0;32m\"<ipython-input-23-08ddf4e38252>\"\u001b[0;36m, line \u001b[0;32m2\u001b[0m\n\u001b[0;31m    theta = angle(R_2, xc)\u001b[0m\n\u001b[0m    ^\u001b[0m\n\u001b[0;31mIndentationError\u001b[0m\u001b[0;31m:\u001b[0m unexpected indent\n"
       ]
      }
     ],
     "prompt_number": 23
    },
    {
     "cell_type": "code",
     "collapsed": false,
     "input": [
      "# The results are printed to the opened file.\n",
      "            print >> myfile, '{0}  {1}  {2}'.format(filename, theta, base_r)\n",
      "            "
     ],
     "language": "python",
     "metadata": {},
     "outputs": [
      {
       "ename": "IndentationError",
       "evalue": "unexpected indent (<ipython-input-24-66407eabb9d8>, line 2)",
       "output_type": "pyerr",
       "traceback": [
        "\u001b[0;36m  File \u001b[0;32m\"<ipython-input-24-66407eabb9d8>\"\u001b[0;36m, line \u001b[0;32m2\u001b[0m\n\u001b[0;31m    print >> myfile, '{0}  {1}  {2}'.format(filename, theta, base_r)\u001b[0m\n\u001b[0m    ^\u001b[0m\n\u001b[0;31mIndentationError\u001b[0m\u001b[0;31m:\u001b[0m unexpected indent\n"
       ]
      }
     ],
     "prompt_number": 24
    },
    {
     "cell_type": "code",
     "collapsed": false,
     "input": [
      "# We call the function \"plot_circ\" and save each plot on a single page inside the same file.            \n",
      "            plot1 =  plot_circ(z, R, xc, yc, R_2)\n",
      "            pp.savefig(plot1)\n",
      "            "
     ],
     "language": "python",
     "metadata": {},
     "outputs": [
      {
       "ename": "IndentationError",
       "evalue": "unexpected indent (<ipython-input-25-bae0ddfbdace>, line 2)",
       "output_type": "pyerr",
       "traceback": [
        "\u001b[0;36m  File \u001b[0;32m\"<ipython-input-25-bae0ddfbdace>\"\u001b[0;36m, line \u001b[0;32m2\u001b[0m\n\u001b[0;31m    plot1 =  plot_circ(z, R, xc, yc, R_2)\u001b[0m\n\u001b[0m    ^\u001b[0m\n\u001b[0;31mIndentationError\u001b[0m\u001b[0;31m:\u001b[0m unexpected indent\n"
       ]
      }
     ],
     "prompt_number": 25
    },
    {
     "cell_type": "code",
     "collapsed": false,
     "input": [
      "myfile.close()\n",
      "pp.close()"
     ],
     "language": "python",
     "metadata": {},
     "outputs": [],
     "prompt_number": 26
    },
    {
     "cell_type": "code",
     "collapsed": false,
     "input": [
      "dir(pp)"
     ],
     "language": "python",
     "metadata": {},
     "outputs": [
      {
       "metadata": {},
       "output_type": "pyout",
       "prompt_number": 29,
       "text": [
        "['__class__',\n",
        " '__delattr__',\n",
        " '__doc__',\n",
        " '__enter__',\n",
        " '__exit__',\n",
        " '__format__',\n",
        " '__getattribute__',\n",
        " '__hash__',\n",
        " '__init__',\n",
        " '__module__',\n",
        " '__new__',\n",
        " '__reduce__',\n",
        " '__reduce_ex__',\n",
        " '__repr__',\n",
        " '__setattr__',\n",
        " '__sizeof__',\n",
        " '__slots__',\n",
        " '__str__',\n",
        " '__subclasshook__',\n",
        " '_file',\n",
        " 'close',\n",
        " 'get_pagecount',\n",
        " 'infodict',\n",
        " 'savefig']"
       ]
      }
     ],
     "prompt_number": 29
    },
    {
     "cell_type": "code",
     "collapsed": false,
     "input": [],
     "language": "python",
     "metadata": {},
     "outputs": []
    }
   ],
   "metadata": {}
  }
 ]
}