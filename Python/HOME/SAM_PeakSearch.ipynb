{
 "metadata": {
  "name": ""
 },
 "nbformat": 3,
 "nbformat_minor": 0,
 "worksheets": [
  {
   "cells": [
    {
     "cell_type": "code",
     "collapsed": false,
     "input": [
      "%pylab inline"
     ],
     "language": "python",
     "metadata": {},
     "outputs": [
      {
       "output_type": "stream",
       "stream": "stdout",
       "text": [
        "Populating the interactive namespace from numpy and matplotlib\n"
       ]
      }
     ],
     "prompt_number": 1
    },
    {
     "cell_type": "code",
     "collapsed": false,
     "input": [
      "import gromacs\n",
      "gromacs.config.setup()\n",
      "import matplotlib \n",
      "import matplotlib.pyplot as plt\n",
      "from scipy.optimize import curve_fit\n",
      "import numpy as np\n",
      "import pylab as pl \n",
      "import gromacs.formats"
     ],
     "language": "python",
     "metadata": {},
     "outputs": [],
     "prompt_number": 64
    },
    {
     "cell_type": "code",
     "collapsed": false,
     "input": [
      "%cd /Users/burbol/Desktop/scripts/Python\n",
      "import peakdetect\n",
      "pk = peakdetect.peakdetect\n",
      "#%cd /home/eixeres/Downloads\n",
      "#%cd /Users/burbol/Downloads/global_density_maps\n",
      "xvg = gromacs.formats.XVG()"
     ],
     "language": "python",
     "metadata": {},
     "outputs": [
      {
       "output_type": "stream",
       "stream": "stdout",
       "text": [
        "/Users/burbol/Desktop/scripts/Python\n"
       ]
      }
     ],
     "prompt_number": 5
    },
    {
     "cell_type": "code",
     "collapsed": false,
     "input": [
      "xvg.read(\"g_density_SAM_sam5_water1000.xvg\")\n",
      "plt.title('Density of surface')\n",
      "plt.xlim(0,2.5)\n",
      "plt.ylim(0,10000)\n",
      "plt.xlabel(r'$z [nm]$')\n",
      "plt.ylabel(r'$\\rho (z) [\\frac{kg}{{nm}^{3}}]$')\n",
      "xvg.plot()\n",
      "input = xvg.array\n",
      "x = input[0]\n",
      "y = input[1]\n",
      "[MAXTAB, MINTAB] = pk(y, x*10,1, 600)\n",
      "print MAXTAB\n",
      "print \"number of peaks detected =\", len(MAXTAB)\n",
      "#print MAXTAB[-1]"
     ],
     "language": "python",
     "metadata": {},
     "outputs": [
      {
       "output_type": "stream",
       "stream": "stdout",
       "text": [
        "[[1.4399999999999999, 7961.0799999999999], [3.5999999999999996, 7961.0799999999999], [4.2000000000000002, 7961.0799999999999], [6.1200000000000001, 2940.8099999999999], [7.9199999999999999, 7961.0799999999999], [8.6400000000000006, 7961.0799999999999], [10.440000000000001, 2940.8099999999999], [12.359999999999999, 7961.0799999999999], [14.52, 7961.0799999999999], [16.68, 7961.0799999999999], [18.84, 7961.0799999999999], [21.0, 7961.0799999999999], [23.159999999999997, 7961.0799999999999]]\n",
        "number of peaks detected = 13\n"
       ]
      },
      {
       "metadata": {},
       "output_type": "display_data",
       "png": "[encoded data removed]",
       "text": [
        "<matplotlib.figure.Figure at 0x10ce2b3d0>"
       ]
      }
     ],
     "prompt_number": 152
    },
    {
     "cell_type": "code",
     "collapsed": false,
     "input": [
      "# Here we search for all the peaks. In this case, all the points (density values) different then zero are already density peaks\n",
      "# The lists \"peaks_all\" and \"peaks_all_pos\" store, respectively, the density peak values and their positions.\n",
      "peaks_all = []\n",
      "peaks_all_pos = []\n",
      "peak_number = 0\n",
      "for m in range(0,999):\n",
      "    check = y[m]\n",
      "    check_pos =x[m]\n",
      "    if check > 0.0: \n",
      "        peak_number = peak_number +1\n",
      "        peaks_all.append(check)\n",
      "        peaks_all_pos.append(check_pos)\n",
      "\n",
      "print peak_number\n",
      "print peaks_all_pos"
     ],
     "language": "python",
     "metadata": {},
     "outputs": [
      {
       "output_type": "stream",
       "stream": "stdout",
       "text": [
        "39\n",
        "[0.048000000000000001, 0.14399999999999999, 0.16800000000000001, 0.17999999999999999, 0.20399999999999999, 0.35999999999999999, 0.39600000000000002, 0.41999999999999998, 0.57599999999999996, 0.61199999999999999, 0.64800000000000002, 0.79200000000000004, 0.82799999999999996, 0.86399999999999999, 1.008, 1.044, 1.0800000000000001, 1.236, 1.26, 1.296, 1.452, 1.476, 1.488, 1.512, 1.6679999999999999, 1.6919999999999999, 1.704, 1.728, 1.8839999999999999, 1.9079999999999999, 1.9199999999999999, 1.944, 2.1000000000000001, 2.1240000000000001, 2.1360000000000001, 2.1600000000000001, 2.3159999999999998, 2.3399999999999999, 2.3519999999999999]\n"
       ]
      }
     ],
     "prompt_number": 153
    },
    {
     "cell_type": "code",
     "collapsed": false,
     "input": [
      "# Now we check if the last peak is bigger then the mean density value, because we don't want peaks that are too small.\n",
      "# When the \"correct\" peak is selected, we store its value in the list variable \"peak\".\n",
      "lastpeak = peaks_all[-1]\n",
      "lastpeak_pos = peaks_all_pos[-1]\n",
      "print \"mean value =\", np.mean(peaks_all)\n",
      "j=1\n",
      "while lastpeak < np.mean(peaks_all):\n",
      "    print \"changing old lastpeak =\", lastpeak\n",
      "    lastpeak = peaks_all[-1-j]\n",
      "    lastpeak_pos = peaks_all_pos[-1-j]\n",
      "    j = j + 1\n",
      "print lastpeak\n",
      "print lastpeak_pos\n",
      "peak = [lastpeak_pos, lastpeak]\n",
      "print peak"
     ],
     "language": "python",
     "metadata": {},
     "outputs": [
      {
       "output_type": "stream",
       "stream": "stdout",
       "text": [
        "mean value = 5100.39764103\n",
        "changing old lastpeak = 669.189\n",
        "changing old lastpeak = 1426.4\n",
        "7961.08\n",
        "2.316\n",
        "[2.3159999999999998, 7961.0799999999999]\n"
       ]
      }
     ],
     "prompt_number": 154
    },
    {
     "cell_type": "code",
     "collapsed": false,
     "input": [
      "# DELETE THIS CELL --> program \"peakdetect.py\" NOT USEFUL FOR DISCRETE DATA LIKE THIS. IT DOESN'T FIND ALL THE PEAKS!!\n",
      "#lastpeak = MAXTAB[-1][1]\n",
      "#lastpeak_pos = MAXTAB[-1][0]\n",
      "#print \"mean value =\", np.mean(MAXTAB,0)[1]\n",
      "#if lastpeak < np.mean(MAXTAB,0)[1]:\n",
      "#    print \"changing old lastpeak =\", lastpeak\n",
      "#    lastpeak = MAXTAB[-2][1]\n",
      "#    lastpeak_pos = MAXTAB[-2][0]\n",
      "#print lastpeak\n",
      "#print lastpeak_pos\n",
      "#peak = [lastpeak_pos, lastpeak]\n",
      "#print peak"
     ],
     "language": "python",
     "metadata": {},
     "outputs": [],
     "prompt_number": 155
    },
    {
     "cell_type": "code",
     "collapsed": false,
     "input": [
      "ticki=np.zeros(24)\n",
      "for lm in range(0,24): \n",
      "    xm = lm*0.5   \n",
      "    ticki[lm] = xm \n",
      "def plot_dens(x, y, filename, point):                   \n",
      "\n",
      "    majorLocator   = MultipleLocator(1)\n",
      "    majorFormatter = FormatStrFormatter('%d')\n",
      "    minorLocator   = MultipleLocator(0.2)\n",
      "  \n",
      "#    fig = pl.figure()   \n",
      "    fig, ax = plt.subplots()                        \n",
      "    pl.plot(x, y, 'b-', x, y, 'k.')\n",
      "    fig.suptitle(filename)\n",
      "    # pl.plot(z, R, 'k.')\n",
      "    #fig.set_xlim(0,4.0)\n",
      "    #fig.set_ylim(0,3)                \n",
      "    # fig = plt.gcf()\n",
      "    plt.xticks(ticki)\n",
      "#    plt.xticks(range(0,d_max_y,50))\n",
      "    pl.xlim(0,2.5)\n",
      "    pl.ylim(0,12000)\n",
      "    pl.xlabel(r'$z [nm]$')\n",
      "    pl.ylabel(r'$\\rho (z) [\\frac{kg}{{nm}^{3}}]$')\n",
      "#    pl.grid(b=True, which='both', axis='both', color='r', linestyle='-', linewidth=0.5)\n",
      "    # fig.set_size_inches(18.5,10.5)\n",
      "    pl.annotate('last peak', xy=(point[0], point[1]),  xycoords='data', xytext=(-50, 30), textcoords='offset points', arrowprops=dict(arrowstyle=\"->\"))\n",
      "\n",
      "    ax.xaxis.set_major_locator(majorLocator)\n",
      "    ax.xaxis.set_major_formatter(majorFormatter)\n",
      "\n",
      "    #for the minor ticks, use no labels; default NullFormatter\n",
      "    ax.xaxis.set_minor_locator(minorLocator)\n",
      "\n",
      "    ax.xaxis.grid(True, which='minor')\n",
      "    ax.yaxis.grid(True, which='major')\n",
      "\n",
      "    return fig"
     ],
     "language": "python",
     "metadata": {},
     "outputs": [],
     "prompt_number": 113
    },
    {
     "cell_type": "code",
     "collapsed": false,
     "input": [
      "plot1 =  plot_dens(x, y, 'filename', peak)"
     ],
     "language": "python",
     "metadata": {},
     "outputs": [
      {
       "metadata": {},
       "output_type": "display_data",
       "png": "[encoded data removed]",
       "text": [
        "<matplotlib.figure.Figure at 0x108753510>"
       ]
      }
     ],
     "prompt_number": 156
    },
    {
     "cell_type": "code",
     "collapsed": false,
     "input": [
      "y = numpy.array(y)\n",
      "max_y = max(y)  # Find the maximum density value\n",
      "max_x = x[y.argmax()]  # Find the x value corresponding to the maximum density value\n",
      "print max_x, max_y\n",
      "max_y2 = xvg.max  # Find the maximum density value\n",
      "max_x2 = x[nonzero(y == max_y2)[0][0]]  # Find the x value corresponding to the maximum density value\n",
      "max_y2 = float(max_y2)\n",
      "print max_x2, max_y2"
     ],
     "language": "python",
     "metadata": {},
     "outputs": [
      {
       "output_type": "stream",
       "stream": "stdout",
       "text": [
        "0.144 7859.73\n",
        "0.144 7859.73\n"
       ]
      }
     ],
     "prompt_number": 55
    },
    {
     "cell_type": "code",
     "collapsed": false,
     "input": [
      "# ---------------------DELETE--------------------------------\n",
      "# TEST OF FUNCTION peakdetect_zero_crossing() BUT DON'T KNOW HOW TO MAKE IT WORK, IT DOES RETURN ONLY EMPTY LISTS\n",
      "pk2 = peakdetect.peakdetect_zero_crossing\n",
      "[MAXTAB2, MINTAB2] = pk2(y, x, 5)\n",
      "#x_max, y_max = zip(MAXTAB2)\n",
      "print MAXTAB2\n",
      "#print \"This is x_max\", x_max\n",
      "# TEST OF FUNCTION peakdetect_fft() BUT RETURNS ERRORS FROM NUMPY\n",
      "pk3 = peakdetect.peakdetect_fft\n",
      "[MAXTAB3, MINTAB3] =pk3(y, x)\n",
      "x_max2, y_max2 = zip(MAXTAB3)\n",
      "print MAXTAB3\n",
      "print \"This is x_max2\", x"
     ],
     "language": "python",
     "metadata": {},
     "outputs": [
      {
       "ename": "ValueError",
       "evalue": "",
       "output_type": "pyerr",
       "traceback": [
        "\u001b[0;31m---------------------------------------------------------------------------\u001b[0m\n\u001b[0;31mValueError\u001b[0m                                Traceback (most recent call last)",
        "\u001b[0;32m<ipython-input-13-f23ee015c94e>\u001b[0m in \u001b[0;36m<module>\u001b[0;34m()\u001b[0m\n\u001b[1;32m      2\u001b[0m \u001b[0;31m# TEST OF FUNCTION peakdetect_zero_crossing() BUT DON'T KNOW HOW TO MAKE IT WORK, IT DOES RETURN ONLY EMPTY LISTS\u001b[0m\u001b[0;34m\u001b[0m\u001b[0;34m\u001b[0m\u001b[0m\n\u001b[1;32m      3\u001b[0m \u001b[0mpk2\u001b[0m \u001b[0;34m=\u001b[0m \u001b[0mpeakdetect\u001b[0m\u001b[0;34m.\u001b[0m\u001b[0mpeakdetect_zero_crossing\u001b[0m\u001b[0;34m\u001b[0m\u001b[0m\n\u001b[0;32m----> 4\u001b[0;31m \u001b[0;34m[\u001b[0m\u001b[0mMAXTAB2\u001b[0m\u001b[0;34m,\u001b[0m \u001b[0mMINTAB2\u001b[0m\u001b[0;34m]\u001b[0m \u001b[0;34m=\u001b[0m \u001b[0mpk2\u001b[0m\u001b[0;34m(\u001b[0m\u001b[0my\u001b[0m\u001b[0;34m,\u001b[0m \u001b[0mx\u001b[0m\u001b[0;34m,\u001b[0m \u001b[0;36m5\u001b[0m\u001b[0;34m)\u001b[0m\u001b[0;34m\u001b[0m\u001b[0m\n\u001b[0m\u001b[1;32m      5\u001b[0m \u001b[0;31m#x_max, y_max = zip(MAXTAB2)\u001b[0m\u001b[0;34m\u001b[0m\u001b[0;34m\u001b[0m\u001b[0m\n\u001b[1;32m      6\u001b[0m \u001b[0;32mprint\u001b[0m \u001b[0mMAXTAB2\u001b[0m\u001b[0;34m\u001b[0m\u001b[0m\n",
        "\u001b[0;32m/Users/burbol/Downloads/global_density_maps/peakdetect.pyc\u001b[0m in \u001b[0;36mpeakdetect_zero_crossing\u001b[0;34m(y_axis, x_axis, window)\u001b[0m\n",
        "\u001b[0;32m/Users/burbol/Downloads/global_density_maps/peakdetect.pyc\u001b[0m in \u001b[0;36mzero_crossings\u001b[0;34m(y_axis, window)\u001b[0m\n",
        "\u001b[0;31mValueError\u001b[0m: "
       ]
      },
      {
       "output_type": "stream",
       "stream": "stdout",
       "text": [
        "0.967391304348\n",
        "[  3 181]\n"
       ]
      }
     ],
     "prompt_number": 13
    },
    {
     "cell_type": "code",
     "collapsed": false,
     "input": [
      "point = MAXTAB[0]"
     ],
     "language": "python",
     "metadata": {},
     "outputs": [],
     "prompt_number": 14
    },
    {
     "cell_type": "code",
     "collapsed": false,
     "input": [
      "print point[0], point[1]"
     ],
     "language": "python",
     "metadata": {},
     "outputs": [
      {
       "output_type": "stream",
       "stream": "stdout",
       "text": [
        "2.532 97.9938\n"
       ]
      }
     ],
     "prompt_number": 15
    },
    {
     "cell_type": "code",
     "collapsed": false,
     "input": [],
     "language": "python",
     "metadata": {},
     "outputs": []
    }
   ],
   "metadata": {}
  }
 ]
}