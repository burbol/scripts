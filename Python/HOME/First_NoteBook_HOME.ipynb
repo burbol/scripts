{
 "metadata": {
  "name": "First_NoteBook_HOME"
 },
 "nbformat": 3,
 "nbformat_minor": 0,
 "worksheets": [
  {
   "cells": [
    {
     "cell_type": "code",
     "collapsed": false,
     "input": "%pylab inline",
     "language": "python",
     "metadata": {},
     "outputs": [
      {
       "output_type": "stream",
       "stream": "stdout",
       "text": "Populating the interactive namespace from numpy and matplotlib\n"
      }
     ],
     "prompt_number": 1
    },
    {
     "cell_type": "code",
     "collapsed": false,
     "input": "import matplotlib.pyplot as plt\nimport numpy as np\nfrom scipy.optimize import curve_fit",
     "language": "python",
     "metadata": {},
     "outputs": [],
     "prompt_number": 2
    },
    {
     "cell_type": "code",
     "collapsed": false,
     "input": "# >>> import itertools as it",
     "language": "python",
     "metadata": {},
     "outputs": [],
     "prompt_number": 3
    },
    {
     "cell_type": "code",
     "collapsed": false,
     "input": "%cd /Users/burbol/Desktop/Testing/files_for_laila/densmaps_berendsen",
     "language": "python",
     "metadata": {},
     "outputs": [
      {
       "output_type": "stream",
       "stream": "stdout",
       "text": "/Users/burbol/Desktop/Testing/files_for_laila/densmaps_berendsen\n"
      }
     ],
     "prompt_number": 4
    },
    {
     "cell_type": "code",
     "collapsed": false,
     "input": "%cd densmaps_s5_w2000/",
     "language": "python",
     "metadata": {},
     "outputs": [
      {
       "output_type": "stream",
       "stream": "stdout",
       "text": "/Users/burbol/Desktop/Testing/files_for_laila/densmaps_berendsen/densmaps_s5_w2000\n"
      }
     ],
     "prompt_number": 5
    },
    {
     "cell_type": "code",
     "collapsed": false,
     "input": "input = np.loadtxt(\"densmap_5pc_2000_12ns_14ns.dat\")",
     "language": "python",
     "metadata": {},
     "outputs": [],
     "prompt_number": 6
    },
    {
     "cell_type": "code",
     "collapsed": false,
     "input": "x = input[0]",
     "language": "python",
     "metadata": {},
     "outputs": [],
     "prompt_number": 18
    },
    {
     "cell_type": "code",
     "collapsed": false,
     "input": "def checkzero(s):\n    i = len(np.transpose(np.nonzero(s)))\n    if i > 1: \n        return True\n    else: \n         return False",
     "language": "python",
     "metadata": {},
     "outputs": [],
     "prompt_number": 8
    },
    {
     "cell_type": "code",
     "collapsed": false,
     "input": "zeroslice = 0\nfor slice in range(70,150):\n    y = input[slice]\n    if checkzero(y): \n       zeroslice = slice\n       print zeroslice\n       break\n    else: continue",
     "language": "python",
     "metadata": {},
     "outputs": [
      {
       "output_type": "stream",
       "stream": "stdout",
       "text": "91\n"
      }
     ],
     "prompt_number": 9
    },
    {
     "cell_type": "code",
     "collapsed": false,
     "input": "slice = 109\ny = input[slice]\nplt.plot(x,y)\nplt.axis([0.05, 5, 0, 150])\nplt.show()\nprint \"z =\", y[0], \"nm\"",
     "language": "python",
     "metadata": {},
     "outputs": [
      {
       "metadata": {},
       "output_type": "display_data",
       "png": "[encoded data removed]",
       "text": "<matplotlib.figure.Figure at 0x10b44ad10>"
      },
      {
       "output_type": "stream",
       "stream": "stdout",
       "text": "z = 0.4 nm\n"
      }
     ],
     "prompt_number": 24
    },
    {
     "cell_type": "code",
     "collapsed": false,
     "input": "slicedens = np.zeros(len(input[0]))\ndens = np.zeros(len(input)-1)\nzcoord = np.zeros(len(input)-1)\nfor i in range(1,len(input)): \n    slicedens = input[i]\n    dens[i-1] = sum(slicedens) - slicedens[0]\n    zcoord[i-1] = slicedens[0]\n    #print dens[j]\n#print len(dens)\n#print len(x)\nplt.plot(zcoord,dens)\nplt.plot(zcoord,dens,'k.')\nplt.axis([-5, 5, 0, 10000])\nplt.show()",
     "language": "python",
     "metadata": {},
     "outputs": [
      {
       "metadata": {},
       "output_type": "display_data",
       "png": "[encoded data removed]",
       "text": "<matplotlib.figure.Figure at 0x10b490490>"
      }
     ],
     "prompt_number": 28
    },
    {
     "cell_type": "code",
     "collapsed": false,
     "input": "def func(r, ro, R, d):\n    return (ro/2)*(1-np.tanh(2*(r-R)/d))",
     "language": "python",
     "metadata": {},
     "outputs": [],
     "prompt_number": 187
    },
    {
     "cell_type": "code",
     "collapsed": false,
     "input": "popt, pcov = curve_fit(func, x, y,[100, 3, 1])\nprint popt",
     "language": "python",
     "metadata": {},
     "outputs": [
      {
       "output_type": "stream",
       "stream": "stdout",
       "text": "[ 102.3946393     2.31759995    0.51247039]\n"
      }
     ],
     "prompt_number": 188
    },
    {
     "cell_type": "code",
     "collapsed": false,
     "input": "import pylab as pl\npl.plot(x, func(x, *popt), 'r-')\npl.plot(x,y,'k.')",
     "language": "python",
     "metadata": {},
     "outputs": [
      {
       "output_type": "pyout",
       "prompt_number": 189,
       "text": "[<matplotlib.lines.Line2D at 0xa18fd50>]"
      },
      {
       "output_type": "display_data",
       "png": "[encoded data removed]"
      }
     ],
     "prompt_number": 189
    },
    {
     "cell_type": "code",
     "collapsed": false,
     "input": "k = func(0,*popt)\nprint k",
     "language": "python",
     "metadata": {},
     "outputs": [
      {
       "output_type": "stream",
       "stream": "stdout",
       "text": "102.394637875\n"
      }
     ],
     "prompt_number": 190
    },
    {
     "cell_type": "code",
     "collapsed": false,
     "input": "def checkslice(s):\n    popt, pcov = curve_fit(func, x, s,[100, 3, 1])\n    k = func(0,*popt)\n    if k > 90:\n        return True\n    else: \n        return False",
     "language": "python",
     "metadata": {},
     "outputs": [],
     "prompt_number": 193
    },
    {
     "cell_type": "code",
     "collapsed": false,
     "input": "slicemin = 0\nfor slice in range(70,150):\n    y = input[slice]\n    if checkslice(y): \n       slicemin = slice\n       print slicemin\n       break\n    else: continue",
     "language": "python",
     "metadata": {},
     "outputs": [
      {
       "output_type": "stream",
       "stream": "stdout",
       "text": "98\n"
      }
     ],
     "prompt_number": 194
    },
    {
     "cell_type": "code",
     "collapsed": false,
     "input": "slicemax = 0\nfor slice in range(200,130,-1):\n    y = input[slice]\n    if checkslice(y): \n       slicemax = slice\n       print slicemax\n       break\n    else: continue",
     "language": "python",
     "metadata": {},
     "outputs": [
      {
       "output_type": "stream",
       "stream": "stdout",
       "text": "171\n"
      }
     ],
     "prompt_number": 195
    },
    {
     "cell_type": "code",
     "collapsed": false,
     "input": "slicemin2 = slicemin + 16\nprint zeroslice, slicemin, slicemin2, slicemax\ny = input[zeroslice]\nshift = y[0]\nprint shift",
     "language": "python",
     "metadata": {},
     "outputs": [
      {
       "output_type": "stream",
       "stream": "stdout",
       "text": "91 98 114 171\n-0.5\n"
      }
     ],
     "prompt_number": 197
    },
    {
     "cell_type": "code",
     "collapsed": false,
     "input": "dims = slicemax - slicemin2 + 1\nmaxdim = slicemax + 1\ni=0\nz = np.zeros(dims)\nR = np.zeros(dims)\nw = np.zeros(dims)\nfor a in range(slicemin2, maxdim):\n    y2 = input[a]\n    i = a - slicemin2\n    z[i] = y2[0] - shift\n#    w[i] = 0.05*(a - 1) - 5.0 - shift -> Ahother way to determine z\n    params, pcov2 = curve_fit(func, x, y2,[100, 3, 1])\n    R[i] = params[1]\npl.plot(z, R, 'k.')",
     "language": "python",
     "metadata": {},
     "outputs": [
      {
       "output_type": "pyout",
       "prompt_number": 199,
       "text": "[<matplotlib.lines.Line2D at 0xa28a810>]"
      },
      {
       "output_type": "display_data",
       "png": "[encoded data removed]"
      }
     ],
     "prompt_number": 199
    },
    {
     "cell_type": "code",
     "collapsed": false,
     "input": "#  == LEAST SQUARES CIRCLE ==\n# Advanced usage of optimize.leastsq with jacobian\n\nmethod  = \"leastsq with jacobian\"\nfrom scipy    import optimize\n\n# coordinates of the barycenter\nx_m = mean(z)\ny_m = mean(R)\n\ndef calc_R(xc, yc):\n    \"\"\" calculate the distance of each data points from the center (xc, yc) \"\"\"\n    return sqrt((z-xc)**2 + (R-yc)**2)\n\ndef f(c):\n    \"\"\" calculate the algebraic distance between the 2D points and the mean circle centered at c=(xc, yc) \"\"\"\n    Ri = calc_R(*c)\n    return Ri - Ri.mean()\n\ndef Df(c):\n    \"\"\" Jacobian of f\n    The axis corresponding to derivatives must be coherent with the col_deriv option of leastsq\"\"\"\n    xc, yc     = c\n    df_dc    = empty((len(c), z.size))\n\n    Ri = calc_R(xc, yc)\n    df_dc[ 0] = (xc - z)/Ri                   # dR/dxc\n    df_dc[ 1] = (yc - R)/Ri                   # dR/dyc\n    df_dc       = df_dc - df_dc.mean(axis=1)[:, newaxis]\n\n    return df_dc\n\ncenter_estimate = x_m, y_m\ncenter, ier = optimize.leastsq(f, center_estimate, Dfun=Df, col_deriv=True)\n\nxc, yc = center\nRi        = calc_R(xc, yc)\nR_2       = Ri.mean()\nresidu    = sum((Ri - R_2)**2)",
     "language": "python",
     "metadata": {},
     "outputs": [],
     "prompt_number": 177
    },
    {
     "cell_type": "code",
     "collapsed": false,
     "input": "print xc, yc, R_2, x_m",
     "language": "python",
     "metadata": {},
     "outputs": [
      {
       "output_type": "stream",
       "stream": "stdout",
       "text": "1.61670321984 0.153878175232 1.89168676443 1.99999999818\n"
      }
     ],
     "prompt_number": 163
    },
    {
     "cell_type": "code",
     "collapsed": false,
     "input": "theta_fit = linspace(-pi, pi, 180)\nx_fit2 = xc + R_2*cos(theta_fit)\ny_fit2 = yc + R_2*sin(theta_fit)\npl.plot(x_fit2, y_fit2, color=\"blue\", label=method, lw=2)\n# plot(X, C, color=\"blue\", linewidth=2.5, linestyle=\"-\")\n# Set x limits\nxlim(0,4.0)\n# Set y limits\nylim(0,3)\npl.plot(z, R, 'k.')",
     "language": "python",
     "metadata": {},
     "outputs": [
      {
       "output_type": "pyout",
       "prompt_number": 172,
       "text": "[<matplotlib.lines.Line2D at 0x9a89af0>]"
      },
      {
       "output_type": "display_data",
       "png": "[encoded data removed]"
      }
     ],
     "prompt_number": 172
    },
    {
     "cell_type": "code",
     "collapsed": false,
     "input": "def angle(R, m):\n    t = m / np.sqrt(R**2 - m**2)\n    t2 = math.degrees(np.arctan(t)) + 90\n    return t2",
     "language": "python",
     "metadata": {},
     "outputs": [],
     "prompt_number": 173
    },
    {
     "cell_type": "code",
     "collapsed": false,
     "input": "def radius(R, m):\n    r = np.sqrt(R**2 - m**2)\n    return r",
     "language": "python",
     "metadata": {},
     "outputs": [],
     "prompt_number": 174
    },
    {
     "cell_type": "code",
     "collapsed": false,
     "input": "theta = angle(R_2, xc)\nbase_r = radius(R_2, xc)\nprint \"The Contact Angle is  \", theta\nprint \"The base radius is  \", base_r",
     "language": "python",
     "metadata": {},
     "outputs": [
      {
       "output_type": "stream",
       "stream": "stdout",
       "text": "The Contact Angle is   148.719522135\nThe base radius is   0.982216632765\n"
      }
     ],
     "prompt_number": 175
    },
    {
     "cell_type": "code",
     "collapsed": false,
     "input": "",
     "language": "python",
     "metadata": {},
     "outputs": []
    }
   ],
   "metadata": {}
  }
 ]
}