{
 "metadata": {
  "name": ""
 },
 "nbformat": 3,
 "nbformat_minor": 0,
 "worksheets": [
  {
   "cells": [
    {
     "cell_type": "code",
     "collapsed": false,
     "input": [
      "%pylab inline"
     ],
     "language": "python",
     "metadata": {},
     "outputs": [
      {
       "output_type": "stream",
       "stream": "stdout",
       "text": [
        "Populating the interactive namespace from numpy and matplotlib\n"
       ]
      }
     ],
     "prompt_number": 1
    },
    {
     "cell_type": "code",
     "collapsed": false,
     "input": [
      "import gromacs\n",
      "gromacs.config.setup()\n",
      "import matplotlib \n",
      "import matplotlib.pyplot as plt\n",
      "from scipy.optimize import curve_fit\n",
      "import numpy as np\n",
      "import gromacs.formats"
     ],
     "language": "python",
     "metadata": {},
     "outputs": [],
     "prompt_number": 3
    },
    {
     "cell_type": "code",
     "collapsed": false,
     "input": [
      "%cd /Users/burbol/Desktop/scripts/Python\n",
      "import peakdetect\n",
      "pk = peakdetect.peakdetect\n",
      "#%cd /home/eixeres/Downloads\n",
      "%cd /Users/burbol/Downloads/global_density_maps\n",
      "xvg = gromacs.formats.XVG()"
     ],
     "language": "python",
     "metadata": {},
     "outputs": [
      {
       "output_type": "stream",
       "stream": "stdout",
       "text": [
        "/Users/burbol/Desktop/scripts/Python\n",
        "/Users/burbol/Downloads/global_density_maps"
       ]
      },
      {
       "output_type": "stream",
       "stream": "stdout",
       "text": [
        "\n"
       ]
      }
     ],
     "prompt_number": 4
    },
    {
     "cell_type": "code",
     "collapsed": false,
     "input": [
      "xvg.read(\"g_density_NVT_sam0_water6500.xvg\")\n",
      "plt.title('Density')\n",
      "xvg.plot()\n",
      "input = xvg.array\n",
      "x = input[0]\n",
      "y = input[1]\n",
      "[MAXTAB, MINTAB] = pk(y, x, 1, 8)\n",
      "#print MAXTAB\n",
      "print MAXTAB[0]"
     ],
     "language": "python",
     "metadata": {},
     "outputs": [
      {
       "output_type": "stream",
       "stream": "stdout",
       "text": [
        "[2.532, 97.993799999999993]\n"
       ]
      },
      {
       "metadata": {},
       "output_type": "display_data",
       "png": "[encoded data removed]",
       "text": [
        "<matplotlib.figure.Figure at 0x10c3af5d0>"
       ]
      }
     ],
     "prompt_number": 5
    },
    {
     "cell_type": "code",
     "collapsed": false,
     "input": [
      "y = numpy.array(y)\n",
      "max_y = max(y)  # Find the maximum density value\n",
      "max_x = x[y.argmax()]  # Find the x value corresponding to the maximum density value\n",
      "print max_x, max_y\n",
      "max_y2 = xvg.max  # Find the maximum density value\n",
      "max_x2 = x[nonzero(y == max_y2)[0][0]]  # Find the x value corresponding to the maximum density value\n",
      "max_y2 = float(max_y2)\n",
      "print max_x2, max_y2"
     ],
     "language": "python",
     "metadata": {},
     "outputs": [
      {
       "output_type": "stream",
       "stream": "stdout",
       "text": [
        "5.148 201.201\n",
        "5.148 201.201\n"
       ]
      }
     ],
     "prompt_number": 6
    },
    {
     "cell_type": "code",
     "collapsed": false,
     "input": [
      "# ---------------------DELETE--------------------------------\n",
      "# TEST OF FUNCTION peakdetect_zero_crossing() BUT DON'T KNOW HOW TO MAKE IT WORK, IT DOES RETURN ONLY EMPTY LISTS\n",
      "pk2 = peakdetect.peakdetect_zero_crossing\n",
      "[MAXTAB2, MINTAB2] = pk2(y, x, 5)\n",
      "#x_max, y_max = zip(MAXTAB2)\n",
      "print MAXTAB2\n",
      "#print \"This is x_max\", x_max\n",
      "# TEST OF FUNCTION peakdetect_fft() BUT RETURNS ERRORS FROM NUMPY\n",
      "pk3 = peakdetect.peakdetect_fft\n",
      "[MAXTAB3, MINTAB3] =pk3(y, x)\n",
      "x_max2, y_max2 = zip(MAXTAB3)\n",
      "print MAXTAB3\n",
      "print \"This is x_max2\", x"
     ],
     "language": "python",
     "metadata": {},
     "outputs": [
      {
       "ename": "ValueError",
       "evalue": "",
       "output_type": "pyerr",
       "traceback": [
        "\u001b[0;31m---------------------------------------------------------------------------\u001b[0m\n\u001b[0;31mValueError\u001b[0m                                Traceback (most recent call last)",
        "\u001b[0;32m<ipython-input-13-f23ee015c94e>\u001b[0m in \u001b[0;36m<module>\u001b[0;34m()\u001b[0m\n\u001b[1;32m      2\u001b[0m \u001b[0;31m# TEST OF FUNCTION peakdetect_zero_crossing() BUT DON'T KNOW HOW TO MAKE IT WORK, IT DOES RETURN ONLY EMPTY LISTS\u001b[0m\u001b[0;34m\u001b[0m\u001b[0;34m\u001b[0m\u001b[0m\n\u001b[1;32m      3\u001b[0m \u001b[0mpk2\u001b[0m \u001b[0;34m=\u001b[0m \u001b[0mpeakdetect\u001b[0m\u001b[0;34m.\u001b[0m\u001b[0mpeakdetect_zero_crossing\u001b[0m\u001b[0;34m\u001b[0m\u001b[0m\n\u001b[0;32m----> 4\u001b[0;31m \u001b[0;34m[\u001b[0m\u001b[0mMAXTAB2\u001b[0m\u001b[0;34m,\u001b[0m \u001b[0mMINTAB2\u001b[0m\u001b[0;34m]\u001b[0m \u001b[0;34m=\u001b[0m \u001b[0mpk2\u001b[0m\u001b[0;34m(\u001b[0m\u001b[0my\u001b[0m\u001b[0;34m,\u001b[0m \u001b[0mx\u001b[0m\u001b[0;34m,\u001b[0m \u001b[0;36m5\u001b[0m\u001b[0;34m)\u001b[0m\u001b[0;34m\u001b[0m\u001b[0m\n\u001b[0m\u001b[1;32m      5\u001b[0m \u001b[0;31m#x_max, y_max = zip(MAXTAB2)\u001b[0m\u001b[0;34m\u001b[0m\u001b[0;34m\u001b[0m\u001b[0m\n\u001b[1;32m      6\u001b[0m \u001b[0;32mprint\u001b[0m \u001b[0mMAXTAB2\u001b[0m\u001b[0;34m\u001b[0m\u001b[0m\n",
        "\u001b[0;32m/Users/burbol/Downloads/global_density_maps/peakdetect.pyc\u001b[0m in \u001b[0;36mpeakdetect_zero_crossing\u001b[0;34m(y_axis, x_axis, window)\u001b[0m\n",
        "\u001b[0;32m/Users/burbol/Downloads/global_density_maps/peakdetect.pyc\u001b[0m in \u001b[0;36mzero_crossings\u001b[0;34m(y_axis, window)\u001b[0m\n",
        "\u001b[0;31mValueError\u001b[0m: "
       ]
      },
      {
       "output_type": "stream",
       "stream": "stdout",
       "text": [
        "0.967391304348\n",
        "[  3 181]\n"
       ]
      }
     ],
     "prompt_number": 13
    },
    {
     "cell_type": "code",
     "collapsed": false,
     "input": [
      "point = MAXTAB[0]"
     ],
     "language": "python",
     "metadata": {},
     "outputs": [],
     "prompt_number": 14
    },
    {
     "cell_type": "code",
     "collapsed": false,
     "input": [
      "print point[0], point[1]"
     ],
     "language": "python",
     "metadata": {},
     "outputs": [
      {
       "output_type": "stream",
       "stream": "stdout",
       "text": [
        "2.532 97.9938\n"
       ]
      }
     ],
     "prompt_number": 15
    },
    {
     "cell_type": "code",
     "collapsed": false,
     "input": [],
     "language": "python",
     "metadata": {},
     "outputs": []
    }
   ],
   "metadata": {}
  }
 ]
}