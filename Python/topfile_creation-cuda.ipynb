{
 "metadata": {
  "name": "",
  "signature": "sha256:d4ced9513c159e7ef2e0c762687d5714867f43cee99ccf4cd3111d10eca4923e"
 },
 "nbformat": 3,
 "nbformat_minor": 0,
 "worksheets": [
  {
   "cells": [
    {
     "cell_type": "code",
     "collapsed": false,
     "input": [
      "import numpy as np\n",
      "import os"
     ],
     "language": "python",
     "metadata": {},
     "outputs": [],
     "prompt_number": 2
    },
    {
     "cell_type": "code",
     "collapsed": false,
     "input": [
      "#### copy bench top file to the working folder!!! ####\n",
      "\n",
      "#samsfolder = \"/Users/burbol/MEGAsync/scripts/SAM_CREATION/SAMs/NEW/drop_placement/NewVersion3\" #path to .gro files\n",
      "samsfolder = \"/Volumes/Backup/YosemiteFiles/MEGAsync/scripts/SAM_CREATION/SAMs/NEW/drop_placement/NewVersion3/\" #path to .gro files\n",
      "\n",
      "# folder with benchfile for gromacs5 on HLRN (but was also copied to samsfolder): \n",
      "#/Volumes/Backup/YosemiteFiles/MEGAsync/scripts/SAM_CREATION/SAMs/NEW/drop_placement/NewVersion3/TopFile_HLRN_gromacs5/50pc_2000_cuda.top)\n",
      "\n",
      "i=50\n",
      "j=2000\n",
      "firstline=25 #first line to copy (use the real line number, it will recalculated) ---> uncomment and check\n",
      "benchfile=str(i)+'pc_'+str(j)+'_cuda.top' #.top file with the right configuration to copy \n",
      "\n",
      "\n",
      "pc = [21, 25]\n",
      "molec = [1000, 2000, 3000, 4000, 5000, 6500, 7000, 8000, 9000, 10000]\n",
      "\n",
      "#For testing:\n",
      "#pc = [25]\n",
      "#molec = [1000]\n",
      "\n",
      "# VERSION 1 of the new sams 21% & 25% ==> #chain length of the rest:  CH3len2= 62, OHlen2= 63\n",
      "\n",
      "newCH3itp='CH3version2.itp'\n",
      "newOHitp='OHversion2.itp'\n",
      "oldCH3itp=\"CH3_long.itp\"\n",
      "oldOHitp=\"OH.itp\" \n",
      "\n",
      "#chain length of sam 33%\n",
      "CH3len= 65     #length of chain with CH3-head groups\n",
      "OHlen= 63      #length of chain with OH-head groups\n",
      "\n",
      "#chain length of the rest  \n",
      "CH3len2= 65\n",
      "OHlen2= 63\n",
      "\n",
      "# From here everything runs automatically...\n",
      "\n",
      "for i in pc:\n",
      "    for j in molec: \n",
      "        separatedfolder='s'+str(i)+'_w'+str(j)\n",
      "        os.chdir(samsfolder)\n",
      "        os.chdir(separatedfolder)\n",
      "        systfile='sam'+str(i)+'_water'+str(j)+'.gro' #name of .gro files       \n",
      "        newtop= str(i)+'pc_'+str(j)+'_cuda.top' #name of new .top file\n",
      "\n",
      "        # we create the new file by openning and closing it\n",
      "        #creating = open(newtop, 'w+')\n",
      "        #creating.close()\n",
      "        \n",
      "        f = open(systfile)\n",
      "        totalSAM = 0\n",
      "        totalOAM = 0\n",
      "        totalSOL = 0\n",
      "        for line in f:\n",
      "            if \"SAM\" in line:\n",
      "                totalSAM += 1\n",
      "            elif \"OAM\" in line:\n",
      "                totalOAM += 1\n",
      "            elif \"SOL\" in line:\n",
      "                totalSOL += 1\n",
      "        f.close()\n",
      "        if i==33:\n",
      "            totalSAM = int(totalSAM/CH3len)\n",
      "            totalOAM = int(totalOAM/OHlen)\n",
      "        elif i!=33:\n",
      "            totalSAM = int(totalSAM/CH3len2)\n",
      "            totalOAM = int(totalOAM/OHlen2)\n",
      "        totalSOL = int(totalSOL/3)\n",
      "        print \"totalSAM=\",totalSAM,\"totalOAM=\",totalOAM,\"totalSOL=\",totalSOL\n",
      "\n",
      "        with open(newtop, 'w') as f1:  ##### TEST!!!!\n",
      "            with open('../'+benchfile, 'r') as g:\n",
      "                l = 0\n",
      "                k = 0\n",
      "                m = 0\n",
      "                for line in g:                    \n",
      "                    if l < (firstline-1): \n",
      "                        f1.write(line) \n",
      "                    l = l + 1\n",
      "            with open(systfile, 'r') as h:\n",
      "                lastcountsam=0\n",
      "                lastcountoam=0\n",
      "                for line2 in h:\n",
      "                    if \"SAM\" in line2:\n",
      "                        k = k + 1\n",
      "                        if i!=33 and k in range(1,(totalSAM*CH3len2)+1,CH3len2):\n",
      "                            f1.write(\"SAM\t1\\n\")\n",
      "                            lastcountsam+= 1\n",
      "                        elif i==33 and k in range(1,(totalSAM*CH3len)+1,CH3len):\n",
      "                            f1.write(\"SAM\t1\\n\")\n",
      "                            lastcountsam+= 1\n",
      "                    elif \"OAM\" in line2:\n",
      "                        m = m + 1\n",
      "                        if i!=33 and m in range(1,(totalOAM*OHlen2)+1,OHlen2):\n",
      "                            f1.write(\"OAM\t1\\n\")\n",
      "                            lastcountoam+= 1\n",
      "                        elif i==33 and m in range(1,(totalOAM*OHlen)+1,OHlen):\n",
      "                            f1.write(\"OAM\t1\\n\")\n",
      "                            lastcountoam+= 1\n",
      "                    \n",
      "                #f1.write(\"SAM\t\"+str(totalSAM)+\"\\n\")\n",
      "                #f1.write(\"OAM\t\"+str(totalOAM)+\"\\n\")\n",
      "            \n",
      "            f1.write(\"SOL\t\"+str(totalSOL)+\"\\n\")\n",
      "            \n",
      "            print \"lastcount:\",lastcountsam,lastcountoam,totalSOL\n",
      "            print \"just created \", newtop\n",
      "        if i!=33:\n",
      "            os.system(\"sed -i -e 's/%s/%s/g' %s\" %(,newCH3itp,newtop ))\n",
      "            os.system(\"sed -i -e 's/%s/%s/g' %s\" %(oldOHitp,newOHitp,newtop ))\n",
      "                \n",
      "        #os.system(\"/usr/local/gromacs/bin/editconf -f %s -o %s -c\" %(startsamfile, samfile ))\n",
      "        #This last line would make the .top file include ALSO T1_new.itp\n",
      "        #os.system(\"sed -i -e 's/%s/%s/g' %s\")% (\"#include \\\"T1.itp\\\"\",\"#include \\\"T1.itp\\\"\\n#include \\\"T1_new.itp\\\"\".itp,newtop, ))"
     ],
     "language": "python",
     "metadata": {},
     "outputs": [
      {
       "output_type": "stream",
       "stream": "stdout",
       "text": [
        "totalSAM= 9480 totalOAM= 2520 totalSOL= 1070\n",
        "lastcount:"
       ]
      },
      {
       "output_type": "stream",
       "stream": "stdout",
       "text": [
        " 9480 2520 1070\n",
        "just created  21pc_1000_cuda.top\n",
        "totalSAM="
       ]
      },
      {
       "output_type": "stream",
       "stream": "stdout",
       "text": [
        " 9480 totalOAM= 2520 totalSOL= 2076\n",
        "lastcount:"
       ]
      },
      {
       "output_type": "stream",
       "stream": "stdout",
       "text": [
        " 9480 2520 2076\n",
        "just created  21pc_2000_cuda.top\n",
        "totalSAM="
       ]
      },
      {
       "output_type": "stream",
       "stream": "stdout",
       "text": [
        " 9480 totalOAM= 2520 totalSOL= 3009\n",
        "lastcount:"
       ]
      },
      {
       "output_type": "stream",
       "stream": "stdout",
       "text": [
        " 9480 2520 3009\n",
        "just created  21pc_3000_cuda.top\n",
        "totalSAM="
       ]
      },
      {
       "output_type": "stream",
       "stream": "stdout",
       "text": [
        " 9480 totalOAM= 2520 totalSOL= 4042\n",
        "lastcount:"
       ]
      },
      {
       "output_type": "stream",
       "stream": "stdout",
       "text": [
        " 9480 2520 4042\n",
        "just created  21pc_4000_cuda.top\n",
        "totalSAM="
       ]
      },
      {
       "output_type": "stream",
       "stream": "stdout",
       "text": [
        " 9480 totalOAM= 2520 totalSOL= 5011\n",
        "lastcount:"
       ]
      },
      {
       "output_type": "stream",
       "stream": "stdout",
       "text": [
        " 9480 2520 5011\n",
        "just created  21pc_5000_cuda.top\n",
        "totalSAM="
       ]
      },
      {
       "output_type": "stream",
       "stream": "stdout",
       "text": [
        " 9480 totalOAM= 2520 totalSOL= 6568\n",
        "lastcount:"
       ]
      },
      {
       "output_type": "stream",
       "stream": "stdout",
       "text": [
        " 9480 2520 6568\n",
        "just created  21pc_6500_cuda.top\n",
        "totalSAM="
       ]
      },
      {
       "output_type": "stream",
       "stream": "stdout",
       "text": [
        " 9480 totalOAM= 2520 totalSOL= 7001\n",
        "lastcount:"
       ]
      },
      {
       "output_type": "stream",
       "stream": "stdout",
       "text": [
        " 9480 2520 7001\n",
        "just created  21pc_7000_cuda.top\n",
        "totalSAM="
       ]
      },
      {
       "output_type": "stream",
       "stream": "stdout",
       "text": [
        " 9480 totalOAM= 2520 totalSOL= 7998\n",
        "lastcount:"
       ]
      },
      {
       "output_type": "stream",
       "stream": "stdout",
       "text": [
        " 9480 2520 7998\n",
        "just created  21pc_8000_cuda.top\n",
        "totalSAM="
       ]
      },
      {
       "output_type": "stream",
       "stream": "stdout",
       "text": [
        " 9480 totalOAM= 2520 totalSOL= 9062\n",
        "lastcount:"
       ]
      },
      {
       "output_type": "stream",
       "stream": "stdout",
       "text": [
        " 9480 2520 9062\n",
        "just created  21pc_9000_cuda.top\n",
        "totalSAM="
       ]
      },
      {
       "output_type": "stream",
       "stream": "stdout",
       "text": [
        " 9480 totalOAM= 2520 totalSOL= 10052\n",
        "lastcount:"
       ]
      },
      {
       "output_type": "stream",
       "stream": "stdout",
       "text": [
        " 9480 2520 10052\n",
        "just created  21pc_10000_cuda.top\n",
        "totalSAM="
       ]
      },
      {
       "output_type": "stream",
       "stream": "stdout",
       "text": [
        " 9000 totalOAM= 3000 totalSOL= 1070\n",
        "lastcount:"
       ]
      },
      {
       "output_type": "stream",
       "stream": "stdout",
       "text": [
        " 9000 3000 1070\n",
        "just created  25pc_1000_cuda.top\n",
        "totalSAM="
       ]
      },
      {
       "output_type": "stream",
       "stream": "stdout",
       "text": [
        " 9000 totalOAM= 3000 totalSOL= 2076\n",
        "lastcount:"
       ]
      },
      {
       "output_type": "stream",
       "stream": "stdout",
       "text": [
        " 9000 3000 2076\n",
        "just created  25pc_2000_cuda.top\n",
        "totalSAM="
       ]
      },
      {
       "output_type": "stream",
       "stream": "stdout",
       "text": [
        " 9000 totalOAM= 3000 totalSOL= 3009\n",
        "lastcount:"
       ]
      },
      {
       "output_type": "stream",
       "stream": "stdout",
       "text": [
        " 9000 3000 3009\n",
        "just created  25pc_3000_cuda.top\n",
        "totalSAM="
       ]
      },
      {
       "output_type": "stream",
       "stream": "stdout",
       "text": [
        " 9000 totalOAM= 3000 totalSOL= 4042\n",
        "lastcount:"
       ]
      },
      {
       "output_type": "stream",
       "stream": "stdout",
       "text": [
        " 9000 3000 4042\n",
        "just created  25pc_4000_cuda.top\n",
        "totalSAM="
       ]
      },
      {
       "output_type": "stream",
       "stream": "stdout",
       "text": [
        " 9000 totalOAM= 3000 totalSOL= 5011\n",
        "lastcount:"
       ]
      },
      {
       "output_type": "stream",
       "stream": "stdout",
       "text": [
        " 9000 3000 5011\n",
        "just created  25pc_5000_cuda.top\n",
        "totalSAM="
       ]
      },
      {
       "output_type": "stream",
       "stream": "stdout",
       "text": [
        " 9000 totalOAM= 3000 totalSOL= 6568\n",
        "lastcount:"
       ]
      },
      {
       "output_type": "stream",
       "stream": "stdout",
       "text": [
        " 9000 3000 6568\n",
        "just created  25pc_6500_cuda.top\n",
        "totalSAM="
       ]
      },
      {
       "output_type": "stream",
       "stream": "stdout",
       "text": [
        " 9000 totalOAM= 3000 totalSOL= 7001\n",
        "lastcount:"
       ]
      },
      {
       "output_type": "stream",
       "stream": "stdout",
       "text": [
        " 9000 3000 7001\n",
        "just created  25pc_7000_cuda.top\n",
        "totalSAM="
       ]
      },
      {
       "output_type": "stream",
       "stream": "stdout",
       "text": [
        " 9000 totalOAM= 3000 totalSOL= 7998\n",
        "lastcount:"
       ]
      },
      {
       "output_type": "stream",
       "stream": "stdout",
       "text": [
        " 9000 3000 7998\n",
        "just created  25pc_8000_cuda.top\n",
        "totalSAM="
       ]
      },
      {
       "output_type": "stream",
       "stream": "stdout",
       "text": [
        " 9000 totalOAM= 3000 totalSOL= 9062\n",
        "lastcount:"
       ]
      },
      {
       "output_type": "stream",
       "stream": "stdout",
       "text": [
        " 9000 3000 9062\n",
        "just created  25pc_9000_cuda.top\n",
        "totalSAM="
       ]
      },
      {
       "output_type": "stream",
       "stream": "stdout",
       "text": [
        " 9000 totalOAM= 3000 totalSOL= 10052\n",
        "lastcount:"
       ]
      },
      {
       "output_type": "stream",
       "stream": "stdout",
       "text": [
        " 9000 3000 10052\n",
        "just created  25pc_10000_cuda.top\n"
       ]
      }
     ],
     "prompt_number": 4
    },
    {
     "cell_type": "code",
     "collapsed": false,
     "input": [
      "for i in pc:\n",
      "    for j in molec: \n",
      "        separatedfolder='s'+str(i)+'_w'+str(j)\n",
      "        os.chdir(samsfolder)\n",
      "        os.chdir(separatedfolder)\n",
      "        os.system(\"rm *.top-e\")"
     ],
     "language": "python",
     "metadata": {},
     "outputs": [],
     "prompt_number": 7
    },
    {
     "cell_type": "code",
     "collapsed": false,
     "input": [
      "os.system(\"mkdir reshapingfiles\")\n",
      "os.system(\"cp *_c.gro reshapingfiles/\")\n",
      "os.system(\"rm *_c.gro\")"
     ],
     "language": "python",
     "metadata": {},
     "outputs": [
      {
       "metadata": {},
       "output_type": "pyout",
       "prompt_number": 9,
       "text": [
        "0"
       ]
      }
     ],
     "prompt_number": 9
    },
    {
     "cell_type": "code",
     "collapsed": false,
     "input": [
      "######## THIS CELL IS FOR TESTING WHICH LINES ARE COUNTED AND THE ATOM NUMBERS #########\n",
      "samsfolder = \"/Users/burbol/Desktop/scripts/SAM_CREATION/SAMs/NEW/drop_placement\" #path to .gro files\n",
      "i=21\n",
      "j=216\n",
      "CH3len= 65     #length of chain with CH3-head groups\n",
      "CH3len2= 62\n",
      "OHlen= 63      #length of chain with OH-head groups\n",
      "OHlen2= 63\n",
      "\n",
      "#totalSAM = int(totalSAM)\n",
      "#totalOAM = int(totalOAM)\n",
      "#totalSAM2 = int(totalSAM)\n",
      "#totalOAM2 = int(totalOAM)\n",
      "#totalSOL = int(totalSOL)\n",
      "\n",
      "systfile='sam'+str(i)+'_water'+str(j)+'.gro' #name of .gro files\n",
      "os.chdir(samsfolder)\n",
      "f = open(systfile)\n",
      "k = 0\n",
      "l = 0\n",
      "m = 0\n",
      "for line in f:\n",
      "    if \"SAM\" in line:\n",
      "        k += 1\n",
      "        if i!=33 and k in range(1,(totalSAM*CH3len2)+1,CH3len2):\n",
      "            print line\n",
      "        elif i==33 and k in range(1,(totalSAM*CH3len)+1,CH3len):\n",
      "            print line\n",
      "    elif \"OAM\" in line:\n",
      "        l += 1\n",
      "        if i!=33 and l in range(1,(totalOAM*OHlen2)+1,OHlen2):\n",
      "            print line\n",
      "        elif i==33 and l in range(1,(totalOAM*OHlen)+1,OHlen):\n",
      "            print line\n",
      "    elif \"SOL\" in line:\n",
      "        print line\n",
      "        m += 1  \n",
      "    \n",
      "f.close()\n",
      "\n",
      "#k = (k)/CH3len\n",
      "#l = l/OHlen\n",
      "#k2 = (k)/CH3len2\n",
      "#l2 = l/OHlen2\n",
      "m = m/3\n",
      "print \"last molec count:\",totalSAM,totalOAM,totalSOL\n",
      "print \"new count:\", k,l,m"
     ],
     "language": "python",
     "metadata": {},
     "outputs": [
      {
       "ename": "IndentationError",
       "evalue": "expected an indented block (<ipython-input-2-a4fe8639cb32>, line 26)",
       "output_type": "pyerr",
       "traceback": [
        "\u001b[0;36m  File \u001b[0;32m\"<ipython-input-2-a4fe8639cb32>\"\u001b[0;36m, line \u001b[0;32m26\u001b[0m\n\u001b[0;31m    elif i==33 and k in range(1,(totalSAM*CH3len)+1,CH3len):\u001b[0m\n\u001b[0m       ^\u001b[0m\n\u001b[0;31mIndentationError\u001b[0m\u001b[0;31m:\u001b[0m expected an indented block\n"
       ]
      }
     ],
     "prompt_number": 2
    },
    {
     "cell_type": "code",
     "collapsed": false,
     "input": [
      " "
     ],
     "language": "python",
     "metadata": {},
     "outputs": []
    }
   ],
   "metadata": {}
  }
 ]
}