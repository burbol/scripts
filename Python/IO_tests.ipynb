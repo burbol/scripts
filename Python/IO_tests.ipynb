{
 "metadata": {
  "name": ""
 },
 "nbformat": 3,
 "nbformat_minor": 0,
 "worksheets": [
  {
   "cells": [
    {
     "cell_type": "code",
     "collapsed": false,
     "input": [
      "%pylab inline"
     ],
     "language": "python",
     "metadata": {},
     "outputs": [
      {
       "output_type": "stream",
       "stream": "stdout",
       "text": [
        "Populating the interactive namespace from numpy and matplotlib\n"
       ]
      }
     ],
     "prompt_number": 1
    },
    {
     "cell_type": "code",
     "collapsed": false,
     "input": [
      "import os\n",
      "import numpy as np\n",
      "os.chdir('/Users/burbol/Downloads/global_density_maps')"
     ],
     "language": "python",
     "metadata": {},
     "outputs": [],
     "prompt_number": 21
    },
    {
     "cell_type": "code",
     "collapsed": false,
     "input": [
      "# It is a good idea to store the filename into a variable.\n",
      "# The variable can later become a function argument when the\n",
      "# code is converted to a function body.\n",
      "filename = 'WaterPeaksFinal.txt'\n",
      "\n",
      "# Using the newer with construct to close the file automatically.\n",
      "with open(filename) as f:\n",
      "    data = f.readlines()\n",
      "\n",
      "## Or using the older approach and closing the filea explicitly.\n",
      "## Here the data is re-read again, do not use both ;)\n",
      "#f = open(filename)\n",
      "#data = f.readlines()\n",
      "#f.close()\n",
      "\n",
      "print len(data)\n",
      "\n",
      "# The data is of the list type.  The Python list type is actually\n",
      "# a dynamic array. The lines contain also the \\n; hence the .rstrip()\n",
      "for n, line in enumerate(data, 1):\n",
      "    print line.rstrip()\n",
      "\n",
      "print '-----------------'\n",
      "\n",
      "## You can later iterate through the list for other purpose, for\n",
      "## example to read them via the csv.reader.\n",
      "#import csv\n",
      "#\n",
      "#reader = csv.reader(data)\n",
      "for row in data:\n",
      "    print row"
     ],
     "language": "python",
     "metadata": {},
     "outputs": [
      {
       "output_type": "stream",
       "stream": "stdout",
       "text": [
        "41\n",
        "Water Peaks Position\n",
        "2.52\n",
        "2.508\n",
        "2.508\n",
        "2.52\n",
        "2.508\n",
        "2.532\n",
        "2.52\n",
        "2.544\n",
        "2.544\n",
        "2.544\n",
        "2.652\n",
        "2.664\n",
        "2.664\n",
        "2.664\n",
        "2.664\n",
        "2.664\n",
        "2.676\n",
        "2.664\n",
        "2.664\n",
        "2.664\n",
        "2.664\n",
        "2.652\n",
        "2.652\n",
        "2.664\n",
        "2.652\n",
        "2.664\n",
        "2.664\n",
        "2.664\n",
        "2.652\n",
        "2.652\n",
        "2.64\n",
        "2.652\n",
        "2.652\n",
        "2.652\n",
        "2.64\n",
        "2.64\n",
        "2.64\n",
        "2.64\n",
        "2.64\n",
        "2.64\n",
        "-----------------\n",
        "Water Peaks Position\n",
        "\n",
        "2.52\n",
        "\n",
        "2.508\n",
        "\n",
        "2.508\n",
        "\n",
        "2.52\n",
        "\n",
        "2.508\n",
        "\n",
        "2.532\n",
        "\n",
        "2.52\n",
        "\n",
        "2.544\n",
        "\n",
        "2.544\n",
        "\n",
        "2.544\n",
        "\n",
        "2.652\n",
        "\n",
        "2.664\n",
        "\n",
        "2.664\n",
        "\n",
        "2.664\n",
        "\n",
        "2.664\n",
        "\n",
        "2.664\n",
        "\n",
        "2.676\n",
        "\n",
        "2.664\n",
        "\n",
        "2.664\n",
        "\n",
        "2.664\n",
        "\n",
        "2.664\n",
        "\n",
        "2.652\n",
        "\n",
        "2.652\n",
        "\n",
        "2.664\n",
        "\n",
        "2.652\n",
        "\n",
        "2.664\n",
        "\n",
        "2.664\n",
        "\n",
        "2.664\n",
        "\n",
        "2.652\n",
        "\n",
        "2.652\n",
        "\n",
        "2.64\n",
        "\n",
        "2.652\n",
        "\n",
        "2.652\n",
        "\n",
        "2.652\n",
        "\n",
        "2.64\n",
        "\n",
        "2.64\n",
        "\n",
        "2.64\n",
        "\n",
        "2.64\n",
        "\n",
        "2.64\n",
        "\n",
        "2.64\n",
        "\n"
       ]
      }
     ],
     "prompt_number": 22
    },
    {
     "cell_type": "code",
     "collapsed": false,
     "input": [
      "data2 = np.loadtxt('WaterPeaksFinal.txt', skiprows=1)\n",
      "print len(data2)\n",
      "print data2[39]"
     ],
     "language": "python",
     "metadata": {},
     "outputs": [
      {
       "output_type": "stream",
       "stream": "stdout",
       "text": [
        "40\n",
        "2.64\n"
       ]
      }
     ],
     "prompt_number": 24
    },
    {
     "cell_type": "code",
     "collapsed": false,
     "input": [
      "type(data2)"
     ],
     "language": "python",
     "metadata": {},
     "outputs": [
      {
       "metadata": {},
       "output_type": "pyout",
       "prompt_number": 25,
       "text": [
        "numpy.ndarray"
       ]
      }
     ],
     "prompt_number": 25
    },
    {
     "cell_type": "code",
     "collapsed": false,
     "input": [
      "systems = {(0,1000): 0, (0,2000): 1, (0,3000): 2, (0,4000): 4098, (0,5000): 4098, (0,6000): 4098, (0,7000): 4098}\n",
      "systems.keys()\n",
      "peaknum = systems[(0,1000)]\n",
      "print peaknum"
     ],
     "language": "python",
     "metadata": {},
     "outputs": [
      {
       "output_type": "stream",
       "stream": "stdout",
       "text": [
        "0\n"
       ]
      }
     ],
     "prompt_number": 20
    },
    {
     "cell_type": "code",
     "collapsed": false,
     "input": [
      "peakcount = 0\n",
      "for b in [0, 5, 11, 17]:\n",
      "    for c in [1000, 2000, 3000, 4000, 5000, 6500, 7000, 8000, 9000, 10000]:\n",
      "        z = b, c\n",
      "        systems[z] = peakcount\n",
      "        #systems[tuple([z])] = peakcount\n",
      "        #d[tuple([1,2,3,4])] = 'hello world'\n",
      "        #systems = dict([z ,peakcount])\n",
      "        #systems = dict(zip(z, peakcount))\n",
      "        #>>> dict([('sape', 4139),\n",
      "        #systems = {(b,c): peaknum}\n",
      "        peakcount = peakcount + 1\n",
      "        #systems[(b,c)].append(peaknum)\n",
      "        print systems[(b, c)]\n",
      "#print systems[(11, 3000)]"
     ],
     "language": "python",
     "metadata": {},
     "outputs": [
      {
       "output_type": "stream",
       "stream": "stdout",
       "text": [
        "0\n",
        "1\n",
        "2\n",
        "3\n",
        "4\n",
        "5\n",
        "6\n",
        "7\n",
        "8\n",
        "9\n",
        "10\n",
        "11\n",
        "12\n",
        "13\n",
        "14\n",
        "15\n",
        "16\n",
        "17\n",
        "18\n",
        "19\n",
        "20\n",
        "21\n",
        "22\n",
        "23\n",
        "24\n",
        "25\n",
        "26\n",
        "27\n",
        "28\n",
        "29\n",
        "30\n",
        "31\n",
        "32\n",
        "33\n",
        "34\n",
        "35\n",
        "36\n",
        "37\n",
        "38\n",
        "39\n"
       ]
      }
     ],
     "prompt_number": 51
    },
    {
     "cell_type": "code",
     "collapsed": false,
     "input": [
      "peaknum = systems[(0,1000)]\n",
      "print peaknum"
     ],
     "language": "python",
     "metadata": {},
     "outputs": [
      {
       "output_type": "stream",
       "stream": "stdout",
       "text": [
        "0\n"
       ]
      }
     ],
     "prompt_number": 29
    },
    {
     "cell_type": "code",
     "collapsed": false,
     "input": [
      "list1=[1,2,3,4,5]\n",
      "list2=[123,234,456]\n",
      "d={'a':[],'b':[]}\n",
      "d['a'].append(list1)\n",
      "d['b'].append(list2)\n",
      "print d['a'], d['b']"
     ],
     "language": "python",
     "metadata": {},
     "outputs": [
      {
       "output_type": "stream",
       "stream": "stdout",
       "text": [
        " [[1, 2, 3, 4, 5]] [[123, 234, 456]]\n"
       ]
      }
     ],
     "prompt_number": 24
    },
    {
     "cell_type": "code",
     "collapsed": false,
     "input": [],
     "language": "python",
     "metadata": {},
     "outputs": []
    }
   ],
   "metadata": {}
  }
 ]
}