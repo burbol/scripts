{
 "metadata": {
  "name": "First_NoteBook_g_rad"
 },
 "nbformat": 3,
 "nbformat_minor": 0,
 "worksheets": [
  {
   "cells": [
    {
     "cell_type": "code",
     "collapsed": false,
     "input": "%pylab inline",
     "language": "python",
     "metadata": {},
     "outputs": [
      {
       "output_type": "stream",
       "stream": "stdout",
       "text": "Populating the interactive namespace from numpy and matplotlib\n"
      }
     ],
     "prompt_number": 2
    },
    {
     "cell_type": "code",
     "collapsed": false,
     "input": "import matplotlib.pyplot as plt\nimport numpy as np\nfrom scipy.optimize import curve_fit",
     "language": "python",
     "metadata": {},
     "outputs": [],
     "prompt_number": 3
    },
    {
     "cell_type": "code",
     "collapsed": false,
     "input": "# >>> import itertools as it\n",
     "language": "python",
     "metadata": {},
     "outputs": [],
     "prompt_number": 4
    },
    {
     "cell_type": "code",
     "collapsed": false,
     "input": "#%cd /Users/burbol/Desktop/Testing/files_for_laila/densmaps_berendsen\n%cd /Users/burbol/Downloads/Testing",
     "language": "python",
     "metadata": {},
     "outputs": [
      {
       "output_type": "stream",
       "stream": "stdout",
       "text": "/Users/burbol/Downloads/Testing\n"
      }
     ],
     "prompt_number": 5
    },
    {
     "cell_type": "code",
     "collapsed": false,
     "input": "#%cd densmaps_s11_w2000/",
     "language": "python",
     "metadata": {},
     "outputs": [],
     "prompt_number": 6
    },
    {
     "cell_type": "code",
     "collapsed": false,
     "input": "#input = np.loadtxt(\"densmap_11pc_2000_12ns_14ns.dat\")\ninput = np.loadtxt(\"g_rad_densmap_s0_w1000_2ns_4ns.dat\")",
     "language": "python",
     "metadata": {},
     "outputs": [],
     "prompt_number": 7
    },
    {
     "cell_type": "code",
     "collapsed": false,
     "input": "input = input.transpose()\nlen(input)",
     "language": "python",
     "metadata": {},
     "outputs": [
      {
       "metadata": {},
       "output_type": "pyout",
       "prompt_number": 8,
       "text": "201"
      }
     ],
     "prompt_number": 8
    },
    {
     "cell_type": "code",
     "collapsed": false,
     "input": "x = input[0]\nprint len(x)\nprint input[50]",
     "language": "python",
     "metadata": {},
     "outputs": [
      {
       "output_type": "stream",
       "stream": "stdout",
       "text": "101\n[  2.94000000e+00   4.71340710e+02   1.05511401e+03   9.46108510e+02\n   1.00885953e+03   9.46997520e+02   8.76455430e+02   6.77575250e+02\n   3.11269790e+02   1.15965690e+02   3.30082200e+01   2.35881000e+00\n   2.24011000e+00   0.00000000e+00   0.00000000e+00   0.00000000e+00\n   0.00000000e+00   0.00000000e+00   0.00000000e+00   0.00000000e+00\n   0.00000000e+00   0.00000000e+00   0.00000000e+00   0.00000000e+00\n   0.00000000e+00   0.00000000e+00   0.00000000e+00   0.00000000e+00\n   0.00000000e+00   0.00000000e+00   0.00000000e+00   0.00000000e+00\n   0.00000000e+00   0.00000000e+00   0.00000000e+00   0.00000000e+00\n   0.00000000e+00   0.00000000e+00   0.00000000e+00   0.00000000e+00\n   0.00000000e+00   0.00000000e+00   0.00000000e+00   0.00000000e+00\n   0.00000000e+00   0.00000000e+00   0.00000000e+00   0.00000000e+00\n   0.00000000e+00   0.00000000e+00   0.00000000e+00   0.00000000e+00\n   0.00000000e+00   0.00000000e+00   0.00000000e+00   0.00000000e+00\n   0.00000000e+00   0.00000000e+00   0.00000000e+00   0.00000000e+00\n   0.00000000e+00   0.00000000e+00   0.00000000e+00   1.18700000e-01\n   0.00000000e+00   0.00000000e+00   0.00000000e+00   0.00000000e+00\n   0.00000000e+00   0.00000000e+00   0.00000000e+00   0.00000000e+00\n   0.00000000e+00   0.00000000e+00   0.00000000e+00   0.00000000e+00\n   0.00000000e+00   0.00000000e+00   0.00000000e+00   0.00000000e+00\n   0.00000000e+00   0.00000000e+00   0.00000000e+00   0.00000000e+00\n   0.00000000e+00   0.00000000e+00   0.00000000e+00   0.00000000e+00\n   0.00000000e+00   0.00000000e+00   0.00000000e+00   0.00000000e+00\n   0.00000000e+00   0.00000000e+00   0.00000000e+00   0.00000000e+00\n   0.00000000e+00   0.00000000e+00   0.00000000e+00   0.00000000e+00\n   0.00000000e+00]\n"
      }
     ],
     "prompt_number": 9
    },
    {
     "cell_type": "code",
     "collapsed": false,
     "input": "def checkzero(s):\n    i = len(np.transpose(np.nonzero(s)))\n    if i > 1: \n        return True\n    else: \n         return False",
     "language": "python",
     "metadata": {},
     "outputs": [],
     "prompt_number": 10
    },
    {
     "cell_type": "code",
     "collapsed": false,
     "input": "zeroslice = 0\nfor slice in range(10,100):\n    y = input[slice]\n    if checkzero(y): \n       zeroslice = slice\n       print zeroslice\n       break\n    else: continue",
     "language": "python",
     "metadata": {},
     "outputs": [
      {
       "output_type": "stream",
       "stream": "stdout",
       "text": "38\n"
      }
     ],
     "prompt_number": 11
    },
    {
     "cell_type": "code",
     "collapsed": false,
     "input": "slice = 50\ny = input[slice]\nplt.plot(x,y)\nplt.axis([0.05, 5, 0, 1500])\nplt.show()",
     "language": "python",
     "metadata": {},
     "outputs": [
      {
       "metadata": {},
       "output_type": "display_data",
       "png": "[encoded data removed]",
       "text": "<matplotlib.figure.Figure at 0x10b42d450>"
      }
     ],
     "prompt_number": 12
    },
    {
     "cell_type": "code",
     "collapsed": false,
     "input": "print len(input)\nprint range(1,3)\ntesti = np.zeros(3)\nprint testi",
     "language": "python",
     "metadata": {},
     "outputs": [
      {
       "output_type": "stream",
       "stream": "stdout",
       "text": "201\n[1, 2]\n[ 0.  0.  0.]\n"
      }
     ],
     "prompt_number": 13
    },
    {
     "cell_type": "code",
     "collapsed": false,
     "input": "slicedens = np.zeros(len(input[0]))\ndens = np.zeros(len(input)-1)\nzcoord = np.zeros(len(input)-1)\nfor i in range(1,len(input)): \n    slicedens = input[i]\n    dens[i-1] = sum(slicedens) - slicedens[0]\n    zcoord[i-1] = slicedens[0]\n    #print dens[j]\n#print len(dens)\n#print len(x)\nplt.plot(zcoord,dens)\nplt.plot(zcoord,dens,'k.')\nplt.axis([-5, 5, 0, 10000])\nplt.show()",
     "language": "python",
     "metadata": {},
     "outputs": [
      {
       "metadata": {},
       "output_type": "display_data",
       "png": "[encoded data removed]",
       "text": "<matplotlib.figure.Figure at 0x10b495890>"
      }
     ],
     "prompt_number": 14
    },
    {
     "cell_type": "code",
     "collapsed": false,
     "input": "for d in range(1, len(input[0])):\n    print x[d], dens[d]",
     "language": "python",
     "metadata": {},
     "outputs": [
      {
       "output_type": "stream",
       "stream": "stdout",
       "text": "0.0 27394.5254\n0.75 53205.83812\n1.06066 50402.48057\n1.29904 46802.86956\n1.5 42291.19876\n1.67705 35415.2683\n1.83712 25385.15329\n1.98431 13716.55745\n2.12132 5377.3927\n2.25 1352.90507\n2.37171 285.29504\n2.48747 45.98927\n2.59808 12.9659\n2.70416 0.2374\n2.80624 0.0\n2.90474 4.24284\n3.0 0.1187\n3.09233 4.12414\n3.18198 2.12142\n3.26917 4.24284\n3.3541 2.12142\n3.43693 0.1187\n3.51781 2.00272\n3.59687 0.0\n3.67423 0.0\n3.75 2.00272\n3.82426 0.0\n3.89711 0.3561\n3.96863 4.12414\n4.03887 4.12414\n4.10792 2.12142\n4.17582 0.1187\n4.24264 4.12414\n4.30842 2.12142\n4.37321 0.1187\n4.43706 2.12142\n4.5 1.88402\n4.56207 4.36154\n4.62331 2.00272\n4.68375 0.1187\n4.74342 0.1187\n4.80234 0.1187\n4.86056 3.88674\n4.91808 0.2374\n4.97494 2.12142\n5.03115 2.12142\n5.08675 2.12142\n5.14174 4.00544\n5.19615 4.12414\n5.25 0.4748\n5.3033 3.76804\n5.35607 2.00272\n5.40833 0.2374\n5.46008 0.1187\n5.51135 0.1187\n5.56215 1.88402\n5.61249 0.2374\n5.66238 0.0\n5.71183 1.88402\n5.76086 2.12142\n5.80948 2.00272\n5.85769 0.4748\n5.90551 3.88674\n5.95294 2.12142\n6.0 2.12142\n6.04669 4.00544\n6.09303 2.24012\n6.13901 0.3561\n6.18466 3.76804\n6.22997 0.3561\n6.27495 2.24012\n6.31961 0.0\n6.36396 2.00272\n6.408 2.12142\n6.45174 0.3561\n6.49519 3.88674\n6.53835 2.00272\n6.58122 0.1187\n6.62382 0.0\n6.66615 0.1187\n6.7082 1.88402\n6.75 6.12686\n6.79154 0.2374\n6.83283 2.35882\n6.87386 2.12142\n6.91466 4.12414\n6.95521 2.24012\n6.99553 0.0\n7.03562 3.88674\n7.07549 0.1187\n7.11512 2.12142\n7.15454 0.3561\n7.19375 0.3561\n7.23274 5.77076\n7.27152 2.00272\n7.3101 0.4748\n7.34847 3.88674\n7.38664 0.1187\n7.42462 0.2374\n7.46241 0.1187\n"
      }
     ],
     "prompt_number": 31
    },
    {
     "cell_type": "code",
     "collapsed": false,
     "input": "def func(r, ro, R, d):\n    return (ro/2)*(1-np.tanh(2*(r-R)/d))",
     "language": "python",
     "metadata": {},
     "outputs": [],
     "prompt_number": 32
    },
    {
     "cell_type": "code",
     "collapsed": false,
     "input": "popt, pcov = curve_fit(func, x, y,[1000, 3, 1])\nprint popt",
     "language": "python",
     "metadata": {},
     "outputs": [
      {
       "output_type": "stream",
       "stream": "stdout",
       "text": "[  7.59222468e+02   1.96973191e+00   2.62139476e-01]\n"
      }
     ],
     "prompt_number": 33
    },
    {
     "cell_type": "code",
     "collapsed": false,
     "input": "import pylab as pl\npl.plot(x, func(x, *popt), 'r-')\npl.plot(x,y,'k.')",
     "language": "python",
     "metadata": {},
     "outputs": [
      {
       "metadata": {},
       "output_type": "pyout",
       "prompt_number": 34,
       "text": "[<matplotlib.lines.Line2D at 0x10b5a6dd0>]"
      },
      {
       "metadata": {},
       "output_type": "display_data",
       "png": "[encoded data removed]",
       "text": "<matplotlib.figure.Figure at 0x10b5a6850>"
      }
     ],
     "prompt_number": 34
    },
    {
     "cell_type": "code",
     "collapsed": false,
     "input": "k = func(0,*popt)\nprint k",
     "language": "python",
     "metadata": {},
     "outputs": [
      {
       "output_type": "stream",
       "stream": "stdout",
       "text": "759.222467956\n"
      }
     ],
     "prompt_number": 35
    },
    {
     "cell_type": "code",
     "collapsed": false,
     "input": "def checkslice(s):\n    popt, pcov = curve_fit(func, x, s,[100, 3, 1])\n    k = func(0,*popt)\n    if k > 600:\n        return True\n    else: \n        return False",
     "language": "python",
     "metadata": {},
     "outputs": [],
     "prompt_number": 36
    },
    {
     "cell_type": "code",
     "collapsed": false,
     "input": "slicemin = 0\nfor slice in range(10,150):\n    y = input[slice]\n    if checkslice(y): \n       slicemin = slice\n       print slicemin\n       break\n    else: continue",
     "language": "python",
     "metadata": {},
     "outputs": [
      {
       "output_type": "stream",
       "stream": "stdout",
       "text": "42\n"
      }
     ],
     "prompt_number": 39
    },
    {
     "cell_type": "code",
     "collapsed": false,
     "input": "slicemax = 0\nfor slice in range(200,0,-1):\n    y = input[slice]\n    if checkslice(y): \n       slicemax = slice\n       print slicemax\n       break\n    else: continue",
     "language": "python",
     "metadata": {},
     "outputs": [
      {
       "output_type": "stream",
       "stream": "stdout",
       "text": "86\n"
      }
     ],
     "prompt_number": 40
    },
    {
     "cell_type": "code",
     "collapsed": false,
     "input": "slicemin2 = slicemin + 16\nprint zeroslice, slicemin, slicemin2, slicemax\ny = input[zeroslice]\nshift = y[0]\nprint shift",
     "language": "python",
     "metadata": {},
     "outputs": [
      {
       "output_type": "stream",
       "stream": "stdout",
       "text": "38 42 58 86\n2.22\n"
      }
     ],
     "prompt_number": 41
    },
    {
     "cell_type": "code",
     "collapsed": false,
     "input": "dims = slicemax - slicemin2 + 1\nmaxdim = slicemax + 1\ni=0\nz = np.zeros(dims)\nR = np.zeros(dims)\nw = np.zeros(dims)\nfor a in range(slicemin2, maxdim):\n    y2 = input[a]\n    i = a - slicemin2\n    z[i] = y2[0] - shift\n#    w[i] = 0.05*(a - 1) - 5.0 - shift -> Ahother way to determine z\n    params, pcov2 = curve_fit(func, x, y2,[1000, 3, 1])\n    R[i] = params[1]\npl.plot(z, R, 'k.')",
     "language": "python",
     "metadata": {},
     "outputs": [
      {
       "metadata": {},
       "output_type": "pyout",
       "prompt_number": 42,
       "text": "[<matplotlib.lines.Line2D at 0x10b5f13d0>]"
      },
      {
       "metadata": {},
       "output_type": "display_data",
       "png": "[encoded data removed]",
       "text": "<matplotlib.figure.Figure at 0x10b5e8250>"
      }
     ],
     "prompt_number": 42
    },
    {
     "cell_type": "code",
     "collapsed": false,
     "input": "#  == LEAST SQUARES CIRCLE ==\n# Advanced usage of optimize.leastsq with jacobian\n\nmethod  = \"leastsq with jacobian\"\nfrom scipy    import optimize\n\n# coordinates of the barycenter\nx_m = mean(z)\ny_m = mean(R)\n\ndef calc_R(xc, yc):\n    \"\"\" calculate the distance of each data points from the center (xc, yc) \"\"\"\n    return sqrt((z-xc)**2 + (R-yc)**2)\n\ndef f(c):\n    \"\"\" calculate the algebraic distance between the 2D points and the mean circle centered at c=(xc, yc) \"\"\"\n    Ri = calc_R(*c)\n    return Ri - Ri.mean()\n\ndef Df(c):\n    \"\"\" Jacobian of f\n    The axis corresponding to derivatives must be coherent with the col_deriv option of leastsq\"\"\"\n    xc, yc     = c\n    df_dc    = empty((len(c), z.size))\n\n    Ri = calc_R(xc, yc)\n    df_dc[ 0] = (xc - z)/Ri                   # dR/dxc\n    df_dc[ 1] = (yc - R)/Ri                   # dR/dyc\n    df_dc       = df_dc - df_dc.mean(axis=1)[:, newaxis]\n\n    return df_dc\n\ncenter_estimate = x_m, y_m\ncenter, ier = optimize.leastsq(f, center_estimate, Dfun=Df, col_deriv=True)\n\nxc, yc = center\nRi        = calc_R(xc, yc)\nR_2       = Ri.mean()\nresidu    = sum((Ri - R_2)**2)",
     "language": "python",
     "metadata": {},
     "outputs": [],
     "prompt_number": 43
    },
    {
     "cell_type": "code",
     "collapsed": false,
     "input": "print xc, yc, R_2, x_m",
     "language": "python",
     "metadata": {},
     "outputs": [
      {
       "output_type": "stream",
       "stream": "stdout",
       "text": "1.40249051509 -0.175348017133 2.24001417271 2.04\n"
      }
     ],
     "prompt_number": 44
    },
    {
     "cell_type": "code",
     "collapsed": false,
     "input": "theta_fit = linspace(-pi, pi, 180)\nx_fit2 = xc + R_2*cos(theta_fit)\ny_fit2 = yc + R_2*sin(theta_fit)\npl.plot(x_fit2, y_fit2, color=\"blue\", label=method, lw=2)\n# plot(X, C, color=\"blue\", linewidth=2.5, linestyle=\"-\")\n# Set x limits\nxlim(0,4.0)\n# Set y limits\nylim(0,3)\npl.plot(z, R, 'k.')",
     "language": "python",
     "metadata": {},
     "outputs": [
      {
       "metadata": {},
       "output_type": "pyout",
       "prompt_number": 45,
       "text": "[<matplotlib.lines.Line2D at 0x10b5c14d0>]"
      },
      {
       "metadata": {},
       "output_type": "display_data",
       "png": "[encoded data removed]",
       "text": "<matplotlib.figure.Figure at 0x10b5c1fd0>"
      }
     ],
     "prompt_number": 45
    },
    {
     "cell_type": "code",
     "collapsed": false,
     "input": "def angle(R, m):\n    t = m / np.sqrt(R**2 - m**2)\n    t2 = math.degrees(np.arctan(t)) + 90\n    return t2",
     "language": "python",
     "metadata": {},
     "outputs": [],
     "prompt_number": 46
    },
    {
     "cell_type": "code",
     "collapsed": false,
     "input": "def radius(R, m):\n    r = np.sqrt(R**2 - m**2)\n    return r",
     "language": "python",
     "metadata": {},
     "outputs": [],
     "prompt_number": 47
    },
    {
     "cell_type": "code",
     "collapsed": false,
     "input": "theta = angle(R_2, xc)\nbase_r = radius(R_2, xc)\nprint \"The Contact Angle is  \", theta\nprint \"The base radius is  \", base_r",
     "language": "python",
     "metadata": {},
     "outputs": [
      {
       "output_type": "stream",
       "stream": "stdout",
       "text": "The Contact Angle is   128.763548856\nThe base radius is   1.74662069409\n"
      }
     ],
     "prompt_number": 48
    },
    {
     "cell_type": "code",
     "collapsed": false,
     "input": "",
     "language": "python",
     "metadata": {},
     "outputs": []
    }
   ],
   "metadata": {}
  }
 ]
}