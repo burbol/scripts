{
 "metadata": {
  "name": "average"
 },
 "nbformat": 3,
 "nbformat_minor": 0,
 "worksheets": [
  {
   "cells": [
    {
     "cell_type": "code",
     "collapsed": false,
     "input": [
      "#!/usr/bin/python\n",
      "\n",
      "import numpy as np\n",
      "\n",
      "# os.chdir(\"/home/eixeres/Downloads/Berendsen\")\n",
      "input = np.loadtxt('Contact_Angles.txt')\n",
      "tinput = np.transpose(input)\n",
      "y2 = tinput[2]\n",
      "x2 = tinput[3]\n",
      "i2 = len(y2)\n",
      "x = np.zeros(i2)\n",
      "y = np.zeros(i2)\n",
      "\n",
      "\n",
      "\n",
      "for i in range(0,i2):\n",
      "    x[i] = (x2[i])**(-1)\n",
      "    y[i] = np.cos(y2[i])"
     ],
     "language": "python",
     "metadata": {},
     "outputs": []
    }
   ],
   "metadata": {}
  }
 ]
}